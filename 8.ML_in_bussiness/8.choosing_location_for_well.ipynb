{
 "cells": [
  {
   "cell_type": "markdown",
   "metadata": {},
   "source": [
    "## Загрузка и подготовка данных"
   ]
  },
  {
   "cell_type": "code",
   "execution_count": 1,
   "metadata": {},
   "outputs": [],
   "source": [
    "# Импортируем все необходимые библиотеки\n",
    "\n",
    "import pandas as pd\n",
    "import numpy as np\n",
    "from sklearn.model_selection import train_test_split\n",
    "from sklearn.linear_model import LinearRegression\n",
    "from sklearn.metrics import mean_squared_error as MSE\n",
    "from numpy.random import RandomState"
   ]
  },
  {
   "cell_type": "code",
   "execution_count": 2,
   "metadata": {},
   "outputs": [],
   "source": [
    "# Загрузка данных\n",
    "\n",
    "df1 = pd.read_csv('/datasets/geo_data_0.csv')\n",
    "df2 = pd.read_csv('/datasets/geo_data_1.csv')\n",
    "df3 = pd.read_csv('/datasets/geo_data_2.csv')"
   ]
  },
  {
   "cell_type": "markdown",
   "metadata": {},
   "source": [
    "Посмотрим, как выглядят таблицы."
   ]
  },
  {
   "cell_type": "code",
   "execution_count": 3,
   "metadata": {},
   "outputs": [
    {
     "data": {
      "text/html": [
       "<div>\n",
       "<style scoped>\n",
       "    .dataframe tbody tr th:only-of-type {\n",
       "        vertical-align: middle;\n",
       "    }\n",
       "\n",
       "    .dataframe tbody tr th {\n",
       "        vertical-align: top;\n",
       "    }\n",
       "\n",
       "    .dataframe thead th {\n",
       "        text-align: right;\n",
       "    }\n",
       "</style>\n",
       "<table border=\"1\" class=\"dataframe\">\n",
       "  <thead>\n",
       "    <tr style=\"text-align: right;\">\n",
       "      <th></th>\n",
       "      <th>id</th>\n",
       "      <th>f0</th>\n",
       "      <th>f1</th>\n",
       "      <th>f2</th>\n",
       "      <th>product</th>\n",
       "    </tr>\n",
       "  </thead>\n",
       "  <tbody>\n",
       "    <tr>\n",
       "      <th>0</th>\n",
       "      <td>txEyH</td>\n",
       "      <td>0.705745</td>\n",
       "      <td>-0.497823</td>\n",
       "      <td>1.221170</td>\n",
       "      <td>105.280062</td>\n",
       "    </tr>\n",
       "    <tr>\n",
       "      <th>1</th>\n",
       "      <td>2acmU</td>\n",
       "      <td>1.334711</td>\n",
       "      <td>-0.340164</td>\n",
       "      <td>4.365080</td>\n",
       "      <td>73.037750</td>\n",
       "    </tr>\n",
       "    <tr>\n",
       "      <th>2</th>\n",
       "      <td>409Wp</td>\n",
       "      <td>1.022732</td>\n",
       "      <td>0.151990</td>\n",
       "      <td>1.419926</td>\n",
       "      <td>85.265647</td>\n",
       "    </tr>\n",
       "    <tr>\n",
       "      <th>3</th>\n",
       "      <td>iJLyR</td>\n",
       "      <td>-0.032172</td>\n",
       "      <td>0.139033</td>\n",
       "      <td>2.978566</td>\n",
       "      <td>168.620776</td>\n",
       "    </tr>\n",
       "    <tr>\n",
       "      <th>4</th>\n",
       "      <td>Xdl7t</td>\n",
       "      <td>1.988431</td>\n",
       "      <td>0.155413</td>\n",
       "      <td>4.751769</td>\n",
       "      <td>154.036647</td>\n",
       "    </tr>\n",
       "  </tbody>\n",
       "</table>\n",
       "</div>"
      ],
      "text/plain": [
       "      id        f0        f1        f2     product\n",
       "0  txEyH  0.705745 -0.497823  1.221170  105.280062\n",
       "1  2acmU  1.334711 -0.340164  4.365080   73.037750\n",
       "2  409Wp  1.022732  0.151990  1.419926   85.265647\n",
       "3  iJLyR -0.032172  0.139033  2.978566  168.620776\n",
       "4  Xdl7t  1.988431  0.155413  4.751769  154.036647"
      ]
     },
     "metadata": {},
     "output_type": "display_data"
    },
    {
     "name": "stdout",
     "output_type": "stream",
     "text": [
      "<class 'pandas.core.frame.DataFrame'>\n",
      "RangeIndex: 100000 entries, 0 to 99999\n",
      "Data columns (total 5 columns):\n",
      " #   Column   Non-Null Count   Dtype  \n",
      "---  ------   --------------   -----  \n",
      " 0   id       100000 non-null  object \n",
      " 1   f0       100000 non-null  float64\n",
      " 2   f1       100000 non-null  float64\n",
      " 3   f2       100000 non-null  float64\n",
      " 4   product  100000 non-null  float64\n",
      "dtypes: float64(4), object(1)\n",
      "memory usage: 3.8+ MB\n"
     ]
    }
   ],
   "source": [
    "display(df1.head(5))\n",
    "df1.info()"
   ]
  },
  {
   "cell_type": "code",
   "execution_count": 4,
   "metadata": {},
   "outputs": [
    {
     "data": {
      "text/html": [
       "<div>\n",
       "<style scoped>\n",
       "    .dataframe tbody tr th:only-of-type {\n",
       "        vertical-align: middle;\n",
       "    }\n",
       "\n",
       "    .dataframe tbody tr th {\n",
       "        vertical-align: top;\n",
       "    }\n",
       "\n",
       "    .dataframe thead th {\n",
       "        text-align: right;\n",
       "    }\n",
       "</style>\n",
       "<table border=\"1\" class=\"dataframe\">\n",
       "  <thead>\n",
       "    <tr style=\"text-align: right;\">\n",
       "      <th></th>\n",
       "      <th>id</th>\n",
       "      <th>f0</th>\n",
       "      <th>f1</th>\n",
       "      <th>f2</th>\n",
       "      <th>product</th>\n",
       "    </tr>\n",
       "  </thead>\n",
       "  <tbody>\n",
       "    <tr>\n",
       "      <th>0</th>\n",
       "      <td>kBEdx</td>\n",
       "      <td>-15.001348</td>\n",
       "      <td>-8.276000</td>\n",
       "      <td>-0.005876</td>\n",
       "      <td>3.179103</td>\n",
       "    </tr>\n",
       "    <tr>\n",
       "      <th>1</th>\n",
       "      <td>62mP7</td>\n",
       "      <td>14.272088</td>\n",
       "      <td>-3.475083</td>\n",
       "      <td>0.999183</td>\n",
       "      <td>26.953261</td>\n",
       "    </tr>\n",
       "    <tr>\n",
       "      <th>2</th>\n",
       "      <td>vyE1P</td>\n",
       "      <td>6.263187</td>\n",
       "      <td>-5.948386</td>\n",
       "      <td>5.001160</td>\n",
       "      <td>134.766305</td>\n",
       "    </tr>\n",
       "    <tr>\n",
       "      <th>3</th>\n",
       "      <td>KcrkZ</td>\n",
       "      <td>-13.081196</td>\n",
       "      <td>-11.506057</td>\n",
       "      <td>4.999415</td>\n",
       "      <td>137.945408</td>\n",
       "    </tr>\n",
       "    <tr>\n",
       "      <th>4</th>\n",
       "      <td>AHL4O</td>\n",
       "      <td>12.702195</td>\n",
       "      <td>-8.147433</td>\n",
       "      <td>5.004363</td>\n",
       "      <td>134.766305</td>\n",
       "    </tr>\n",
       "  </tbody>\n",
       "</table>\n",
       "</div>"
      ],
      "text/plain": [
       "      id         f0         f1        f2     product\n",
       "0  kBEdx -15.001348  -8.276000 -0.005876    3.179103\n",
       "1  62mP7  14.272088  -3.475083  0.999183   26.953261\n",
       "2  vyE1P   6.263187  -5.948386  5.001160  134.766305\n",
       "3  KcrkZ -13.081196 -11.506057  4.999415  137.945408\n",
       "4  AHL4O  12.702195  -8.147433  5.004363  134.766305"
      ]
     },
     "metadata": {},
     "output_type": "display_data"
    },
    {
     "name": "stdout",
     "output_type": "stream",
     "text": [
      "<class 'pandas.core.frame.DataFrame'>\n",
      "RangeIndex: 100000 entries, 0 to 99999\n",
      "Data columns (total 5 columns):\n",
      " #   Column   Non-Null Count   Dtype  \n",
      "---  ------   --------------   -----  \n",
      " 0   id       100000 non-null  object \n",
      " 1   f0       100000 non-null  float64\n",
      " 2   f1       100000 non-null  float64\n",
      " 3   f2       100000 non-null  float64\n",
      " 4   product  100000 non-null  float64\n",
      "dtypes: float64(4), object(1)\n",
      "memory usage: 3.8+ MB\n"
     ]
    }
   ],
   "source": [
    "display(df2.head(5))\n",
    "df2.info()"
   ]
  },
  {
   "cell_type": "code",
   "execution_count": 5,
   "metadata": {},
   "outputs": [
    {
     "data": {
      "text/html": [
       "<div>\n",
       "<style scoped>\n",
       "    .dataframe tbody tr th:only-of-type {\n",
       "        vertical-align: middle;\n",
       "    }\n",
       "\n",
       "    .dataframe tbody tr th {\n",
       "        vertical-align: top;\n",
       "    }\n",
       "\n",
       "    .dataframe thead th {\n",
       "        text-align: right;\n",
       "    }\n",
       "</style>\n",
       "<table border=\"1\" class=\"dataframe\">\n",
       "  <thead>\n",
       "    <tr style=\"text-align: right;\">\n",
       "      <th></th>\n",
       "      <th>id</th>\n",
       "      <th>f0</th>\n",
       "      <th>f1</th>\n",
       "      <th>f2</th>\n",
       "      <th>product</th>\n",
       "    </tr>\n",
       "  </thead>\n",
       "  <tbody>\n",
       "    <tr>\n",
       "      <th>0</th>\n",
       "      <td>fwXo0</td>\n",
       "      <td>-1.146987</td>\n",
       "      <td>0.963328</td>\n",
       "      <td>-0.828965</td>\n",
       "      <td>27.758673</td>\n",
       "    </tr>\n",
       "    <tr>\n",
       "      <th>1</th>\n",
       "      <td>WJtFt</td>\n",
       "      <td>0.262778</td>\n",
       "      <td>0.269839</td>\n",
       "      <td>-2.530187</td>\n",
       "      <td>56.069697</td>\n",
       "    </tr>\n",
       "    <tr>\n",
       "      <th>2</th>\n",
       "      <td>ovLUW</td>\n",
       "      <td>0.194587</td>\n",
       "      <td>0.289035</td>\n",
       "      <td>-5.586433</td>\n",
       "      <td>62.871910</td>\n",
       "    </tr>\n",
       "    <tr>\n",
       "      <th>3</th>\n",
       "      <td>q6cA6</td>\n",
       "      <td>2.236060</td>\n",
       "      <td>-0.553760</td>\n",
       "      <td>0.930038</td>\n",
       "      <td>114.572842</td>\n",
       "    </tr>\n",
       "    <tr>\n",
       "      <th>4</th>\n",
       "      <td>WPMUX</td>\n",
       "      <td>-0.515993</td>\n",
       "      <td>1.716266</td>\n",
       "      <td>5.899011</td>\n",
       "      <td>149.600746</td>\n",
       "    </tr>\n",
       "  </tbody>\n",
       "</table>\n",
       "</div>"
      ],
      "text/plain": [
       "      id        f0        f1        f2     product\n",
       "0  fwXo0 -1.146987  0.963328 -0.828965   27.758673\n",
       "1  WJtFt  0.262778  0.269839 -2.530187   56.069697\n",
       "2  ovLUW  0.194587  0.289035 -5.586433   62.871910\n",
       "3  q6cA6  2.236060 -0.553760  0.930038  114.572842\n",
       "4  WPMUX -0.515993  1.716266  5.899011  149.600746"
      ]
     },
     "metadata": {},
     "output_type": "display_data"
    },
    {
     "name": "stdout",
     "output_type": "stream",
     "text": [
      "<class 'pandas.core.frame.DataFrame'>\n",
      "RangeIndex: 100000 entries, 0 to 99999\n",
      "Data columns (total 5 columns):\n",
      " #   Column   Non-Null Count   Dtype  \n",
      "---  ------   --------------   -----  \n",
      " 0   id       100000 non-null  object \n",
      " 1   f0       100000 non-null  float64\n",
      " 2   f1       100000 non-null  float64\n",
      " 3   f2       100000 non-null  float64\n",
      " 4   product  100000 non-null  float64\n",
      "dtypes: float64(4), object(1)\n",
      "memory usage: 3.8+ MB\n"
     ]
    }
   ],
   "source": [
    "display(df3.head(5))\n",
    "df3.info()"
   ]
  },
  {
   "cell_type": "markdown",
   "metadata": {},
   "source": [
    "Таблицы выглядят чисто. Единственное, можно проверить их на дубликаты."
   ]
  },
  {
   "cell_type": "code",
   "execution_count": 6,
   "metadata": {},
   "outputs": [
    {
     "data": {
      "text/plain": [
       "0"
      ]
     },
     "metadata": {},
     "output_type": "display_data"
    },
    {
     "data": {
      "text/plain": [
       "0"
      ]
     },
     "metadata": {},
     "output_type": "display_data"
    },
    {
     "data": {
      "text/plain": [
       "0"
      ]
     },
     "metadata": {},
     "output_type": "display_data"
    }
   ],
   "source": [
    "display(df1.duplicated().sum())\n",
    "display(df2.duplicated().sum())\n",
    "display(df3.duplicated().sum())"
   ]
  },
  {
   "cell_type": "markdown",
   "metadata": {},
   "source": [
    "Удалим столбец id во свех таблицах, так как сейчас он для нас не имеет значения. На всякий случай, оставим исходные таблицы как есть, чтобы всегда иметь доступ к первоначальным данным."
   ]
  },
  {
   "cell_type": "code",
   "execution_count": 7,
   "metadata": {},
   "outputs": [],
   "source": [
    "df1_clear = df1.drop(['id'], axis=1)\n",
    "df2_clear = df2.drop(['id'], axis=1)\n",
    "df3_clear = df3.drop(['id'], axis=1)"
   ]
  },
  {
   "cell_type": "markdown",
   "metadata": {},
   "source": [
    "Данные готовы к обучению моделей."
   ]
  },
  {
   "cell_type": "markdown",
   "metadata": {},
   "source": [
    "## Обучение и проверка модели"
   ]
  },
  {
   "cell_type": "markdown",
   "metadata": {},
   "source": [
    "### Модель 1"
   ]
  },
  {
   "cell_type": "code",
   "execution_count": 8,
   "metadata": {},
   "outputs": [],
   "source": [
    "features1 = df1_clear.drop(['product'], axis = 1)\n",
    "target1 = df1_clear['product']"
   ]
  },
  {
   "cell_type": "code",
   "execution_count": 9,
   "metadata": {},
   "outputs": [],
   "source": [
    "features1_train, features1_valid, target1_train, target1_valid = train_test_split(features1, \n",
    "                                                                                  target1, random_state=101010, test_size=0.25)"
   ]
  },
  {
   "cell_type": "code",
   "execution_count": 10,
   "metadata": {},
   "outputs": [
    {
     "data": {
      "text/plain": [
       "LinearRegression()"
      ]
     },
     "execution_count": 10,
     "metadata": {},
     "output_type": "execute_result"
    }
   ],
   "source": [
    "model1 = LinearRegression()\n",
    "model1.fit(features1_train, target1_train)"
   ]
  },
  {
   "cell_type": "code",
   "execution_count": 11,
   "metadata": {},
   "outputs": [],
   "source": [
    "predictions1 = model1.predict(features1_valid)"
   ]
  },
  {
   "cell_type": "code",
   "execution_count": 12,
   "metadata": {},
   "outputs": [
    {
     "data": {
      "text/plain": [
       "92.2696576940137"
      ]
     },
     "metadata": {},
     "output_type": "display_data"
    },
    {
     "data": {
      "text/plain": [
       "37.6826689860995"
      ]
     },
     "metadata": {},
     "output_type": "display_data"
    }
   ],
   "source": [
    "display(predictions1.mean())\n",
    "rmse1 = MSE(target1_valid, predictions1) ** 0.5\n",
    "display(rmse1)"
   ]
  },
  {
   "cell_type": "markdown",
   "metadata": {},
   "source": [
    "В первом регионе средний показатель - 92 тысячи баррелей. В среднем модель ошибается на 37 тысяч, что больше трети от среднего показателя. Многовато, как по мне. Но всё познается в сравнении. Посмотрим на работу модели в других двух регионах, пока что сделать однозначные выводы невозможно."
   ]
  },
  {
   "cell_type": "markdown",
   "metadata": {},
   "source": [
    "### Модель 2"
   ]
  },
  {
   "cell_type": "code",
   "execution_count": 13,
   "metadata": {},
   "outputs": [],
   "source": [
    "features2 = df2_clear.drop(['product'], axis = 1)\n",
    "target2 = df2_clear['product']\n",
    "\n",
    "features2_train, features2_valid, target2_train, target2_valid = train_test_split(features2, \n",
    "                                                                                  target2, random_state=101010, test_size=0.25)"
   ]
  },
  {
   "cell_type": "code",
   "execution_count": 14,
   "metadata": {},
   "outputs": [
    {
     "data": {
      "text/plain": [
       "LinearRegression()"
      ]
     },
     "execution_count": 14,
     "metadata": {},
     "output_type": "execute_result"
    }
   ],
   "source": [
    "model2 = LinearRegression()\n",
    "model2.fit(features2_train, target2_train)"
   ]
  },
  {
   "cell_type": "code",
   "execution_count": 15,
   "metadata": {},
   "outputs": [],
   "source": [
    "predictions2 = model2.predict(features2_valid)"
   ]
  },
  {
   "cell_type": "code",
   "execution_count": 16,
   "metadata": {},
   "outputs": [
    {
     "data": {
      "text/plain": [
       "68.96326217161165"
      ]
     },
     "metadata": {},
     "output_type": "display_data"
    },
    {
     "data": {
      "text/plain": [
       "0.8920738905632523"
      ]
     },
     "metadata": {},
     "output_type": "display_data"
    }
   ],
   "source": [
    "display(predictions2.mean())\n",
    "rmse2 = MSE(target2_valid, predictions2) ** 0.5\n",
    "display(rmse2)"
   ]
  },
  {
   "cell_type": "markdown",
   "metadata": {},
   "source": [
    "Интересные показатели. Средний показатель во втором регионе на 25% ниже, зато модель показывает себя практически идеально, ошибаясь в среднем меньше чем на 1. Как же себя покажет 3ий регион?"
   ]
  },
  {
   "cell_type": "markdown",
   "metadata": {},
   "source": [
    "### Модель 3"
   ]
  },
  {
   "cell_type": "code",
   "execution_count": 17,
   "metadata": {},
   "outputs": [],
   "source": [
    "features3 = df3_clear.drop(['product'], axis = 1)\n",
    "target3 = df3_clear['product']\n",
    "\n",
    "features3_train, features3_valid, target3_train, target3_valid = train_test_split(features3, \n",
    "                                                                                  target3, random_state=101010, test_size=0.25)"
   ]
  },
  {
   "cell_type": "code",
   "execution_count": 18,
   "metadata": {},
   "outputs": [
    {
     "data": {
      "text/plain": [
       "LinearRegression()"
      ]
     },
     "execution_count": 18,
     "metadata": {},
     "output_type": "execute_result"
    }
   ],
   "source": [
    "model3 = LinearRegression()\n",
    "model3.fit(features3_train, target3_train)"
   ]
  },
  {
   "cell_type": "code",
   "execution_count": 19,
   "metadata": {},
   "outputs": [],
   "source": [
    "predictions3 = model3.predict(features3_valid)"
   ]
  },
  {
   "cell_type": "code",
   "execution_count": 20,
   "metadata": {},
   "outputs": [
    {
     "data": {
      "text/plain": [
       "94.9975661735518"
      ]
     },
     "metadata": {},
     "output_type": "display_data"
    },
    {
     "data": {
      "text/plain": [
       "40.01712569429701"
      ]
     },
     "metadata": {},
     "output_type": "display_data"
    }
   ],
   "source": [
    "display(predictions3.mean())\n",
    "rmse3 = MSE(target3_valid, predictions3) ** 0.5\n",
    "display(rmse3)"
   ]
  },
  {
   "cell_type": "markdown",
   "metadata": {},
   "source": [
    "В третьем регионе ситуация похожа на 1ый. Средний показатель высокий, но и ошибается модель в среднем сильнее. "
   ]
  },
  {
   "cell_type": "markdown",
   "metadata": {},
   "source": [
    "## Подготовка к расчёту прибыли"
   ]
  },
  {
   "cell_type": "code",
   "execution_count": 21,
   "metadata": {},
   "outputs": [],
   "source": [
    "# Создадим переменные для всех признаков\n",
    "\n",
    "price = 450000            # Доход на единицу продукта\n",
    "budget = 10000000000      # Общий бюджет\n",
    "all_points = 500          # Всего месторождений\n",
    "best_points = 200         # Количество самых прибыльных месторождений для разработки\n",
    "risk_threshold = 0.025    # Минимальная вероятность убыткой"
   ]
  },
  {
   "cell_type": "code",
   "execution_count": 22,
   "metadata": {},
   "outputs": [
    {
     "name": "stdout",
     "output_type": "stream",
     "text": [
      "50000000.0\n"
     ]
    }
   ],
   "source": [
    "# Посчитаем, сколько необходимо заработать с одной скважины. Скважин всего должно остаться 200.\n",
    "\n",
    "borehole = budget / 200\n",
    "print(borehole)"
   ]
  },
  {
   "cell_type": "code",
   "execution_count": 23,
   "metadata": {},
   "outputs": [
    {
     "name": "stdout",
     "output_type": "stream",
     "text": [
      "111.11111111111111\n"
     ]
    }
   ],
   "source": [
    "# Теперь найдем количество баррелей, которое должна производить скважина в среднем.\n",
    "\n",
    "mean_barrel_need = borehole / price\n",
    "print(mean_barrel_need)"
   ]
  },
  {
   "cell_type": "markdown",
   "metadata": {},
   "source": [
    "В среднем с каждой скважины мы должны получать 111 тысяч баррелей по нынешнему курсу или 50 миллионов рублей, чтобы не потерпеть убытки. Во всех регионах средний показатель не дотягивает до необходимого."
   ]
  },
  {
   "cell_type": "markdown",
   "metadata": {},
   "source": [
    "## Расчёт прибыли и рисков "
   ]
  },
  {
   "cell_type": "code",
   "execution_count": 24,
   "metadata": {},
   "outputs": [],
   "source": [
    "def profit_calc(predictions, target):                                 # Функция принимает на вход предсказания, реальные\n",
    "                                                                      # значения региона и количество скважин.\n",
    "    predictions = pd.Series(predictions)                              # Так как предсказания у нас в виде np.darray, \n",
    "                                                                           # преобразуем их в Series для удобства.\n",
    "    top_predictions = predictions.sort_values(ascending=False).head(200)   # Отбираем 200 самых прибыльных скважин из \n",
    "                                                                           # предсказаний.\n",
    "    \n",
    "    top_target = target.loc[top_predictions.index] # Находим эти же скважины, только с реальными значениями\n",
    "    barrels_target = top_target.sum()              # Вычисляем сумму реальных баррелей с этих скважин\n",
    "    \n",
    "    total_profit = barrels_target * price - budget   \n",
    "    return total_profit\n",
    "    "
   ]
  },
  {
   "cell_type": "markdown",
   "metadata": {},
   "source": [
    "## Рассчет рисков и прибыли для всех регионов"
   ]
  },
  {
   "cell_type": "code",
   "execution_count": 25,
   "metadata": {},
   "outputs": [],
   "source": [
    "state = np.random.RandomState(12345)"
   ]
  },
  {
   "cell_type": "code",
   "execution_count": 26,
   "metadata": {},
   "outputs": [],
   "source": [
    "target1_valid = target1_valid.reset_index(drop=True)\n",
    "target2_valid = target2_valid.reset_index(drop=True)\n",
    "target3_valid = target3_valid.reset_index(drop=True)"
   ]
  },
  {
   "cell_type": "markdown",
   "metadata": {},
   "source": [
    "### Регион 1"
   ]
  },
  {
   "cell_type": "code",
   "execution_count": 27,
   "metadata": {},
   "outputs": [],
   "source": [
    "values1 = []\n",
    "\n",
    "target1_valid = target1_valid.reset_index(drop=True)\n",
    "\n",
    "\n",
    "for i in range(1000):\n",
    "    target1_subsample = target1_valid.sample(n=500, replace=True, random_state=state)\n",
    "    predicted1_subsample = pd.Series(predictions1)[target1_subsample.index]\n",
    "    values1.append(profit_calc(predicted1_subsample, target1_subsample))"
   ]
  },
  {
   "cell_type": "code",
   "execution_count": 28,
   "metadata": {},
   "outputs": [],
   "source": [
    "values1 = pd.Series(values1)\n",
    "    \n",
    "lower1 = values1.quantile(0.025)\n",
    "upper1 = values1.quantile(0.975)\n",
    "\n",
    "mean1 = values1.mean()"
   ]
  },
  {
   "cell_type": "code",
   "execution_count": 29,
   "metadata": {},
   "outputs": [
    {
     "name": "stdout",
     "output_type": "stream",
     "text": [
      "Средняя прибыль: 621170299.2705821\n",
      "Доверительный интервал: 51228564.94381395 1259106365.5512288\n"
     ]
    }
   ],
   "source": [
    "print('Средняя прибыль:',  mean1)\n",
    "print('Доверительный интервал:', lower1, upper1)"
   ]
  },
  {
   "cell_type": "code",
   "execution_count": 30,
   "metadata": {},
   "outputs": [
    {
     "data": {
      "text/plain": [
       "'Риск убытков'"
      ]
     },
     "metadata": {},
     "output_type": "display_data"
    },
    {
     "data": {
      "text/plain": [
       "1.6"
      ]
     },
     "metadata": {},
     "output_type": "display_data"
    }
   ],
   "source": [
    "risk1 = ((values1 < 0).mean() * 100)\n",
    "\n",
    "display('Риск убытков',  risk1)"
   ]
  },
  {
   "cell_type": "markdown",
   "metadata": {},
   "source": [
    "Риск убытков 1.6 - это мало или много? Сравним с другими регионами."
   ]
  },
  {
   "cell_type": "markdown",
   "metadata": {},
   "source": [
    "### Регион 2"
   ]
  },
  {
   "cell_type": "code",
   "execution_count": 31,
   "metadata": {},
   "outputs": [],
   "source": [
    "values2 = []\n",
    "\n",
    "target2_valid = target2_valid.reset_index(drop=True)\n",
    "\n",
    "\n",
    "for i in range(1000):\n",
    "    target2_subsample = target2_valid.sample(n=500, replace=True, random_state=state)\n",
    "    predicted2_subsample = pd.Series(predictions2)[target2_subsample.index]\n",
    "    values2.append(profit_calc(predicted2_subsample, target2_subsample))"
   ]
  },
  {
   "cell_type": "code",
   "execution_count": 32,
   "metadata": {},
   "outputs": [],
   "source": [
    "values2 = pd.Series(values2)\n",
    "    \n",
    "lower2 = values2.quantile(0.025)\n",
    "upper2 = values2.quantile(0.975)\n",
    "\n",
    "mean2 = values2.mean()"
   ]
  },
  {
   "cell_type": "code",
   "execution_count": 33,
   "metadata": {},
   "outputs": [
    {
     "name": "stdout",
     "output_type": "stream",
     "text": [
      "Средняя прибыль: 672465879.8405764\n",
      "Доверительный интервал: 198763581.94120464 1213519649.870446\n"
     ]
    }
   ],
   "source": [
    "print('Средняя прибыль:',  mean2)\n",
    "print('Доверительный интервал:', lower2, upper2)"
   ]
  },
  {
   "cell_type": "code",
   "execution_count": 34,
   "metadata": {},
   "outputs": [
    {
     "data": {
      "text/plain": [
       "'Риск убытков'"
      ]
     },
     "metadata": {},
     "output_type": "display_data"
    },
    {
     "data": {
      "text/plain": [
       "0.6"
      ]
     },
     "metadata": {},
     "output_type": "display_data"
    }
   ],
   "source": [
    "risk2 = ((values2 < 0).mean() * 100)\n",
    "\n",
    "display('Риск убытков',  risk2)"
   ]
  },
  {
   "cell_type": "markdown",
   "metadata": {},
   "source": [
    "Второй регион выглядит гораздо оптимистичнее! Честно говоря, я на него сначала и делала ставку :)"
   ]
  },
  {
   "cell_type": "markdown",
   "metadata": {},
   "source": [
    "### Регион 3"
   ]
  },
  {
   "cell_type": "code",
   "execution_count": 35,
   "metadata": {},
   "outputs": [],
   "source": [
    "values3 = []\n",
    "\n",
    "target3_valid = target3_valid.reset_index(drop=True)\n",
    "\n",
    "\n",
    "for i in range(1000):\n",
    "    target3_subsample = target3_valid.sample(n=500, replace=True, random_state=state)\n",
    "    predicted3_subsample = pd.Series(predictions3)[target3_subsample.index]\n",
    "    values3.append(profit_calc(predicted3_subsample, target3_subsample))"
   ]
  },
  {
   "cell_type": "code",
   "execution_count": 36,
   "metadata": {},
   "outputs": [],
   "source": [
    "values3 = pd.Series(values3)\n",
    "    \n",
    "lower3 = values3.quantile(0.025)\n",
    "upper3 = values3.quantile(0.975)\n",
    "\n",
    "mean3 = values3.mean()"
   ]
  },
  {
   "cell_type": "code",
   "execution_count": 37,
   "metadata": {},
   "outputs": [
    {
     "name": "stdout",
     "output_type": "stream",
     "text": [
      "Средняя прибыль: 630457325.9521803\n",
      "Доверительный интервал: -19178735.002290536 1311997709.2388525\n"
     ]
    }
   ],
   "source": [
    "print('Средняя прибыль:',  mean3)\n",
    "print('Доверительный интервал:', lower3, upper3)"
   ]
  },
  {
   "cell_type": "code",
   "execution_count": 38,
   "metadata": {},
   "outputs": [
    {
     "data": {
      "text/plain": [
       "'Риск убытков'"
      ]
     },
     "metadata": {},
     "output_type": "display_data"
    },
    {
     "data": {
      "text/plain": [
       "3.0"
      ]
     },
     "metadata": {},
     "output_type": "display_data"
    }
   ],
   "source": [
    "risk3 = ((values3 < 0).mean() * 100)\n",
    "\n",
    "display('Риск убытков',  risk3)"
   ]
  },
  {
   "cell_type": "markdown",
   "metadata": {},
   "source": [
    "Третий регион оказался самым непредсказуемум."
   ]
  },
  {
   "cell_type": "markdown",
   "metadata": {},
   "source": [
    "## Вывод"
   ]
  },
  {
   "cell_type": "markdown",
   "metadata": {},
   "source": [
    "Наибольшая средняя выручка оказалась у второго региона, и риск убытков при этом значительно ниже остальных. Так же модель сработала для этого региона лучше всего. RMSE вышло всего 0.9 в сравнении с 38 и 40 для 1 и 3 региона.\n",
    "\n",
    "Для разработки однозначно стоит выбирать второй регион."
   ]
  }
 ],
 "metadata": {
  "ExecuteTimeLog": [
   {
    "duration": 383,
    "start_time": "2022-03-21T12:07:25.272Z"
   },
   {
    "duration": 372,
    "start_time": "2022-03-21T12:08:18.534Z"
   },
   {
    "duration": 75,
    "start_time": "2022-03-21T12:08:43.628Z"
   },
   {
    "duration": 22,
    "start_time": "2022-03-21T12:08:48.636Z"
   },
   {
    "duration": 20,
    "start_time": "2022-03-21T12:09:40.680Z"
   },
   {
    "duration": 21,
    "start_time": "2022-03-21T12:09:49.817Z"
   },
   {
    "duration": 126,
    "start_time": "2022-03-21T12:18:57.669Z"
   },
   {
    "duration": 7,
    "start_time": "2022-03-21T12:19:28.411Z"
   },
   {
    "duration": 142,
    "start_time": "2022-03-21T12:19:40.678Z"
   },
   {
    "duration": 775,
    "start_time": "2022-03-21T12:21:45.412Z"
   },
   {
    "duration": 3,
    "start_time": "2022-03-21T12:21:50.710Z"
   },
   {
    "duration": 28,
    "start_time": "2022-03-21T12:23:20.261Z"
   },
   {
    "duration": 2,
    "start_time": "2022-03-21T12:23:44.014Z"
   },
   {
    "duration": 8,
    "start_time": "2022-03-21T12:24:54.075Z"
   },
   {
    "duration": 9,
    "start_time": "2022-03-21T12:25:11.367Z"
   },
   {
    "duration": 9,
    "start_time": "2022-03-21T12:30:31.120Z"
   },
   {
    "duration": 8,
    "start_time": "2022-03-21T12:42:12.447Z"
   },
   {
    "duration": 22,
    "start_time": "2022-03-21T12:42:20.702Z"
   },
   {
    "duration": 3,
    "start_time": "2022-03-21T12:45:29.262Z"
   },
   {
    "duration": 9,
    "start_time": "2022-03-21T12:49:07.440Z"
   },
   {
    "duration": 35,
    "start_time": "2022-03-21T12:49:10.864Z"
   },
   {
    "duration": 26,
    "start_time": "2022-03-21T12:54:58.767Z"
   },
   {
    "duration": 26,
    "start_time": "2022-03-21T12:55:26.994Z"
   },
   {
    "duration": 13,
    "start_time": "2022-03-21T16:35:24.838Z"
   },
   {
    "duration": 6,
    "start_time": "2022-03-21T16:35:47.152Z"
   },
   {
    "duration": 16,
    "start_time": "2022-03-21T16:35:49.865Z"
   },
   {
    "duration": 14,
    "start_time": "2022-03-21T16:35:52.281Z"
   },
   {
    "duration": 20,
    "start_time": "2022-03-21T16:36:09.965Z"
   },
   {
    "duration": 18,
    "start_time": "2022-03-21T16:36:21.796Z"
   },
   {
    "duration": 10,
    "start_time": "2022-03-21T16:38:01.979Z"
   },
   {
    "duration": 5,
    "start_time": "2022-03-21T16:38:08.462Z"
   },
   {
    "duration": 5,
    "start_time": "2022-03-21T16:39:43.221Z"
   },
   {
    "duration": 5,
    "start_time": "2022-03-21T16:42:40.853Z"
   },
   {
    "duration": 8,
    "start_time": "2022-03-21T16:42:51.445Z"
   },
   {
    "duration": 5,
    "start_time": "2022-03-21T16:44:06.813Z"
   },
   {
    "duration": 15,
    "start_time": "2022-03-21T16:48:07.459Z"
   },
   {
    "duration": 10,
    "start_time": "2022-03-21T16:48:43.898Z"
   },
   {
    "duration": 8,
    "start_time": "2022-03-21T16:49:22.191Z"
   },
   {
    "duration": 7,
    "start_time": "2022-03-21T16:49:50.012Z"
   },
   {
    "duration": 6,
    "start_time": "2022-03-21T16:49:53.431Z"
   },
   {
    "duration": 10,
    "start_time": "2022-03-21T16:53:27.675Z"
   },
   {
    "duration": 9,
    "start_time": "2022-03-21T16:53:44.015Z"
   },
   {
    "duration": 7,
    "start_time": "2022-03-21T16:54:01.587Z"
   },
   {
    "duration": 11,
    "start_time": "2022-03-22T10:51:07.876Z"
   },
   {
    "duration": 1851,
    "start_time": "2022-03-22T10:51:15.112Z"
   },
   {
    "duration": 439,
    "start_time": "2022-03-22T10:51:16.966Z"
   },
   {
    "duration": 42,
    "start_time": "2022-03-22T10:51:17.407Z"
   },
   {
    "duration": 53,
    "start_time": "2022-03-22T10:51:17.453Z"
   },
   {
    "duration": 42,
    "start_time": "2022-03-22T10:51:17.509Z"
   },
   {
    "duration": 245,
    "start_time": "2022-03-22T10:51:17.553Z"
   },
   {
    "duration": 14,
    "start_time": "2022-03-22T10:51:17.800Z"
   },
   {
    "duration": 13,
    "start_time": "2022-03-22T10:51:17.816Z"
   },
   {
    "duration": 28,
    "start_time": "2022-03-22T10:51:17.831Z"
   },
   {
    "duration": 36,
    "start_time": "2022-03-22T10:51:17.863Z"
   },
   {
    "duration": 85,
    "start_time": "2022-03-22T10:51:17.900Z"
   },
   {
    "duration": 95,
    "start_time": "2022-03-22T10:51:17.989Z"
   },
   {
    "duration": 24,
    "start_time": "2022-03-22T10:51:18.086Z"
   },
   {
    "duration": 17,
    "start_time": "2022-03-22T10:51:18.113Z"
   },
   {
    "duration": 65,
    "start_time": "2022-03-22T10:51:18.132Z"
   },
   {
    "duration": 11,
    "start_time": "2022-03-22T10:51:18.283Z"
   },
   {
    "duration": 87,
    "start_time": "2022-03-22T10:51:18.297Z"
   },
   {
    "duration": 17,
    "start_time": "2022-03-22T10:51:18.387Z"
   },
   {
    "duration": 77,
    "start_time": "2022-03-22T10:51:18.406Z"
   },
   {
    "duration": 95,
    "start_time": "2022-03-22T10:51:18.487Z"
   },
   {
    "duration": 4,
    "start_time": "2022-03-22T10:56:20.462Z"
   },
   {
    "duration": 5,
    "start_time": "2022-03-22T10:58:24.796Z"
   },
   {
    "duration": 1562,
    "start_time": "2022-03-25T12:16:01.760Z"
   },
   {
    "duration": 583,
    "start_time": "2022-03-25T12:16:03.324Z"
   },
   {
    "duration": 40,
    "start_time": "2022-03-25T12:16:03.910Z"
   },
   {
    "duration": 48,
    "start_time": "2022-03-25T12:16:03.954Z"
   },
   {
    "duration": 30,
    "start_time": "2022-03-25T12:16:04.004Z"
   },
   {
    "duration": 285,
    "start_time": "2022-03-25T12:16:04.036Z"
   },
   {
    "duration": 16,
    "start_time": "2022-03-25T12:16:04.324Z"
   },
   {
    "duration": 10,
    "start_time": "2022-03-25T12:16:04.342Z"
   },
   {
    "duration": 36,
    "start_time": "2022-03-25T12:16:04.355Z"
   },
   {
    "duration": 18,
    "start_time": "2022-03-25T12:16:04.395Z"
   },
   {
    "duration": 7,
    "start_time": "2022-03-25T12:16:04.415Z"
   },
   {
    "duration": 174,
    "start_time": "2022-03-25T12:16:04.424Z"
   },
   {
    "duration": 20,
    "start_time": "2022-03-25T12:16:04.601Z"
   },
   {
    "duration": 17,
    "start_time": "2022-03-25T12:16:04.624Z"
   },
   {
    "duration": 43,
    "start_time": "2022-03-25T12:16:04.644Z"
   },
   {
    "duration": 95,
    "start_time": "2022-03-25T12:16:04.690Z"
   },
   {
    "duration": 20,
    "start_time": "2022-03-25T12:16:04.788Z"
   },
   {
    "duration": 80,
    "start_time": "2022-03-25T12:16:04.810Z"
   },
   {
    "duration": 100,
    "start_time": "2022-03-25T12:16:04.892Z"
   },
   {
    "duration": 94,
    "start_time": "2022-03-25T12:16:04.995Z"
   },
   {
    "duration": 5,
    "start_time": "2022-03-25T12:16:05.092Z"
   },
   {
    "duration": 12,
    "start_time": "2022-03-25T12:16:05.099Z"
   },
   {
    "duration": 71,
    "start_time": "2022-03-25T12:16:05.113Z"
   },
   {
    "duration": 146,
    "start_time": "2022-03-25T12:20:39.068Z"
   },
   {
    "duration": 6,
    "start_time": "2022-03-25T12:20:47.700Z"
   },
   {
    "duration": 13,
    "start_time": "2022-03-25T12:21:03.999Z"
   },
   {
    "duration": 18,
    "start_time": "2022-03-25T12:23:22.138Z"
   },
   {
    "duration": 19,
    "start_time": "2022-03-25T12:23:29.344Z"
   },
   {
    "duration": 9,
    "start_time": "2022-03-25T12:23:41.072Z"
   },
   {
    "duration": 11,
    "start_time": "2022-03-25T12:23:52.944Z"
   },
   {
    "duration": 6,
    "start_time": "2022-03-25T12:24:09.027Z"
   },
   {
    "duration": 5,
    "start_time": "2022-03-25T12:25:28.028Z"
   },
   {
    "duration": 4,
    "start_time": "2022-03-25T12:25:40.925Z"
   },
   {
    "duration": 5,
    "start_time": "2022-03-25T12:25:56.035Z"
   },
   {
    "duration": 12,
    "start_time": "2022-03-25T12:27:11.872Z"
   },
   {
    "duration": 5,
    "start_time": "2022-03-25T12:27:34.257Z"
   },
   {
    "duration": 11,
    "start_time": "2022-03-25T12:27:45.104Z"
   },
   {
    "duration": 6,
    "start_time": "2022-03-25T12:29:23.889Z"
   },
   {
    "duration": 5,
    "start_time": "2022-03-25T12:30:29.518Z"
   },
   {
    "duration": 14,
    "start_time": "2022-03-25T12:35:43.481Z"
   },
   {
    "duration": 5,
    "start_time": "2022-03-25T12:38:03.880Z"
   },
   {
    "duration": 11,
    "start_time": "2022-03-25T12:38:44.680Z"
   },
   {
    "duration": 16,
    "start_time": "2022-03-25T12:38:51.422Z"
   },
   {
    "duration": 5,
    "start_time": "2022-03-25T12:39:03.658Z"
   },
   {
    "duration": 17,
    "start_time": "2022-03-25T12:39:05.962Z"
   },
   {
    "duration": 4,
    "start_time": "2022-03-25T12:39:16.619Z"
   },
   {
    "duration": 10,
    "start_time": "2022-03-25T12:39:18.665Z"
   },
   {
    "duration": 17,
    "start_time": "2022-03-25T12:40:24.833Z"
   },
   {
    "duration": 1575,
    "start_time": "2022-03-25T16:24:21.490Z"
   },
   {
    "duration": 682,
    "start_time": "2022-03-25T16:24:23.073Z"
   },
   {
    "duration": 50,
    "start_time": "2022-03-25T16:24:23.758Z"
   },
   {
    "duration": 30,
    "start_time": "2022-03-25T16:24:23.813Z"
   },
   {
    "duration": 40,
    "start_time": "2022-03-25T16:24:23.873Z"
   },
   {
    "duration": 279,
    "start_time": "2022-03-25T16:24:23.915Z"
   },
   {
    "duration": 14,
    "start_time": "2022-03-25T16:24:24.196Z"
   },
   {
    "duration": 17,
    "start_time": "2022-03-25T16:24:24.213Z"
   },
   {
    "duration": 26,
    "start_time": "2022-03-25T16:24:24.232Z"
   },
   {
    "duration": 20,
    "start_time": "2022-03-25T16:24:24.276Z"
   },
   {
    "duration": 74,
    "start_time": "2022-03-25T16:24:24.302Z"
   },
   {
    "duration": 113,
    "start_time": "2022-03-25T16:24:24.379Z"
   },
   {
    "duration": 31,
    "start_time": "2022-03-25T16:24:24.494Z"
   },
   {
    "duration": 19,
    "start_time": "2022-03-25T16:24:24.528Z"
   },
   {
    "duration": 41,
    "start_time": "2022-03-25T16:24:24.550Z"
   },
   {
    "duration": 104,
    "start_time": "2022-03-25T16:24:24.675Z"
   },
   {
    "duration": 23,
    "start_time": "2022-03-25T16:24:24.782Z"
   },
   {
    "duration": 29,
    "start_time": "2022-03-25T16:24:24.808Z"
   },
   {
    "duration": 135,
    "start_time": "2022-03-25T16:24:24.839Z"
   },
   {
    "duration": 11,
    "start_time": "2022-03-25T16:24:24.978Z"
   },
   {
    "duration": 83,
    "start_time": "2022-03-25T16:24:24.991Z"
   },
   {
    "duration": 4,
    "start_time": "2022-03-25T16:24:25.077Z"
   },
   {
    "duration": 7,
    "start_time": "2022-03-25T16:24:25.083Z"
   },
   {
    "duration": 7,
    "start_time": "2022-03-25T16:24:25.093Z"
   },
   {
    "duration": 22,
    "start_time": "2022-03-25T16:24:25.102Z"
   },
   {
    "duration": 4,
    "start_time": "2022-03-25T16:36:23.835Z"
   },
   {
    "duration": 4,
    "start_time": "2022-03-25T16:36:40.990Z"
   },
   {
    "duration": 5,
    "start_time": "2022-03-25T17:01:31.168Z"
   },
   {
    "duration": 157,
    "start_time": "2022-03-25T17:06:09.688Z"
   },
   {
    "duration": 11,
    "start_time": "2022-03-25T17:06:17.409Z"
   },
   {
    "duration": 6,
    "start_time": "2022-03-25T17:06:21.539Z"
   },
   {
    "duration": 34,
    "start_time": "2022-03-25T17:06:24.360Z"
   },
   {
    "duration": 8,
    "start_time": "2022-03-25T17:07:50.260Z"
   },
   {
    "duration": 10,
    "start_time": "2022-03-25T17:07:57.108Z"
   },
   {
    "duration": 26,
    "start_time": "2022-03-25T17:08:05.974Z"
   },
   {
    "duration": 1884,
    "start_time": "2022-03-25T17:14:48.550Z"
   },
   {
    "duration": 627,
    "start_time": "2022-03-25T17:14:50.437Z"
   },
   {
    "duration": 54,
    "start_time": "2022-03-25T17:14:51.067Z"
   },
   {
    "duration": 56,
    "start_time": "2022-03-25T17:14:51.125Z"
   },
   {
    "duration": 31,
    "start_time": "2022-03-25T17:14:51.183Z"
   },
   {
    "duration": 235,
    "start_time": "2022-03-25T17:14:51.217Z"
   },
   {
    "duration": 24,
    "start_time": "2022-03-25T17:14:51.455Z"
   },
   {
    "duration": 13,
    "start_time": "2022-03-25T17:14:51.482Z"
   },
   {
    "duration": 19,
    "start_time": "2022-03-25T17:14:51.498Z"
   },
   {
    "duration": 19,
    "start_time": "2022-03-25T17:14:51.521Z"
   },
   {
    "duration": 35,
    "start_time": "2022-03-25T17:14:51.543Z"
   },
   {
    "duration": 103,
    "start_time": "2022-03-25T17:14:51.581Z"
   },
   {
    "duration": 105,
    "start_time": "2022-03-25T17:14:51.687Z"
   },
   {
    "duration": 19,
    "start_time": "2022-03-25T17:14:51.795Z"
   },
   {
    "duration": 61,
    "start_time": "2022-03-25T17:14:51.817Z"
   },
   {
    "duration": 98,
    "start_time": "2022-03-25T17:14:51.891Z"
   },
   {
    "duration": 26,
    "start_time": "2022-03-25T17:14:51.991Z"
   },
   {
    "duration": 23,
    "start_time": "2022-03-25T17:14:52.020Z"
   },
   {
    "duration": 17,
    "start_time": "2022-03-25T17:14:52.075Z"
   },
   {
    "duration": 192,
    "start_time": "2022-03-25T17:14:52.095Z"
   },
   {
    "duration": 4,
    "start_time": "2022-03-25T17:14:52.290Z"
   },
   {
    "duration": 12,
    "start_time": "2022-03-25T17:14:52.296Z"
   },
   {
    "duration": 10,
    "start_time": "2022-03-25T17:14:52.310Z"
   },
   {
    "duration": 11,
    "start_time": "2022-03-25T17:14:52.322Z"
   },
   {
    "duration": 195,
    "start_time": "2022-03-25T17:14:52.336Z"
   },
   {
    "duration": 0,
    "start_time": "2022-03-25T17:14:52.534Z"
   },
   {
    "duration": 4,
    "start_time": "2022-03-25T17:17:39.476Z"
   },
   {
    "duration": 13,
    "start_time": "2022-03-25T17:17:41.992Z"
   },
   {
    "duration": 5,
    "start_time": "2022-03-25T17:19:05.804Z"
   },
   {
    "duration": 7,
    "start_time": "2022-03-25T17:19:19.580Z"
   },
   {
    "duration": 24,
    "start_time": "2022-03-25T17:19:39.059Z"
   },
   {
    "duration": 37,
    "start_time": "2022-03-25T17:19:47.668Z"
   },
   {
    "duration": 33,
    "start_time": "2022-03-25T17:20:15.980Z"
   },
   {
    "duration": 28,
    "start_time": "2022-03-25T17:20:31.716Z"
   },
   {
    "duration": 6086,
    "start_time": "2022-03-25T17:21:45.273Z"
   },
   {
    "duration": 11,
    "start_time": "2022-03-25T17:21:54.706Z"
   },
   {
    "duration": 9,
    "start_time": "2022-03-25T17:22:00.988Z"
   },
   {
    "duration": 11,
    "start_time": "2022-03-25T17:22:59.756Z"
   },
   {
    "duration": 7,
    "start_time": "2022-03-25T17:24:52.764Z"
   },
   {
    "duration": 11,
    "start_time": "2022-03-25T17:26:15.269Z"
   },
   {
    "duration": 7,
    "start_time": "2022-03-25T17:26:31.493Z"
   },
   {
    "duration": 11,
    "start_time": "2022-03-25T17:27:39.342Z"
   },
   {
    "duration": 4,
    "start_time": "2022-03-25T17:29:08.122Z"
   },
   {
    "duration": 11,
    "start_time": "2022-03-25T17:29:41.024Z"
   },
   {
    "duration": 4,
    "start_time": "2022-03-25T17:30:12.489Z"
   },
   {
    "duration": 4,
    "start_time": "2022-03-25T17:30:42.312Z"
   },
   {
    "duration": 4550,
    "start_time": "2022-03-25T17:30:45.056Z"
   },
   {
    "duration": 8,
    "start_time": "2022-03-25T17:30:58.197Z"
   },
   {
    "duration": 6,
    "start_time": "2022-03-25T17:30:59.429Z"
   },
   {
    "duration": 7,
    "start_time": "2022-03-25T17:31:30.783Z"
   },
   {
    "duration": 9,
    "start_time": "2022-03-25T17:31:56.207Z"
   },
   {
    "duration": 2071,
    "start_time": "2022-03-29T20:24:55.897Z"
   },
   {
    "duration": 635,
    "start_time": "2022-03-29T20:24:57.972Z"
   },
   {
    "duration": 74,
    "start_time": "2022-03-29T20:24:58.610Z"
   },
   {
    "duration": 43,
    "start_time": "2022-03-29T20:24:58.690Z"
   },
   {
    "duration": 65,
    "start_time": "2022-03-29T20:24:58.736Z"
   },
   {
    "duration": 316,
    "start_time": "2022-03-29T20:24:58.804Z"
   },
   {
    "duration": 17,
    "start_time": "2022-03-29T20:24:59.123Z"
   },
   {
    "duration": 25,
    "start_time": "2022-03-29T20:24:59.142Z"
   },
   {
    "duration": 15,
    "start_time": "2022-03-29T20:24:59.170Z"
   },
   {
    "duration": 19,
    "start_time": "2022-03-29T20:24:59.189Z"
   },
   {
    "duration": 60,
    "start_time": "2022-03-29T20:24:59.211Z"
   },
   {
    "duration": 93,
    "start_time": "2022-03-29T20:24:59.274Z"
   },
   {
    "duration": 20,
    "start_time": "2022-03-29T20:24:59.370Z"
   },
   {
    "duration": 17,
    "start_time": "2022-03-29T20:24:59.392Z"
   },
   {
    "duration": 7,
    "start_time": "2022-03-29T20:24:59.411Z"
   },
   {
    "duration": 60,
    "start_time": "2022-03-29T20:24:59.420Z"
   },
   {
    "duration": 27,
    "start_time": "2022-03-29T20:24:59.569Z"
   },
   {
    "duration": 22,
    "start_time": "2022-03-29T20:24:59.599Z"
   },
   {
    "duration": 44,
    "start_time": "2022-03-29T20:24:59.624Z"
   },
   {
    "duration": 11,
    "start_time": "2022-03-29T20:24:59.671Z"
   },
   {
    "duration": 5,
    "start_time": "2022-03-29T20:24:59.768Z"
   },
   {
    "duration": 6,
    "start_time": "2022-03-29T20:24:59.775Z"
   },
   {
    "duration": 5,
    "start_time": "2022-03-29T20:24:59.783Z"
   },
   {
    "duration": 7,
    "start_time": "2022-03-29T20:24:59.790Z"
   },
   {
    "duration": 8,
    "start_time": "2022-03-29T20:24:59.799Z"
   },
   {
    "duration": 59,
    "start_time": "2022-03-29T20:24:59.809Z"
   },
   {
    "duration": 1772,
    "start_time": "2022-03-29T20:25:32.820Z"
   },
   {
    "duration": 7,
    "start_time": "2022-03-29T20:25:53.424Z"
   },
   {
    "duration": 4,
    "start_time": "2022-03-29T20:26:03.723Z"
   },
   {
    "duration": 8,
    "start_time": "2022-03-29T20:26:39.598Z"
   },
   {
    "duration": 11,
    "start_time": "2022-03-29T20:27:44.545Z"
   },
   {
    "duration": 1686,
    "start_time": "2022-03-29T20:29:37.641Z"
   },
   {
    "duration": 7,
    "start_time": "2022-03-29T20:30:21.278Z"
   },
   {
    "duration": 4,
    "start_time": "2022-03-29T20:30:21.519Z"
   },
   {
    "duration": 7,
    "start_time": "2022-03-29T20:30:28.899Z"
   },
   {
    "duration": 1777,
    "start_time": "2022-03-29T20:32:23.147Z"
   },
   {
    "duration": 7,
    "start_time": "2022-03-29T20:32:56.421Z"
   },
   {
    "duration": 6,
    "start_time": "2022-03-29T20:32:56.855Z"
   },
   {
    "duration": 8,
    "start_time": "2022-03-29T20:32:57.348Z"
   },
   {
    "duration": 1238,
    "start_time": "2022-03-30T20:14:07.025Z"
   },
   {
    "duration": 377,
    "start_time": "2022-03-30T20:14:08.265Z"
   },
   {
    "duration": 28,
    "start_time": "2022-03-30T20:14:08.644Z"
   },
   {
    "duration": 32,
    "start_time": "2022-03-30T20:14:08.674Z"
   },
   {
    "duration": 19,
    "start_time": "2022-03-30T20:14:08.708Z"
   },
   {
    "duration": 153,
    "start_time": "2022-03-30T20:14:08.729Z"
   },
   {
    "duration": 19,
    "start_time": "2022-03-30T20:14:08.883Z"
   },
   {
    "duration": 6,
    "start_time": "2022-03-30T20:14:08.904Z"
   },
   {
    "duration": 14,
    "start_time": "2022-03-30T20:14:08.911Z"
   },
   {
    "duration": 13,
    "start_time": "2022-03-30T20:14:08.927Z"
   },
   {
    "duration": 63,
    "start_time": "2022-03-30T20:14:08.942Z"
   },
   {
    "duration": 97,
    "start_time": "2022-03-30T20:14:09.008Z"
   },
   {
    "duration": 16,
    "start_time": "2022-03-30T20:14:09.106Z"
   },
   {
    "duration": 13,
    "start_time": "2022-03-30T20:14:09.124Z"
   },
   {
    "duration": 5,
    "start_time": "2022-03-30T20:14:09.138Z"
   },
   {
    "duration": 155,
    "start_time": "2022-03-30T20:14:09.146Z"
   },
   {
    "duration": 16,
    "start_time": "2022-03-30T20:14:09.303Z"
   },
   {
    "duration": 13,
    "start_time": "2022-03-30T20:14:09.321Z"
   },
   {
    "duration": 7,
    "start_time": "2022-03-30T20:14:09.335Z"
   },
   {
    "duration": 9,
    "start_time": "2022-03-30T20:14:09.400Z"
   },
   {
    "duration": 92,
    "start_time": "2022-03-30T20:14:09.411Z"
   },
   {
    "duration": 5,
    "start_time": "2022-03-30T20:14:09.505Z"
   },
   {
    "duration": 4,
    "start_time": "2022-03-30T20:14:09.511Z"
   },
   {
    "duration": 5,
    "start_time": "2022-03-30T20:14:09.517Z"
   },
   {
    "duration": 6,
    "start_time": "2022-03-30T20:14:09.523Z"
   },
   {
    "duration": 5,
    "start_time": "2022-03-30T20:14:09.531Z"
   },
   {
    "duration": 1123,
    "start_time": "2022-03-30T20:14:09.538Z"
   },
   {
    "duration": 5,
    "start_time": "2022-03-30T20:14:10.665Z"
   },
   {
    "duration": 7,
    "start_time": "2022-03-30T20:14:10.672Z"
   },
   {
    "duration": 24,
    "start_time": "2022-03-30T20:14:10.681Z"
   },
   {
    "duration": 1114,
    "start_time": "2022-03-30T20:14:10.707Z"
   },
   {
    "duration": 6,
    "start_time": "2022-03-30T20:14:11.823Z"
   },
   {
    "duration": 5,
    "start_time": "2022-03-30T20:14:11.831Z"
   },
   {
    "duration": 7,
    "start_time": "2022-03-30T20:14:11.838Z"
   },
   {
    "duration": 1125,
    "start_time": "2022-03-30T20:14:11.847Z"
   },
   {
    "duration": 6,
    "start_time": "2022-03-30T20:14:12.974Z"
   },
   {
    "duration": 8,
    "start_time": "2022-03-30T20:14:12.981Z"
   },
   {
    "duration": 16,
    "start_time": "2022-03-30T20:14:12.990Z"
   }
  ],
  "kernelspec": {
   "display_name": "Python 3 (ipykernel)",
   "language": "python",
   "name": "python3"
  },
  "language_info": {
   "codemirror_mode": {
    "name": "ipython",
    "version": 3
   },
   "file_extension": ".py",
   "mimetype": "text/x-python",
   "name": "python",
   "nbconvert_exporter": "python",
   "pygments_lexer": "ipython3",
   "version": "3.9.12"
  },
  "toc": {
   "base_numbering": 1,
   "nav_menu": {},
   "number_sections": true,
   "sideBar": true,
   "skip_h1_title": true,
   "title_cell": "Table of Contents",
   "title_sidebar": "Contents",
   "toc_cell": false,
   "toc_position": {
    "height": "calc(100% - 180px)",
    "left": "10px",
    "top": "150px",
    "width": "325.792px"
   },
   "toc_section_display": true,
   "toc_window_display": true
  }
 },
 "nbformat": 4,
 "nbformat_minor": 2
}
