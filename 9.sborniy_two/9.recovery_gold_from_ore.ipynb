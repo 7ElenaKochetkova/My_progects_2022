{
 "cells": [
  {
   "cell_type": "markdown",
   "metadata": {},
   "source": [
    "## Подготовка данных"
   ]
  },
  {
   "cell_type": "markdown",
   "metadata": {},
   "source": [
    "###  Откройте файлы и изучите их."
   ]
  },
  {
   "cell_type": "code",
   "execution_count": 1,
   "metadata": {},
   "outputs": [],
   "source": [
    "# Импортируем все необходимые библиотеки\n",
    "import pandas as pd\n",
    "import numpy as np\n",
    "import matplotlib.pyplot as plt\n",
    "import seaborn as sns\n",
    "\n",
    "from sklearn.metrics import mean_absolute_error as MAE\n",
    "from sklearn.metrics import mean_squared_error as MSE\n",
    "from sklearn.model_selection import cross_val_score\n",
    "from sklearn.metrics import make_scorer\n",
    "\n",
    "from sklearn.linear_model import LinearRegression\n",
    "from sklearn.ensemble import RandomForestRegressor\n",
    "from sklearn.model_selection import RandomizedSearchCV\n",
    "from sklearn.model_selection import GridSearchCV\n",
    "from sklearn.dummy import DummyRegressor\n",
    "\n",
    "pd.options.mode.chained_assignment = None  \n",
    "import warnings\n",
    "warnings.simplefilter(action='ignore', category=FutureWarning)"
   ]
  },
  {
   "cell_type": "code",
   "execution_count": 2,
   "metadata": {},
   "outputs": [],
   "source": [
    "train = pd.read_csv('/datasets/gold_recovery_train.csv')\n",
    "test = pd.read_csv('/datasets/gold_recovery_test.csv')\n",
    "df = pd.read_csv('/datasets/gold_recovery_full.csv')"
   ]
  },
  {
   "cell_type": "code",
   "execution_count": 3,
   "metadata": {},
   "outputs": [
    {
     "name": "stdout",
     "output_type": "stream",
     "text": [
      "<class 'pandas.core.frame.DataFrame'>\n",
      "RangeIndex: 16860 entries, 0 to 16859\n",
      "Data columns (total 87 columns):\n",
      " #   Column                                              Non-Null Count  Dtype  \n",
      "---  ------                                              --------------  -----  \n",
      " 0   date                                                16860 non-null  object \n",
      " 1   final.output.concentrate_ag                         16788 non-null  float64\n",
      " 2   final.output.concentrate_pb                         16788 non-null  float64\n",
      " 3   final.output.concentrate_sol                        16490 non-null  float64\n",
      " 4   final.output.concentrate_au                         16789 non-null  float64\n",
      " 5   final.output.recovery                               15339 non-null  float64\n",
      " 6   final.output.tail_ag                                16794 non-null  float64\n",
      " 7   final.output.tail_pb                                16677 non-null  float64\n",
      " 8   final.output.tail_sol                               16715 non-null  float64\n",
      " 9   final.output.tail_au                                16794 non-null  float64\n",
      " 10  primary_cleaner.input.sulfate                       15553 non-null  float64\n",
      " 11  primary_cleaner.input.depressant                    15598 non-null  float64\n",
      " 12  primary_cleaner.input.feed_size                     16860 non-null  float64\n",
      " 13  primary_cleaner.input.xanthate                      15875 non-null  float64\n",
      " 14  primary_cleaner.output.concentrate_ag               16778 non-null  float64\n",
      " 15  primary_cleaner.output.concentrate_pb               16502 non-null  float64\n",
      " 16  primary_cleaner.output.concentrate_sol              16224 non-null  float64\n",
      " 17  primary_cleaner.output.concentrate_au               16778 non-null  float64\n",
      " 18  primary_cleaner.output.tail_ag                      16777 non-null  float64\n",
      " 19  primary_cleaner.output.tail_pb                      16761 non-null  float64\n",
      " 20  primary_cleaner.output.tail_sol                     16579 non-null  float64\n",
      " 21  primary_cleaner.output.tail_au                      16777 non-null  float64\n",
      " 22  primary_cleaner.state.floatbank8_a_air              16820 non-null  float64\n",
      " 23  primary_cleaner.state.floatbank8_a_level            16827 non-null  float64\n",
      " 24  primary_cleaner.state.floatbank8_b_air              16820 non-null  float64\n",
      " 25  primary_cleaner.state.floatbank8_b_level            16833 non-null  float64\n",
      " 26  primary_cleaner.state.floatbank8_c_air              16822 non-null  float64\n",
      " 27  primary_cleaner.state.floatbank8_c_level            16833 non-null  float64\n",
      " 28  primary_cleaner.state.floatbank8_d_air              16821 non-null  float64\n",
      " 29  primary_cleaner.state.floatbank8_d_level            16833 non-null  float64\n",
      " 30  rougher.calculation.sulfate_to_au_concentrate       16833 non-null  float64\n",
      " 31  rougher.calculation.floatbank10_sulfate_to_au_feed  16833 non-null  float64\n",
      " 32  rougher.calculation.floatbank11_sulfate_to_au_feed  16833 non-null  float64\n",
      " 33  rougher.calculation.au_pb_ratio                     15618 non-null  float64\n",
      " 34  rougher.input.feed_ag                               16778 non-null  float64\n",
      " 35  rougher.input.feed_pb                               16632 non-null  float64\n",
      " 36  rougher.input.feed_rate                             16347 non-null  float64\n",
      " 37  rougher.input.feed_size                             16443 non-null  float64\n",
      " 38  rougher.input.feed_sol                              16568 non-null  float64\n",
      " 39  rougher.input.feed_au                               16777 non-null  float64\n",
      " 40  rougher.input.floatbank10_sulfate                   15816 non-null  float64\n",
      " 41  rougher.input.floatbank10_xanthate                  16514 non-null  float64\n",
      " 42  rougher.input.floatbank11_sulfate                   16237 non-null  float64\n",
      " 43  rougher.input.floatbank11_xanthate                  14956 non-null  float64\n",
      " 44  rougher.output.concentrate_ag                       16778 non-null  float64\n",
      " 45  rougher.output.concentrate_pb                       16778 non-null  float64\n",
      " 46  rougher.output.concentrate_sol                      16698 non-null  float64\n",
      " 47  rougher.output.concentrate_au                       16778 non-null  float64\n",
      " 48  rougher.output.recovery                             14287 non-null  float64\n",
      " 49  rougher.output.tail_ag                              14610 non-null  float64\n",
      " 50  rougher.output.tail_pb                              16778 non-null  float64\n",
      " 51  rougher.output.tail_sol                             14611 non-null  float64\n",
      " 52  rougher.output.tail_au                              14611 non-null  float64\n",
      " 53  rougher.state.floatbank10_a_air                     16807 non-null  float64\n",
      " 54  rougher.state.floatbank10_a_level                   16807 non-null  float64\n",
      " 55  rougher.state.floatbank10_b_air                     16807 non-null  float64\n",
      " 56  rougher.state.floatbank10_b_level                   16807 non-null  float64\n",
      " 57  rougher.state.floatbank10_c_air                     16807 non-null  float64\n",
      " 58  rougher.state.floatbank10_c_level                   16814 non-null  float64\n",
      " 59  rougher.state.floatbank10_d_air                     16802 non-null  float64\n",
      " 60  rougher.state.floatbank10_d_level                   16809 non-null  float64\n",
      " 61  rougher.state.floatbank10_e_air                     16257 non-null  float64\n",
      " 62  rougher.state.floatbank10_e_level                   16809 non-null  float64\n",
      " 63  rougher.state.floatbank10_f_air                     16802 non-null  float64\n",
      " 64  rougher.state.floatbank10_f_level                   16802 non-null  float64\n",
      " 65  secondary_cleaner.output.tail_ag                    16776 non-null  float64\n",
      " 66  secondary_cleaner.output.tail_pb                    16764 non-null  float64\n",
      " 67  secondary_cleaner.output.tail_sol                   14874 non-null  float64\n",
      " 68  secondary_cleaner.output.tail_au                    16778 non-null  float64\n",
      " 69  secondary_cleaner.state.floatbank2_a_air            16497 non-null  float64\n",
      " 70  secondary_cleaner.state.floatbank2_a_level          16751 non-null  float64\n",
      " 71  secondary_cleaner.state.floatbank2_b_air            16705 non-null  float64\n",
      " 72  secondary_cleaner.state.floatbank2_b_level          16748 non-null  float64\n",
      " 73  secondary_cleaner.state.floatbank3_a_air            16763 non-null  float64\n",
      " 74  secondary_cleaner.state.floatbank3_a_level          16747 non-null  float64\n",
      " 75  secondary_cleaner.state.floatbank3_b_air            16752 non-null  float64\n",
      " 76  secondary_cleaner.state.floatbank3_b_level          16750 non-null  float64\n",
      " 77  secondary_cleaner.state.floatbank4_a_air            16731 non-null  float64\n",
      " 78  secondary_cleaner.state.floatbank4_a_level          16747 non-null  float64\n",
      " 79  secondary_cleaner.state.floatbank4_b_air            16768 non-null  float64\n",
      " 80  secondary_cleaner.state.floatbank4_b_level          16767 non-null  float64\n",
      " 81  secondary_cleaner.state.floatbank5_a_air            16775 non-null  float64\n",
      " 82  secondary_cleaner.state.floatbank5_a_level          16775 non-null  float64\n",
      " 83  secondary_cleaner.state.floatbank5_b_air            16775 non-null  float64\n",
      " 84  secondary_cleaner.state.floatbank5_b_level          16776 non-null  float64\n",
      " 85  secondary_cleaner.state.floatbank6_a_air            16757 non-null  float64\n",
      " 86  secondary_cleaner.state.floatbank6_a_level          16775 non-null  float64\n",
      "dtypes: float64(86), object(1)\n",
      "memory usage: 11.2+ MB\n"
     ]
    },
    {
     "data": {
      "text/plain": [
       "None"
      ]
     },
     "metadata": {},
     "output_type": "display_data"
    },
    {
     "data": {
      "text/html": [
       "<div>\n",
       "<style scoped>\n",
       "    .dataframe tbody tr th:only-of-type {\n",
       "        vertical-align: middle;\n",
       "    }\n",
       "\n",
       "    .dataframe tbody tr th {\n",
       "        vertical-align: top;\n",
       "    }\n",
       "\n",
       "    .dataframe thead th {\n",
       "        text-align: right;\n",
       "    }\n",
       "</style>\n",
       "<table border=\"1\" class=\"dataframe\">\n",
       "  <thead>\n",
       "    <tr style=\"text-align: right;\">\n",
       "      <th></th>\n",
       "      <th>date</th>\n",
       "      <th>final.output.concentrate_ag</th>\n",
       "      <th>final.output.concentrate_pb</th>\n",
       "      <th>final.output.concentrate_sol</th>\n",
       "      <th>final.output.concentrate_au</th>\n",
       "      <th>final.output.recovery</th>\n",
       "      <th>final.output.tail_ag</th>\n",
       "      <th>final.output.tail_pb</th>\n",
       "      <th>final.output.tail_sol</th>\n",
       "      <th>final.output.tail_au</th>\n",
       "      <th>...</th>\n",
       "      <th>secondary_cleaner.state.floatbank4_a_air</th>\n",
       "      <th>secondary_cleaner.state.floatbank4_a_level</th>\n",
       "      <th>secondary_cleaner.state.floatbank4_b_air</th>\n",
       "      <th>secondary_cleaner.state.floatbank4_b_level</th>\n",
       "      <th>secondary_cleaner.state.floatbank5_a_air</th>\n",
       "      <th>secondary_cleaner.state.floatbank5_a_level</th>\n",
       "      <th>secondary_cleaner.state.floatbank5_b_air</th>\n",
       "      <th>secondary_cleaner.state.floatbank5_b_level</th>\n",
       "      <th>secondary_cleaner.state.floatbank6_a_air</th>\n",
       "      <th>secondary_cleaner.state.floatbank6_a_level</th>\n",
       "    </tr>\n",
       "  </thead>\n",
       "  <tbody>\n",
       "    <tr>\n",
       "      <th>0</th>\n",
       "      <td>2016-01-15 00:00:00</td>\n",
       "      <td>6.055403</td>\n",
       "      <td>9.889648</td>\n",
       "      <td>5.507324</td>\n",
       "      <td>42.192020</td>\n",
       "      <td>70.541216</td>\n",
       "      <td>10.411962</td>\n",
       "      <td>0.895447</td>\n",
       "      <td>16.904297</td>\n",
       "      <td>2.143149</td>\n",
       "      <td>...</td>\n",
       "      <td>14.016835</td>\n",
       "      <td>-502.488007</td>\n",
       "      <td>12.099931</td>\n",
       "      <td>-504.715942</td>\n",
       "      <td>9.925633</td>\n",
       "      <td>-498.310211</td>\n",
       "      <td>8.079666</td>\n",
       "      <td>-500.470978</td>\n",
       "      <td>14.151341</td>\n",
       "      <td>-605.841980</td>\n",
       "    </tr>\n",
       "    <tr>\n",
       "      <th>1</th>\n",
       "      <td>2016-01-15 01:00:00</td>\n",
       "      <td>6.029369</td>\n",
       "      <td>9.968944</td>\n",
       "      <td>5.257781</td>\n",
       "      <td>42.701629</td>\n",
       "      <td>69.266198</td>\n",
       "      <td>10.462676</td>\n",
       "      <td>0.927452</td>\n",
       "      <td>16.634514</td>\n",
       "      <td>2.224930</td>\n",
       "      <td>...</td>\n",
       "      <td>13.992281</td>\n",
       "      <td>-505.503262</td>\n",
       "      <td>11.950531</td>\n",
       "      <td>-501.331529</td>\n",
       "      <td>10.039245</td>\n",
       "      <td>-500.169983</td>\n",
       "      <td>7.984757</td>\n",
       "      <td>-500.582168</td>\n",
       "      <td>13.998353</td>\n",
       "      <td>-599.787184</td>\n",
       "    </tr>\n",
       "    <tr>\n",
       "      <th>2</th>\n",
       "      <td>2016-01-15 02:00:00</td>\n",
       "      <td>6.055926</td>\n",
       "      <td>10.213995</td>\n",
       "      <td>5.383759</td>\n",
       "      <td>42.657501</td>\n",
       "      <td>68.116445</td>\n",
       "      <td>10.507046</td>\n",
       "      <td>0.953716</td>\n",
       "      <td>16.208849</td>\n",
       "      <td>2.257889</td>\n",
       "      <td>...</td>\n",
       "      <td>14.015015</td>\n",
       "      <td>-502.520901</td>\n",
       "      <td>11.912783</td>\n",
       "      <td>-501.133383</td>\n",
       "      <td>10.070913</td>\n",
       "      <td>-500.129135</td>\n",
       "      <td>8.013877</td>\n",
       "      <td>-500.517572</td>\n",
       "      <td>14.028663</td>\n",
       "      <td>-601.427363</td>\n",
       "    </tr>\n",
       "    <tr>\n",
       "      <th>3</th>\n",
       "      <td>2016-01-15 03:00:00</td>\n",
       "      <td>6.047977</td>\n",
       "      <td>9.977019</td>\n",
       "      <td>4.858634</td>\n",
       "      <td>42.689819</td>\n",
       "      <td>68.347543</td>\n",
       "      <td>10.422762</td>\n",
       "      <td>0.883763</td>\n",
       "      <td>16.532835</td>\n",
       "      <td>2.146849</td>\n",
       "      <td>...</td>\n",
       "      <td>14.036510</td>\n",
       "      <td>-500.857308</td>\n",
       "      <td>11.999550</td>\n",
       "      <td>-501.193686</td>\n",
       "      <td>9.970366</td>\n",
       "      <td>-499.201640</td>\n",
       "      <td>7.977324</td>\n",
       "      <td>-500.255908</td>\n",
       "      <td>14.005551</td>\n",
       "      <td>-599.996129</td>\n",
       "    </tr>\n",
       "    <tr>\n",
       "      <th>4</th>\n",
       "      <td>2016-01-15 04:00:00</td>\n",
       "      <td>6.148599</td>\n",
       "      <td>10.142511</td>\n",
       "      <td>4.939416</td>\n",
       "      <td>42.774141</td>\n",
       "      <td>66.927016</td>\n",
       "      <td>10.360302</td>\n",
       "      <td>0.792826</td>\n",
       "      <td>16.525686</td>\n",
       "      <td>2.055292</td>\n",
       "      <td>...</td>\n",
       "      <td>14.027298</td>\n",
       "      <td>-499.838632</td>\n",
       "      <td>11.953070</td>\n",
       "      <td>-501.053894</td>\n",
       "      <td>9.925709</td>\n",
       "      <td>-501.686727</td>\n",
       "      <td>7.894242</td>\n",
       "      <td>-500.356035</td>\n",
       "      <td>13.996647</td>\n",
       "      <td>-601.496691</td>\n",
       "    </tr>\n",
       "  </tbody>\n",
       "</table>\n",
       "<p>5 rows × 87 columns</p>\n",
       "</div>"
      ],
      "text/plain": [
       "                  date  final.output.concentrate_ag  \\\n",
       "0  2016-01-15 00:00:00                     6.055403   \n",
       "1  2016-01-15 01:00:00                     6.029369   \n",
       "2  2016-01-15 02:00:00                     6.055926   \n",
       "3  2016-01-15 03:00:00                     6.047977   \n",
       "4  2016-01-15 04:00:00                     6.148599   \n",
       "\n",
       "   final.output.concentrate_pb  final.output.concentrate_sol  \\\n",
       "0                     9.889648                      5.507324   \n",
       "1                     9.968944                      5.257781   \n",
       "2                    10.213995                      5.383759   \n",
       "3                     9.977019                      4.858634   \n",
       "4                    10.142511                      4.939416   \n",
       "\n",
       "   final.output.concentrate_au  final.output.recovery  final.output.tail_ag  \\\n",
       "0                    42.192020              70.541216             10.411962   \n",
       "1                    42.701629              69.266198             10.462676   \n",
       "2                    42.657501              68.116445             10.507046   \n",
       "3                    42.689819              68.347543             10.422762   \n",
       "4                    42.774141              66.927016             10.360302   \n",
       "\n",
       "   final.output.tail_pb  final.output.tail_sol  final.output.tail_au  ...  \\\n",
       "0              0.895447              16.904297              2.143149  ...   \n",
       "1              0.927452              16.634514              2.224930  ...   \n",
       "2              0.953716              16.208849              2.257889  ...   \n",
       "3              0.883763              16.532835              2.146849  ...   \n",
       "4              0.792826              16.525686              2.055292  ...   \n",
       "\n",
       "   secondary_cleaner.state.floatbank4_a_air  \\\n",
       "0                                 14.016835   \n",
       "1                                 13.992281   \n",
       "2                                 14.015015   \n",
       "3                                 14.036510   \n",
       "4                                 14.027298   \n",
       "\n",
       "   secondary_cleaner.state.floatbank4_a_level  \\\n",
       "0                                 -502.488007   \n",
       "1                                 -505.503262   \n",
       "2                                 -502.520901   \n",
       "3                                 -500.857308   \n",
       "4                                 -499.838632   \n",
       "\n",
       "   secondary_cleaner.state.floatbank4_b_air  \\\n",
       "0                                 12.099931   \n",
       "1                                 11.950531   \n",
       "2                                 11.912783   \n",
       "3                                 11.999550   \n",
       "4                                 11.953070   \n",
       "\n",
       "   secondary_cleaner.state.floatbank4_b_level  \\\n",
       "0                                 -504.715942   \n",
       "1                                 -501.331529   \n",
       "2                                 -501.133383   \n",
       "3                                 -501.193686   \n",
       "4                                 -501.053894   \n",
       "\n",
       "   secondary_cleaner.state.floatbank5_a_air  \\\n",
       "0                                  9.925633   \n",
       "1                                 10.039245   \n",
       "2                                 10.070913   \n",
       "3                                  9.970366   \n",
       "4                                  9.925709   \n",
       "\n",
       "   secondary_cleaner.state.floatbank5_a_level  \\\n",
       "0                                 -498.310211   \n",
       "1                                 -500.169983   \n",
       "2                                 -500.129135   \n",
       "3                                 -499.201640   \n",
       "4                                 -501.686727   \n",
       "\n",
       "   secondary_cleaner.state.floatbank5_b_air  \\\n",
       "0                                  8.079666   \n",
       "1                                  7.984757   \n",
       "2                                  8.013877   \n",
       "3                                  7.977324   \n",
       "4                                  7.894242   \n",
       "\n",
       "   secondary_cleaner.state.floatbank5_b_level  \\\n",
       "0                                 -500.470978   \n",
       "1                                 -500.582168   \n",
       "2                                 -500.517572   \n",
       "3                                 -500.255908   \n",
       "4                                 -500.356035   \n",
       "\n",
       "   secondary_cleaner.state.floatbank6_a_air  \\\n",
       "0                                 14.151341   \n",
       "1                                 13.998353   \n",
       "2                                 14.028663   \n",
       "3                                 14.005551   \n",
       "4                                 13.996647   \n",
       "\n",
       "   secondary_cleaner.state.floatbank6_a_level  \n",
       "0                                 -605.841980  \n",
       "1                                 -599.787184  \n",
       "2                                 -601.427363  \n",
       "3                                 -599.996129  \n",
       "4                                 -601.496691  \n",
       "\n",
       "[5 rows x 87 columns]"
      ]
     },
     "metadata": {},
     "output_type": "display_data"
    }
   ],
   "source": [
    "display(train.info())\n",
    "display(train.head())"
   ]
  },
  {
   "cell_type": "code",
   "execution_count": 4,
   "metadata": {},
   "outputs": [
    {
     "data": {
      "text/plain": [
       "date                                            0\n",
       "final.output.concentrate_ag                    72\n",
       "final.output.concentrate_pb                    72\n",
       "final.output.concentrate_sol                  370\n",
       "final.output.concentrate_au                    71\n",
       "                                             ... \n",
       "secondary_cleaner.state.floatbank5_a_level     85\n",
       "secondary_cleaner.state.floatbank5_b_air       85\n",
       "secondary_cleaner.state.floatbank5_b_level     84\n",
       "secondary_cleaner.state.floatbank6_a_air      103\n",
       "secondary_cleaner.state.floatbank6_a_level     85\n",
       "Length: 87, dtype: int64"
      ]
     },
     "metadata": {},
     "output_type": "display_data"
    },
    {
     "data": {
      "text/plain": [
       "date                                            0\n",
       "primary_cleaner.input.sulfate                 302\n",
       "primary_cleaner.input.depressant              284\n",
       "primary_cleaner.input.feed_size                 0\n",
       "primary_cleaner.input.xanthate                166\n",
       "primary_cleaner.state.floatbank8_a_air         16\n",
       "primary_cleaner.state.floatbank8_a_level       16\n",
       "primary_cleaner.state.floatbank8_b_air         16\n",
       "primary_cleaner.state.floatbank8_b_level       16\n",
       "primary_cleaner.state.floatbank8_c_air         16\n",
       "primary_cleaner.state.floatbank8_c_level       16\n",
       "primary_cleaner.state.floatbank8_d_air         16\n",
       "primary_cleaner.state.floatbank8_d_level       16\n",
       "rougher.input.feed_ag                          16\n",
       "rougher.input.feed_pb                          16\n",
       "rougher.input.feed_rate                        40\n",
       "rougher.input.feed_size                        22\n",
       "rougher.input.feed_sol                         67\n",
       "rougher.input.feed_au                          16\n",
       "rougher.input.floatbank10_sulfate             257\n",
       "rougher.input.floatbank10_xanthate            123\n",
       "rougher.input.floatbank11_sulfate              55\n",
       "rougher.input.floatbank11_xanthate            353\n",
       "rougher.state.floatbank10_a_air                17\n",
       "rougher.state.floatbank10_a_level              16\n",
       "rougher.state.floatbank10_b_air                17\n",
       "rougher.state.floatbank10_b_level              16\n",
       "rougher.state.floatbank10_c_air                17\n",
       "rougher.state.floatbank10_c_level              16\n",
       "rougher.state.floatbank10_d_air                17\n",
       "rougher.state.floatbank10_d_level              16\n",
       "rougher.state.floatbank10_e_air                17\n",
       "rougher.state.floatbank10_e_level              16\n",
       "rougher.state.floatbank10_f_air                17\n",
       "rougher.state.floatbank10_f_level              16\n",
       "secondary_cleaner.state.floatbank2_a_air       20\n",
       "secondary_cleaner.state.floatbank2_a_level     16\n",
       "secondary_cleaner.state.floatbank2_b_air       23\n",
       "secondary_cleaner.state.floatbank2_b_level     16\n",
       "secondary_cleaner.state.floatbank3_a_air       34\n",
       "secondary_cleaner.state.floatbank3_a_level     16\n",
       "secondary_cleaner.state.floatbank3_b_air       16\n",
       "secondary_cleaner.state.floatbank3_b_level     16\n",
       "secondary_cleaner.state.floatbank4_a_air       16\n",
       "secondary_cleaner.state.floatbank4_a_level     16\n",
       "secondary_cleaner.state.floatbank4_b_air       16\n",
       "secondary_cleaner.state.floatbank4_b_level     16\n",
       "secondary_cleaner.state.floatbank5_a_air       16\n",
       "secondary_cleaner.state.floatbank5_a_level     16\n",
       "secondary_cleaner.state.floatbank5_b_air       16\n",
       "secondary_cleaner.state.floatbank5_b_level     16\n",
       "secondary_cleaner.state.floatbank6_a_air       16\n",
       "secondary_cleaner.state.floatbank6_a_level     16\n",
       "dtype: int64"
      ]
     },
     "metadata": {},
     "output_type": "display_data"
    },
    {
     "data": {
      "text/plain": [
       "date                                            0\n",
       "final.output.concentrate_ag                    89\n",
       "final.output.concentrate_pb                    87\n",
       "final.output.concentrate_sol                  385\n",
       "final.output.concentrate_au                    86\n",
       "                                             ... \n",
       "secondary_cleaner.state.floatbank5_a_level    101\n",
       "secondary_cleaner.state.floatbank5_b_air      101\n",
       "secondary_cleaner.state.floatbank5_b_level    100\n",
       "secondary_cleaner.state.floatbank6_a_air      119\n",
       "secondary_cleaner.state.floatbank6_a_level    101\n",
       "Length: 87, dtype: int64"
      ]
     },
     "metadata": {},
     "output_type": "display_data"
    }
   ],
   "source": [
    "# Оценим масштабы пропусков и дубликатов\n",
    "\n",
    "display(train.isnull().sum())\n",
    "display(test.isna().sum())\n",
    "display(df.isna().sum())"
   ]
  },
  {
   "cell_type": "markdown",
   "metadata": {},
   "source": [
    "Уффф. Пропусков вышло очень много и все они разбросаны по всей таблице."
   ]
  },
  {
   "cell_type": "code",
   "execution_count": 5,
   "metadata": {},
   "outputs": [
    {
     "data": {
      "text/plain": [
       "0"
      ]
     },
     "metadata": {},
     "output_type": "display_data"
    },
    {
     "data": {
      "text/plain": [
       "0"
      ]
     },
     "metadata": {},
     "output_type": "display_data"
    },
    {
     "data": {
      "text/plain": [
       "0"
      ]
     },
     "metadata": {},
     "output_type": "display_data"
    }
   ],
   "source": [
    "display(train.duplicated().sum())\n",
    "display(test.duplicated().sum())\n",
    "display(df.duplicated().sum())"
   ]
  },
  {
   "cell_type": "markdown",
   "metadata": {},
   "source": [
    "Хотя бы тут все чисто."
   ]
  },
  {
   "cell_type": "markdown",
   "metadata": {},
   "source": [
    "### Проверьте, что эффективность обогащения рассчитана правильно. Вычислите её на обучающей выборке для признака rougher.output.recovery. Найдите MAE между вашими расчётами и значением признака. Опишите выводы."
   ]
  },
  {
   "cell_type": "markdown",
   "metadata": {},
   "source": [
    "Эффективность обогащения рассчитывается по формуле:\n",
    "\n",
    "Recovery = (C(F-T)/F(C-T))*100%\n",
    "\n",
    "где:\n",
    "\n",
    "* C — доля золота в концентрате после флотации/очистки **(rougher.output.concentrate_au)**\n",
    "* F — доля золота в сырье/концентрате до флотации/очистки **(rougher.input.feed_au)**\n",
    "* T — доля золота в отвальных хвостах после флотации/очистки **(rougher.output.tail)**"
   ]
  },
  {
   "cell_type": "code",
   "execution_count": 6,
   "metadata": {},
   "outputs": [],
   "source": [
    "# Так как на данном этапе есть пропуски в данных, создадим временную таблицу с удаленными пропусками.\n",
    "\n",
    "temp_train = train.dropna()"
   ]
  },
  {
   "cell_type": "code",
   "execution_count": 7,
   "metadata": {},
   "outputs": [],
   "source": [
    "# Создадим функцию, которая будет возвращать результат формулы.\n",
    "\n",
    "def recovery(row):\n",
    "    C = row['rougher.output.concentrate_au']\n",
    "    F = row['rougher.input.feed_au']\n",
    "    T = row['rougher.output.tail_au']\n",
    "    result = ((C*(F-T))/(F*(C-T)))*100\n",
    "    return result"
   ]
  },
  {
   "cell_type": "code",
   "execution_count": 8,
   "metadata": {},
   "outputs": [],
   "source": [
    "temp_train['recovery'] = temp_train.apply(recovery, axis=1)"
   ]
  },
  {
   "cell_type": "code",
   "execution_count": 9,
   "metadata": {},
   "outputs": [
    {
     "data": {
      "text/plain": [
       "9.460144184559453e-15"
      ]
     },
     "execution_count": 9,
     "metadata": {},
     "output_type": "execute_result"
    }
   ],
   "source": [
    "mae_recovery = MAE(temp_train['rougher.output.recovery'], temp_train['recovery'])\n",
    "mae_recovery"
   ]
  },
  {
   "cell_type": "code",
   "execution_count": 10,
   "metadata": {},
   "outputs": [
    {
     "data": {
      "text/plain": [
       "0.0"
      ]
     },
     "execution_count": 10,
     "metadata": {},
     "output_type": "execute_result"
    }
   ],
   "source": [
    "mae_recovery.round()"
   ]
  },
  {
   "cell_type": "markdown",
   "metadata": {},
   "source": [
    "Судя по всему, там крайне маленькое число, а это значит, что эффективность обогащения рассчитана правильно. Ура!"
   ]
  },
  {
   "cell_type": "markdown",
   "metadata": {},
   "source": [
    "### Проанализируйте признаки, недоступные в тестовой выборке. Что это за параметры? К какому типу относятся?"
   ]
  },
  {
   "cell_type": "code",
   "execution_count": 11,
   "metadata": {},
   "outputs": [
    {
     "name": "stdout",
     "output_type": "stream",
     "text": [
      "secondary_cleaner.output.tail_pb\n",
      "rougher.calculation.floatbank10_sulfate_to_au_feed\n",
      "final.output.concentrate_sol\n",
      "primary_cleaner.output.concentrate_sol\n",
      "secondary_cleaner.output.tail_au\n",
      "secondary_cleaner.output.tail_sol\n",
      "primary_cleaner.output.concentrate_pb\n",
      "primary_cleaner.output.tail_sol\n",
      "primary_cleaner.output.concentrate_ag\n",
      "rougher.output.tail_au\n",
      "primary_cleaner.output.concentrate_au\n",
      "final.output.tail_ag\n",
      "rougher.calculation.au_pb_ratio\n",
      "final.output.concentrate_ag\n",
      "rougher.output.tail_pb\n",
      "rougher.output.concentrate_ag\n",
      "final.output.tail_sol\n",
      "primary_cleaner.output.tail_ag\n",
      "final.output.tail_pb\n",
      "final.output.recovery\n",
      "final.output.concentrate_pb\n",
      "rougher.output.recovery\n",
      "primary_cleaner.output.tail_pb\n",
      "rougher.output.tail_sol\n",
      "rougher.output.concentrate_au\n",
      "secondary_cleaner.output.tail_ag\n",
      "final.output.concentrate_au\n",
      "rougher.output.tail_ag\n",
      "final.output.tail_au\n",
      "rougher.calculation.sulfate_to_au_concentrate\n",
      "rougher.calculation.floatbank11_sulfate_to_au_feed\n",
      "primary_cleaner.output.tail_au\n",
      "rougher.output.concentrate_pb\n",
      "rougher.output.concentrate_sol\n"
     ]
    }
   ],
   "source": [
    "difference = set(df.columns) - set(test.columns)\n",
    "print('\\n'.join(difference))"
   ]
  },
  {
   "cell_type": "markdown",
   "metadata": {},
   "source": [
    "В тестовой выборке отсутствуют столбцы OUTPUT и CALCULATION. В них находятся промежуточные и финальные подсчеты выхода металлов. Так как данные собраны в будущем, мы уже имеем эти значения, но модель будет применяться тогда, когда они ещё не получены. Поэтому все эти столбцы надо будет удалить их обучающей выборки тоже. Пусть модель не обольщается, помощь к ней не придет. *Злобный смех*"
   ]
  },
  {
   "cell_type": "markdown",
   "metadata": {},
   "source": [
    "### Проведите предобработку данных."
   ]
  },
  {
   "cell_type": "code",
   "execution_count": 12,
   "metadata": {},
   "outputs": [],
   "source": [
    "# Начнем с удаления подсказывающих столбцов в обучающей выборке\n",
    "\n",
    "train = train.drop(labels=difference, axis=1)"
   ]
  },
  {
   "cell_type": "code",
   "execution_count": 13,
   "metadata": {},
   "outputs": [
    {
     "name": "stdout",
     "output_type": "stream",
     "text": [
      "<class 'pandas.core.frame.DataFrame'>\n",
      "RangeIndex: 16860 entries, 0 to 16859\n",
      "Data columns (total 53 columns):\n",
      " #   Column                                      Non-Null Count  Dtype  \n",
      "---  ------                                      --------------  -----  \n",
      " 0   date                                        16860 non-null  object \n",
      " 1   primary_cleaner.input.sulfate               15553 non-null  float64\n",
      " 2   primary_cleaner.input.depressant            15598 non-null  float64\n",
      " 3   primary_cleaner.input.feed_size             16860 non-null  float64\n",
      " 4   primary_cleaner.input.xanthate              15875 non-null  float64\n",
      " 5   primary_cleaner.state.floatbank8_a_air      16820 non-null  float64\n",
      " 6   primary_cleaner.state.floatbank8_a_level    16827 non-null  float64\n",
      " 7   primary_cleaner.state.floatbank8_b_air      16820 non-null  float64\n",
      " 8   primary_cleaner.state.floatbank8_b_level    16833 non-null  float64\n",
      " 9   primary_cleaner.state.floatbank8_c_air      16822 non-null  float64\n",
      " 10  primary_cleaner.state.floatbank8_c_level    16833 non-null  float64\n",
      " 11  primary_cleaner.state.floatbank8_d_air      16821 non-null  float64\n",
      " 12  primary_cleaner.state.floatbank8_d_level    16833 non-null  float64\n",
      " 13  rougher.input.feed_ag                       16778 non-null  float64\n",
      " 14  rougher.input.feed_pb                       16632 non-null  float64\n",
      " 15  rougher.input.feed_rate                     16347 non-null  float64\n",
      " 16  rougher.input.feed_size                     16443 non-null  float64\n",
      " 17  rougher.input.feed_sol                      16568 non-null  float64\n",
      " 18  rougher.input.feed_au                       16777 non-null  float64\n",
      " 19  rougher.input.floatbank10_sulfate           15816 non-null  float64\n",
      " 20  rougher.input.floatbank10_xanthate          16514 non-null  float64\n",
      " 21  rougher.input.floatbank11_sulfate           16237 non-null  float64\n",
      " 22  rougher.input.floatbank11_xanthate          14956 non-null  float64\n",
      " 23  rougher.state.floatbank10_a_air             16807 non-null  float64\n",
      " 24  rougher.state.floatbank10_a_level           16807 non-null  float64\n",
      " 25  rougher.state.floatbank10_b_air             16807 non-null  float64\n",
      " 26  rougher.state.floatbank10_b_level           16807 non-null  float64\n",
      " 27  rougher.state.floatbank10_c_air             16807 non-null  float64\n",
      " 28  rougher.state.floatbank10_c_level           16814 non-null  float64\n",
      " 29  rougher.state.floatbank10_d_air             16802 non-null  float64\n",
      " 30  rougher.state.floatbank10_d_level           16809 non-null  float64\n",
      " 31  rougher.state.floatbank10_e_air             16257 non-null  float64\n",
      " 32  rougher.state.floatbank10_e_level           16809 non-null  float64\n",
      " 33  rougher.state.floatbank10_f_air             16802 non-null  float64\n",
      " 34  rougher.state.floatbank10_f_level           16802 non-null  float64\n",
      " 35  secondary_cleaner.state.floatbank2_a_air    16497 non-null  float64\n",
      " 36  secondary_cleaner.state.floatbank2_a_level  16751 non-null  float64\n",
      " 37  secondary_cleaner.state.floatbank2_b_air    16705 non-null  float64\n",
      " 38  secondary_cleaner.state.floatbank2_b_level  16748 non-null  float64\n",
      " 39  secondary_cleaner.state.floatbank3_a_air    16763 non-null  float64\n",
      " 40  secondary_cleaner.state.floatbank3_a_level  16747 non-null  float64\n",
      " 41  secondary_cleaner.state.floatbank3_b_air    16752 non-null  float64\n",
      " 42  secondary_cleaner.state.floatbank3_b_level  16750 non-null  float64\n",
      " 43  secondary_cleaner.state.floatbank4_a_air    16731 non-null  float64\n",
      " 44  secondary_cleaner.state.floatbank4_a_level  16747 non-null  float64\n",
      " 45  secondary_cleaner.state.floatbank4_b_air    16768 non-null  float64\n",
      " 46  secondary_cleaner.state.floatbank4_b_level  16767 non-null  float64\n",
      " 47  secondary_cleaner.state.floatbank5_a_air    16775 non-null  float64\n",
      " 48  secondary_cleaner.state.floatbank5_a_level  16775 non-null  float64\n",
      " 49  secondary_cleaner.state.floatbank5_b_air    16775 non-null  float64\n",
      " 50  secondary_cleaner.state.floatbank5_b_level  16776 non-null  float64\n",
      " 51  secondary_cleaner.state.floatbank6_a_air    16757 non-null  float64\n",
      " 52  secondary_cleaner.state.floatbank6_a_level  16775 non-null  float64\n",
      "dtypes: float64(52), object(1)\n",
      "memory usage: 6.8+ MB\n"
     ]
    }
   ],
   "source": [
    "train.info()"
   ]
  },
  {
   "cell_type": "markdown",
   "metadata": {},
   "source": [
    "Настало время разобраться с пропусками. Вообще я очень не люблю заполнять пропуски, потому что боюсь исказить данные, из-за чего модель потом будет обучена не так. Посмотрим сначала, насколько существенные пропуски. Может их можно безболезненно удалить."
   ]
  },
  {
   "cell_type": "code",
   "execution_count": 14,
   "metadata": {},
   "outputs": [
    {
     "name": "stdout",
     "output_type": "stream",
     "text": [
      "<class 'pandas.core.frame.DataFrame'>\n",
      "Int64Index: 13522 entries, 0 to 16859\n",
      "Data columns (total 53 columns):\n",
      " #   Column                                      Non-Null Count  Dtype  \n",
      "---  ------                                      --------------  -----  \n",
      " 0   date                                        13522 non-null  object \n",
      " 1   primary_cleaner.input.sulfate               13522 non-null  float64\n",
      " 2   primary_cleaner.input.depressant            13522 non-null  float64\n",
      " 3   primary_cleaner.input.feed_size             13522 non-null  float64\n",
      " 4   primary_cleaner.input.xanthate              13522 non-null  float64\n",
      " 5   primary_cleaner.state.floatbank8_a_air      13522 non-null  float64\n",
      " 6   primary_cleaner.state.floatbank8_a_level    13522 non-null  float64\n",
      " 7   primary_cleaner.state.floatbank8_b_air      13522 non-null  float64\n",
      " 8   primary_cleaner.state.floatbank8_b_level    13522 non-null  float64\n",
      " 9   primary_cleaner.state.floatbank8_c_air      13522 non-null  float64\n",
      " 10  primary_cleaner.state.floatbank8_c_level    13522 non-null  float64\n",
      " 11  primary_cleaner.state.floatbank8_d_air      13522 non-null  float64\n",
      " 12  primary_cleaner.state.floatbank8_d_level    13522 non-null  float64\n",
      " 13  rougher.input.feed_ag                       13522 non-null  float64\n",
      " 14  rougher.input.feed_pb                       13522 non-null  float64\n",
      " 15  rougher.input.feed_rate                     13522 non-null  float64\n",
      " 16  rougher.input.feed_size                     13522 non-null  float64\n",
      " 17  rougher.input.feed_sol                      13522 non-null  float64\n",
      " 18  rougher.input.feed_au                       13522 non-null  float64\n",
      " 19  rougher.input.floatbank10_sulfate           13522 non-null  float64\n",
      " 20  rougher.input.floatbank10_xanthate          13522 non-null  float64\n",
      " 21  rougher.input.floatbank11_sulfate           13522 non-null  float64\n",
      " 22  rougher.input.floatbank11_xanthate          13522 non-null  float64\n",
      " 23  rougher.state.floatbank10_a_air             13522 non-null  float64\n",
      " 24  rougher.state.floatbank10_a_level           13522 non-null  float64\n",
      " 25  rougher.state.floatbank10_b_air             13522 non-null  float64\n",
      " 26  rougher.state.floatbank10_b_level           13522 non-null  float64\n",
      " 27  rougher.state.floatbank10_c_air             13522 non-null  float64\n",
      " 28  rougher.state.floatbank10_c_level           13522 non-null  float64\n",
      " 29  rougher.state.floatbank10_d_air             13522 non-null  float64\n",
      " 30  rougher.state.floatbank10_d_level           13522 non-null  float64\n",
      " 31  rougher.state.floatbank10_e_air             13522 non-null  float64\n",
      " 32  rougher.state.floatbank10_e_level           13522 non-null  float64\n",
      " 33  rougher.state.floatbank10_f_air             13522 non-null  float64\n",
      " 34  rougher.state.floatbank10_f_level           13522 non-null  float64\n",
      " 35  secondary_cleaner.state.floatbank2_a_air    13522 non-null  float64\n",
      " 36  secondary_cleaner.state.floatbank2_a_level  13522 non-null  float64\n",
      " 37  secondary_cleaner.state.floatbank2_b_air    13522 non-null  float64\n",
      " 38  secondary_cleaner.state.floatbank2_b_level  13522 non-null  float64\n",
      " 39  secondary_cleaner.state.floatbank3_a_air    13522 non-null  float64\n",
      " 40  secondary_cleaner.state.floatbank3_a_level  13522 non-null  float64\n",
      " 41  secondary_cleaner.state.floatbank3_b_air    13522 non-null  float64\n",
      " 42  secondary_cleaner.state.floatbank3_b_level  13522 non-null  float64\n",
      " 43  secondary_cleaner.state.floatbank4_a_air    13522 non-null  float64\n",
      " 44  secondary_cleaner.state.floatbank4_a_level  13522 non-null  float64\n",
      " 45  secondary_cleaner.state.floatbank4_b_air    13522 non-null  float64\n",
      " 46  secondary_cleaner.state.floatbank4_b_level  13522 non-null  float64\n",
      " 47  secondary_cleaner.state.floatbank5_a_air    13522 non-null  float64\n",
      " 48  secondary_cleaner.state.floatbank5_a_level  13522 non-null  float64\n",
      " 49  secondary_cleaner.state.floatbank5_b_air    13522 non-null  float64\n",
      " 50  secondary_cleaner.state.floatbank5_b_level  13522 non-null  float64\n",
      " 51  secondary_cleaner.state.floatbank6_a_air    13522 non-null  float64\n",
      " 52  secondary_cleaner.state.floatbank6_a_level  13522 non-null  float64\n",
      "dtypes: float64(52), object(1)\n",
      "memory usage: 5.6+ MB\n"
     ]
    },
    {
     "data": {
      "text/plain": [
       "None"
      ]
     },
     "metadata": {},
     "output_type": "display_data"
    }
   ],
   "source": [
    "display(train.dropna().info())"
   ]
  },
  {
   "cell_type": "code",
   "execution_count": 15,
   "metadata": {},
   "outputs": [
    {
     "name": "stdout",
     "output_type": "stream",
     "text": [
      "Процент пропусков в train: 19.798339264531435\n"
     ]
    }
   ],
   "source": [
    "print('Процент пропусков в train:', ((16860 - 13522)/16860)*100)"
   ]
  },
  {
   "cell_type": "markdown",
   "metadata": {},
   "source": [
    "Пропусков очень много. Придется их оставить. Так как модель с пропусками работать не умеет, то придется найти способ их заполнения. \n",
    "\n",
    "Так как в задании у нас говорится, что соседние строки схожи по значениям, заполним их именно так."
   ]
  },
  {
   "cell_type": "code",
   "execution_count": 16,
   "metadata": {},
   "outputs": [],
   "source": [
    "train = train.fillna(method='ffill')\n",
    "test = test.fillna(method='ffill')\n",
    "df = df.fillna(method='ffill')"
   ]
  },
  {
   "cell_type": "code",
   "execution_count": 17,
   "metadata": {},
   "outputs": [
    {
     "name": "stdout",
     "output_type": "stream",
     "text": [
      "<class 'pandas.core.frame.DataFrame'>\n",
      "RangeIndex: 16860 entries, 0 to 16859\n",
      "Data columns (total 53 columns):\n",
      " #   Column                                      Non-Null Count  Dtype  \n",
      "---  ------                                      --------------  -----  \n",
      " 0   date                                        16860 non-null  object \n",
      " 1   primary_cleaner.input.sulfate               16860 non-null  float64\n",
      " 2   primary_cleaner.input.depressant            16860 non-null  float64\n",
      " 3   primary_cleaner.input.feed_size             16860 non-null  float64\n",
      " 4   primary_cleaner.input.xanthate              16860 non-null  float64\n",
      " 5   primary_cleaner.state.floatbank8_a_air      16860 non-null  float64\n",
      " 6   primary_cleaner.state.floatbank8_a_level    16860 non-null  float64\n",
      " 7   primary_cleaner.state.floatbank8_b_air      16860 non-null  float64\n",
      " 8   primary_cleaner.state.floatbank8_b_level    16860 non-null  float64\n",
      " 9   primary_cleaner.state.floatbank8_c_air      16860 non-null  float64\n",
      " 10  primary_cleaner.state.floatbank8_c_level    16860 non-null  float64\n",
      " 11  primary_cleaner.state.floatbank8_d_air      16860 non-null  float64\n",
      " 12  primary_cleaner.state.floatbank8_d_level    16860 non-null  float64\n",
      " 13  rougher.input.feed_ag                       16860 non-null  float64\n",
      " 14  rougher.input.feed_pb                       16860 non-null  float64\n",
      " 15  rougher.input.feed_rate                     16860 non-null  float64\n",
      " 16  rougher.input.feed_size                     16860 non-null  float64\n",
      " 17  rougher.input.feed_sol                      16860 non-null  float64\n",
      " 18  rougher.input.feed_au                       16860 non-null  float64\n",
      " 19  rougher.input.floatbank10_sulfate           16860 non-null  float64\n",
      " 20  rougher.input.floatbank10_xanthate          16860 non-null  float64\n",
      " 21  rougher.input.floatbank11_sulfate           16860 non-null  float64\n",
      " 22  rougher.input.floatbank11_xanthate          16860 non-null  float64\n",
      " 23  rougher.state.floatbank10_a_air             16860 non-null  float64\n",
      " 24  rougher.state.floatbank10_a_level           16860 non-null  float64\n",
      " 25  rougher.state.floatbank10_b_air             16860 non-null  float64\n",
      " 26  rougher.state.floatbank10_b_level           16860 non-null  float64\n",
      " 27  rougher.state.floatbank10_c_air             16860 non-null  float64\n",
      " 28  rougher.state.floatbank10_c_level           16860 non-null  float64\n",
      " 29  rougher.state.floatbank10_d_air             16860 non-null  float64\n",
      " 30  rougher.state.floatbank10_d_level           16860 non-null  float64\n",
      " 31  rougher.state.floatbank10_e_air             16860 non-null  float64\n",
      " 32  rougher.state.floatbank10_e_level           16860 non-null  float64\n",
      " 33  rougher.state.floatbank10_f_air             16860 non-null  float64\n",
      " 34  rougher.state.floatbank10_f_level           16860 non-null  float64\n",
      " 35  secondary_cleaner.state.floatbank2_a_air    16860 non-null  float64\n",
      " 36  secondary_cleaner.state.floatbank2_a_level  16860 non-null  float64\n",
      " 37  secondary_cleaner.state.floatbank2_b_air    16860 non-null  float64\n",
      " 38  secondary_cleaner.state.floatbank2_b_level  16860 non-null  float64\n",
      " 39  secondary_cleaner.state.floatbank3_a_air    16860 non-null  float64\n",
      " 40  secondary_cleaner.state.floatbank3_a_level  16860 non-null  float64\n",
      " 41  secondary_cleaner.state.floatbank3_b_air    16860 non-null  float64\n",
      " 42  secondary_cleaner.state.floatbank3_b_level  16860 non-null  float64\n",
      " 43  secondary_cleaner.state.floatbank4_a_air    16860 non-null  float64\n",
      " 44  secondary_cleaner.state.floatbank4_a_level  16860 non-null  float64\n",
      " 45  secondary_cleaner.state.floatbank4_b_air    16860 non-null  float64\n",
      " 46  secondary_cleaner.state.floatbank4_b_level  16860 non-null  float64\n",
      " 47  secondary_cleaner.state.floatbank5_a_air    16860 non-null  float64\n",
      " 48  secondary_cleaner.state.floatbank5_a_level  16860 non-null  float64\n",
      " 49  secondary_cleaner.state.floatbank5_b_air    16860 non-null  float64\n",
      " 50  secondary_cleaner.state.floatbank5_b_level  16860 non-null  float64\n",
      " 51  secondary_cleaner.state.floatbank6_a_air    16860 non-null  float64\n",
      " 52  secondary_cleaner.state.floatbank6_a_level  16860 non-null  float64\n",
      "dtypes: float64(52), object(1)\n",
      "memory usage: 6.8+ MB\n"
     ]
    }
   ],
   "source": [
    "# Посмотрим на красивую табличку без пропусков\n",
    "train.info()"
   ]
  },
  {
   "cell_type": "markdown",
   "metadata": {},
   "source": [
    "## Анализ данных"
   ]
  },
  {
   "cell_type": "markdown",
   "metadata": {},
   "source": [
    "###  Посмотрите, как меняется концентрация металлов (Au, Ag, Pb) на различных этапах очистки. Опишите выводы."
   ]
  },
  {
   "cell_type": "markdown",
   "metadata": {},
   "source": [
    "#### Au"
   ]
  },
  {
   "cell_type": "code",
   "execution_count": 18,
   "metadata": {},
   "outputs": [
    {
     "data": {
      "text/plain": [
       "После флотаци              17.831509\n",
       "После первичной очистки    29.119967\n",
       "После вторичной очистки    39.891718\n",
       "dtype: float64"
      ]
     },
     "execution_count": 18,
     "metadata": {},
     "output_type": "execute_result"
    }
   ],
   "source": [
    "# Для удобства создадим таблицы для каждого металла и возьмем среднюю концентрацию. \n",
    "# Так как для последующего анализа нам понадобится сумма концентрата, разделим таблицы\n",
    "au = df[['rougher.output.concentrate_au','primary_cleaner.output.concentrate_au','final.output.concentrate_au']]\n",
    "au.columns = ['После флотаци', 'После первичной очистки', 'После вторичной очистки']\n",
    "au_mean = au.mean()\n",
    "au_mean"
   ]
  },
  {
   "cell_type": "markdown",
   "metadata": {},
   "source": [
    "#### Ag"
   ]
  },
  {
   "cell_type": "code",
   "execution_count": 19,
   "metadata": {},
   "outputs": [
    {
     "data": {
      "text/plain": [
       "После флотаци              10.845609\n",
       "После первичной очистки     7.666972\n",
       "После вторичной очистки     4.768013\n",
       "dtype: float64"
      ]
     },
     "execution_count": 19,
     "metadata": {},
     "output_type": "execute_result"
    }
   ],
   "source": [
    "ag = df[['rougher.output.concentrate_ag','primary_cleaner.output.concentrate_ag','final.output.concentrate_ag']]\n",
    "ag.columns = ['После флотаци', 'После первичной очистки', 'После вторичной очистки']\n",
    "ag_mean = ag.mean()\n",
    "ag_mean"
   ]
  },
  {
   "cell_type": "markdown",
   "metadata": {},
   "source": [
    "#### Pb"
   ]
  },
  {
   "cell_type": "code",
   "execution_count": 20,
   "metadata": {},
   "outputs": [
    {
     "data": {
      "text/plain": [
       "После флотаци              6.886869\n",
       "После первичной очистки    8.809217\n",
       "После вторичной очистки    9.071366\n",
       "dtype: float64"
      ]
     },
     "execution_count": 20,
     "metadata": {},
     "output_type": "execute_result"
    }
   ],
   "source": [
    "pb = df[['rougher.output.concentrate_pb','primary_cleaner.output.concentrate_pb','final.output.concentrate_pb']]\n",
    "pb.columns = ['После флотаци', 'После первичной очистки', 'После вторичной очистки']\n",
    "pb_mean = pb.mean()\n",
    "pb_mean"
   ]
  },
  {
   "cell_type": "markdown",
   "metadata": {},
   "source": [
    "#### График концентрации металлов на 3х этапах очистки"
   ]
  },
  {
   "cell_type": "code",
   "execution_count": 21,
   "metadata": {},
   "outputs": [
    {
     "data": {
      "image/png": "[encoded data removed]",
      "text/plain": [
       "<Figure size 720x432 with 1 Axes>"
      ]
     },
     "metadata": {
      "needs_background": "light"
     },
     "output_type": "display_data"
    }
   ],
   "source": [
    "fig = plt.figure(figsize=(10, 6))\n",
    "\n",
    "sns.lineplot(data=au_mean, label = 'Au')\n",
    "sns.lineplot(data=ag_mean, label = 'Ag')\n",
    "sns.lineplot(data=pb_mean, label = 'Pb')\n",
    "\n",
    "plt.title('Концентрация металлов на 3х этапах очистки', fontsize =20)\n",
    "plt.ylabel('Концентрации металлов')\n",
    "plt.show()"
   ]
  },
  {
   "cell_type": "markdown",
   "metadata": {},
   "source": [
    "Концентрация золота возрастает на каждом этапе. Оно и понятно, мы золото и пытаемся достать из руды. Серебро снижается, оно нам и не нужно. А вот почему свинец остается почти на том же уровне мне не понятно. По логике, его должно становиться меньше."
   ]
  },
  {
   "cell_type": "markdown",
   "metadata": {},
   "source": [
    "### Сравните распределения размеров гранул сырья на обучающей и тестовой выборках. Если распределения сильно отличаются друг от друга, оценка модели будет неправильной."
   ]
  },
  {
   "cell_type": "code",
   "execution_count": 22,
   "metadata": {},
   "outputs": [
    {
     "data": {
      "image/png": "[encoded data removed]",
      "text/plain": [
       "<Figure size 1080x504 with 1 Axes>"
      ]
     },
     "metadata": {
      "needs_background": "light"
     },
     "output_type": "display_data"
    }
   ],
   "source": [
    "plt.figure(figsize = (15,7))\n",
    "\n",
    "sns.distplot(train['primary_cleaner.input.feed_size'], bins=50, label='data_train')\n",
    "sns.distplot(test['primary_cleaner.input.feed_size'],  bins=50, label='data_test')\n",
    "\n",
    "plt.title('Распределение гранул сырья первичной очистки на обучающей и тестовой выборках')\n",
    "\n",
    "plt.legend()\n",
    "plt.show()"
   ]
  },
  {
   "cell_type": "code",
   "execution_count": 23,
   "metadata": {},
   "outputs": [
    {
     "data": {
      "image/png": "[encoded data removed]",
      "text/plain": [
       "<Figure size 1080x504 with 1 Axes>"
      ]
     },
     "metadata": {
      "needs_background": "light"
     },
     "output_type": "display_data"
    }
   ],
   "source": [
    "plt.figure(figsize = (15,7))\n",
    "\n",
    "sns.distplot(train['rougher.input.feed_size'], bins=50, label='data_train')\n",
    "sns.distplot(test['rougher.input.feed_size'],  bins=50, label='data_test')\n",
    "\n",
    "plt.title('Распределение гранул сырья в rougher на обучающей и тестовой выборках')\n",
    "\n",
    "plt.legend()\n",
    "plt.show()"
   ]
  },
  {
   "cell_type": "markdown",
   "metadata": {},
   "source": [
    "Распределение не сильно отличается на двух выборках. Модель должна сработать хорошо."
   ]
  },
  {
   "cell_type": "markdown",
   "metadata": {},
   "source": [
    "### Исследуйте суммарную концентрацию всех веществ на разных стадиях: в сырье, в черновом и финальном концентратах."
   ]
  },
  {
   "cell_type": "markdown",
   "metadata": {},
   "source": [
    "Создадим отдельные 3 столбца концентратов в основной таблице df. Их там и так полно, одним больше, одним меньше :)\n",
    "\n",
    "Для этого сложим output всех металлов на каждом этапе."
   ]
  },
  {
   "cell_type": "code",
   "execution_count": 24,
   "metadata": {},
   "outputs": [],
   "source": [
    "df['rougher.output.concentrate'] = (df['rougher.output.concentrate_ag']\n",
    "                                      + df['rougher.output.concentrate_pb']\n",
    "                                      + df['rougher.output.concentrate_sol']\n",
    "                                      + df['rougher.output.concentrate_au'])"
   ]
  },
  {
   "cell_type": "code",
   "execution_count": 25,
   "metadata": {},
   "outputs": [],
   "source": [
    "df['primary_cleaner.output.concentrate'] = (df['primary_cleaner.output.concentrate_ag']\n",
    "                                              + df['primary_cleaner.output.concentrate_pb']\n",
    "                                              + df['primary_cleaner.output.concentrate_sol']\n",
    "                                              + df['primary_cleaner.output.concentrate_au'])"
   ]
  },
  {
   "cell_type": "code",
   "execution_count": 26,
   "metadata": {},
   "outputs": [],
   "source": [
    "df['final.output.concentrate'] = (df['final.output.concentrate_ag']\n",
    "                                    + df['final.output.concentrate_pb']\n",
    "                                    + df['final.output.concentrate_sol']\n",
    "                                    + df['final.output.concentrate_au'])"
   ]
  },
  {
   "cell_type": "markdown",
   "metadata": {},
   "source": [
    "Построим график изменения концентратов."
   ]
  },
  {
   "cell_type": "code",
   "execution_count": 27,
   "metadata": {},
   "outputs": [
    {
     "data": {
      "image/png": "[encoded data removed]",
      "text/plain": [
       "<Figure size 1080x720 with 1 Axes>"
      ]
     },
     "metadata": {
      "needs_background": "light"
     },
     "output_type": "display_data"
    }
   ],
   "source": [
    "plt.figure(figsize = (15,10))\n",
    "\n",
    "sns.distplot(df['rougher.output.concentrate'], label=\"Черновая смесь\")\n",
    "sns.distplot(df['primary_cleaner.output.concentrate'], label=\"После очистки\")\n",
    "sns.distplot(df['final.output.concentrate'], label=\"Финальный концентрат\")\n",
    "\n",
    "plt.title('Концентрация всех веществ на 3х этапах')\n",
    "\n",
    "plt.legend()\n",
    "plt.show()"
   ]
  },
  {
   "cell_type": "markdown",
   "metadata": {},
   "source": [
    "Какой красивый график, если не смотреть на левую его часть! Определенно есть выбросы, от них нужно избавиться. Удалим все значения меньше 1."
   ]
  },
  {
   "cell_type": "code",
   "execution_count": 28,
   "metadata": {},
   "outputs": [],
   "source": [
    "df = df[(df['final.output.concentrate']>1) &\n",
    "        (df['primary_cleaner.output.concentrate']>1) &\n",
    "        (df['rougher.output.concentrate']>1)]"
   ]
  },
  {
   "cell_type": "markdown",
   "metadata": {},
   "source": [
    "Основные данные вычищены. Осталось сопоставить индексы и удалить то же самое из test и train."
   ]
  },
  {
   "cell_type": "code",
   "execution_count": 29,
   "metadata": {},
   "outputs": [
    {
     "data": {
      "text/plain": [
       "(5856, 53)"
      ]
     },
     "metadata": {},
     "output_type": "display_data"
    },
    {
     "data": {
      "text/plain": [
       "(16860, 53)"
      ]
     },
     "metadata": {},
     "output_type": "display_data"
    }
   ],
   "source": [
    "display(test.shape, train.shape)"
   ]
  },
  {
   "cell_type": "code",
   "execution_count": 30,
   "metadata": {},
   "outputs": [],
   "source": [
    "test = test[test.index.isin(df.index)]\n",
    "train = train[train.index.isin(df.index)]"
   ]
  },
  {
   "cell_type": "code",
   "execution_count": 31,
   "metadata": {},
   "outputs": [
    {
     "data": {
      "text/plain": [
       "(5148, 53)"
      ]
     },
     "metadata": {},
     "output_type": "display_data"
    },
    {
     "data": {
      "text/plain": [
       "(14943, 53)"
      ]
     },
     "metadata": {},
     "output_type": "display_data"
    }
   ],
   "source": [
    "display(test.shape, train.shape)"
   ]
  },
  {
   "cell_type": "markdown",
   "metadata": {},
   "source": [
    "Теперь таблицы очищены и готовы к обучению модели."
   ]
  },
  {
   "cell_type": "markdown",
   "metadata": {},
   "source": [
    "## Модель"
   ]
  },
  {
   "cell_type": "markdown",
   "metadata": {},
   "source": [
    "### Напишите функцию для вычисления итоговой sMAPE."
   ]
  },
  {
   "cell_type": "code",
   "execution_count": 32,
   "metadata": {},
   "outputs": [],
   "source": [
    "def smape(target, predictions):\n",
    "             #1           #7             #2               #5               #2                   #4   #6\n",
    "    smape = 1/len(target) * sum((abs(target - predictions)) / ((abs(target) + abs(predictions)) / 2) * 100)\n",
    "    return smape"
   ]
  },
  {
   "cell_type": "markdown",
   "metadata": {},
   "source": [
    "### Обучите разные модели и оцените их качество кросс-валидацией. Выберите лучшую модель и проверьте её на тестовой выборке. Опишите выводы."
   ]
  },
  {
   "cell_type": "markdown",
   "metadata": {},
   "source": [
    "Разобьем выборки на целевой признак и обучающие признаки. Уберем из обучающих признаков два столбца recovery."
   ]
  },
  {
   "cell_type": "code",
   "execution_count": 33,
   "metadata": {},
   "outputs": [],
   "source": [
    "target_train = df[df.index.isin(train.index)]\n",
    "target_train = target_train['rougher.output.recovery']\n",
    "features_train = train.drop(['date'], axis=1)\n",
    "\n",
    "target_test = df[df.index.isin(test.index)]\n",
    "target_test = target_test['rougher.output.recovery']\n",
    "features_test = test.drop(['date'], axis=1)"
   ]
  },
  {
   "cell_type": "markdown",
   "metadata": {},
   "source": [
    "В качестве двух моделей выберем случайный лес и линейную регрессию. Они мне больше нравятся :)"
   ]
  },
  {
   "cell_type": "markdown",
   "metadata": {},
   "source": [
    "#### Случайный лес"
   ]
  },
  {
   "cell_type": "code",
   "execution_count": 34,
   "metadata": {},
   "outputs": [],
   "source": [
    "# Подберем гиперпараметры для модели и сохраним их в переменных\n",
    "params_RandomForestRegressor = {'max_depth': range(1,11),'n_estimators': range(10, 80, 10)}"
   ]
  },
  {
   "cell_type": "code",
   "execution_count": 35,
   "metadata": {},
   "outputs": [],
   "source": [
    "score = make_scorer(smape)"
   ]
  },
  {
   "cell_type": "code",
   "execution_count": 36,
   "metadata": {},
   "outputs": [],
   "source": [
    "model_forest = RandomizedSearchCV(RandomForestRegressor(random_state=12345),\n",
    "                                  param_distributions=params_RandomForestRegressor,\n",
    "                                  cv=5,\n",
    "                                  scoring=score, \n",
    "                                  n_iter=30)"
   ]
  },
  {
   "cell_type": "code",
   "execution_count": 37,
   "metadata": {},
   "outputs": [
    {
     "data": {
      "text/plain": [
       "RandomizedSearchCV(cv=5, estimator=RandomForestRegressor(random_state=12345),\n",
       "                   n_iter=30,\n",
       "                   param_distributions={'max_depth': range(1, 11),\n",
       "                                        'n_estimators': range(10, 80, 10)},\n",
       "                   scoring=make_scorer(smape))"
      ]
     },
     "execution_count": 37,
     "metadata": {},
     "output_type": "execute_result"
    }
   ],
   "source": [
    "model_forest.fit(features_train, target_train) "
   ]
  },
  {
   "cell_type": "code",
   "execution_count": 38,
   "metadata": {},
   "outputs": [
    {
     "data": {
      "text/plain": [
       "{'n_estimators': 60, 'max_depth': 9}"
      ]
     },
     "execution_count": 38,
     "metadata": {},
     "output_type": "execute_result"
    }
   ],
   "source": [
    "model_forest.best_params_"
   ]
  },
  {
   "cell_type": "code",
   "execution_count": 39,
   "metadata": {},
   "outputs": [],
   "source": [
    "model_forest = RandomForestRegressor(random_state=12345, max_depth=9, n_estimators=50)"
   ]
  },
  {
   "cell_type": "code",
   "execution_count": 40,
   "metadata": {},
   "outputs": [
    {
     "data": {
      "text/plain": [
       "RandomForestRegressor(max_depth=9, n_estimators=50, random_state=12345)"
      ]
     },
     "execution_count": 40,
     "metadata": {},
     "output_type": "execute_result"
    }
   ],
   "source": [
    "model_forest.fit(features_train, target_train)"
   ]
  },
  {
   "cell_type": "code",
   "execution_count": 41,
   "metadata": {},
   "outputs": [],
   "source": [
    "result_forest = cross_val_score(model_forest, features_train, target_train, cv=5, scoring=score).mean()"
   ]
  },
  {
   "cell_type": "code",
   "execution_count": 42,
   "metadata": {},
   "outputs": [
    {
     "name": "stdout",
     "output_type": "stream",
     "text": [
      "Лучший результат для случайного леса: 10.67855719599886\n"
     ]
    }
   ],
   "source": [
    "print('Лучший результат для случайного леса:', result_forest)"
   ]
  },
  {
   "cell_type": "markdown",
   "metadata": {},
   "source": [
    "#### Линейная регрессия"
   ]
  },
  {
   "cell_type": "code",
   "execution_count": 43,
   "metadata": {},
   "outputs": [
    {
     "name": "stdout",
     "output_type": "stream",
     "text": [
      "Лучший результат для логистической регрессии: 8.360806635840913\n"
     ]
    }
   ],
   "source": [
    "model_regression = LinearRegression()\n",
    "model_regression.fit(features_train, target_train)\n",
    "result_regression = cross_val_score(model_regression, features_train, target_train, cv=5, scoring=score).mean()\n",
    "print('Лучший результат для логистической регрессии:', result_regression)"
   ]
  },
  {
   "cell_type": "markdown",
   "metadata": {},
   "source": [
    "#### Dummy Regressor"
   ]
  },
  {
   "cell_type": "code",
   "execution_count": 44,
   "metadata": {},
   "outputs": [
    {
     "name": "stdout",
     "output_type": "stream",
     "text": [
      "Лучший результат для дамми: 7.549201146868467\n"
     ]
    }
   ],
   "source": [
    "model_dummy = DummyRegressor(strategy='mean')\n",
    "model_dummy.fit(features_train, target_train)\n",
    "result_dummy = cross_val_score(model_dummy, features_train, target_train, cv=5, scoring=score).mean()\n",
    "print('Лучший результат для дамми:', result_dummy)"
   ]
  },
  {
   "cell_type": "markdown",
   "metadata": {},
   "source": [
    "Лучший образом себя показал Случайный лес. Выбираем его как нашу рабочую модель."
   ]
  },
  {
   "cell_type": "markdown",
   "metadata": {},
   "source": [
    "### Обучение лучшей модели и вычисление итоговой sMAPE"
   ]
  },
  {
   "cell_type": "markdown",
   "metadata": {},
   "source": [
    "Лучшей оказался случайный лес."
   ]
  },
  {
   "cell_type": "code",
   "execution_count": 45,
   "metadata": {
    "scrolled": true
   },
   "outputs": [
    {
     "data": {
      "text/plain": [
       "'По итогам выбраной модели лучший sMAPE ='"
      ]
     },
     "metadata": {},
     "output_type": "display_data"
    },
    {
     "data": {
      "text/plain": [
       "9.806601236540077"
      ]
     },
     "metadata": {},
     "output_type": "display_data"
    }
   ],
   "source": [
    "model_forest.fit(features_train, target_train)\n",
    "predictions = model_forest.predict(features_test)\n",
    "\n",
    "best_smape = smape(target_test, predictions)\n",
    "display('По итогам выбраной модели лучший sMAPE =', best_smape)"
   ]
  },
  {
   "cell_type": "markdown",
   "metadata": {},
   "source": [
    "## Вывод"
   ]
  },
  {
   "cell_type": "markdown",
   "metadata": {},
   "source": [
    "Проведена обработка и исследовательский анализ данных. Проведена оценка концентрации металлов. На основе данных, построены 3 модели и выбрана лучшая - случайный лес. Он оказался на порядок эффективнее, чем предсказание из срадних с помощью dummy regressor. Ей оказался случайный лес. Отныне можно предсказывать количество золота, которое можно получить из руды."
   ]
  }
 ],
 "metadata": {
  "ExecuteTimeLog": [
   {
    "duration": 1681,
    "start_time": "2022-03-31T10:17:54.046Z"
   },
   {
    "duration": 722,
    "start_time": "2022-03-31T10:18:32.106Z"
   },
   {
    "duration": 108,
    "start_time": "2022-03-31T10:19:11.750Z"
   },
   {
    "duration": 150,
    "start_time": "2022-03-31T10:20:13.083Z"
   },
   {
    "duration": 34,
    "start_time": "2022-03-31T10:20:18.631Z"
   },
   {
    "duration": 21,
    "start_time": "2022-03-31T13:45:15.604Z"
   },
   {
    "duration": 21,
    "start_time": "2022-03-31T13:46:52.551Z"
   },
   {
    "duration": 9,
    "start_time": "2022-03-31T13:47:13.173Z"
   },
   {
    "duration": 21,
    "start_time": "2022-03-31T13:47:22.872Z"
   },
   {
    "duration": 90,
    "start_time": "2022-03-31T13:48:28.214Z"
   },
   {
    "duration": 211,
    "start_time": "2022-03-31T13:48:41.200Z"
   },
   {
    "duration": 241,
    "start_time": "2022-03-31T13:52:40.218Z"
   },
   {
    "duration": 3,
    "start_time": "2022-03-31T13:52:59.400Z"
   },
   {
    "duration": 15,
    "start_time": "2022-03-31T14:00:15.804Z"
   },
   {
    "duration": 4,
    "start_time": "2022-03-31T14:04:05.141Z"
   },
   {
    "duration": 176,
    "start_time": "2022-03-31T14:07:31.048Z"
   },
   {
    "duration": 17,
    "start_time": "2022-03-31T14:07:41.606Z"
   },
   {
    "duration": 4,
    "start_time": "2022-03-31T14:07:50.645Z"
   },
   {
    "duration": 5,
    "start_time": "2022-03-31T14:07:55.856Z"
   },
   {
    "duration": 5,
    "start_time": "2022-03-31T14:08:24.521Z"
   },
   {
    "duration": 4,
    "start_time": "2022-03-31T14:10:03.252Z"
   },
   {
    "duration": 12,
    "start_time": "2022-03-31T14:18:44.373Z"
   },
   {
    "duration": 3,
    "start_time": "2022-03-31T14:19:03.582Z"
   },
   {
    "duration": 3,
    "start_time": "2022-03-31T14:23:43.844Z"
   },
   {
    "duration": 4,
    "start_time": "2022-03-31T14:24:34.458Z"
   },
   {
    "duration": 3,
    "start_time": "2022-03-31T14:24:51.518Z"
   },
   {
    "duration": 8,
    "start_time": "2022-03-31T14:35:29.195Z"
   },
   {
    "duration": 16,
    "start_time": "2022-03-31T14:35:56.675Z"
   },
   {
    "duration": 28,
    "start_time": "2022-03-31T14:38:39.184Z"
   },
   {
    "duration": 4,
    "start_time": "2022-03-31T14:39:47.146Z"
   },
   {
    "duration": 116,
    "start_time": "2022-03-31T14:40:21.640Z"
   },
   {
    "duration": 3,
    "start_time": "2022-03-31T14:40:26.308Z"
   },
   {
    "duration": 3,
    "start_time": "2022-03-31T14:40:53.319Z"
   },
   {
    "duration": 25,
    "start_time": "2022-03-31T14:47:34.192Z"
   },
   {
    "duration": 20,
    "start_time": "2022-03-31T14:48:04.030Z"
   },
   {
    "duration": 12,
    "start_time": "2022-03-31T16:06:31.778Z"
   },
   {
    "duration": 9,
    "start_time": "2022-03-31T16:07:46.952Z"
   },
   {
    "duration": 10,
    "start_time": "2022-03-31T16:08:56.353Z"
   },
   {
    "duration": 12,
    "start_time": "2022-03-31T16:10:08.408Z"
   },
   {
    "duration": 8,
    "start_time": "2022-03-31T16:10:18.095Z"
   },
   {
    "duration": 7,
    "start_time": "2022-03-31T16:11:20.315Z"
   },
   {
    "duration": 8,
    "start_time": "2022-03-31T16:12:30.453Z"
   },
   {
    "duration": 10,
    "start_time": "2022-03-31T16:13:33.718Z"
   },
   {
    "duration": 7007,
    "start_time": "2022-03-31T16:17:38.446Z"
   },
   {
    "duration": 235,
    "start_time": "2022-03-31T16:18:00.419Z"
   },
   {
    "duration": 260,
    "start_time": "2022-03-31T16:18:35.853Z"
   },
   {
    "duration": 702,
    "start_time": "2022-03-31T16:23:51.362Z"
   },
   {
    "duration": 630,
    "start_time": "2022-03-31T16:24:20.162Z"
   },
   {
    "duration": 678,
    "start_time": "2022-03-31T16:27:01.344Z"
   },
   {
    "duration": 583,
    "start_time": "2022-03-31T16:28:55.511Z"
   },
   {
    "duration": 6,
    "start_time": "2022-03-31T16:36:27.588Z"
   },
   {
    "duration": 6,
    "start_time": "2022-03-31T16:36:53.605Z"
   },
   {
    "duration": 5,
    "start_time": "2022-03-31T16:37:12.791Z"
   },
   {
    "duration": 2525,
    "start_time": "2022-03-31T16:40:27.139Z"
   },
   {
    "duration": 2509,
    "start_time": "2022-03-31T16:40:56.337Z"
   },
   {
    "duration": 6,
    "start_time": "2022-03-31T16:43:15.296Z"
   },
   {
    "duration": 5,
    "start_time": "2022-03-31T16:43:17.440Z"
   },
   {
    "duration": 4,
    "start_time": "2022-03-31T16:43:19.463Z"
   },
   {
    "duration": 1267,
    "start_time": "2022-03-31T16:43:24.604Z"
   },
   {
    "duration": 2031,
    "start_time": "2022-03-31T16:51:01.386Z"
   },
   {
    "duration": 115,
    "start_time": "2022-03-31T16:51:18.780Z"
   },
   {
    "duration": 9,
    "start_time": "2022-03-31T16:51:23.380Z"
   },
   {
    "duration": 9,
    "start_time": "2022-03-31T16:51:42.049Z"
   },
   {
    "duration": 4,
    "start_time": "2022-03-31T16:51:54.032Z"
   },
   {
    "duration": 1099,
    "start_time": "2022-03-31T16:52:00.952Z"
   },
   {
    "duration": 1432,
    "start_time": "2022-03-31T16:52:21.195Z"
   },
   {
    "duration": 739,
    "start_time": "2022-03-31T16:52:22.629Z"
   },
   {
    "duration": 40,
    "start_time": "2022-03-31T16:52:23.370Z"
   },
   {
    "duration": 38,
    "start_time": "2022-03-31T16:52:23.412Z"
   },
   {
    "duration": 230,
    "start_time": "2022-03-31T16:52:23.452Z"
   },
   {
    "duration": 13,
    "start_time": "2022-03-31T16:52:23.684Z"
   },
   {
    "duration": 3,
    "start_time": "2022-03-31T16:52:23.699Z"
   },
   {
    "duration": 196,
    "start_time": "2022-03-31T16:52:23.704Z"
   },
   {
    "duration": 5,
    "start_time": "2022-03-31T16:52:23.902Z"
   },
   {
    "duration": 11,
    "start_time": "2022-03-31T16:52:23.909Z"
   },
   {
    "duration": 14,
    "start_time": "2022-03-31T16:52:23.921Z"
   },
   {
    "duration": 15,
    "start_time": "2022-03-31T16:52:23.936Z"
   },
   {
    "duration": 18,
    "start_time": "2022-03-31T16:52:23.952Z"
   },
   {
    "duration": 21,
    "start_time": "2022-03-31T16:52:23.972Z"
   },
   {
    "duration": 4,
    "start_time": "2022-03-31T16:52:23.995Z"
   },
   {
    "duration": 50,
    "start_time": "2022-03-31T16:52:24.000Z"
   },
   {
    "duration": 14,
    "start_time": "2022-03-31T16:52:24.051Z"
   },
   {
    "duration": 8,
    "start_time": "2022-03-31T16:52:24.067Z"
   },
   {
    "duration": 12,
    "start_time": "2022-03-31T16:52:24.076Z"
   },
   {
    "duration": 12,
    "start_time": "2022-03-31T16:52:24.090Z"
   },
   {
    "duration": 224,
    "start_time": "2022-03-31T16:52:24.103Z"
   },
   {
    "duration": 560,
    "start_time": "2022-03-31T16:52:24.333Z"
   },
   {
    "duration": 585,
    "start_time": "2022-03-31T16:52:24.895Z"
   },
   {
    "duration": 5,
    "start_time": "2022-03-31T16:52:25.482Z"
   },
   {
    "duration": 10,
    "start_time": "2022-03-31T16:52:25.489Z"
   },
   {
    "duration": 9,
    "start_time": "2022-03-31T16:52:25.501Z"
   },
   {
    "duration": 1266,
    "start_time": "2022-03-31T16:52:25.512Z"
   },
   {
    "duration": 5,
    "start_time": "2022-03-31T16:53:02.097Z"
   },
   {
    "duration": 1124,
    "start_time": "2022-03-31T16:53:05.839Z"
   },
   {
    "duration": 1460,
    "start_time": "2022-03-31T16:53:22.932Z"
   },
   {
    "duration": 769,
    "start_time": "2022-03-31T16:53:24.394Z"
   },
   {
    "duration": 39,
    "start_time": "2022-03-31T16:53:25.165Z"
   },
   {
    "duration": 41,
    "start_time": "2022-03-31T16:53:25.206Z"
   },
   {
    "duration": 239,
    "start_time": "2022-03-31T16:53:25.249Z"
   },
   {
    "duration": 15,
    "start_time": "2022-03-31T16:53:25.490Z"
   },
   {
    "duration": 4,
    "start_time": "2022-03-31T16:53:25.506Z"
   },
   {
    "duration": 199,
    "start_time": "2022-03-31T16:53:25.511Z"
   },
   {
    "duration": 6,
    "start_time": "2022-03-31T16:53:25.712Z"
   },
   {
    "duration": 13,
    "start_time": "2022-03-31T16:53:25.721Z"
   },
   {
    "duration": 9,
    "start_time": "2022-03-31T16:53:25.736Z"
   },
   {
    "duration": 14,
    "start_time": "2022-03-31T16:53:25.746Z"
   },
   {
    "duration": 22,
    "start_time": "2022-03-31T16:53:25.762Z"
   },
   {
    "duration": 22,
    "start_time": "2022-03-31T16:53:25.785Z"
   },
   {
    "duration": 4,
    "start_time": "2022-03-31T16:53:25.832Z"
   },
   {
    "duration": 29,
    "start_time": "2022-03-31T16:53:25.838Z"
   },
   {
    "duration": 15,
    "start_time": "2022-03-31T16:53:25.868Z"
   },
   {
    "duration": 8,
    "start_time": "2022-03-31T16:53:25.884Z"
   },
   {
    "duration": 40,
    "start_time": "2022-03-31T16:53:25.894Z"
   },
   {
    "duration": 20,
    "start_time": "2022-03-31T16:53:25.936Z"
   },
   {
    "duration": 197,
    "start_time": "2022-03-31T16:53:25.958Z"
   },
   {
    "duration": 660,
    "start_time": "2022-03-31T16:53:26.157Z"
   },
   {
    "duration": 581,
    "start_time": "2022-03-31T16:53:26.818Z"
   },
   {
    "duration": 6,
    "start_time": "2022-03-31T16:53:27.402Z"
   },
   {
    "duration": 10,
    "start_time": "2022-03-31T16:53:27.410Z"
   },
   {
    "duration": 6,
    "start_time": "2022-03-31T16:53:27.434Z"
   },
   {
    "duration": 1353,
    "start_time": "2022-03-31T16:53:27.442Z"
   },
   {
    "duration": 166,
    "start_time": "2022-03-31T16:54:06.363Z"
   },
   {
    "duration": 1893,
    "start_time": "2022-03-31T16:55:20.021Z"
   },
   {
    "duration": 26,
    "start_time": "2022-03-31T16:56:01.594Z"
   },
   {
    "duration": 1411,
    "start_time": "2022-03-31T16:56:06.777Z"
   },
   {
    "duration": 1853,
    "start_time": "2022-03-31T16:56:30.010Z"
   },
   {
    "duration": 13,
    "start_time": "2022-03-31T16:58:12.359Z"
   },
   {
    "duration": 112,
    "start_time": "2022-03-31T16:58:53.261Z"
   },
   {
    "duration": 5,
    "start_time": "2022-03-31T17:01:56.921Z"
   },
   {
    "duration": 5,
    "start_time": "2022-03-31T17:02:34.870Z"
   },
   {
    "duration": 4,
    "start_time": "2022-03-31T17:02:40.660Z"
   },
   {
    "duration": 5,
    "start_time": "2022-03-31T17:03:12.128Z"
   },
   {
    "duration": 7,
    "start_time": "2022-03-31T17:03:32.679Z"
   },
   {
    "duration": 5,
    "start_time": "2022-03-31T17:03:39.637Z"
   },
   {
    "duration": 1670,
    "start_time": "2022-03-31T21:24:32.440Z"
   },
   {
    "duration": 1237,
    "start_time": "2022-03-31T21:24:34.113Z"
   },
   {
    "duration": 37,
    "start_time": "2022-03-31T21:24:35.352Z"
   },
   {
    "duration": 21,
    "start_time": "2022-03-31T21:24:35.392Z"
   },
   {
    "duration": 245,
    "start_time": "2022-03-31T21:24:35.414Z"
   },
   {
    "duration": 18,
    "start_time": "2022-03-31T21:24:35.663Z"
   },
   {
    "duration": 3,
    "start_time": "2022-03-31T21:24:35.682Z"
   },
   {
    "duration": 192,
    "start_time": "2022-03-31T21:24:35.687Z"
   },
   {
    "duration": 6,
    "start_time": "2022-03-31T21:24:35.881Z"
   },
   {
    "duration": 6,
    "start_time": "2022-03-31T21:24:35.890Z"
   },
   {
    "duration": 5,
    "start_time": "2022-03-31T21:24:35.897Z"
   },
   {
    "duration": 11,
    "start_time": "2022-03-31T21:24:35.903Z"
   },
   {
    "duration": 21,
    "start_time": "2022-03-31T21:24:35.916Z"
   },
   {
    "duration": 47,
    "start_time": "2022-03-31T21:24:35.939Z"
   },
   {
    "duration": 4,
    "start_time": "2022-03-31T21:24:35.987Z"
   },
   {
    "duration": 30,
    "start_time": "2022-03-31T21:24:35.992Z"
   },
   {
    "duration": 44,
    "start_time": "2022-03-31T21:24:36.024Z"
   },
   {
    "duration": 9,
    "start_time": "2022-03-31T21:24:36.070Z"
   },
   {
    "duration": 9,
    "start_time": "2022-03-31T21:24:36.081Z"
   },
   {
    "duration": 8,
    "start_time": "2022-03-31T21:24:36.091Z"
   },
   {
    "duration": 303,
    "start_time": "2022-03-31T21:24:36.101Z"
   },
   {
    "duration": 794,
    "start_time": "2022-03-31T21:24:36.406Z"
   },
   {
    "duration": 806,
    "start_time": "2022-03-31T21:24:37.202Z"
   },
   {
    "duration": 6,
    "start_time": "2022-03-31T21:24:38.010Z"
   },
   {
    "duration": 6,
    "start_time": "2022-03-31T21:24:38.018Z"
   },
   {
    "duration": 6,
    "start_time": "2022-03-31T21:24:38.026Z"
   },
   {
    "duration": 1468,
    "start_time": "2022-03-31T21:24:38.033Z"
   },
   {
    "duration": 28,
    "start_time": "2022-03-31T21:24:39.505Z"
   },
   {
    "duration": 6,
    "start_time": "2022-03-31T21:24:39.535Z"
   },
   {
    "duration": 28,
    "start_time": "2022-03-31T21:24:39.543Z"
   },
   {
    "duration": 17,
    "start_time": "2022-03-31T21:24:39.573Z"
   },
   {
    "duration": 3,
    "start_time": "2022-03-31T21:34:51.826Z"
   },
   {
    "duration": 9,
    "start_time": "2022-03-31T21:40:49.396Z"
   },
   {
    "duration": 2399,
    "start_time": "2022-03-31T21:49:34.425Z"
   },
   {
    "duration": 14,
    "start_time": "2022-03-31T21:50:34.481Z"
   },
   {
    "duration": 10,
    "start_time": "2022-03-31T21:56:22.451Z"
   },
   {
    "duration": 12,
    "start_time": "2022-03-31T21:56:30.260Z"
   },
   {
    "duration": 6,
    "start_time": "2022-03-31T21:56:36.738Z"
   },
   {
    "duration": 9,
    "start_time": "2022-03-31T21:57:33.547Z"
   },
   {
    "duration": 10,
    "start_time": "2022-03-31T21:57:36.652Z"
   },
   {
    "duration": 13,
    "start_time": "2022-03-31T21:57:38.578Z"
   },
   {
    "duration": 12,
    "start_time": "2022-03-31T21:58:38.845Z"
   },
   {
    "duration": 14,
    "start_time": "2022-03-31T21:58:40.954Z"
   },
   {
    "duration": 10,
    "start_time": "2022-03-31T21:59:17.608Z"
   },
   {
    "duration": 6,
    "start_time": "2022-03-31T21:59:31.329Z"
   },
   {
    "duration": 26,
    "start_time": "2022-03-31T22:00:56.871Z"
   },
   {
    "duration": 23,
    "start_time": "2022-03-31T22:01:17.036Z"
   },
   {
    "duration": 13,
    "start_time": "2022-03-31T22:01:28.688Z"
   },
   {
    "duration": 23,
    "start_time": "2022-03-31T22:01:30.906Z"
   },
   {
    "duration": 15,
    "start_time": "2022-03-31T22:01:38.702Z"
   },
   {
    "duration": 42,
    "start_time": "2022-03-31T22:08:43.679Z"
   },
   {
    "duration": 23,
    "start_time": "2022-03-31T22:18:10.906Z"
   },
   {
    "duration": 3,
    "start_time": "2022-03-31T22:19:01.589Z"
   },
   {
    "duration": 16,
    "start_time": "2022-03-31T22:19:05.574Z"
   },
   {
    "duration": 16,
    "start_time": "2022-03-31T22:19:15.693Z"
   },
   {
    "duration": 4,
    "start_time": "2022-03-31T22:19:38.332Z"
   },
   {
    "duration": 3,
    "start_time": "2022-03-31T22:19:38.418Z"
   },
   {
    "duration": 3,
    "start_time": "2022-03-31T22:23:42.307Z"
   },
   {
    "duration": 10,
    "start_time": "2022-03-31T22:24:36.003Z"
   },
   {
    "duration": 3,
    "start_time": "2022-03-31T22:25:16.110Z"
   },
   {
    "duration": 10,
    "start_time": "2022-03-31T22:25:31.175Z"
   },
   {
    "duration": 4,
    "start_time": "2022-03-31T22:25:40.122Z"
   },
   {
    "duration": 466,
    "start_time": "2022-03-31T22:25:54.534Z"
   },
   {
    "duration": 1401,
    "start_time": "2022-03-31T23:58:40.677Z"
   },
   {
    "duration": 708,
    "start_time": "2022-03-31T23:58:42.081Z"
   },
   {
    "duration": 36,
    "start_time": "2022-03-31T23:58:42.791Z"
   },
   {
    "duration": 38,
    "start_time": "2022-03-31T23:58:42.829Z"
   },
   {
    "duration": 221,
    "start_time": "2022-03-31T23:58:42.868Z"
   },
   {
    "duration": 14,
    "start_time": "2022-03-31T23:58:43.091Z"
   },
   {
    "duration": 3,
    "start_time": "2022-03-31T23:58:43.107Z"
   },
   {
    "duration": 185,
    "start_time": "2022-03-31T23:58:43.111Z"
   },
   {
    "duration": 5,
    "start_time": "2022-03-31T23:58:43.297Z"
   },
   {
    "duration": 5,
    "start_time": "2022-03-31T23:58:43.304Z"
   },
   {
    "duration": 6,
    "start_time": "2022-03-31T23:58:43.310Z"
   },
   {
    "duration": 10,
    "start_time": "2022-03-31T23:58:43.317Z"
   },
   {
    "duration": 36,
    "start_time": "2022-03-31T23:58:43.328Z"
   },
   {
    "duration": 20,
    "start_time": "2022-03-31T23:58:43.365Z"
   },
   {
    "duration": 3,
    "start_time": "2022-03-31T23:58:43.387Z"
   },
   {
    "duration": 26,
    "start_time": "2022-03-31T23:58:43.392Z"
   },
   {
    "duration": 13,
    "start_time": "2022-03-31T23:58:43.419Z"
   },
   {
    "duration": 34,
    "start_time": "2022-03-31T23:58:43.433Z"
   },
   {
    "duration": 8,
    "start_time": "2022-03-31T23:58:43.468Z"
   },
   {
    "duration": 6,
    "start_time": "2022-03-31T23:58:43.477Z"
   },
   {
    "duration": 191,
    "start_time": "2022-03-31T23:58:43.484Z"
   },
   {
    "duration": 616,
    "start_time": "2022-03-31T23:58:43.677Z"
   },
   {
    "duration": 594,
    "start_time": "2022-03-31T23:58:44.294Z"
   },
   {
    "duration": 5,
    "start_time": "2022-03-31T23:58:44.891Z"
   },
   {
    "duration": 6,
    "start_time": "2022-03-31T23:58:44.898Z"
   },
   {
    "duration": 6,
    "start_time": "2022-03-31T23:58:44.905Z"
   },
   {
    "duration": 1162,
    "start_time": "2022-03-31T23:58:44.912Z"
   },
   {
    "duration": 27,
    "start_time": "2022-03-31T23:58:46.077Z"
   },
   {
    "duration": 5,
    "start_time": "2022-03-31T23:58:46.106Z"
   },
   {
    "duration": 9,
    "start_time": "2022-03-31T23:58:46.112Z"
   },
   {
    "duration": 5,
    "start_time": "2022-03-31T23:58:46.123Z"
   },
   {
    "duration": 33,
    "start_time": "2022-03-31T23:58:46.130Z"
   },
   {
    "duration": 19,
    "start_time": "2022-03-31T23:58:46.165Z"
   },
   {
    "duration": 3,
    "start_time": "2022-03-31T23:58:46.185Z"
   },
   {
    "duration": 1483,
    "start_time": "2022-04-01T00:16:24.856Z"
   },
   {
    "duration": 749,
    "start_time": "2022-04-01T00:16:26.341Z"
   },
   {
    "duration": 35,
    "start_time": "2022-04-01T00:16:27.092Z"
   },
   {
    "duration": 35,
    "start_time": "2022-04-01T00:16:27.129Z"
   },
   {
    "duration": 216,
    "start_time": "2022-04-01T00:16:27.166Z"
   },
   {
    "duration": 16,
    "start_time": "2022-04-01T00:16:27.383Z"
   },
   {
    "duration": 3,
    "start_time": "2022-04-01T00:16:27.401Z"
   },
   {
    "duration": 186,
    "start_time": "2022-04-01T00:16:27.405Z"
   },
   {
    "duration": 6,
    "start_time": "2022-04-01T00:16:27.593Z"
   },
   {
    "duration": 8,
    "start_time": "2022-04-01T00:16:27.602Z"
   },
   {
    "duration": 5,
    "start_time": "2022-04-01T00:16:27.611Z"
   },
   {
    "duration": 10,
    "start_time": "2022-04-01T00:16:27.618Z"
   },
   {
    "duration": 43,
    "start_time": "2022-04-01T00:16:27.629Z"
   },
   {
    "duration": 20,
    "start_time": "2022-04-01T00:16:27.673Z"
   },
   {
    "duration": 4,
    "start_time": "2022-04-01T00:16:27.694Z"
   },
   {
    "duration": 28,
    "start_time": "2022-04-01T00:16:27.699Z"
   },
   {
    "duration": 38,
    "start_time": "2022-04-01T00:16:27.728Z"
   },
   {
    "duration": 8,
    "start_time": "2022-04-01T00:16:27.767Z"
   },
   {
    "duration": 6,
    "start_time": "2022-04-01T00:16:27.776Z"
   },
   {
    "duration": 8,
    "start_time": "2022-04-01T00:16:27.784Z"
   },
   {
    "duration": 194,
    "start_time": "2022-04-01T00:16:27.793Z"
   },
   {
    "duration": 608,
    "start_time": "2022-04-01T00:16:27.989Z"
   },
   {
    "duration": 697,
    "start_time": "2022-04-01T00:16:28.599Z"
   },
   {
    "duration": 5,
    "start_time": "2022-04-01T00:16:29.298Z"
   },
   {
    "duration": 9,
    "start_time": "2022-04-01T00:16:29.304Z"
   },
   {
    "duration": 6,
    "start_time": "2022-04-01T00:16:29.314Z"
   },
   {
    "duration": 1169,
    "start_time": "2022-04-01T00:16:29.322Z"
   },
   {
    "duration": 28,
    "start_time": "2022-04-01T00:16:30.494Z"
   },
   {
    "duration": 5,
    "start_time": "2022-04-01T00:16:30.524Z"
   },
   {
    "duration": 22,
    "start_time": "2022-04-01T00:16:30.530Z"
   },
   {
    "duration": 14,
    "start_time": "2022-04-01T00:16:30.554Z"
   },
   {
    "duration": 20,
    "start_time": "2022-04-01T00:16:30.569Z"
   },
   {
    "duration": 37,
    "start_time": "2022-04-01T00:16:30.590Z"
   },
   {
    "duration": 3,
    "start_time": "2022-04-01T00:16:30.629Z"
   },
   {
    "duration": 381868,
    "start_time": "2022-04-01T00:16:30.633Z"
   },
   {
    "duration": 3,
    "start_time": "2022-04-01T00:22:52.503Z"
   },
   {
    "duration": 1455,
    "start_time": "2022-04-01T00:22:52.508Z"
   },
   {
    "duration": 163,
    "start_time": "2022-04-01T00:22:53.966Z"
   },
   {
    "duration": 100,
    "start_time": "2022-04-01T00:35:51.744Z"
   },
   {
    "duration": 4,
    "start_time": "2022-04-01T00:37:25.486Z"
   },
   {
    "duration": 3,
    "start_time": "2022-04-01T00:37:30.917Z"
   },
   {
    "duration": 2,
    "start_time": "2022-04-01T00:38:30.920Z"
   },
   {
    "duration": 101097,
    "start_time": "2022-04-01T00:38:43.222Z"
   },
   {
    "duration": 0,
    "start_time": "2022-04-01T00:40:24.320Z"
   },
   {
    "duration": 1123,
    "start_time": "2022-04-01T00:40:31.243Z"
   },
   {
    "duration": 185186,
    "start_time": "2022-04-01T00:41:05.643Z"
   },
   {
    "duration": 3,
    "start_time": "2022-04-01T00:44:10.831Z"
   },
   {
    "duration": 9,
    "start_time": "2022-04-01T00:46:34.634Z"
   },
   {
    "duration": 2103,
    "start_time": "2022-04-01T16:27:31.318Z"
   },
   {
    "duration": 5,
    "start_time": "2022-04-01T16:28:07.397Z"
   },
   {
    "duration": 5,
    "start_time": "2022-04-01T16:28:18.082Z"
   },
   {
    "duration": 742,
    "start_time": "2022-04-01T16:28:18.089Z"
   },
   {
    "duration": 41,
    "start_time": "2022-04-01T16:28:18.833Z"
   },
   {
    "duration": 43,
    "start_time": "2022-04-01T16:28:18.876Z"
   },
   {
    "duration": 239,
    "start_time": "2022-04-01T16:28:18.921Z"
   },
   {
    "duration": 15,
    "start_time": "2022-04-01T16:28:19.161Z"
   },
   {
    "duration": 4,
    "start_time": "2022-04-01T16:28:19.178Z"
   },
   {
    "duration": 220,
    "start_time": "2022-04-01T16:28:19.183Z"
   },
   {
    "duration": 5,
    "start_time": "2022-04-01T16:28:56.982Z"
   },
   {
    "duration": 5,
    "start_time": "2022-04-01T16:29:16.558Z"
   },
   {
    "duration": 1625,
    "start_time": "2022-04-01T16:29:29.633Z"
   },
   {
    "duration": 767,
    "start_time": "2022-04-01T16:29:31.260Z"
   },
   {
    "duration": 46,
    "start_time": "2022-04-01T16:29:32.029Z"
   },
   {
    "duration": 43,
    "start_time": "2022-04-01T16:29:32.077Z"
   },
   {
    "duration": 269,
    "start_time": "2022-04-01T16:29:32.122Z"
   },
   {
    "duration": 23,
    "start_time": "2022-04-01T16:29:32.393Z"
   },
   {
    "duration": 4,
    "start_time": "2022-04-01T16:29:32.419Z"
   },
   {
    "duration": 203,
    "start_time": "2022-04-01T16:29:32.425Z"
   },
   {
    "duration": 7,
    "start_time": "2022-04-01T16:29:32.630Z"
   },
   {
    "duration": 13,
    "start_time": "2022-04-01T16:29:32.641Z"
   },
   {
    "duration": 15,
    "start_time": "2022-04-01T16:29:32.656Z"
   },
   {
    "duration": 28,
    "start_time": "2022-04-01T16:29:32.673Z"
   },
   {
    "duration": 18,
    "start_time": "2022-04-01T16:29:32.703Z"
   },
   {
    "duration": 23,
    "start_time": "2022-04-01T16:29:32.723Z"
   },
   {
    "duration": 3,
    "start_time": "2022-04-01T16:29:32.748Z"
   },
   {
    "duration": 56,
    "start_time": "2022-04-01T16:29:32.753Z"
   },
   {
    "duration": 15,
    "start_time": "2022-04-01T16:29:32.812Z"
   },
   {
    "duration": 9,
    "start_time": "2022-04-01T16:29:32.828Z"
   },
   {
    "duration": 13,
    "start_time": "2022-04-01T16:29:32.839Z"
   },
   {
    "duration": 11,
    "start_time": "2022-04-01T16:29:32.854Z"
   },
   {
    "duration": 266,
    "start_time": "2022-04-01T16:29:32.867Z"
   },
   {
    "duration": 671,
    "start_time": "2022-04-01T16:29:33.135Z"
   },
   {
    "duration": 707,
    "start_time": "2022-04-01T16:29:37.460Z"
   },
   {
    "duration": 5,
    "start_time": "2022-04-01T16:29:48.558Z"
   },
   {
    "duration": 5,
    "start_time": "2022-04-01T16:29:48.895Z"
   },
   {
    "duration": 6,
    "start_time": "2022-04-01T16:29:49.142Z"
   },
   {
    "duration": 1189,
    "start_time": "2022-04-01T16:29:50.071Z"
   },
   {
    "duration": 27,
    "start_time": "2022-04-01T16:29:52.017Z"
   },
   {
    "duration": 5,
    "start_time": "2022-04-01T16:29:53.050Z"
   },
   {
    "duration": 8,
    "start_time": "2022-04-01T16:29:54.961Z"
   },
   {
    "duration": 5,
    "start_time": "2022-04-01T16:29:55.602Z"
   },
   {
    "duration": 4,
    "start_time": "2022-04-01T16:29:59.653Z"
   },
   {
    "duration": 18,
    "start_time": "2022-04-01T16:30:06.709Z"
   },
   {
    "duration": 3,
    "start_time": "2022-04-01T16:30:29.621Z"
   },
   {
    "duration": 3,
    "start_time": "2022-04-01T16:30:30.246Z"
   },
   {
    "duration": 220352,
    "start_time": "2022-04-01T16:32:36.206Z"
   },
   {
    "duration": 2,
    "start_time": "2022-04-01T16:42:43.341Z"
   },
   {
    "duration": 3,
    "start_time": "2022-04-01T16:42:45.690Z"
   },
   {
    "duration": 113,
    "start_time": "2022-04-01T16:44:01.851Z"
   },
   {
    "duration": 4,
    "start_time": "2022-04-01T16:44:28.866Z"
   },
   {
    "duration": 10,
    "start_time": "2022-04-01T16:44:36.246Z"
   },
   {
    "duration": 3,
    "start_time": "2022-04-01T16:44:43.213Z"
   },
   {
    "duration": 11,
    "start_time": "2022-04-01T16:45:40.458Z"
   },
   {
    "duration": 10,
    "start_time": "2022-04-01T16:45:43.704Z"
   },
   {
    "duration": 5,
    "start_time": "2022-04-01T16:46:10.678Z"
   },
   {
    "duration": 9,
    "start_time": "2022-04-01T16:46:14.357Z"
   },
   {
    "duration": 5,
    "start_time": "2022-04-01T16:48:19.814Z"
   },
   {
    "duration": 11,
    "start_time": "2022-04-01T16:48:23.945Z"
   },
   {
    "duration": 10,
    "start_time": "2022-04-01T16:48:25.984Z"
   },
   {
    "duration": 1488942,
    "start_time": "2022-04-01T16:49:20.551Z"
   },
   {
    "duration": 10,
    "start_time": "2022-04-01T17:20:41.931Z"
   },
   {
    "duration": 4,
    "start_time": "2022-04-01T17:20:45.647Z"
   },
   {
    "duration": 3,
    "start_time": "2022-04-01T17:22:43.601Z"
   },
   {
    "duration": 3559,
    "start_time": "2022-04-01T17:23:03.353Z"
   },
   {
    "duration": 10,
    "start_time": "2022-04-01T17:24:06.317Z"
   },
   {
    "duration": 24646,
    "start_time": "2022-04-01T17:24:13.128Z"
   },
   {
    "duration": 4,
    "start_time": "2022-04-01T17:24:46.770Z"
   },
   {
    "duration": 1697,
    "start_time": "2022-04-01T17:24:52.505Z"
   },
   {
    "duration": 14,
    "start_time": "2022-04-01T17:25:12.239Z"
   },
   {
    "duration": 19379,
    "start_time": "2022-04-01T17:26:24.781Z"
   },
   {
    "duration": 93,
    "start_time": "2022-04-01T18:07:04.552Z"
   },
   {
    "duration": 1752,
    "start_time": "2022-04-01T20:53:45.036Z"
   },
   {
    "duration": 4,
    "start_time": "2022-04-01T20:54:08.516Z"
   },
   {
    "duration": 1188,
    "start_time": "2022-04-01T20:54:08.522Z"
   },
   {
    "duration": 37,
    "start_time": "2022-04-01T20:54:09.713Z"
   },
   {
    "duration": 28,
    "start_time": "2022-04-01T20:54:09.752Z"
   },
   {
    "duration": 219,
    "start_time": "2022-04-01T20:54:09.782Z"
   },
   {
    "duration": 16,
    "start_time": "2022-04-01T20:54:10.003Z"
   },
   {
    "duration": 3,
    "start_time": "2022-04-01T20:54:10.021Z"
   },
   {
    "duration": 185,
    "start_time": "2022-04-01T20:54:10.026Z"
   },
   {
    "duration": 5,
    "start_time": "2022-04-01T20:54:10.212Z"
   },
   {
    "duration": 6,
    "start_time": "2022-04-01T20:54:10.218Z"
   },
   {
    "duration": 4,
    "start_time": "2022-04-01T20:54:10.227Z"
   },
   {
    "duration": 14,
    "start_time": "2022-04-01T20:54:10.232Z"
   },
   {
    "duration": 13,
    "start_time": "2022-04-01T20:54:10.263Z"
   },
   {
    "duration": 18,
    "start_time": "2022-04-01T20:54:10.277Z"
   },
   {
    "duration": 3,
    "start_time": "2022-04-01T20:54:10.296Z"
   },
   {
    "duration": 24,
    "start_time": "2022-04-01T20:54:10.300Z"
   },
   {
    "duration": 37,
    "start_time": "2022-04-01T20:54:10.326Z"
   },
   {
    "duration": 7,
    "start_time": "2022-04-01T20:54:10.365Z"
   },
   {
    "duration": 9,
    "start_time": "2022-04-01T20:54:10.374Z"
   },
   {
    "duration": 6,
    "start_time": "2022-04-01T20:54:10.385Z"
   },
   {
    "duration": 198,
    "start_time": "2022-04-01T20:54:10.393Z"
   },
   {
    "duration": 603,
    "start_time": "2022-04-01T20:54:10.593Z"
   },
   {
    "duration": 679,
    "start_time": "2022-04-01T20:54:11.197Z"
   },
   {
    "duration": 5,
    "start_time": "2022-04-01T20:54:11.878Z"
   },
   {
    "duration": 7,
    "start_time": "2022-04-01T20:54:11.884Z"
   },
   {
    "duration": 5,
    "start_time": "2022-04-01T20:54:11.893Z"
   },
   {
    "duration": 1176,
    "start_time": "2022-04-01T20:54:11.899Z"
   },
   {
    "duration": 27,
    "start_time": "2022-04-01T20:54:13.077Z"
   },
   {
    "duration": 4,
    "start_time": "2022-04-01T20:54:13.107Z"
   },
   {
    "duration": 10,
    "start_time": "2022-04-01T20:54:13.113Z"
   },
   {
    "duration": 5,
    "start_time": "2022-04-01T20:54:13.124Z"
   },
   {
    "duration": 5,
    "start_time": "2022-04-01T20:54:13.131Z"
   },
   {
    "duration": 38,
    "start_time": "2022-04-01T20:54:13.137Z"
   },
   {
    "duration": 3,
    "start_time": "2022-04-01T20:54:13.176Z"
   },
   {
    "duration": 4,
    "start_time": "2022-04-01T20:54:13.180Z"
   },
   {
    "duration": 5,
    "start_time": "2022-04-01T20:54:13.186Z"
   },
   {
    "duration": 997660,
    "start_time": "2022-04-01T20:54:13.192Z"
   },
   {
    "duration": 10,
    "start_time": "2022-04-01T21:10:50.854Z"
   },
   {
    "duration": 6,
    "start_time": "2022-04-01T21:10:50.866Z"
   },
   {
    "duration": 110,
    "start_time": "2022-04-01T21:10:50.874Z"
   },
   {
    "duration": 0,
    "start_time": "2022-04-01T21:10:50.986Z"
   },
   {
    "duration": 0,
    "start_time": "2022-04-01T21:10:50.987Z"
   },
   {
    "duration": 0,
    "start_time": "2022-04-01T21:10:50.988Z"
   },
   {
    "duration": 0,
    "start_time": "2022-04-01T21:10:50.989Z"
   },
   {
    "duration": 17483,
    "start_time": "2022-04-01T21:23:39.629Z"
   },
   {
    "duration": 22075,
    "start_time": "2022-04-01T21:23:57.114Z"
   },
   {
    "duration": 4,
    "start_time": "2022-04-01T21:24:19.190Z"
   },
   {
    "duration": 768,
    "start_time": "2022-04-01T21:24:19.196Z"
   },
   {
    "duration": 111,
    "start_time": "2022-04-01T21:24:19.966Z"
   },
   {
    "duration": 20,
    "start_time": "2022-04-01T21:24:36.479Z"
   },
   {
    "duration": 144,
    "start_time": "2022-04-01T21:25:26.457Z"
   },
   {
    "duration": 17638,
    "start_time": "2022-04-01T21:25:40.864Z"
   },
   {
    "duration": 2307,
    "start_time": "2022-04-02T16:31:26.771Z"
   },
   {
    "duration": 1253,
    "start_time": "2022-04-02T16:31:29.081Z"
   },
   {
    "duration": 97,
    "start_time": "2022-04-02T16:31:30.337Z"
   },
   {
    "duration": 57,
    "start_time": "2022-04-02T16:31:30.438Z"
   },
   {
    "duration": 511,
    "start_time": "2022-04-02T16:31:30.498Z"
   },
   {
    "duration": 25,
    "start_time": "2022-04-02T16:31:31.011Z"
   },
   {
    "duration": 6,
    "start_time": "2022-04-02T16:31:31.039Z"
   },
   {
    "duration": 505,
    "start_time": "2022-04-02T16:31:31.067Z"
   },
   {
    "duration": 8,
    "start_time": "2022-04-02T16:31:31.575Z"
   },
   {
    "duration": 25,
    "start_time": "2022-04-02T16:31:31.589Z"
   },
   {
    "duration": 23,
    "start_time": "2022-04-02T16:31:31.617Z"
   },
   {
    "duration": 17,
    "start_time": "2022-04-02T16:31:31.643Z"
   },
   {
    "duration": 48,
    "start_time": "2022-04-02T16:31:31.667Z"
   },
   {
    "duration": 33,
    "start_time": "2022-04-02T16:31:31.718Z"
   },
   {
    "duration": 16,
    "start_time": "2022-04-02T16:31:31.754Z"
   },
   {
    "duration": 38,
    "start_time": "2022-04-02T16:31:31.772Z"
   },
   {
    "duration": 20,
    "start_time": "2022-04-02T16:31:31.813Z"
   },
   {
    "duration": 35,
    "start_time": "2022-04-02T16:31:31.836Z"
   },
   {
    "duration": 26,
    "start_time": "2022-04-02T16:31:31.873Z"
   },
   {
    "duration": 21,
    "start_time": "2022-04-02T16:31:31.901Z"
   },
   {
    "duration": 477,
    "start_time": "2022-04-02T16:31:31.925Z"
   },
   {
    "duration": 1254,
    "start_time": "2022-04-02T16:31:32.405Z"
   },
   {
    "duration": 1269,
    "start_time": "2022-04-02T16:31:33.661Z"
   },
   {
    "duration": 8,
    "start_time": "2022-04-02T16:31:34.933Z"
   },
   {
    "duration": 24,
    "start_time": "2022-04-02T16:31:34.943Z"
   },
   {
    "duration": 6,
    "start_time": "2022-04-02T16:31:34.969Z"
   },
   {
    "duration": 1694,
    "start_time": "2022-04-02T16:31:34.977Z"
   },
   {
    "duration": 39,
    "start_time": "2022-04-02T16:31:36.676Z"
   },
   {
    "duration": 9,
    "start_time": "2022-04-02T16:31:36.717Z"
   },
   {
    "duration": 44,
    "start_time": "2022-04-02T16:31:36.729Z"
   },
   {
    "duration": 7,
    "start_time": "2022-04-02T16:31:36.776Z"
   },
   {
    "duration": 5,
    "start_time": "2022-04-02T16:31:36.786Z"
   },
   {
    "duration": 23,
    "start_time": "2022-04-02T16:31:36.794Z"
   },
   {
    "duration": 5,
    "start_time": "2022-04-02T16:31:36.820Z"
   },
   {
    "duration": 47,
    "start_time": "2022-04-02T16:31:36.827Z"
   },
   {
    "duration": 6,
    "start_time": "2022-04-02T16:31:36.876Z"
   },
   {
    "duration": 1517962,
    "start_time": "2022-04-02T16:31:36.884Z"
   },
   {
    "duration": 4,
    "start_time": "2022-04-02T16:56:54.849Z"
   },
   {
    "duration": 14,
    "start_time": "2022-04-02T16:56:54.855Z"
   },
   {
    "duration": 23548,
    "start_time": "2022-04-02T16:56:54.871Z"
   },
   {
    "duration": 88602,
    "start_time": "2022-04-02T17:14:17.933Z"
   },
   {
    "duration": 5,
    "start_time": "2022-04-02T17:15:46.538Z"
   },
   {
    "duration": 2129,
    "start_time": "2022-04-02T17:15:46.545Z"
   },
   {
    "duration": 122,
    "start_time": "2022-04-02T17:15:48.677Z"
   },
   {
    "duration": 23800,
    "start_time": "2022-04-02T17:16:00.140Z"
   }
  ],
  "kernelspec": {
   "display_name": "Python 3 (ipykernel)",
   "language": "python",
   "name": "python3"
  },
  "language_info": {
   "codemirror_mode": {
    "name": "ipython",
    "version": 3
   },
   "file_extension": ".py",
   "mimetype": "text/x-python",
   "name": "python",
   "nbconvert_exporter": "python",
   "pygments_lexer": "ipython3",
   "version": "3.9.12"
  },
  "toc": {
   "base_numbering": 1,
   "nav_menu": {},
   "number_sections": true,
   "sideBar": true,
   "skip_h1_title": true,
   "title_cell": "Содержание",
   "title_sidebar": "Contents",
   "toc_cell": true,
   "toc_position": {
    "height": "calc(100% - 180px)",
    "left": "10px",
    "top": "150px",
    "width": "411.792px"
   },
   "toc_section_display": true,
   "toc_window_display": true
  }
 },
 "nbformat": 4,
 "nbformat_minor": 2
}
