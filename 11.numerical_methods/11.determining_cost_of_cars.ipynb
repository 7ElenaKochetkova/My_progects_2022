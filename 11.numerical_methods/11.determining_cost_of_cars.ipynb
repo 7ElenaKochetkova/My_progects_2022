{
 "cells": [
  {
   "cell_type": "markdown",
   "metadata": {},
   "source": [
    "## Предобработка данных"
   ]
  },
  {
   "cell_type": "code",
   "execution_count": 85,
   "metadata": {},
   "outputs": [],
   "source": [
    "# Библиотеки\n",
    "\n",
    "import pandas as pd\n",
    "import seaborn as sns\n",
    "import numpy as np\n",
    "import matplotlib.pyplot as plt\n",
    "\n",
    "pd.options.mode.chained_assignment = None\n",
    "from sklearn.preprocessing import StandardScaler \n",
    "\n",
    "from sklearn.preprocessing import OrdinalEncoder\n",
    "\n",
    "from sklearn.metrics import mean_squared_error as MSE\n",
    "\n",
    "from sklearn.linear_model import LinearRegression\n",
    "import lightgbm as lgb\n",
    "\n",
    "from sklearn.model_selection import train_test_split\n",
    "\n",
    "from sklearn.metrics import make_scorer\n",
    "from sklearn.model_selection import GridSearchCV\n",
    "\n",
    "import time\n",
    "from datetime import datetime\n",
    "import warnings\n",
    "warnings.simplefilter(action='ignore', category=FutureWarning)\n",
    "warnings.filterwarnings(\"ignore\")"
   ]
  },
  {
   "cell_type": "code",
   "execution_count": 2,
   "metadata": {},
   "outputs": [],
   "source": [
    "df = pd.read_csv('/datasets/autos.csv')"
   ]
  },
  {
   "cell_type": "code",
   "execution_count": 3,
   "metadata": {},
   "outputs": [
    {
     "data": {
      "text/html": [
       "<div>\n",
       "<style scoped>\n",
       "    .dataframe tbody tr th:only-of-type {\n",
       "        vertical-align: middle;\n",
       "    }\n",
       "\n",
       "    .dataframe tbody tr th {\n",
       "        vertical-align: top;\n",
       "    }\n",
       "\n",
       "    .dataframe thead th {\n",
       "        text-align: right;\n",
       "    }\n",
       "</style>\n",
       "<table border=\"1\" class=\"dataframe\">\n",
       "  <thead>\n",
       "    <tr style=\"text-align: right;\">\n",
       "      <th></th>\n",
       "      <th>DateCrawled</th>\n",
       "      <th>Price</th>\n",
       "      <th>VehicleType</th>\n",
       "      <th>RegistrationYear</th>\n",
       "      <th>Gearbox</th>\n",
       "      <th>Power</th>\n",
       "      <th>Model</th>\n",
       "      <th>Kilometer</th>\n",
       "      <th>RegistrationMonth</th>\n",
       "      <th>FuelType</th>\n",
       "      <th>Brand</th>\n",
       "      <th>NotRepaired</th>\n",
       "      <th>DateCreated</th>\n",
       "      <th>NumberOfPictures</th>\n",
       "      <th>PostalCode</th>\n",
       "      <th>LastSeen</th>\n",
       "    </tr>\n",
       "  </thead>\n",
       "  <tbody>\n",
       "    <tr>\n",
       "      <th>0</th>\n",
       "      <td>2016-03-24 11:52:17</td>\n",
       "      <td>480</td>\n",
       "      <td>NaN</td>\n",
       "      <td>1993</td>\n",
       "      <td>manual</td>\n",
       "      <td>0</td>\n",
       "      <td>golf</td>\n",
       "      <td>150000</td>\n",
       "      <td>0</td>\n",
       "      <td>petrol</td>\n",
       "      <td>volkswagen</td>\n",
       "      <td>NaN</td>\n",
       "      <td>2016-03-24 00:00:00</td>\n",
       "      <td>0</td>\n",
       "      <td>70435</td>\n",
       "      <td>2016-04-07 03:16:57</td>\n",
       "    </tr>\n",
       "    <tr>\n",
       "      <th>1</th>\n",
       "      <td>2016-03-24 10:58:45</td>\n",
       "      <td>18300</td>\n",
       "      <td>coupe</td>\n",
       "      <td>2011</td>\n",
       "      <td>manual</td>\n",
       "      <td>190</td>\n",
       "      <td>NaN</td>\n",
       "      <td>125000</td>\n",
       "      <td>5</td>\n",
       "      <td>gasoline</td>\n",
       "      <td>audi</td>\n",
       "      <td>yes</td>\n",
       "      <td>2016-03-24 00:00:00</td>\n",
       "      <td>0</td>\n",
       "      <td>66954</td>\n",
       "      <td>2016-04-07 01:46:50</td>\n",
       "    </tr>\n",
       "    <tr>\n",
       "      <th>2</th>\n",
       "      <td>2016-03-14 12:52:21</td>\n",
       "      <td>9800</td>\n",
       "      <td>suv</td>\n",
       "      <td>2004</td>\n",
       "      <td>auto</td>\n",
       "      <td>163</td>\n",
       "      <td>grand</td>\n",
       "      <td>125000</td>\n",
       "      <td>8</td>\n",
       "      <td>gasoline</td>\n",
       "      <td>jeep</td>\n",
       "      <td>NaN</td>\n",
       "      <td>2016-03-14 00:00:00</td>\n",
       "      <td>0</td>\n",
       "      <td>90480</td>\n",
       "      <td>2016-04-05 12:47:46</td>\n",
       "    </tr>\n",
       "    <tr>\n",
       "      <th>3</th>\n",
       "      <td>2016-03-17 16:54:04</td>\n",
       "      <td>1500</td>\n",
       "      <td>small</td>\n",
       "      <td>2001</td>\n",
       "      <td>manual</td>\n",
       "      <td>75</td>\n",
       "      <td>golf</td>\n",
       "      <td>150000</td>\n",
       "      <td>6</td>\n",
       "      <td>petrol</td>\n",
       "      <td>volkswagen</td>\n",
       "      <td>no</td>\n",
       "      <td>2016-03-17 00:00:00</td>\n",
       "      <td>0</td>\n",
       "      <td>91074</td>\n",
       "      <td>2016-03-17 17:40:17</td>\n",
       "    </tr>\n",
       "    <tr>\n",
       "      <th>4</th>\n",
       "      <td>2016-03-31 17:25:20</td>\n",
       "      <td>3600</td>\n",
       "      <td>small</td>\n",
       "      <td>2008</td>\n",
       "      <td>manual</td>\n",
       "      <td>69</td>\n",
       "      <td>fabia</td>\n",
       "      <td>90000</td>\n",
       "      <td>7</td>\n",
       "      <td>gasoline</td>\n",
       "      <td>skoda</td>\n",
       "      <td>no</td>\n",
       "      <td>2016-03-31 00:00:00</td>\n",
       "      <td>0</td>\n",
       "      <td>60437</td>\n",
       "      <td>2016-04-06 10:17:21</td>\n",
       "    </tr>\n",
       "  </tbody>\n",
       "</table>\n",
       "</div>"
      ],
      "text/plain": [
       "           DateCrawled  Price VehicleType  RegistrationYear Gearbox  Power  \\\n",
       "0  2016-03-24 11:52:17    480         NaN              1993  manual      0   \n",
       "1  2016-03-24 10:58:45  18300       coupe              2011  manual    190   \n",
       "2  2016-03-14 12:52:21   9800         suv              2004    auto    163   \n",
       "3  2016-03-17 16:54:04   1500       small              2001  manual     75   \n",
       "4  2016-03-31 17:25:20   3600       small              2008  manual     69   \n",
       "\n",
       "   Model  Kilometer  RegistrationMonth  FuelType       Brand NotRepaired  \\\n",
       "0   golf     150000                  0    petrol  volkswagen         NaN   \n",
       "1    NaN     125000                  5  gasoline        audi         yes   \n",
       "2  grand     125000                  8  gasoline        jeep         NaN   \n",
       "3   golf     150000                  6    petrol  volkswagen          no   \n",
       "4  fabia      90000                  7  gasoline       skoda          no   \n",
       "\n",
       "           DateCreated  NumberOfPictures  PostalCode             LastSeen  \n",
       "0  2016-03-24 00:00:00                 0       70435  2016-04-07 03:16:57  \n",
       "1  2016-03-24 00:00:00                 0       66954  2016-04-07 01:46:50  \n",
       "2  2016-03-14 00:00:00                 0       90480  2016-04-05 12:47:46  \n",
       "3  2016-03-17 00:00:00                 0       91074  2016-03-17 17:40:17  \n",
       "4  2016-03-31 00:00:00                 0       60437  2016-04-06 10:17:21  "
      ]
     },
     "execution_count": 3,
     "metadata": {},
     "output_type": "execute_result"
    }
   ],
   "source": [
    "df.head()"
   ]
  },
  {
   "cell_type": "code",
   "execution_count": 4,
   "metadata": {},
   "outputs": [
    {
     "name": "stdout",
     "output_type": "stream",
     "text": [
      "<class 'pandas.core.frame.DataFrame'>\n",
      "RangeIndex: 354369 entries, 0 to 354368\n",
      "Data columns (total 16 columns):\n",
      " #   Column             Non-Null Count   Dtype \n",
      "---  ------             --------------   ----- \n",
      " 0   DateCrawled        354369 non-null  object\n",
      " 1   Price              354369 non-null  int64 \n",
      " 2   VehicleType        316879 non-null  object\n",
      " 3   RegistrationYear   354369 non-null  int64 \n",
      " 4   Gearbox            334536 non-null  object\n",
      " 5   Power              354369 non-null  int64 \n",
      " 6   Model              334664 non-null  object\n",
      " 7   Kilometer          354369 non-null  int64 \n",
      " 8   RegistrationMonth  354369 non-null  int64 \n",
      " 9   FuelType           321474 non-null  object\n",
      " 10  Brand              354369 non-null  object\n",
      " 11  NotRepaired        283215 non-null  object\n",
      " 12  DateCreated        354369 non-null  object\n",
      " 13  NumberOfPictures   354369 non-null  int64 \n",
      " 14  PostalCode         354369 non-null  int64 \n",
      " 15  LastSeen           354369 non-null  object\n",
      "dtypes: int64(7), object(9)\n",
      "memory usage: 43.3+ MB\n"
     ]
    }
   ],
   "source": [
    "df.info()"
   ]
  },
  {
   "cell_type": "code",
   "execution_count": 5,
   "metadata": {},
   "outputs": [
    {
     "data": {
      "text/plain": [
       "0    354369\n",
       "Name: NumberOfPictures, dtype: int64"
      ]
     },
     "execution_count": 5,
     "metadata": {},
     "output_type": "execute_result"
    }
   ],
   "source": [
    "df['NumberOfPictures'].value_counts()"
   ]
  },
  {
   "cell_type": "markdown",
   "metadata": {},
   "source": [
    "Начнем с оценки данных. Какие колонки здесь лишние.\n",
    "\n",
    "DateCrawled, LastSeen, PostalCode, DateCreated и NumberOfPictures никак не влияют на стоимость автомобиля, они не как не характеризуют авто. Колонка RegistrationMonth избыточна, года регистрации вполне достаточно. Количество фотографий вообще 0 для всех элементов. От этих колонок можно избавиться, они нам не нужны."
   ]
  },
  {
   "cell_type": "code",
   "execution_count": 6,
   "metadata": {},
   "outputs": [],
   "source": [
    "df = df.drop(['DateCrawled', 'LastSeen', 'PostalCode', 'DateCreated', 'NumberOfPictures', 'RegistrationMonth'], axis=1)"
   ]
  },
  {
   "cell_type": "code",
   "execution_count": 7,
   "metadata": {},
   "outputs": [
    {
     "data": {
      "text/html": [
       "<div>\n",
       "<style scoped>\n",
       "    .dataframe tbody tr th:only-of-type {\n",
       "        vertical-align: middle;\n",
       "    }\n",
       "\n",
       "    .dataframe tbody tr th {\n",
       "        vertical-align: top;\n",
       "    }\n",
       "\n",
       "    .dataframe thead th {\n",
       "        text-align: right;\n",
       "    }\n",
       "</style>\n",
       "<table border=\"1\" class=\"dataframe\">\n",
       "  <thead>\n",
       "    <tr style=\"text-align: right;\">\n",
       "      <th></th>\n",
       "      <th>Price</th>\n",
       "      <th>VehicleType</th>\n",
       "      <th>RegistrationYear</th>\n",
       "      <th>Gearbox</th>\n",
       "      <th>Power</th>\n",
       "      <th>Model</th>\n",
       "      <th>Kilometer</th>\n",
       "      <th>FuelType</th>\n",
       "      <th>Brand</th>\n",
       "      <th>NotRepaired</th>\n",
       "    </tr>\n",
       "  </thead>\n",
       "  <tbody>\n",
       "    <tr>\n",
       "      <th>0</th>\n",
       "      <td>480</td>\n",
       "      <td>NaN</td>\n",
       "      <td>1993</td>\n",
       "      <td>manual</td>\n",
       "      <td>0</td>\n",
       "      <td>golf</td>\n",
       "      <td>150000</td>\n",
       "      <td>petrol</td>\n",
       "      <td>volkswagen</td>\n",
       "      <td>NaN</td>\n",
       "    </tr>\n",
       "    <tr>\n",
       "      <th>1</th>\n",
       "      <td>18300</td>\n",
       "      <td>coupe</td>\n",
       "      <td>2011</td>\n",
       "      <td>manual</td>\n",
       "      <td>190</td>\n",
       "      <td>NaN</td>\n",
       "      <td>125000</td>\n",
       "      <td>gasoline</td>\n",
       "      <td>audi</td>\n",
       "      <td>yes</td>\n",
       "    </tr>\n",
       "    <tr>\n",
       "      <th>2</th>\n",
       "      <td>9800</td>\n",
       "      <td>suv</td>\n",
       "      <td>2004</td>\n",
       "      <td>auto</td>\n",
       "      <td>163</td>\n",
       "      <td>grand</td>\n",
       "      <td>125000</td>\n",
       "      <td>gasoline</td>\n",
       "      <td>jeep</td>\n",
       "      <td>NaN</td>\n",
       "    </tr>\n",
       "    <tr>\n",
       "      <th>3</th>\n",
       "      <td>1500</td>\n",
       "      <td>small</td>\n",
       "      <td>2001</td>\n",
       "      <td>manual</td>\n",
       "      <td>75</td>\n",
       "      <td>golf</td>\n",
       "      <td>150000</td>\n",
       "      <td>petrol</td>\n",
       "      <td>volkswagen</td>\n",
       "      <td>no</td>\n",
       "    </tr>\n",
       "    <tr>\n",
       "      <th>4</th>\n",
       "      <td>3600</td>\n",
       "      <td>small</td>\n",
       "      <td>2008</td>\n",
       "      <td>manual</td>\n",
       "      <td>69</td>\n",
       "      <td>fabia</td>\n",
       "      <td>90000</td>\n",
       "      <td>gasoline</td>\n",
       "      <td>skoda</td>\n",
       "      <td>no</td>\n",
       "    </tr>\n",
       "  </tbody>\n",
       "</table>\n",
       "</div>"
      ],
      "text/plain": [
       "   Price VehicleType  RegistrationYear Gearbox  Power  Model  Kilometer  \\\n",
       "0    480         NaN              1993  manual      0   golf     150000   \n",
       "1  18300       coupe              2011  manual    190    NaN     125000   \n",
       "2   9800         suv              2004    auto    163  grand     125000   \n",
       "3   1500       small              2001  manual     75   golf     150000   \n",
       "4   3600       small              2008  manual     69  fabia      90000   \n",
       "\n",
       "   FuelType       Brand NotRepaired  \n",
       "0    petrol  volkswagen         NaN  \n",
       "1  gasoline        audi         yes  \n",
       "2  gasoline        jeep         NaN  \n",
       "3    petrol  volkswagen          no  \n",
       "4  gasoline       skoda          no  "
      ]
     },
     "metadata": {},
     "output_type": "display_data"
    },
    {
     "name": "stdout",
     "output_type": "stream",
     "text": [
      "<class 'pandas.core.frame.DataFrame'>\n",
      "RangeIndex: 354369 entries, 0 to 354368\n",
      "Data columns (total 10 columns):\n",
      " #   Column            Non-Null Count   Dtype \n",
      "---  ------            --------------   ----- \n",
      " 0   Price             354369 non-null  int64 \n",
      " 1   VehicleType       316879 non-null  object\n",
      " 2   RegistrationYear  354369 non-null  int64 \n",
      " 3   Gearbox           334536 non-null  object\n",
      " 4   Power             354369 non-null  int64 \n",
      " 5   Model             334664 non-null  object\n",
      " 6   Kilometer         354369 non-null  int64 \n",
      " 7   FuelType          321474 non-null  object\n",
      " 8   Brand             354369 non-null  object\n",
      " 9   NotRepaired       283215 non-null  object\n",
      "dtypes: int64(4), object(6)\n",
      "memory usage: 27.0+ MB\n"
     ]
    }
   ],
   "source": [
    "display(df.head(5))\n",
    "df.info()"
   ]
  },
  {
   "cell_type": "markdown",
   "metadata": {},
   "source": [
    "Так гораздо удобнее. Теперь посмотрим дубликаты."
   ]
  },
  {
   "cell_type": "code",
   "execution_count": 8,
   "metadata": {},
   "outputs": [
    {
     "data": {
      "text/plain": [
       "45040"
      ]
     },
     "execution_count": 8,
     "metadata": {},
     "output_type": "execute_result"
    }
   ],
   "source": [
    "df.duplicated().sum()"
   ]
  },
  {
   "cell_type": "code",
   "execution_count": 9,
   "metadata": {},
   "outputs": [],
   "source": [
    "df = df.drop_duplicates()"
   ]
  },
  {
   "cell_type": "code",
   "execution_count": 10,
   "metadata": {},
   "outputs": [
    {
     "data": {
      "text/plain": [
       "0"
      ]
     },
     "metadata": {},
     "output_type": "display_data"
    },
    {
     "name": "stdout",
     "output_type": "stream",
     "text": [
      "<class 'pandas.core.frame.DataFrame'>\n",
      "Int64Index: 309329 entries, 0 to 354368\n",
      "Data columns (total 10 columns):\n",
      " #   Column            Non-Null Count   Dtype \n",
      "---  ------            --------------   ----- \n",
      " 0   Price             309329 non-null  int64 \n",
      " 1   VehicleType       274770 non-null  object\n",
      " 2   RegistrationYear  309329 non-null  int64 \n",
      " 3   Gearbox           292122 non-null  object\n",
      " 4   Power             309329 non-null  int64 \n",
      " 5   Model             290968 non-null  object\n",
      " 6   Kilometer         309329 non-null  int64 \n",
      " 7   FuelType          278565 non-null  object\n",
      " 8   Brand             309329 non-null  object\n",
      " 9   NotRepaired       244771 non-null  object\n",
      "dtypes: int64(4), object(6)\n",
      "memory usage: 26.0+ MB\n"
     ]
    }
   ],
   "source": [
    "display(df.duplicated().sum())\n",
    "df.info()"
   ]
  },
  {
   "cell_type": "markdown",
   "metadata": {},
   "source": [
    "Теперь займемся пропусками. Пойдем по порядку."
   ]
  },
  {
   "cell_type": "code",
   "execution_count": 11,
   "metadata": {},
   "outputs": [
    {
     "data": {
      "text/html": [
       "<div>\n",
       "<style scoped>\n",
       "    .dataframe tbody tr th:only-of-type {\n",
       "        vertical-align: middle;\n",
       "    }\n",
       "\n",
       "    .dataframe tbody tr th {\n",
       "        vertical-align: top;\n",
       "    }\n",
       "\n",
       "    .dataframe thead th {\n",
       "        text-align: right;\n",
       "    }\n",
       "</style>\n",
       "<table border=\"1\" class=\"dataframe\">\n",
       "  <thead>\n",
       "    <tr style=\"text-align: right;\">\n",
       "      <th></th>\n",
       "      <th>Price</th>\n",
       "      <th>VehicleType</th>\n",
       "      <th>RegistrationYear</th>\n",
       "      <th>Gearbox</th>\n",
       "      <th>Power</th>\n",
       "      <th>Model</th>\n",
       "      <th>Kilometer</th>\n",
       "      <th>FuelType</th>\n",
       "      <th>Brand</th>\n",
       "      <th>NotRepaired</th>\n",
       "    </tr>\n",
       "  </thead>\n",
       "  <tbody>\n",
       "    <tr>\n",
       "      <th>0</th>\n",
       "      <td>480</td>\n",
       "      <td>NaN</td>\n",
       "      <td>1993</td>\n",
       "      <td>manual</td>\n",
       "      <td>0</td>\n",
       "      <td>golf</td>\n",
       "      <td>150000</td>\n",
       "      <td>petrol</td>\n",
       "      <td>volkswagen</td>\n",
       "      <td>NaN</td>\n",
       "    </tr>\n",
       "    <tr>\n",
       "      <th>16</th>\n",
       "      <td>300</td>\n",
       "      <td>NaN</td>\n",
       "      <td>2016</td>\n",
       "      <td>NaN</td>\n",
       "      <td>60</td>\n",
       "      <td>polo</td>\n",
       "      <td>150000</td>\n",
       "      <td>petrol</td>\n",
       "      <td>volkswagen</td>\n",
       "      <td>NaN</td>\n",
       "    </tr>\n",
       "    <tr>\n",
       "      <th>22</th>\n",
       "      <td>2900</td>\n",
       "      <td>NaN</td>\n",
       "      <td>2018</td>\n",
       "      <td>manual</td>\n",
       "      <td>90</td>\n",
       "      <td>meriva</td>\n",
       "      <td>150000</td>\n",
       "      <td>petrol</td>\n",
       "      <td>opel</td>\n",
       "      <td>no</td>\n",
       "    </tr>\n",
       "    <tr>\n",
       "      <th>26</th>\n",
       "      <td>5555</td>\n",
       "      <td>NaN</td>\n",
       "      <td>2017</td>\n",
       "      <td>manual</td>\n",
       "      <td>125</td>\n",
       "      <td>c4</td>\n",
       "      <td>125000</td>\n",
       "      <td>NaN</td>\n",
       "      <td>citroen</td>\n",
       "      <td>no</td>\n",
       "    </tr>\n",
       "    <tr>\n",
       "      <th>31</th>\n",
       "      <td>899</td>\n",
       "      <td>NaN</td>\n",
       "      <td>2016</td>\n",
       "      <td>manual</td>\n",
       "      <td>60</td>\n",
       "      <td>clio</td>\n",
       "      <td>150000</td>\n",
       "      <td>petrol</td>\n",
       "      <td>renault</td>\n",
       "      <td>NaN</td>\n",
       "    </tr>\n",
       "    <tr>\n",
       "      <th>...</th>\n",
       "      <td>...</td>\n",
       "      <td>...</td>\n",
       "      <td>...</td>\n",
       "      <td>...</td>\n",
       "      <td>...</td>\n",
       "      <td>...</td>\n",
       "      <td>...</td>\n",
       "      <td>...</td>\n",
       "      <td>...</td>\n",
       "      <td>...</td>\n",
       "    </tr>\n",
       "    <tr>\n",
       "      <th>354346</th>\n",
       "      <td>2600</td>\n",
       "      <td>NaN</td>\n",
       "      <td>2005</td>\n",
       "      <td>auto</td>\n",
       "      <td>0</td>\n",
       "      <td>c_klasse</td>\n",
       "      <td>150000</td>\n",
       "      <td>NaN</td>\n",
       "      <td>mercedes_benz</td>\n",
       "      <td>NaN</td>\n",
       "    </tr>\n",
       "    <tr>\n",
       "      <th>354351</th>\n",
       "      <td>1900</td>\n",
       "      <td>NaN</td>\n",
       "      <td>2000</td>\n",
       "      <td>manual</td>\n",
       "      <td>110</td>\n",
       "      <td>NaN</td>\n",
       "      <td>150000</td>\n",
       "      <td>NaN</td>\n",
       "      <td>volkswagen</td>\n",
       "      <td>no</td>\n",
       "    </tr>\n",
       "    <tr>\n",
       "      <th>354361</th>\n",
       "      <td>5250</td>\n",
       "      <td>NaN</td>\n",
       "      <td>2016</td>\n",
       "      <td>auto</td>\n",
       "      <td>150</td>\n",
       "      <td>159</td>\n",
       "      <td>150000</td>\n",
       "      <td>NaN</td>\n",
       "      <td>alfa_romeo</td>\n",
       "      <td>no</td>\n",
       "    </tr>\n",
       "    <tr>\n",
       "      <th>354364</th>\n",
       "      <td>0</td>\n",
       "      <td>NaN</td>\n",
       "      <td>2005</td>\n",
       "      <td>manual</td>\n",
       "      <td>0</td>\n",
       "      <td>colt</td>\n",
       "      <td>150000</td>\n",
       "      <td>petrol</td>\n",
       "      <td>mitsubishi</td>\n",
       "      <td>yes</td>\n",
       "    </tr>\n",
       "    <tr>\n",
       "      <th>354365</th>\n",
       "      <td>2200</td>\n",
       "      <td>NaN</td>\n",
       "      <td>2005</td>\n",
       "      <td>NaN</td>\n",
       "      <td>0</td>\n",
       "      <td>NaN</td>\n",
       "      <td>20000</td>\n",
       "      <td>NaN</td>\n",
       "      <td>sonstige_autos</td>\n",
       "      <td>NaN</td>\n",
       "    </tr>\n",
       "  </tbody>\n",
       "</table>\n",
       "<p>34559 rows × 10 columns</p>\n",
       "</div>"
      ],
      "text/plain": [
       "        Price VehicleType  RegistrationYear Gearbox  Power     Model  \\\n",
       "0         480         NaN              1993  manual      0      golf   \n",
       "16        300         NaN              2016     NaN     60      polo   \n",
       "22       2900         NaN              2018  manual     90    meriva   \n",
       "26       5555         NaN              2017  manual    125        c4   \n",
       "31        899         NaN              2016  manual     60      clio   \n",
       "...       ...         ...               ...     ...    ...       ...   \n",
       "354346   2600         NaN              2005    auto      0  c_klasse   \n",
       "354351   1900         NaN              2000  manual    110       NaN   \n",
       "354361   5250         NaN              2016    auto    150       159   \n",
       "354364      0         NaN              2005  manual      0      colt   \n",
       "354365   2200         NaN              2005     NaN      0       NaN   \n",
       "\n",
       "        Kilometer FuelType           Brand NotRepaired  \n",
       "0          150000   petrol      volkswagen         NaN  \n",
       "16         150000   petrol      volkswagen         NaN  \n",
       "22         150000   petrol            opel          no  \n",
       "26         125000      NaN         citroen          no  \n",
       "31         150000   petrol         renault         NaN  \n",
       "...           ...      ...             ...         ...  \n",
       "354346     150000      NaN   mercedes_benz         NaN  \n",
       "354351     150000      NaN      volkswagen          no  \n",
       "354361     150000      NaN      alfa_romeo          no  \n",
       "354364     150000   petrol      mitsubishi         yes  \n",
       "354365      20000      NaN  sonstige_autos         NaN  \n",
       "\n",
       "[34559 rows x 10 columns]"
      ]
     },
     "metadata": {},
     "output_type": "display_data"
    },
    {
     "data": {
      "text/plain": [
       "34559"
      ]
     },
     "execution_count": 11,
     "metadata": {},
     "output_type": "execute_result"
    }
   ],
   "source": [
    "display(df[df['VehicleType'].isna()])\n",
    "df['VehicleType'].isna().sum()"
   ]
  },
  {
   "cell_type": "markdown",
   "metadata": {},
   "source": [
    "Можно попробовать заменить, взяв эти значения из колонок, где есть такие же машины. Тот же бренд и модель."
   ]
  },
  {
   "cell_type": "code",
   "execution_count": 12,
   "metadata": {},
   "outputs": [
    {
     "data": {
      "text/plain": [
       "array([nan, 'small', 'sedan', 'wagon', 'coupe', 'convertible', 'bus',\n",
       "       'other', 'suv'], dtype=object)"
      ]
     },
     "execution_count": 12,
     "metadata": {},
     "output_type": "execute_result"
    }
   ],
   "source": [
    "# Посмотрим на некоторые модели машин\n",
    "df.query(\"Brand == 'volkswagen' and Model == 'polo'\")['VehicleType'].unique()"
   ]
  },
  {
   "cell_type": "markdown",
   "metadata": {},
   "source": [
    "Ээээ... Я посмотрела весь Топ Гир дважды. Не может быть Поло автобусом. Что-то тут не клеится. Посмотрим другую машину."
   ]
  },
  {
   "cell_type": "code",
   "execution_count": 13,
   "metadata": {},
   "outputs": [
    {
     "data": {
      "text/plain": [
       "array(['small', 'wagon', nan, 'sedan', 'other', 'bus', 'convertible',\n",
       "       'suv'], dtype=object)"
      ]
     },
     "execution_count": 13,
     "metadata": {},
     "output_type": "execute_result"
    }
   ],
   "source": [
    "df.query(\"Brand == 'skoda' and Model == 'fabia'\")['VehicleType'].unique()"
   ]
  },
  {
   "cell_type": "markdown",
   "metadata": {},
   "source": [
    "В связи с аномалиями в данных, сложно подобрать один вариант для пропуска вряд ли получится. Заполним как unknown."
   ]
  },
  {
   "cell_type": "code",
   "execution_count": 14,
   "metadata": {},
   "outputs": [],
   "source": [
    "df['VehicleType'] = df['VehicleType'].fillna('unknown')"
   ]
  },
  {
   "cell_type": "markdown",
   "metadata": {},
   "source": [
    "Перейдем к столбцу Gearbox. "
   ]
  },
  {
   "cell_type": "code",
   "execution_count": 15,
   "metadata": {},
   "outputs": [
    {
     "data": {
      "text/plain": [
       "array(['manual', 'auto', nan], dtype=object)"
      ]
     },
     "execution_count": 15,
     "metadata": {},
     "output_type": "execute_result"
    }
   ],
   "source": [
    "df['Gearbox'].unique()"
   ]
  },
  {
   "cell_type": "markdown",
   "metadata": {},
   "source": [
    "Так как некоторые модели автомобилей производят и с автоматической, и с ручной коробкой передач, то угадать значение пропусков очень сложно. Поэтому заполним пропуски значением unknown."
   ]
  },
  {
   "cell_type": "code",
   "execution_count": 16,
   "metadata": {},
   "outputs": [],
   "source": [
    "df['Gearbox'] = df['Gearbox'].fillna('unknown')"
   ]
  },
  {
   "cell_type": "markdown",
   "metadata": {},
   "source": [
    "Теперь посмотрим на Power. Пропуском в колонке нет, но есть нулевые значения, которые будут мешать работе модели."
   ]
  },
  {
   "cell_type": "code",
   "execution_count": 17,
   "metadata": {},
   "outputs": [
    {
     "data": {
      "text/plain": [
       "35978"
      ]
     },
     "execution_count": 17,
     "metadata": {},
     "output_type": "execute_result"
    }
   ],
   "source": [
    "sum(df['Power'] == 0)"
   ]
  },
  {
   "cell_type": "markdown",
   "metadata": {},
   "source": [
    "Посмотрим, сколько есть машин с указанием мощности меньше 60 лс, то есть меньше мощности жигулей."
   ]
  },
  {
   "cell_type": "code",
   "execution_count": 18,
   "metadata": {},
   "outputs": [
    {
     "data": {
      "text/plain": [
       "55595"
      ]
     },
     "execution_count": 18,
     "metadata": {},
     "output_type": "execute_result"
    }
   ],
   "source": [
    "sum(df['Power'] < 60)"
   ]
  },
  {
   "cell_type": "code",
   "execution_count": 19,
   "metadata": {},
   "outputs": [
    {
     "data": {
      "image/png": "[encoded data removed]",
      "text/plain": [
       "<Figure size 1080x504 with 1 Axes>"
      ]
     },
     "metadata": {
      "needs_background": "light"
     },
     "output_type": "display_data"
    }
   ],
   "source": [
    "plt.figure(figsize=(15,7))\n",
    "sns.kdeplot(df[\"Power\"][df['Power'] < 60])\n",
    "\n",
    "plt.title('Мощность автомобилей')\n",
    "plt.show()"
   ]
  },
  {
   "cell_type": "markdown",
   "metadata": {},
   "source": [
    "Что же это за автомобили такие? Пожалуй, уберем их вместе с нулями. Заполним с помощью группировки по модели, бренду и году регистрации."
   ]
  },
  {
   "cell_type": "code",
   "execution_count": 20,
   "metadata": {},
   "outputs": [],
   "source": [
    "df.loc[(df['Power'] == 0), 'Power'] = round(df.groupby(['Model', 'Brand', 'RegistrationYear'])['Power'].transform('median'))"
   ]
  },
  {
   "cell_type": "code",
   "execution_count": 21,
   "metadata": {},
   "outputs": [
    {
     "data": {
      "text/plain": [
       "25965"
      ]
     },
     "execution_count": 21,
     "metadata": {},
     "output_type": "execute_result"
    }
   ],
   "source": [
    "sum(df['Power'] < 60)"
   ]
  },
  {
   "cell_type": "markdown",
   "metadata": {},
   "source": [
    "Оставшиеся строки можно удалить."
   ]
  },
  {
   "cell_type": "code",
   "execution_count": 22,
   "metadata": {},
   "outputs": [],
   "source": [
    "df = df.loc[df['Power'] > 60]"
   ]
  },
  {
   "cell_type": "code",
   "execution_count": 23,
   "metadata": {
    "scrolled": false
   },
   "outputs": [
    {
     "data": {
      "image/png": "[encoded data removed]",
      "text/plain": [
       "<Figure size 1080x504 with 1 Axes>"
      ]
     },
     "metadata": {
      "needs_background": "light"
     },
     "output_type": "display_data"
    }
   ],
   "source": [
    "# Посмотрим на график ещё раз\n",
    "\n",
    "plt.figure(figsize=(15,7))\n",
    "sns.kdeplot(df[\"Power\"][df['Power'] < 10000])\n",
    "\n",
    "plt.title('Мощность автомобилей')\n",
    "plt.show()"
   ]
  },
  {
   "cell_type": "markdown",
   "metadata": {},
   "source": [
    "Теперь левая часть графика выглядит нормально. Мощность Соляриса - 100-123 лс. Это пример одной из самых популярнымх моделей легкового автомобиля. Посмотримм теперь на выбросы справа."
   ]
  },
  {
   "cell_type": "code",
   "execution_count": 67,
   "metadata": {},
   "outputs": [
    {
     "data": {
      "text/html": [
       "<div>\n",
       "<style scoped>\n",
       "    .dataframe tbody tr th:only-of-type {\n",
       "        vertical-align: middle;\n",
       "    }\n",
       "\n",
       "    .dataframe tbody tr th {\n",
       "        vertical-align: top;\n",
       "    }\n",
       "\n",
       "    .dataframe thead th {\n",
       "        text-align: right;\n",
       "    }\n",
       "</style>\n",
       "<table border=\"1\" class=\"dataframe\">\n",
       "  <thead>\n",
       "    <tr style=\"text-align: right;\">\n",
       "      <th></th>\n",
       "      <th>Price</th>\n",
       "      <th>VehicleType</th>\n",
       "      <th>RegistrationYear</th>\n",
       "      <th>Gearbox</th>\n",
       "      <th>Power</th>\n",
       "      <th>Model</th>\n",
       "      <th>Kilometer</th>\n",
       "      <th>FuelType</th>\n",
       "      <th>Brand</th>\n",
       "      <th>NotRepaired</th>\n",
       "    </tr>\n",
       "  </thead>\n",
       "  <tbody>\n",
       "    <tr>\n",
       "      <th>195787</th>\n",
       "      <td>7000</td>\n",
       "      <td>small</td>\n",
       "      <td>2009</td>\n",
       "      <td>manual</td>\n",
       "      <td>776.0</td>\n",
       "      <td>punto</td>\n",
       "      <td>60000</td>\n",
       "      <td>electric</td>\n",
       "      <td>fiat</td>\n",
       "      <td>no</td>\n",
       "    </tr>\n",
       "    <tr>\n",
       "      <th>304525</th>\n",
       "      <td>2500</td>\n",
       "      <td>unknown</td>\n",
       "      <td>2017</td>\n",
       "      <td>manual</td>\n",
       "      <td>800.0</td>\n",
       "      <td>sandero</td>\n",
       "      <td>125000</td>\n",
       "      <td>lpg</td>\n",
       "      <td>dacia</td>\n",
       "      <td>no</td>\n",
       "    </tr>\n",
       "    <tr>\n",
       "      <th>267787</th>\n",
       "      <td>400</td>\n",
       "      <td>small</td>\n",
       "      <td>1994</td>\n",
       "      <td>manual</td>\n",
       "      <td>890.0</td>\n",
       "      <td>twingo</td>\n",
       "      <td>150000</td>\n",
       "      <td>petrol</td>\n",
       "      <td>renault</td>\n",
       "      <td>no</td>\n",
       "    </tr>\n",
       "    <tr>\n",
       "      <th>301843</th>\n",
       "      <td>230</td>\n",
       "      <td>small</td>\n",
       "      <td>1993</td>\n",
       "      <td>manual</td>\n",
       "      <td>998.0</td>\n",
       "      <td>micra</td>\n",
       "      <td>150000</td>\n",
       "      <td>petrol</td>\n",
       "      <td>nissan</td>\n",
       "      <td>no</td>\n",
       "    </tr>\n",
       "    <tr>\n",
       "      <th>240661</th>\n",
       "      <td>700</td>\n",
       "      <td>small</td>\n",
       "      <td>1996</td>\n",
       "      <td>manual</td>\n",
       "      <td>1275.0</td>\n",
       "      <td>micra</td>\n",
       "      <td>80000</td>\n",
       "      <td>petrol</td>\n",
       "      <td>nissan</td>\n",
       "      <td>no</td>\n",
       "    </tr>\n",
       "    <tr>\n",
       "      <th>211816</th>\n",
       "      <td>3950</td>\n",
       "      <td>small</td>\n",
       "      <td>1972</td>\n",
       "      <td>manual</td>\n",
       "      <td>1300.0</td>\n",
       "      <td>kaefer</td>\n",
       "      <td>150000</td>\n",
       "      <td>petrol</td>\n",
       "      <td>volkswagen</td>\n",
       "      <td>unknown</td>\n",
       "    </tr>\n",
       "    <tr>\n",
       "      <th>261022</th>\n",
       "      <td>900</td>\n",
       "      <td>wagon</td>\n",
       "      <td>1992</td>\n",
       "      <td>auto</td>\n",
       "      <td>1992.0</td>\n",
       "      <td>touareg</td>\n",
       "      <td>150000</td>\n",
       "      <td>unknown</td>\n",
       "      <td>volkswagen</td>\n",
       "      <td>unknown</td>\n",
       "    </tr>\n",
       "    <tr>\n",
       "      <th>53158</th>\n",
       "      <td>1200</td>\n",
       "      <td>small</td>\n",
       "      <td>2001</td>\n",
       "      <td>manual</td>\n",
       "      <td>2742.0</td>\n",
       "      <td>seicento</td>\n",
       "      <td>150000</td>\n",
       "      <td>unknown</td>\n",
       "      <td>fiat</td>\n",
       "      <td>no</td>\n",
       "    </tr>\n",
       "    <tr>\n",
       "      <th>143053</th>\n",
       "      <td>120</td>\n",
       "      <td>small</td>\n",
       "      <td>1996</td>\n",
       "      <td>manual</td>\n",
       "      <td>2938.0</td>\n",
       "      <td>twingo</td>\n",
       "      <td>150000</td>\n",
       "      <td>petrol</td>\n",
       "      <td>renault</td>\n",
       "      <td>yes</td>\n",
       "    </tr>\n",
       "    <tr>\n",
       "      <th>143118</th>\n",
       "      <td>6500</td>\n",
       "      <td>small</td>\n",
       "      <td>1987</td>\n",
       "      <td>manual</td>\n",
       "      <td>6018.0</td>\n",
       "      <td>cooper</td>\n",
       "      <td>60000</td>\n",
       "      <td>petrol</td>\n",
       "      <td>mini</td>\n",
       "      <td>unknown</td>\n",
       "    </tr>\n",
       "  </tbody>\n",
       "</table>\n",
       "</div>"
      ],
      "text/plain": [
       "        Price VehicleType  RegistrationYear Gearbox   Power     Model  \\\n",
       "195787   7000       small              2009  manual   776.0     punto   \n",
       "304525   2500     unknown              2017  manual   800.0   sandero   \n",
       "267787    400       small              1994  manual   890.0    twingo   \n",
       "301843    230       small              1993  manual   998.0     micra   \n",
       "240661    700       small              1996  manual  1275.0     micra   \n",
       "211816   3950       small              1972  manual  1300.0    kaefer   \n",
       "261022    900       wagon              1992    auto  1992.0   touareg   \n",
       "53158    1200       small              2001  manual  2742.0  seicento   \n",
       "143053    120       small              1996  manual  2938.0    twingo   \n",
       "143118   6500       small              1987  manual  6018.0    cooper   \n",
       "\n",
       "        Kilometer  FuelType       Brand NotRepaired  \n",
       "195787      60000  electric        fiat          no  \n",
       "304525     125000       lpg       dacia          no  \n",
       "267787     150000    petrol     renault          no  \n",
       "301843     150000    petrol      nissan          no  \n",
       "240661      80000    petrol      nissan          no  \n",
       "211816     150000    petrol  volkswagen     unknown  \n",
       "261022     150000   unknown  volkswagen     unknown  \n",
       "53158      150000   unknown        fiat          no  \n",
       "143053     150000    petrol     renault         yes  \n",
       "143118      60000    petrol        mini     unknown  "
      ]
     },
     "execution_count": 67,
     "metadata": {},
     "output_type": "execute_result"
    }
   ],
   "source": [
    "df.sort_values(by=['Power']).tail(10)"
   ]
  },
  {
   "cell_type": "markdown",
   "metadata": {},
   "source": [
    "Все ясно. Кажется, кто то помножит мощность своего авто на 100, потому что у ауди а4 примерная мощность как раз 163 лс.\n",
    "Применим тот же метод, только уже для машин, мощность которых больше 800. Вряд ли кто-то продает ламборджини."
   ]
  },
  {
   "cell_type": "code",
   "execution_count": 25,
   "metadata": {},
   "outputs": [],
   "source": [
    "df.loc[(df['Power'] > 800), 'Power'] = round(df.groupby(['Model', 'Brand', 'RegistrationYear'])['Power'].transform('median'))"
   ]
  },
  {
   "cell_type": "markdown",
   "metadata": {},
   "source": [
    "Посмотрим сколько образовалось пропусков."
   ]
  },
  {
   "cell_type": "code",
   "execution_count": 26,
   "metadata": {},
   "outputs": [
    {
     "data": {
      "text/plain": [
       "40"
      ]
     },
     "execution_count": 26,
     "metadata": {},
     "output_type": "execute_result"
    }
   ],
   "source": [
    "sum(df['Power'].isna())"
   ]
  },
  {
   "cell_type": "code",
   "execution_count": 27,
   "metadata": {},
   "outputs": [],
   "source": [
    "df.dropna(subset=['Power'], inplace=True)"
   ]
  },
  {
   "cell_type": "code",
   "execution_count": 28,
   "metadata": {},
   "outputs": [
    {
     "name": "stdout",
     "output_type": "stream",
     "text": [
      "<class 'pandas.core.frame.DataFrame'>\n",
      "Int64Index: 262529 entries, 0 to 354368\n",
      "Data columns (total 10 columns):\n",
      " #   Column            Non-Null Count   Dtype  \n",
      "---  ------            --------------   -----  \n",
      " 0   Price             262529 non-null  int64  \n",
      " 1   VehicleType       262529 non-null  object \n",
      " 2   RegistrationYear  262529 non-null  int64  \n",
      " 3   Gearbox           262529 non-null  object \n",
      " 4   Power             262529 non-null  float64\n",
      " 5   Model             251917 non-null  object \n",
      " 6   Kilometer         262529 non-null  int64  \n",
      " 7   FuelType          241009 non-null  object \n",
      " 8   Brand             262529 non-null  object \n",
      " 9   NotRepaired       214223 non-null  object \n",
      "dtypes: float64(1), int64(3), object(6)\n",
      "memory usage: 22.0+ MB\n"
     ]
    }
   ],
   "source": [
    "df.info()"
   ]
  },
  {
   "cell_type": "markdown",
   "metadata": {},
   "source": [
    "Пропуски в моделях машин так же восстановить нереально. Их совсем немного, можно удалить."
   ]
  },
  {
   "cell_type": "code",
   "execution_count": 29,
   "metadata": {},
   "outputs": [],
   "source": [
    "df.dropna(subset=['Model'], inplace=True)"
   ]
  },
  {
   "cell_type": "markdown",
   "metadata": {},
   "source": [
    "Теперь посмотрим колонку Kilometer. Удобнее это будет сделать на графике."
   ]
  },
  {
   "cell_type": "code",
   "execution_count": 30,
   "metadata": {},
   "outputs": [
    {
     "data": {
      "text/plain": [
       "<AxesSubplot:xlabel='Kilometer', ylabel='Density'>"
      ]
     },
     "execution_count": 30,
     "metadata": {},
     "output_type": "execute_result"
    },
    {
     "data": {
      "image/png": "[encoded data removed]",
      "text/plain": [
       "<Figure size 1080x360 with 1 Axes>"
      ]
     },
     "metadata": {
      "needs_background": "light"
     },
     "output_type": "display_data"
    }
   ],
   "source": [
    "plt.figure(figsize = (15,5))\n",
    "sns.distplot(df['Kilometer'], bins=100)"
   ]
  },
  {
   "cell_type": "markdown",
   "metadata": {},
   "source": [
    "Все выглядит вполне логично. Данные округляют до 10000. Возможно пользователь не сам вписывает пробег, а выбирает из вариантов. А 150000 это вариант максимального пробега. "
   ]
  },
  {
   "cell_type": "markdown",
   "metadata": {},
   "source": [
    "Теперь посмотрим на тип топлива. Тут уже много пропусков."
   ]
  },
  {
   "cell_type": "code",
   "execution_count": 31,
   "metadata": {},
   "outputs": [
    {
     "data": {
      "text/plain": [
       "petrol      148024\n",
       "gasoline     80186\n",
       "lpg           4399\n",
       "cng            459\n",
       "hybrid         191\n",
       "other           69\n",
       "electric        32\n",
       "Name: FuelType, dtype: int64"
      ]
     },
     "metadata": {},
     "output_type": "display_data"
    },
    {
     "data": {
      "text/plain": [
       "18557"
      ]
     },
     "execution_count": 31,
     "metadata": {},
     "output_type": "execute_result"
    }
   ],
   "source": [
    "display(df['FuelType'].value_counts())\n",
    "sum(df['FuelType'].isnull())"
   ]
  },
  {
   "cell_type": "markdown",
   "metadata": {},
   "source": [
    "Заполним пропуски с помощью unknown."
   ]
  },
  {
   "cell_type": "code",
   "execution_count": 32,
   "metadata": {},
   "outputs": [],
   "source": [
    "df['FuelType'].fillna('unknown', inplace=True)"
   ]
  },
  {
   "cell_type": "markdown",
   "metadata": {},
   "source": [
    "Посмотрим бренды, нет ли ошибок и неявных дубликатов."
   ]
  },
  {
   "cell_type": "code",
   "execution_count": 33,
   "metadata": {},
   "outputs": [
    {
     "data": {
      "text/plain": [
       "volkswagen       50203\n",
       "bmw              29761\n",
       "mercedes_benz    27314\n",
       "opel             25644\n",
       "audi             24191\n",
       "ford             17152\n",
       "renault          10611\n",
       "peugeot           7548\n",
       "fiat              4905\n",
       "mazda             4701\n",
       "seat              4429\n",
       "skoda             4346\n",
       "toyota            4026\n",
       "citroen           3881\n",
       "nissan            3345\n",
       "hyundai           2867\n",
       "volvo             2773\n",
       "mini              2760\n",
       "mitsubishi        2618\n",
       "smart             2549\n",
       "honda             2473\n",
       "kia               2093\n",
       "alfa_romeo        1978\n",
       "suzuki            1724\n",
       "chevrolet         1359\n",
       "chrysler          1250\n",
       "dacia              804\n",
       "subaru             650\n",
       "porsche            625\n",
       "jeep               595\n",
       "land_rover         467\n",
       "saab               465\n",
       "jaguar             452\n",
       "rover              363\n",
       "daewoo             332\n",
       "daihatsu           264\n",
       "lancia             252\n",
       "lada               146\n",
       "trabant              1\n",
       "Name: Brand, dtype: int64"
      ]
     },
     "execution_count": 33,
     "metadata": {},
     "output_type": "execute_result"
    }
   ],
   "source": [
    "df['Brand'].value_counts()"
   ]
  },
  {
   "cell_type": "markdown",
   "metadata": {},
   "source": [
    "Тут все в порядке. Похоже, марка автомобилей - это тоже категориальный признак, который выбирает пользователь.\n",
    "\n",
    "У нас осталась последняя колонка."
   ]
  },
  {
   "cell_type": "code",
   "execution_count": 34,
   "metadata": {},
   "outputs": [
    {
     "data": {
      "text/plain": [
       "44569"
      ]
     },
     "execution_count": 34,
     "metadata": {},
     "output_type": "execute_result"
    }
   ],
   "source": [
    "sum(df['NotRepaired'].isnull())"
   ]
  },
  {
   "cell_type": "markdown",
   "metadata": {},
   "source": [
    "Такие данные восстановить тоже нереально. Применим уже любимый unknown"
   ]
  },
  {
   "cell_type": "code",
   "execution_count": 35,
   "metadata": {},
   "outputs": [],
   "source": [
    "df['NotRepaired'].fillna('unknown', inplace=True)"
   ]
  },
  {
   "cell_type": "code",
   "execution_count": 36,
   "metadata": {},
   "outputs": [
    {
     "name": "stdout",
     "output_type": "stream",
     "text": [
      "<class 'pandas.core.frame.DataFrame'>\n",
      "Int64Index: 251917 entries, 0 to 354368\n",
      "Data columns (total 10 columns):\n",
      " #   Column            Non-Null Count   Dtype  \n",
      "---  ------            --------------   -----  \n",
      " 0   Price             251917 non-null  int64  \n",
      " 1   VehicleType       251917 non-null  object \n",
      " 2   RegistrationYear  251917 non-null  int64  \n",
      " 3   Gearbox           251917 non-null  object \n",
      " 4   Power             251917 non-null  float64\n",
      " 5   Model             251917 non-null  object \n",
      " 6   Kilometer         251917 non-null  int64  \n",
      " 7   FuelType          251917 non-null  object \n",
      " 8   Brand             251917 non-null  object \n",
      " 9   NotRepaired       251917 non-null  object \n",
      "dtypes: float64(1), int64(3), object(6)\n",
      "memory usage: 21.1+ MB\n"
     ]
    }
   ],
   "source": [
    "df.info()"
   ]
  },
  {
   "cell_type": "markdown",
   "metadata": {},
   "source": [
    "Данные почищены. Теперь можно начать подготовку данных к работе с моделями."
   ]
  },
  {
   "cell_type": "markdown",
   "metadata": {},
   "source": [
    "### Выбросы"
   ]
  },
  {
   "cell_type": "code",
   "execution_count": 38,
   "metadata": {},
   "outputs": [
    {
     "data": {
      "text/html": [
       "<div>\n",
       "<style scoped>\n",
       "    .dataframe tbody tr th:only-of-type {\n",
       "        vertical-align: middle;\n",
       "    }\n",
       "\n",
       "    .dataframe tbody tr th {\n",
       "        vertical-align: top;\n",
       "    }\n",
       "\n",
       "    .dataframe thead th {\n",
       "        text-align: right;\n",
       "    }\n",
       "</style>\n",
       "<table border=\"1\" class=\"dataframe\">\n",
       "  <thead>\n",
       "    <tr style=\"text-align: right;\">\n",
       "      <th></th>\n",
       "      <th>Price</th>\n",
       "      <th>RegistrationYear</th>\n",
       "      <th>Power</th>\n",
       "      <th>Kilometer</th>\n",
       "    </tr>\n",
       "  </thead>\n",
       "  <tbody>\n",
       "    <tr>\n",
       "      <th>count</th>\n",
       "      <td>251917.000000</td>\n",
       "      <td>251917.000000</td>\n",
       "      <td>251917.000000</td>\n",
       "      <td>251917.000000</td>\n",
       "    </tr>\n",
       "    <tr>\n",
       "      <th>mean</th>\n",
       "      <td>5057.073485</td>\n",
       "      <td>2003.881378</td>\n",
       "      <td>128.576932</td>\n",
       "      <td>128149.013366</td>\n",
       "    </tr>\n",
       "    <tr>\n",
       "      <th>std</th>\n",
       "      <td>4686.292711</td>\n",
       "      <td>29.244522</td>\n",
       "      <td>54.362694</td>\n",
       "      <td>37533.453599</td>\n",
       "    </tr>\n",
       "    <tr>\n",
       "      <th>min</th>\n",
       "      <td>0.000000</td>\n",
       "      <td>1000.000000</td>\n",
       "      <td>61.000000</td>\n",
       "      <td>5000.000000</td>\n",
       "    </tr>\n",
       "    <tr>\n",
       "      <th>25%</th>\n",
       "      <td>1499.000000</td>\n",
       "      <td>1999.000000</td>\n",
       "      <td>90.000000</td>\n",
       "      <td>125000.000000</td>\n",
       "    </tr>\n",
       "    <tr>\n",
       "      <th>50%</th>\n",
       "      <td>3499.000000</td>\n",
       "      <td>2004.000000</td>\n",
       "      <td>116.000000</td>\n",
       "      <td>150000.000000</td>\n",
       "    </tr>\n",
       "    <tr>\n",
       "      <th>75%</th>\n",
       "      <td>7350.000000</td>\n",
       "      <td>2008.000000</td>\n",
       "      <td>150.000000</td>\n",
       "      <td>150000.000000</td>\n",
       "    </tr>\n",
       "    <tr>\n",
       "      <th>max</th>\n",
       "      <td>20000.000000</td>\n",
       "      <td>9000.000000</td>\n",
       "      <td>6018.000000</td>\n",
       "      <td>150000.000000</td>\n",
       "    </tr>\n",
       "  </tbody>\n",
       "</table>\n",
       "</div>"
      ],
      "text/plain": [
       "               Price  RegistrationYear          Power      Kilometer\n",
       "count  251917.000000     251917.000000  251917.000000  251917.000000\n",
       "mean     5057.073485       2003.881378     128.576932  128149.013366\n",
       "std      4686.292711         29.244522      54.362694   37533.453599\n",
       "min         0.000000       1000.000000      61.000000    5000.000000\n",
       "25%      1499.000000       1999.000000      90.000000  125000.000000\n",
       "50%      3499.000000       2004.000000     116.000000  150000.000000\n",
       "75%      7350.000000       2008.000000     150.000000  150000.000000\n",
       "max     20000.000000       9000.000000    6018.000000  150000.000000"
      ]
     },
     "execution_count": 38,
     "metadata": {},
     "output_type": "execute_result"
    }
   ],
   "source": [
    "df.describe()"
   ]
  },
  {
   "cell_type": "code",
   "execution_count": 39,
   "metadata": {},
   "outputs": [
    {
     "data": {
      "text/plain": [
       "<AxesSubplot:xlabel='Price', ylabel='Density'>"
      ]
     },
     "execution_count": 39,
     "metadata": {},
     "output_type": "execute_result"
    },
    {
     "data": {
      "image/png": "[encoded data removed]",
      "text/plain": [
       "<Figure size 1080x360 with 1 Axes>"
      ]
     },
     "metadata": {
      "needs_background": "light"
     },
     "output_type": "display_data"
    }
   ],
   "source": [
    "# Начнем с цены\n",
    "plt.figure(figsize = (15,5))\n",
    "sns.distplot(df['Price'], bins=100)"
   ]
  },
  {
   "cell_type": "markdown",
   "metadata": {},
   "source": [
    "Какие любопытные ступеньки. Присмотримся к нулю."
   ]
  },
  {
   "cell_type": "code",
   "execution_count": 40,
   "metadata": {},
   "outputs": [
    {
     "data": {
      "text/plain": [
       "<AxesSubplot:xlabel='Price', ylabel='Density'>"
      ]
     },
     "execution_count": 40,
     "metadata": {},
     "output_type": "execute_result"
    },
    {
     "data": {
      "image/png": "[encoded data removed]",
      "text/plain": [
       "<Figure size 1080x360 with 1 Axes>"
      ]
     },
     "metadata": {
      "needs_background": "light"
     },
     "output_type": "display_data"
    }
   ],
   "source": [
    "plt.figure(figsize = (15,5))\n",
    "sns.distplot(df[\"Price\"][df['Price'] < 500], bins=100)"
   ]
  },
  {
   "cell_type": "markdown",
   "metadata": {},
   "source": [
    "Удалим нули, но нижние выбросы удалять не стоит, так как некоторые машины могут продаваться битые, старые, без половины комплектующих и тогда даже 100 сойдет, лишь бы этот хлам кто-то забрал :)"
   ]
  },
  {
   "cell_type": "code",
   "execution_count": 41,
   "metadata": {},
   "outputs": [],
   "source": [
    "df = df.loc[df['Price'] > 100]"
   ]
  },
  {
   "cell_type": "markdown",
   "metadata": {},
   "source": [
    "Далее год регистрации."
   ]
  },
  {
   "cell_type": "code",
   "execution_count": 42,
   "metadata": {},
   "outputs": [
    {
     "data": {
      "text/plain": [
       "array([1993, 2004, 2001, 2008, 1995, 2014, 1998, 2005, 2011, 2007, 2009,\n",
       "       2002, 2018, 1990, 2017, 1994, 2016, 1991, 1984, 2006, 1999, 2012,\n",
       "       2000, 1992, 1997, 2013, 2003, 1996, 2010, 1985, 1989, 2015, 1983,\n",
       "       1981, 1969, 1971, 1987, 1982, 1988, 1980, 1986, 1965, 1974, 1978,\n",
       "       1976, 1979, 1972, 1968, 1977, 1970, 1966, 1961, 1975, 1500, 1973,\n",
       "       1910, 1967, 1949, 1963, 1953, 2019, 1958, 1962, 2900, 1964, 1945,\n",
       "       5911, 1400, 1950, 4000, 1000, 1960, 5000, 1942, 1951, 1956, 1957,\n",
       "       1955, 1959, 1800, 1954, 8200, 1947, 1937, 1600])"
      ]
     },
     "execution_count": 42,
     "metadata": {},
     "output_type": "execute_result"
    }
   ],
   "source": [
    "df['RegistrationYear'].unique()"
   ]
  },
  {
   "cell_type": "code",
   "execution_count": 43,
   "metadata": {},
   "outputs": [],
   "source": [
    "# Избавимся от аномальных данных\n",
    "\n",
    "df = df.loc[df['RegistrationYear'] > 1970]\n",
    "df = df.loc[df['RegistrationYear'] < 2018]"
   ]
  },
  {
   "cell_type": "markdown",
   "metadata": {},
   "source": [
    "## Подготовка данных"
   ]
  },
  {
   "cell_type": "markdown",
   "metadata": {},
   "source": [
    "### Прямое кодирование"
   ]
  },
  {
   "cell_type": "markdown",
   "metadata": {},
   "source": [
    "Закодируем все категориальные признаки."
   ]
  },
  {
   "cell_type": "code",
   "execution_count": 44,
   "metadata": {},
   "outputs": [
    {
     "data": {
      "text/html": [
       "<div>\n",
       "<style scoped>\n",
       "    .dataframe tbody tr th:only-of-type {\n",
       "        vertical-align: middle;\n",
       "    }\n",
       "\n",
       "    .dataframe tbody tr th {\n",
       "        vertical-align: top;\n",
       "    }\n",
       "\n",
       "    .dataframe thead th {\n",
       "        text-align: right;\n",
       "    }\n",
       "</style>\n",
       "<table border=\"1\" class=\"dataframe\">\n",
       "  <thead>\n",
       "    <tr style=\"text-align: right;\">\n",
       "      <th></th>\n",
       "      <th>Price</th>\n",
       "      <th>RegistrationYear</th>\n",
       "      <th>Power</th>\n",
       "      <th>Kilometer</th>\n",
       "      <th>Gearbox_manual</th>\n",
       "      <th>Gearbox_unknown</th>\n",
       "      <th>FuelType_electric</th>\n",
       "      <th>FuelType_gasoline</th>\n",
       "      <th>FuelType_hybrid</th>\n",
       "      <th>FuelType_lpg</th>\n",
       "      <th>...</th>\n",
       "      <th>Brand_volkswagen</th>\n",
       "      <th>Brand_volvo</th>\n",
       "      <th>VehicleType_convertible</th>\n",
       "      <th>VehicleType_coupe</th>\n",
       "      <th>VehicleType_other</th>\n",
       "      <th>VehicleType_sedan</th>\n",
       "      <th>VehicleType_small</th>\n",
       "      <th>VehicleType_suv</th>\n",
       "      <th>VehicleType_unknown</th>\n",
       "      <th>VehicleType_wagon</th>\n",
       "    </tr>\n",
       "  </thead>\n",
       "  <tbody>\n",
       "    <tr>\n",
       "      <th>0</th>\n",
       "      <td>480</td>\n",
       "      <td>1993</td>\n",
       "      <td>75.0</td>\n",
       "      <td>150000</td>\n",
       "      <td>1</td>\n",
       "      <td>0</td>\n",
       "      <td>0</td>\n",
       "      <td>0</td>\n",
       "      <td>0</td>\n",
       "      <td>0</td>\n",
       "      <td>...</td>\n",
       "      <td>1</td>\n",
       "      <td>0</td>\n",
       "      <td>0</td>\n",
       "      <td>0</td>\n",
       "      <td>0</td>\n",
       "      <td>0</td>\n",
       "      <td>0</td>\n",
       "      <td>0</td>\n",
       "      <td>1</td>\n",
       "      <td>0</td>\n",
       "    </tr>\n",
       "    <tr>\n",
       "      <th>2</th>\n",
       "      <td>9800</td>\n",
       "      <td>2004</td>\n",
       "      <td>163.0</td>\n",
       "      <td>125000</td>\n",
       "      <td>0</td>\n",
       "      <td>0</td>\n",
       "      <td>0</td>\n",
       "      <td>1</td>\n",
       "      <td>0</td>\n",
       "      <td>0</td>\n",
       "      <td>...</td>\n",
       "      <td>0</td>\n",
       "      <td>0</td>\n",
       "      <td>0</td>\n",
       "      <td>0</td>\n",
       "      <td>0</td>\n",
       "      <td>0</td>\n",
       "      <td>0</td>\n",
       "      <td>1</td>\n",
       "      <td>0</td>\n",
       "      <td>0</td>\n",
       "    </tr>\n",
       "    <tr>\n",
       "      <th>3</th>\n",
       "      <td>1500</td>\n",
       "      <td>2001</td>\n",
       "      <td>75.0</td>\n",
       "      <td>150000</td>\n",
       "      <td>1</td>\n",
       "      <td>0</td>\n",
       "      <td>0</td>\n",
       "      <td>0</td>\n",
       "      <td>0</td>\n",
       "      <td>0</td>\n",
       "      <td>...</td>\n",
       "      <td>1</td>\n",
       "      <td>0</td>\n",
       "      <td>0</td>\n",
       "      <td>0</td>\n",
       "      <td>0</td>\n",
       "      <td>0</td>\n",
       "      <td>1</td>\n",
       "      <td>0</td>\n",
       "      <td>0</td>\n",
       "      <td>0</td>\n",
       "    </tr>\n",
       "    <tr>\n",
       "      <th>4</th>\n",
       "      <td>3600</td>\n",
       "      <td>2008</td>\n",
       "      <td>69.0</td>\n",
       "      <td>90000</td>\n",
       "      <td>1</td>\n",
       "      <td>0</td>\n",
       "      <td>0</td>\n",
       "      <td>1</td>\n",
       "      <td>0</td>\n",
       "      <td>0</td>\n",
       "      <td>...</td>\n",
       "      <td>0</td>\n",
       "      <td>0</td>\n",
       "      <td>0</td>\n",
       "      <td>0</td>\n",
       "      <td>0</td>\n",
       "      <td>0</td>\n",
       "      <td>1</td>\n",
       "      <td>0</td>\n",
       "      <td>0</td>\n",
       "      <td>0</td>\n",
       "    </tr>\n",
       "    <tr>\n",
       "      <th>5</th>\n",
       "      <td>650</td>\n",
       "      <td>1995</td>\n",
       "      <td>102.0</td>\n",
       "      <td>150000</td>\n",
       "      <td>1</td>\n",
       "      <td>0</td>\n",
       "      <td>0</td>\n",
       "      <td>0</td>\n",
       "      <td>0</td>\n",
       "      <td>0</td>\n",
       "      <td>...</td>\n",
       "      <td>0</td>\n",
       "      <td>0</td>\n",
       "      <td>0</td>\n",
       "      <td>0</td>\n",
       "      <td>0</td>\n",
       "      <td>1</td>\n",
       "      <td>0</td>\n",
       "      <td>0</td>\n",
       "      <td>0</td>\n",
       "      <td>0</td>\n",
       "    </tr>\n",
       "  </tbody>\n",
       "</table>\n",
       "<p>5 rows × 307 columns</p>\n",
       "</div>"
      ],
      "text/plain": [
       "   Price  RegistrationYear  Power  Kilometer  Gearbox_manual  Gearbox_unknown  \\\n",
       "0    480              1993   75.0     150000               1                0   \n",
       "2   9800              2004  163.0     125000               0                0   \n",
       "3   1500              2001   75.0     150000               1                0   \n",
       "4   3600              2008   69.0      90000               1                0   \n",
       "5    650              1995  102.0     150000               1                0   \n",
       "\n",
       "   FuelType_electric  FuelType_gasoline  FuelType_hybrid  FuelType_lpg  ...  \\\n",
       "0                  0                  0                0             0  ...   \n",
       "2                  0                  1                0             0  ...   \n",
       "3                  0                  0                0             0  ...   \n",
       "4                  0                  1                0             0  ...   \n",
       "5                  0                  0                0             0  ...   \n",
       "\n",
       "   Brand_volkswagen  Brand_volvo  VehicleType_convertible  VehicleType_coupe  \\\n",
       "0                 1            0                        0                  0   \n",
       "2                 0            0                        0                  0   \n",
       "3                 1            0                        0                  0   \n",
       "4                 0            0                        0                  0   \n",
       "5                 0            0                        0                  0   \n",
       "\n",
       "   VehicleType_other  VehicleType_sedan  VehicleType_small  VehicleType_suv  \\\n",
       "0                  0                  0                  0                0   \n",
       "2                  0                  0                  0                1   \n",
       "3                  0                  0                  1                0   \n",
       "4                  0                  0                  1                0   \n",
       "5                  0                  1                  0                0   \n",
       "\n",
       "   VehicleType_unknown  VehicleType_wagon  \n",
       "0                    1                  0  \n",
       "2                    0                  0  \n",
       "3                    0                  0  \n",
       "4                    0                  0  \n",
       "5                    0                  0  \n",
       "\n",
       "[5 rows x 307 columns]"
      ]
     },
     "execution_count": 44,
     "metadata": {},
     "output_type": "execute_result"
    }
   ],
   "source": [
    "df_ohe = pd.get_dummies(df, columns = ['Gearbox', 'FuelType', 'NotRepaired', 'Model', 'Brand', 'VehicleType'] , drop_first=True)\n",
    "df_ohe.head(5)"
   ]
  },
  {
   "cell_type": "code",
   "execution_count": 45,
   "metadata": {},
   "outputs": [
    {
     "name": "stdout",
     "output_type": "stream",
     "text": [
      "<class 'pandas.core.frame.DataFrame'>\n",
      "Int64Index: 241866 entries, 0 to 354368\n",
      "Columns: 307 entries, Price to VehicleType_wagon\n",
      "dtypes: float64(1), int64(3), uint8(303)\n",
      "memory usage: 79.1 MB\n"
     ]
    }
   ],
   "source": [
    "df_ohe.info()"
   ]
  },
  {
   "cell_type": "markdown",
   "metadata": {},
   "source": [
    "### Разделение на выборки"
   ]
  },
  {
   "cell_type": "code",
   "execution_count": 46,
   "metadata": {},
   "outputs": [],
   "source": [
    "features = df_ohe.drop('Price', axis=1)\n",
    "target = df_ohe['Price']"
   ]
  },
  {
   "cell_type": "code",
   "execution_count": 47,
   "metadata": {},
   "outputs": [],
   "source": [
    "features_train, features_test, target_train, target_test = train_test_split(features, target, test_size = 0.2, \n",
    "                                                                            random_state=12345)"
   ]
  },
  {
   "cell_type": "code",
   "execution_count": 48,
   "metadata": {},
   "outputs": [
    {
     "name": "stdout",
     "output_type": "stream",
     "text": [
      "(193492, 306)\n"
     ]
    },
    {
     "data": {
      "text/plain": [
       "(48374, 306)"
      ]
     },
     "execution_count": 48,
     "metadata": {},
     "output_type": "execute_result"
    }
   ],
   "source": [
    "print(features_train.shape)\n",
    "features_test.shape"
   ]
  },
  {
   "cell_type": "code",
   "execution_count": 49,
   "metadata": {},
   "outputs": [
    {
     "name": "stdout",
     "output_type": "stream",
     "text": [
      "(193492,)\n"
     ]
    },
    {
     "data": {
      "text/plain": [
       "(48374,)"
      ]
     },
     "execution_count": 49,
     "metadata": {},
     "output_type": "execute_result"
    }
   ],
   "source": [
    "print(target_train.shape)\n",
    "target_test.shape"
   ]
  },
  {
   "cell_type": "markdown",
   "metadata": {},
   "source": [
    "## Обучение моделей\n",
    "\n",
    "Возьмем линейную регрессию и модель градиентного бустинга. \n",
    "\n",
    "Метрикой качества будет RMSE."
   ]
  },
  {
   "cell_type": "code",
   "execution_count": 63,
   "metadata": {},
   "outputs": [],
   "source": [
    "# Функцию RMSE\n",
    "\n",
    "def rmse(predictions, target):\n",
    "    return MSE(predictions, target)**0.5"
   ]
  },
  {
   "cell_type": "markdown",
   "metadata": {},
   "source": [
    "### Медианная модель\n",
    "\n",
    "Так как RMSE показательна только в сравнении, создадим предсказания, состоящие из медианных значений таргета. Результаты наших моделей будем сравнивать с показателем эффективности медианы. Если значение RMSE модели будет больше, тогда будет понятно ,что модель работает плохо."
   ]
  },
  {
   "cell_type": "code",
   "execution_count": 64,
   "metadata": {},
   "outputs": [
    {
     "data": {
      "text/plain": [
       "4992.304238444497"
      ]
     },
     "execution_count": 64,
     "metadata": {},
     "output_type": "execute_result"
    }
   ],
   "source": [
    "median = target_train.median()\n",
    "predictions_median = pd.Series(median, index=np.arange(len(target_test)))\n",
    "rmse_median = rmse(target_test, predictions_median)\n",
    "rmse_median"
   ]
  },
  {
   "cell_type": "markdown",
   "metadata": {},
   "source": [
    "### Линейная регрессия"
   ]
  },
  {
   "cell_type": "code",
   "execution_count": 51,
   "metadata": {},
   "outputs": [],
   "source": [
    "model_reg = LinearRegression()"
   ]
  },
  {
   "cell_type": "code",
   "execution_count": 86,
   "metadata": {},
   "outputs": [
    {
     "name": "stdout",
     "output_type": "stream",
     "text": [
      "CPU times: user 13.3 s, sys: 3.99 s, total: 17.3 s\n",
      "Wall time: 17.3 s\n"
     ]
    }
   ],
   "source": [
    "%%time\n",
    "start = datetime.now()\n",
    "model_reg.fit(features_train, target_train)\n",
    "stop = datetime.now()\n",
    "lr_fit_time = (stop - start).total_seconds()"
   ]
  },
  {
   "cell_type": "code",
   "execution_count": 87,
   "metadata": {},
   "outputs": [
    {
     "name": "stdout",
     "output_type": "stream",
     "text": [
      "CPU times: user 58.9 ms, sys: 39.7 ms, total: 98.7 ms\n",
      "Wall time: 66.1 ms\n"
     ]
    }
   ],
   "source": [
    "%%time\n",
    "start = start = datetime.now()\n",
    "predictions_reg = model_reg.predict(features_test)\n",
    "stop = datetime.now()\n",
    "lr_pred_time = (stop - start).total_seconds()"
   ]
  },
  {
   "cell_type": "code",
   "execution_count": 54,
   "metadata": {},
   "outputs": [
    {
     "data": {
      "text/plain": [
       "2632.566969650488"
      ]
     },
     "execution_count": 54,
     "metadata": {},
     "output_type": "execute_result"
    }
   ],
   "source": [
    "rmse_reg = rmse(target_test, predictions_reg)\n",
    "rmse_reg"
   ]
  },
  {
   "cell_type": "markdown",
   "metadata": {},
   "source": [
    "Показатель ошибки линейной регрессии вдвое меньше, чем у медианы! Это уже успех. Посмотрим, справится ли лучшее градиентный бустинг."
   ]
  },
  {
   "cell_type": "markdown",
   "metadata": {},
   "source": [
    "### Градиентный бустинг"
   ]
  },
  {
   "cell_type": "markdown",
   "metadata": {},
   "source": [
    "Посмотрим как работает модель по умолчанию."
   ]
  },
  {
   "cell_type": "code",
   "execution_count": 55,
   "metadata": {},
   "outputs": [],
   "source": [
    "model_lgb = lgb.LGBMRegressor()"
   ]
  },
  {
   "cell_type": "code",
   "execution_count": 88,
   "metadata": {},
   "outputs": [
    {
     "name": "stdout",
     "output_type": "stream",
     "text": [
      "CPU times: user 7.29 s, sys: 265 ms, total: 7.55 s\n",
      "Wall time: 7.5 s\n"
     ]
    }
   ],
   "source": [
    "%%time\n",
    "start = start = datetime.now()\n",
    "\n",
    "model_lgb.fit(features_train,target_train)\n",
    "\n",
    "stop = datetime.now()\n",
    "lgb1_fit_time = (stop - start).total_seconds()"
   ]
  },
  {
   "cell_type": "code",
   "execution_count": 89,
   "metadata": {},
   "outputs": [
    {
     "name": "stdout",
     "output_type": "stream",
     "text": [
      "CPU times: user 403 ms, sys: 65.3 ms, total: 468 ms\n",
      "Wall time: 417 ms\n"
     ]
    }
   ],
   "source": [
    "%%time\n",
    "start = start = datetime.now()\n",
    "\n",
    "predictions_lgb1 = model_lgb.predict(features_test)\n",
    "\n",
    "stop = datetime.now()\n",
    "lgb1_pred_time = (stop - start).total_seconds()"
   ]
  },
  {
   "cell_type": "code",
   "execution_count": 58,
   "metadata": {},
   "outputs": [
    {
     "data": {
      "text/plain": [
       "1775.6505476357454"
      ]
     },
     "execution_count": 58,
     "metadata": {},
     "output_type": "execute_result"
    }
   ],
   "source": [
    "rmse_lgb1 = rmse(target_test, predictions_lgb1)\n",
    "rmse_lgb1"
   ]
  },
  {
   "cell_type": "markdown",
   "metadata": {},
   "source": [
    "Отличные показатели! Может ничего и не менять? Но нет, меня гложет любопытство, что можно выжать из этой малышки :)\n",
    "\n",
    "Чтобы ускорить подбор гиперпараметров предлагаю написать функцию, которая сразу выведет значение MSE."
   ]
  },
  {
   "cell_type": "code",
   "execution_count": 61,
   "metadata": {},
   "outputs": [],
   "source": [
    "def booster(trees):\n",
    "    train_df = lgb.Dataset(features_train, target_train, feature_name=features.columns.tolist())\n",
    "    test_df = lgb.Dataset(features_test, target_test, feature_name=features.columns.tolist())\n",
    "\n",
    "    booster = lgb.train({\"objective\": \"regression\"},\n",
    "                    train_set=train_df, valid_sets=(test_df,),\n",
    "                    num_boost_round=trees)\n",
    "    predictions = booster.predict(features_test)\n",
    "    rmse = rmse(target_test, predictions)\n",
    "    return rmse"
   ]
  },
  {
   "cell_type": "code",
   "execution_count": 62,
   "metadata": {},
   "outputs": [
    {
     "name": "stdout",
     "output_type": "stream",
     "text": [
      "[LightGBM] [Warning] Auto-choosing row-wise multi-threading, the overhead of testing was 0.006186 seconds.\n",
      "You can set `force_row_wise=true` to remove the overhead.\n",
      "And if memory is not enough, you can set `force_col_wise=true`.\n",
      "[LightGBM] [Info] Total Bins 866\n",
      "[LightGBM] [Info] Number of data points in the train set: 193492, number of used features: 283\n",
      "[LightGBM] [Info] Start training from score 5200.381587\n",
      "[1]\tvalid_0's l2: 1.91876e+07\n",
      "[2]\tvalid_0's l2: 1.67543e+07\n",
      "[3]\tvalid_0's l2: 1.476e+07\n",
      "[4]\tvalid_0's l2: 1.31188e+07\n",
      "[5]\tvalid_0's l2: 1.17513e+07\n",
      "[6]\tvalid_0's l2: 1.05898e+07\n",
      "[7]\tvalid_0's l2: 9.61352e+06\n",
      "[8]\tvalid_0's l2: 8.81645e+06\n",
      "[9]\tvalid_0's l2: 8.14176e+06\n",
      "[10]\tvalid_0's l2: 7.56497e+06\n",
      "[11]\tvalid_0's l2: 7.09039e+06\n",
      "[12]\tvalid_0's l2: 6.685e+06\n",
      "[13]\tvalid_0's l2: 6.33473e+06\n",
      "[14]\tvalid_0's l2: 6.02841e+06\n",
      "[15]\tvalid_0's l2: 5.76565e+06\n",
      "[16]\tvalid_0's l2: 5.52915e+06\n",
      "[17]\tvalid_0's l2: 5.31772e+06\n",
      "[18]\tvalid_0's l2: 5.11903e+06\n",
      "[19]\tvalid_0's l2: 4.96342e+06\n",
      "[20]\tvalid_0's l2: 4.80632e+06\n",
      "[21]\tvalid_0's l2: 4.68345e+06\n",
      "[22]\tvalid_0's l2: 4.56473e+06\n",
      "[23]\tvalid_0's l2: 4.466e+06\n",
      "[24]\tvalid_0's l2: 4.37521e+06\n",
      "[25]\tvalid_0's l2: 4.2977e+06\n",
      "[26]\tvalid_0's l2: 4.21401e+06\n",
      "[27]\tvalid_0's l2: 4.1478e+06\n",
      "[28]\tvalid_0's l2: 4.08973e+06\n",
      "[29]\tvalid_0's l2: 4.02348e+06\n",
      "[30]\tvalid_0's l2: 3.97044e+06\n",
      "[31]\tvalid_0's l2: 3.92564e+06\n",
      "[32]\tvalid_0's l2: 3.87916e+06\n",
      "[33]\tvalid_0's l2: 3.84549e+06\n",
      "[34]\tvalid_0's l2: 3.8071e+06\n",
      "[35]\tvalid_0's l2: 3.77567e+06\n",
      "[36]\tvalid_0's l2: 3.73791e+06\n",
      "[37]\tvalid_0's l2: 3.7029e+06\n",
      "[38]\tvalid_0's l2: 3.68048e+06\n",
      "[39]\tvalid_0's l2: 3.65671e+06\n",
      "[40]\tvalid_0's l2: 3.63193e+06\n",
      "[41]\tvalid_0's l2: 3.6103e+06\n",
      "[42]\tvalid_0's l2: 3.59124e+06\n",
      "[43]\tvalid_0's l2: 3.56409e+06\n",
      "[44]\tvalid_0's l2: 3.54772e+06\n",
      "[45]\tvalid_0's l2: 3.52608e+06\n",
      "[46]\tvalid_0's l2: 3.50886e+06\n",
      "[47]\tvalid_0's l2: 3.49121e+06\n",
      "[48]\tvalid_0's l2: 3.47565e+06\n",
      "[49]\tvalid_0's l2: 3.46145e+06\n",
      "[50]\tvalid_0's l2: 3.45028e+06\n",
      "[51]\tvalid_0's l2: 3.43465e+06\n",
      "[52]\tvalid_0's l2: 3.42589e+06\n",
      "[53]\tvalid_0's l2: 3.41381e+06\n",
      "[54]\tvalid_0's l2: 3.40295e+06\n",
      "[55]\tvalid_0's l2: 3.3924e+06\n",
      "[56]\tvalid_0's l2: 3.38306e+06\n",
      "[57]\tvalid_0's l2: 3.37432e+06\n",
      "[58]\tvalid_0's l2: 3.3657e+06\n",
      "[59]\tvalid_0's l2: 3.35716e+06\n",
      "[60]\tvalid_0's l2: 3.34717e+06\n",
      "[61]\tvalid_0's l2: 3.33971e+06\n",
      "[62]\tvalid_0's l2: 3.33101e+06\n",
      "[63]\tvalid_0's l2: 3.32372e+06\n",
      "[64]\tvalid_0's l2: 3.31749e+06\n",
      "[65]\tvalid_0's l2: 3.30849e+06\n",
      "[66]\tvalid_0's l2: 3.30098e+06\n",
      "[67]\tvalid_0's l2: 3.29551e+06\n",
      "[68]\tvalid_0's l2: 3.28857e+06\n",
      "[69]\tvalid_0's l2: 3.28285e+06\n",
      "[70]\tvalid_0's l2: 3.27719e+06\n",
      "[71]\tvalid_0's l2: 3.26772e+06\n",
      "[72]\tvalid_0's l2: 3.26353e+06\n",
      "[73]\tvalid_0's l2: 3.25818e+06\n",
      "[74]\tvalid_0's l2: 3.25116e+06\n",
      "[75]\tvalid_0's l2: 3.24388e+06\n",
      "[76]\tvalid_0's l2: 3.23822e+06\n",
      "[77]\tvalid_0's l2: 3.2321e+06\n",
      "[78]\tvalid_0's l2: 3.22801e+06\n",
      "[79]\tvalid_0's l2: 3.22333e+06\n",
      "[80]\tvalid_0's l2: 3.21923e+06\n",
      "[81]\tvalid_0's l2: 3.21471e+06\n",
      "[82]\tvalid_0's l2: 3.21124e+06\n",
      "[83]\tvalid_0's l2: 3.20772e+06\n",
      "[84]\tvalid_0's l2: 3.20278e+06\n",
      "[85]\tvalid_0's l2: 3.19981e+06\n",
      "[86]\tvalid_0's l2: 3.19487e+06\n",
      "[87]\tvalid_0's l2: 3.19151e+06\n",
      "[88]\tvalid_0's l2: 3.18913e+06\n",
      "[89]\tvalid_0's l2: 3.18487e+06\n",
      "[90]\tvalid_0's l2: 3.18128e+06\n",
      "[91]\tvalid_0's l2: 3.17851e+06\n",
      "[92]\tvalid_0's l2: 3.17601e+06\n",
      "[93]\tvalid_0's l2: 3.17136e+06\n",
      "[94]\tvalid_0's l2: 3.16713e+06\n",
      "[95]\tvalid_0's l2: 3.16482e+06\n",
      "[96]\tvalid_0's l2: 3.16227e+06\n",
      "[97]\tvalid_0's l2: 3.15958e+06\n",
      "[98]\tvalid_0's l2: 3.15706e+06\n",
      "[99]\tvalid_0's l2: 3.1552e+06\n",
      "[100]\tvalid_0's l2: 3.15293e+06\n",
      "[101]\tvalid_0's l2: 3.14974e+06\n",
      "[102]\tvalid_0's l2: 3.14799e+06\n",
      "[103]\tvalid_0's l2: 3.14457e+06\n",
      "[104]\tvalid_0's l2: 3.14109e+06\n",
      "[105]\tvalid_0's l2: 3.1382e+06\n",
      "[106]\tvalid_0's l2: 3.13668e+06\n",
      "[107]\tvalid_0's l2: 3.13379e+06\n",
      "[108]\tvalid_0's l2: 3.13187e+06\n",
      "[109]\tvalid_0's l2: 3.13085e+06\n",
      "[110]\tvalid_0's l2: 3.12931e+06\n",
      "CPU times: user 8.95 s, sys: 335 ms, total: 9.29 s\n",
      "Wall time: 9.34 s\n"
     ]
    },
    {
     "data": {
      "text/plain": [
       "1768.986982611119"
      ]
     },
     "execution_count": 62,
     "metadata": {},
     "output_type": "execute_result"
    }
   ],
   "source": [
    "%%time\n",
    "booster(110)"
   ]
  },
  {
   "cell_type": "markdown",
   "metadata": {},
   "source": [
    "Как много текста получилось. Но функция работает. Но так перебирать самостоятельно можно очень долго. Попробуем ускорить процесс с помощью GridSearchCV."
   ]
  },
  {
   "cell_type": "code",
   "execution_count": 70,
   "metadata": {},
   "outputs": [],
   "source": [
    "params = {'n_estimators': range(63, 66), 'max_depth': range(11,13), 'num_leaves': [145, 160, 5]}\n",
    "#, 'num_leaves': range(5)"
   ]
  },
  {
   "cell_type": "code",
   "execution_count": 71,
   "metadata": {},
   "outputs": [],
   "source": [
    "grid = GridSearchCV(estimator=model_lgb, param_grid=params, scoring=rmse)"
   ]
  },
  {
   "cell_type": "code",
   "execution_count": 72,
   "metadata": {},
   "outputs": [
    {
     "name": "stdout",
     "output_type": "stream",
     "text": [
      "CPU times: user 9min 55s, sys: 22.8 s, total: 10min 18s\n",
      "Wall time: 10min 21s\n"
     ]
    },
    {
     "data": {
      "text/plain": [
       "GridSearchCV(estimator=LGBMRegressor(),\n",
       "             param_grid={'max_depth': range(11, 13),\n",
       "                         'n_estimators': range(63, 66),\n",
       "                         'num_leaves': [145, 160, 5]},\n",
       "             scoring=<function rmse at 0x7f2bdfdac550>)"
      ]
     },
     "execution_count": 72,
     "metadata": {},
     "output_type": "execute_result"
    }
   ],
   "source": [
    "%%time\n",
    "grid.fit(features_train, target_train)"
   ]
  },
  {
   "cell_type": "code",
   "execution_count": 73,
   "metadata": {},
   "outputs": [
    {
     "data": {
      "text/plain": [
       "{'max_depth': 11, 'n_estimators': 63, 'num_leaves': 145}"
      ]
     },
     "execution_count": 73,
     "metadata": {},
     "output_type": "execute_result"
    }
   ],
   "source": [
    "grid.best_params_"
   ]
  },
  {
   "cell_type": "markdown",
   "metadata": {},
   "source": [
    "Теперь посмотрим RMSE для нашей модели."
   ]
  },
  {
   "cell_type": "code",
   "execution_count": 90,
   "metadata": {},
   "outputs": [
    {
     "name": "stdout",
     "output_type": "stream",
     "text": [
      "CPU times: user 9.91 s, sys: 300 ms, total: 10.2 s\n",
      "Wall time: 10.3 s\n"
     ]
    }
   ],
   "source": [
    "%%time\n",
    "start = start = datetime.now()\n",
    "\n",
    "model_lgb = lgb.LGBMRegressor(n_estimators = 63, max_depth = 11, num_leaves = 145)\n",
    "model_lgb.fit(features_train,target_train)\n",
    "\n",
    "stop = datetime.now()\n",
    "lgb2_fit_time = (stop - start).total_seconds()"
   ]
  },
  {
   "cell_type": "code",
   "execution_count": 91,
   "metadata": {},
   "outputs": [
    {
     "name": "stdout",
     "output_type": "stream",
     "text": [
      "CPU times: user 423 ms, sys: 65 ms, total: 488 ms\n",
      "Wall time: 494 ms\n"
     ]
    },
    {
     "data": {
      "text/plain": [
       "1728.7721177580995"
      ]
     },
     "execution_count": 91,
     "metadata": {},
     "output_type": "execute_result"
    }
   ],
   "source": [
    "%%time\n",
    "start = start = datetime.now()\n",
    "\n",
    "predictions_lgb2 = model_lgb.predict(features_test)\n",
    "rmse_lgb2 = rmse(target_test, predictions_lgb2)\n",
    "\n",
    "stop = datetime.now()\n",
    "lgb2_pred_time = (stop - start).total_seconds()\n",
    "\n",
    "rmse_lgb2"
   ]
  },
  {
   "cell_type": "code",
   "execution_count": 79,
   "metadata": {
    "scrolled": true
   },
   "outputs": [
    {
     "data": {
      "text/plain": [
       "46.878429877645885"
      ]
     },
     "execution_count": 79,
     "metadata": {},
     "output_type": "execute_result"
    }
   ],
   "source": [
    "rmse_lgb1 - rmse_lgb2"
   ]
  },
  {
   "cell_type": "markdown",
   "metadata": {},
   "source": [
    "## Анализ моделей"
   ]
  },
  {
   "cell_type": "code",
   "execution_count": 97,
   "metadata": {},
   "outputs": [
    {
     "data": {
      "image/png": "[encoded data removed]",
      "text/plain": [
       "<Figure size 432x288 with 1 Axes>"
      ]
     },
     "metadata": {
      "needs_background": "light"
     },
     "output_type": "display_data"
    }
   ],
   "source": [
    "sns.barplot(\n",
    "    x=['rmse_reg', 'rmse_lgb1', 'rmse_lgb2'], \n",
    "    y=[rmse_reg, rmse_lgb1, rmse_lgb2], \n",
    "    palette='hls', \n",
    ")\n",
    "plt.title('RMSE для 3х моделей')\n",
    "plt.show()"
   ]
  },
  {
   "cell_type": "code",
   "execution_count": 96,
   "metadata": {},
   "outputs": [
    {
     "data": {
      "image/png": "[encoded data removed]",
      "text/plain": [
       "<Figure size 432x288 with 1 Axes>"
      ]
     },
     "metadata": {
      "needs_background": "light"
     },
     "output_type": "display_data"
    }
   ],
   "source": [
    "sns.barplot(\n",
    "    x=['lr_fit_time', 'lgb1_fit_time', 'lgb2_fit_time'], \n",
    "    y=[lr_fit_time, lgb1_fit_time, lgb2_fit_time], \n",
    "    palette='hls', \n",
    ")\n",
    "plt.title('Время обучения для 3х моделей')\n",
    "plt.show()"
   ]
  },
  {
   "cell_type": "code",
   "execution_count": 99,
   "metadata": {},
   "outputs": [
    {
     "data": {
      "image/png": "[encoded data removed]",
      "text/plain": [
       "<Figure size 432x288 with 1 Axes>"
      ]
     },
     "metadata": {
      "needs_background": "light"
     },
     "output_type": "display_data"
    }
   ],
   "source": [
    "sns.barplot(\n",
    "    x=['lr_pred_time', 'lgb1_pred_time', 'lgb2_pred_time'], \n",
    "    y=[lr_pred_time, lgb1_pred_time, lgb2_pred_time], \n",
    "    palette='hls', \n",
    ")\n",
    "plt.title('Время предсказания для 3х моделей')\n",
    "plt.show()"
   ]
  },
  {
   "cell_type": "markdown",
   "metadata": {},
   "source": [
    "Медианная модель показала себя хуже всего по качеству, но была самой быстрой, так как ей не нужно обучаться. Разумеется, такие предсказания в реальной жизни не имеют смысла.\n",
    "\n",
    "Линейная регрессия смогла обучиться быстрее секунды, а предсказания составляла 7,3 секунды. Это приятный результат и с таким временем работать весьма удобно. Однако качество 4992 сомнительное.\n",
    "\n",
    "Модель градиентного бустинга из библиотеки LightGBM показала лучший результат по качеству. 1775 в 2,5 раза меньше линейной регрессии. Без подбора гиперпараметров модель справилась за 6 секунд. Это определенно победитель в нашем соревновании моделей.\n",
    "\n",
    "Однако на подбор гиперпараметров уходит кошмарное количество времени. Если искать все три параметра через GridSearch, может уйти полдня. Я по очереди подбирала по одному, прогоняла сначала max_depth, потом следующее и тд. Последний раз это заняло 1 час 38 минут. Конечно, качество модели улучшилось на 46, но стоит ли оно того? Пожалуй, зависит от задачи и сроков её выполнения."
   ]
  }
 ],
 "metadata": {
  "ExecuteTimeLog": [
   {
    "duration": 626,
    "start_time": "2022-05-05T12:32:22.272Z"
   },
   {
    "duration": 1767,
    "start_time": "2022-05-05T12:32:56.206Z"
   },
   {
    "duration": 36,
    "start_time": "2022-05-05T12:33:14.806Z"
   },
   {
    "duration": 335,
    "start_time": "2022-05-05T12:33:15.229Z"
   },
   {
    "duration": 12,
    "start_time": "2022-05-05T12:44:29.838Z"
   },
   {
    "duration": 38,
    "start_time": "2022-05-05T12:48:51.652Z"
   },
   {
    "duration": 18,
    "start_time": "2022-05-05T12:49:13.395Z"
   },
   {
    "duration": 124,
    "start_time": "2022-05-05T12:49:43.218Z"
   },
   {
    "duration": 204,
    "start_time": "2022-05-05T12:50:12.623Z"
   },
   {
    "duration": 436,
    "start_time": "2022-05-05T12:50:30.976Z"
   },
   {
    "duration": 272,
    "start_time": "2022-05-05T12:50:36.986Z"
   },
   {
    "duration": 316,
    "start_time": "2022-05-05T12:51:31.501Z"
   },
   {
    "duration": 362,
    "start_time": "2022-05-05T12:51:52.284Z"
   },
   {
    "duration": 101,
    "start_time": "2022-05-05T12:54:37.533Z"
   },
   {
    "duration": 32,
    "start_time": "2022-05-05T12:54:42.724Z"
   },
   {
    "duration": 30,
    "start_time": "2022-05-05T12:54:53.247Z"
   },
   {
    "duration": 32,
    "start_time": "2022-05-05T12:55:01.009Z"
   },
   {
    "duration": 32,
    "start_time": "2022-05-05T12:55:09.412Z"
   },
   {
    "duration": 45,
    "start_time": "2022-05-05T13:10:06.980Z"
   },
   {
    "duration": 48,
    "start_time": "2022-05-05T13:10:15.732Z"
   },
   {
    "duration": 87,
    "start_time": "2022-05-05T13:12:47.003Z"
   },
   {
    "duration": 261,
    "start_time": "2022-05-05T13:14:49.789Z"
   },
   {
    "duration": 778,
    "start_time": "2022-05-05T13:18:27.290Z"
   },
   {
    "duration": 10,
    "start_time": "2022-05-05T13:18:52.742Z"
   },
   {
    "duration": 15,
    "start_time": "2022-05-05T13:19:00.434Z"
   },
   {
    "duration": 11,
    "start_time": "2022-05-05T13:19:11.957Z"
   },
   {
    "duration": 10653,
    "start_time": "2022-05-05T13:21:12.200Z"
   },
   {
    "duration": 3948,
    "start_time": "2022-05-05T13:28:41.737Z"
   },
   {
    "duration": 10,
    "start_time": "2022-05-05T13:34:18.754Z"
   },
   {
    "duration": 3503,
    "start_time": "2022-05-05T13:34:59.020Z"
   },
   {
    "duration": 11000,
    "start_time": "2022-05-05T13:35:56.678Z"
   },
   {
    "duration": 35,
    "start_time": "2022-05-05T13:36:59.715Z"
   },
   {
    "duration": 3971,
    "start_time": "2022-05-05T13:37:57.725Z"
   },
   {
    "duration": 41,
    "start_time": "2022-05-05T13:38:54.686Z"
   },
   {
    "duration": 32,
    "start_time": "2022-05-05T13:39:15.645Z"
   },
   {
    "duration": 3844,
    "start_time": "2022-05-05T13:39:45.509Z"
   },
   {
    "duration": 14318,
    "start_time": "2022-05-05T13:40:10.891Z"
   },
   {
    "duration": 235,
    "start_time": "2022-05-05T13:48:30.211Z"
   },
   {
    "duration": 3392,
    "start_time": "2022-05-05T13:49:05.391Z"
   },
   {
    "duration": 38,
    "start_time": "2022-05-05T13:49:15.623Z"
   },
   {
    "duration": 656,
    "start_time": "2022-05-05T13:49:36.415Z"
   },
   {
    "duration": 35,
    "start_time": "2022-05-05T13:50:17.753Z"
   },
   {
    "duration": 77,
    "start_time": "2022-05-05T13:54:29.078Z"
   },
   {
    "duration": 47,
    "start_time": "2022-05-05T13:54:33.767Z"
   },
   {
    "duration": 42,
    "start_time": "2022-05-05T13:54:37.727Z"
   },
   {
    "duration": 38,
    "start_time": "2022-05-05T13:54:42.215Z"
   },
   {
    "duration": 33,
    "start_time": "2022-05-05T13:54:53.343Z"
   },
   {
    "duration": 645,
    "start_time": "2022-05-05T13:55:12.292Z"
   },
   {
    "duration": 18,
    "start_time": "2022-05-05T13:55:46.951Z"
   },
   {
    "duration": 98,
    "start_time": "2022-05-05T13:56:13.042Z"
   },
   {
    "duration": 6,
    "start_time": "2022-05-05T13:57:34.189Z"
   },
   {
    "duration": 36,
    "start_time": "2022-05-05T13:57:36.950Z"
   },
   {
    "duration": 6,
    "start_time": "2022-05-05T13:57:41.451Z"
   },
   {
    "duration": 40,
    "start_time": "2022-05-05T13:57:43.719Z"
   },
   {
    "duration": 49,
    "start_time": "2022-05-05T13:58:28.332Z"
   },
   {
    "duration": 36,
    "start_time": "2022-05-05T13:58:30.234Z"
   },
   {
    "duration": 11,
    "start_time": "2022-05-05T15:54:35.113Z"
   },
   {
    "duration": 12,
    "start_time": "2022-05-05T15:54:47.791Z"
   },
   {
    "duration": 40,
    "start_time": "2022-05-05T15:55:18.081Z"
   },
   {
    "duration": 27,
    "start_time": "2022-05-05T16:00:13.958Z"
   },
   {
    "duration": 29,
    "start_time": "2022-05-05T16:00:55.339Z"
   },
   {
    "duration": 31,
    "start_time": "2022-05-05T16:03:17.756Z"
   },
   {
    "duration": 212,
    "start_time": "2022-05-05T16:04:08.151Z"
   },
   {
    "duration": 40,
    "start_time": "2022-05-05T16:04:32.866Z"
   },
   {
    "duration": 26,
    "start_time": "2022-05-05T16:04:52.202Z"
   },
   {
    "duration": 10,
    "start_time": "2022-05-05T16:06:23.415Z"
   },
   {
    "duration": 28,
    "start_time": "2022-05-05T16:06:27.323Z"
   },
   {
    "duration": 434,
    "start_time": "2022-05-09T10:37:52.991Z"
   },
   {
    "duration": 762,
    "start_time": "2022-05-09T10:37:53.427Z"
   },
   {
    "duration": 20,
    "start_time": "2022-05-09T10:37:54.191Z"
   },
   {
    "duration": 147,
    "start_time": "2022-05-09T10:37:54.213Z"
   },
   {
    "duration": 8,
    "start_time": "2022-05-09T10:37:54.363Z"
   },
   {
    "duration": 36,
    "start_time": "2022-05-09T10:37:54.373Z"
   },
   {
    "duration": 109,
    "start_time": "2022-05-09T10:37:54.411Z"
   },
   {
    "duration": 193,
    "start_time": "2022-05-09T10:37:54.522Z"
   },
   {
    "duration": 227,
    "start_time": "2022-05-09T10:37:54.717Z"
   },
   {
    "duration": 258,
    "start_time": "2022-05-09T10:37:54.946Z"
   },
   {
    "duration": 46,
    "start_time": "2022-05-09T10:37:55.206Z"
   },
   {
    "duration": 41,
    "start_time": "2022-05-09T10:37:55.254Z"
   },
   {
    "duration": 20,
    "start_time": "2022-05-09T10:37:55.297Z"
   },
   {
    "duration": 25,
    "start_time": "2022-05-09T10:37:55.318Z"
   },
   {
    "duration": 26,
    "start_time": "2022-05-09T10:37:55.344Z"
   },
   {
    "duration": 133,
    "start_time": "2022-05-09T10:37:55.371Z"
   },
   {
    "duration": 0,
    "start_time": "2022-05-09T10:37:55.506Z"
   },
   {
    "duration": 0,
    "start_time": "2022-05-09T10:37:55.507Z"
   },
   {
    "duration": 0,
    "start_time": "2022-05-09T10:37:55.508Z"
   },
   {
    "duration": 0,
    "start_time": "2022-05-09T10:37:55.510Z"
   },
   {
    "duration": 26,
    "start_time": "2022-05-09T10:38:00.680Z"
   },
   {
    "duration": 52,
    "start_time": "2022-05-09T10:38:01.489Z"
   },
   {
    "duration": 25,
    "start_time": "2022-05-09T10:38:01.860Z"
   },
   {
    "duration": 27,
    "start_time": "2022-05-09T10:38:02.998Z"
   },
   {
    "duration": 11,
    "start_time": "2022-05-09T10:38:13.376Z"
   },
   {
    "duration": 69,
    "start_time": "2022-05-09T10:39:21.897Z"
   },
   {
    "duration": 21,
    "start_time": "2022-05-09T10:45:29.075Z"
   },
   {
    "duration": 19,
    "start_time": "2022-05-09T10:45:31.972Z"
   },
   {
    "duration": 18,
    "start_time": "2022-05-09T10:46:48.063Z"
   },
   {
    "duration": 23,
    "start_time": "2022-05-09T10:47:02.294Z"
   },
   {
    "duration": 133,
    "start_time": "2022-05-09T10:48:11.215Z"
   },
   {
    "duration": 981,
    "start_time": "2022-05-09T10:49:20.911Z"
   },
   {
    "duration": 191,
    "start_time": "2022-05-09T10:50:09.624Z"
   },
   {
    "duration": 100,
    "start_time": "2022-05-09T10:51:21.912Z"
   },
   {
    "duration": 3,
    "start_time": "2022-05-09T10:51:55.135Z"
   },
   {
    "duration": 8,
    "start_time": "2022-05-09T10:52:00.823Z"
   },
   {
    "duration": 183,
    "start_time": "2022-05-09T10:52:47.765Z"
   },
   {
    "duration": 11,
    "start_time": "2022-05-09T10:53:47.265Z"
   },
   {
    "duration": 1547,
    "start_time": "2022-05-09T10:54:17.138Z"
   },
   {
    "duration": 1763,
    "start_time": "2022-05-09T10:54:33.377Z"
   },
   {
    "duration": 11,
    "start_time": "2022-05-09T10:54:58.464Z"
   },
   {
    "duration": 4,
    "start_time": "2022-05-09T10:55:07.529Z"
   },
   {
    "duration": 1555,
    "start_time": "2022-05-09T10:55:11.147Z"
   },
   {
    "duration": 17,
    "start_time": "2022-05-09T11:00:01.290Z"
   },
   {
    "duration": 1378,
    "start_time": "2022-05-09T11:00:13.858Z"
   },
   {
    "duration": 848,
    "start_time": "2022-05-09T11:00:15.238Z"
   },
   {
    "duration": 19,
    "start_time": "2022-05-09T11:00:16.088Z"
   },
   {
    "duration": 149,
    "start_time": "2022-05-09T11:00:16.109Z"
   },
   {
    "duration": 8,
    "start_time": "2022-05-09T11:00:16.260Z"
   },
   {
    "duration": 40,
    "start_time": "2022-05-09T11:00:16.270Z"
   },
   {
    "duration": 104,
    "start_time": "2022-05-09T11:00:16.313Z"
   },
   {
    "duration": 194,
    "start_time": "2022-05-09T11:00:16.419Z"
   },
   {
    "duration": 228,
    "start_time": "2022-05-09T11:00:16.615Z"
   },
   {
    "duration": 249,
    "start_time": "2022-05-09T11:00:16.846Z"
   },
   {
    "duration": 49,
    "start_time": "2022-05-09T11:00:17.097Z"
   },
   {
    "duration": 46,
    "start_time": "2022-05-09T11:00:17.148Z"
   },
   {
    "duration": 24,
    "start_time": "2022-05-09T11:00:17.196Z"
   },
   {
    "duration": 25,
    "start_time": "2022-05-09T11:00:17.222Z"
   },
   {
    "duration": 45,
    "start_time": "2022-05-09T11:00:17.249Z"
   },
   {
    "duration": 21,
    "start_time": "2022-05-09T11:00:17.296Z"
   },
   {
    "duration": 24,
    "start_time": "2022-05-09T11:00:17.320Z"
   },
   {
    "duration": 72,
    "start_time": "2022-05-09T11:00:17.345Z"
   },
   {
    "duration": 24,
    "start_time": "2022-05-09T11:00:17.418Z"
   },
   {
    "duration": 27,
    "start_time": "2022-05-09T11:00:17.444Z"
   },
   {
    "duration": 35,
    "start_time": "2022-05-09T11:00:17.473Z"
   },
   {
    "duration": 25,
    "start_time": "2022-05-09T11:00:17.510Z"
   },
   {
    "duration": 1660,
    "start_time": "2022-05-09T11:00:17.537Z"
   },
   {
    "duration": 11,
    "start_time": "2022-05-09T11:00:30.731Z"
   },
   {
    "duration": 73,
    "start_time": "2022-05-09T11:00:33.184Z"
   },
   {
    "duration": 72,
    "start_time": "2022-05-09T11:00:57.226Z"
   },
   {
    "duration": 25,
    "start_time": "2022-05-09T11:01:05.504Z"
   },
   {
    "duration": 1232,
    "start_time": "2022-05-09T11:01:47.605Z"
   },
   {
    "duration": 760,
    "start_time": "2022-05-09T11:01:48.838Z"
   },
   {
    "duration": 17,
    "start_time": "2022-05-09T11:01:49.600Z"
   },
   {
    "duration": 145,
    "start_time": "2022-05-09T11:01:49.618Z"
   },
   {
    "duration": 7,
    "start_time": "2022-05-09T11:02:05.556Z"
   },
   {
    "duration": 25,
    "start_time": "2022-05-09T11:02:07.721Z"
   },
   {
    "duration": 98,
    "start_time": "2022-05-09T11:02:08.238Z"
   },
   {
    "duration": 310,
    "start_time": "2022-05-09T11:02:09.818Z"
   },
   {
    "duration": 247,
    "start_time": "2022-05-09T11:02:10.686Z"
   },
   {
    "duration": 361,
    "start_time": "2022-05-09T11:02:11.349Z"
   },
   {
    "duration": 44,
    "start_time": "2022-05-09T11:02:15.464Z"
   },
   {
    "duration": 27,
    "start_time": "2022-05-09T11:02:17.907Z"
   },
   {
    "duration": 21,
    "start_time": "2022-05-09T11:02:18.715Z"
   },
   {
    "duration": 21,
    "start_time": "2022-05-09T11:02:20.230Z"
   },
   {
    "duration": 18,
    "start_time": "2022-05-09T11:02:22.144Z"
   },
   {
    "duration": 19,
    "start_time": "2022-05-09T11:02:23.078Z"
   },
   {
    "duration": 24,
    "start_time": "2022-05-09T11:02:24.053Z"
   },
   {
    "duration": 81,
    "start_time": "2022-05-09T11:02:42.042Z"
   },
   {
    "duration": 50,
    "start_time": "2022-05-09T11:02:51.114Z"
   },
   {
    "duration": 69,
    "start_time": "2022-05-09T11:02:58.130Z"
   },
   {
    "duration": 162,
    "start_time": "2022-05-09T12:03:27.522Z"
   },
   {
    "duration": 1330,
    "start_time": "2022-05-09T12:03:39.438Z"
   },
   {
    "duration": 867,
    "start_time": "2022-05-09T12:03:40.770Z"
   },
   {
    "duration": 16,
    "start_time": "2022-05-09T12:03:41.639Z"
   },
   {
    "duration": 236,
    "start_time": "2022-05-09T12:03:41.657Z"
   },
   {
    "duration": 11,
    "start_time": "2022-05-09T12:03:41.894Z"
   },
   {
    "duration": 39,
    "start_time": "2022-05-09T12:03:41.910Z"
   },
   {
    "duration": 136,
    "start_time": "2022-05-09T12:03:41.951Z"
   },
   {
    "duration": 240,
    "start_time": "2022-05-09T12:03:42.092Z"
   },
   {
    "duration": 231,
    "start_time": "2022-05-09T12:03:42.333Z"
   },
   {
    "duration": 274,
    "start_time": "2022-05-09T12:03:42.566Z"
   },
   {
    "duration": 52,
    "start_time": "2022-05-09T12:03:42.843Z"
   },
   {
    "duration": 24,
    "start_time": "2022-05-09T12:03:42.897Z"
   },
   {
    "duration": 29,
    "start_time": "2022-05-09T12:03:42.924Z"
   },
   {
    "duration": 43,
    "start_time": "2022-05-09T12:03:42.956Z"
   },
   {
    "duration": 40,
    "start_time": "2022-05-09T12:03:43.001Z"
   },
   {
    "duration": 36,
    "start_time": "2022-05-09T12:03:43.043Z"
   },
   {
    "duration": 60,
    "start_time": "2022-05-09T12:03:43.080Z"
   },
   {
    "duration": 76,
    "start_time": "2022-05-09T12:03:53.047Z"
   },
   {
    "duration": 55,
    "start_time": "2022-05-09T12:04:13.200Z"
   },
   {
    "duration": 350,
    "start_time": "2022-05-09T12:04:19.067Z"
   },
   {
    "duration": 50,
    "start_time": "2022-05-09T12:04:27.683Z"
   },
   {
    "duration": 109,
    "start_time": "2022-05-09T12:04:40.995Z"
   },
   {
    "duration": 19,
    "start_time": "2022-05-09T12:05:46.118Z"
   },
   {
    "duration": 10,
    "start_time": "2022-05-09T12:07:39.959Z"
   },
   {
    "duration": 70,
    "start_time": "2022-05-09T12:07:44.035Z"
   },
   {
    "duration": 18,
    "start_time": "2022-05-09T12:08:03.566Z"
   },
   {
    "duration": 21,
    "start_time": "2022-05-09T12:08:04.160Z"
   },
   {
    "duration": 2348,
    "start_time": "2022-05-09T12:08:07.684Z"
   },
   {
    "duration": 12,
    "start_time": "2022-05-09T12:08:37.011Z"
   },
   {
    "duration": 144,
    "start_time": "2022-05-09T12:09:28.721Z"
   },
   {
    "duration": 29,
    "start_time": "2022-05-09T12:10:03.129Z"
   },
   {
    "duration": 133,
    "start_time": "2022-05-09T12:11:01.309Z"
   },
   {
    "duration": 79,
    "start_time": "2022-05-09T12:11:09.155Z"
   },
   {
    "duration": 209,
    "start_time": "2022-05-09T12:11:29.892Z"
   },
   {
    "duration": 124,
    "start_time": "2022-05-09T12:11:39.679Z"
   },
   {
    "duration": 136,
    "start_time": "2022-05-09T12:11:43.692Z"
   },
   {
    "duration": 199,
    "start_time": "2022-05-09T12:11:46.156Z"
   },
   {
    "duration": 157,
    "start_time": "2022-05-09T12:13:07.969Z"
   },
   {
    "duration": 16,
    "start_time": "2022-05-09T12:13:18.582Z"
   },
   {
    "duration": 64,
    "start_time": "2022-05-09T12:14:13.493Z"
   },
   {
    "duration": 16,
    "start_time": "2022-05-09T12:18:42.088Z"
   },
   {
    "duration": 85,
    "start_time": "2022-05-09T12:18:46.368Z"
   },
   {
    "duration": 128,
    "start_time": "2022-05-09T12:19:25.990Z"
   },
   {
    "duration": 22,
    "start_time": "2022-05-09T12:19:44.810Z"
   },
   {
    "duration": 31,
    "start_time": "2022-05-09T12:20:04.094Z"
   },
   {
    "duration": 123,
    "start_time": "2022-05-09T12:21:02.341Z"
   },
   {
    "duration": 30,
    "start_time": "2022-05-09T12:22:55.399Z"
   },
   {
    "duration": 70,
    "start_time": "2022-05-09T12:23:19.073Z"
   },
   {
    "duration": 68,
    "start_time": "2022-05-09T12:23:32.083Z"
   },
   {
    "duration": 162,
    "start_time": "2022-05-09T14:47:50.590Z"
   },
   {
    "duration": 2158,
    "start_time": "2022-05-09T14:48:40.515Z"
   },
   {
    "duration": 16,
    "start_time": "2022-05-09T14:48:46.934Z"
   },
   {
    "duration": 144,
    "start_time": "2022-05-09T14:52:08.404Z"
   },
   {
    "duration": 11,
    "start_time": "2022-05-09T14:54:33.454Z"
   },
   {
    "duration": 71,
    "start_time": "2022-05-09T14:54:35.600Z"
   },
   {
    "duration": 69,
    "start_time": "2022-05-09T14:54:57.630Z"
   },
   {
    "duration": 28,
    "start_time": "2022-05-09T15:05:20.116Z"
   },
   {
    "duration": 33,
    "start_time": "2022-05-09T15:05:33.055Z"
   },
   {
    "duration": 102,
    "start_time": "2022-05-09T15:10:38.677Z"
   },
   {
    "duration": 169,
    "start_time": "2022-05-09T15:10:47.614Z"
   },
   {
    "duration": 430,
    "start_time": "2022-05-09T15:13:59.385Z"
   },
   {
    "duration": 243,
    "start_time": "2022-05-09T15:15:29.210Z"
   },
   {
    "duration": 583,
    "start_time": "2022-05-09T15:15:39.016Z"
   },
   {
    "duration": 16,
    "start_time": "2022-05-09T15:16:01.814Z"
   },
   {
    "duration": 8,
    "start_time": "2022-05-09T15:16:07.578Z"
   },
   {
    "duration": 5,
    "start_time": "2022-05-09T15:16:14.310Z"
   },
   {
    "duration": 98,
    "start_time": "2022-05-09T15:18:33.225Z"
   },
   {
    "duration": 546,
    "start_time": "2022-05-09T15:19:08.151Z"
   },
   {
    "duration": 27,
    "start_time": "2022-05-09T15:19:14.071Z"
   },
   {
    "duration": 18,
    "start_time": "2022-05-09T15:19:23.924Z"
   },
   {
    "duration": 52,
    "start_time": "2022-05-15T11:19:02.336Z"
   },
   {
    "duration": 1665,
    "start_time": "2022-05-15T11:19:07.286Z"
   },
   {
    "duration": 853,
    "start_time": "2022-05-15T11:19:08.954Z"
   },
   {
    "duration": 26,
    "start_time": "2022-05-15T11:19:09.808Z"
   },
   {
    "duration": 147,
    "start_time": "2022-05-15T11:19:09.836Z"
   },
   {
    "duration": 7,
    "start_time": "2022-05-15T11:19:09.985Z"
   },
   {
    "duration": 41,
    "start_time": "2022-05-15T11:19:09.994Z"
   },
   {
    "duration": 113,
    "start_time": "2022-05-15T11:19:10.037Z"
   },
   {
    "duration": 199,
    "start_time": "2022-05-15T11:19:10.152Z"
   },
   {
    "duration": 232,
    "start_time": "2022-05-15T11:19:10.352Z"
   },
   {
    "duration": 250,
    "start_time": "2022-05-15T11:19:10.587Z"
   },
   {
    "duration": 46,
    "start_time": "2022-05-15T11:19:10.839Z"
   },
   {
    "duration": 18,
    "start_time": "2022-05-15T11:19:10.887Z"
   },
   {
    "duration": 46,
    "start_time": "2022-05-15T11:19:10.906Z"
   },
   {
    "duration": 26,
    "start_time": "2022-05-15T11:19:10.953Z"
   },
   {
    "duration": 20,
    "start_time": "2022-05-15T11:19:10.981Z"
   },
   {
    "duration": 46,
    "start_time": "2022-05-15T11:19:11.003Z"
   },
   {
    "duration": 26,
    "start_time": "2022-05-15T11:19:11.051Z"
   },
   {
    "duration": 69,
    "start_time": "2022-05-15T11:19:11.079Z"
   },
   {
    "duration": 24,
    "start_time": "2022-05-15T11:19:11.150Z"
   },
   {
    "duration": 82,
    "start_time": "2022-05-15T11:19:11.176Z"
   },
   {
    "duration": 33,
    "start_time": "2022-05-15T11:19:11.260Z"
   },
   {
    "duration": 38,
    "start_time": "2022-05-15T11:19:11.295Z"
   },
   {
    "duration": 23,
    "start_time": "2022-05-15T11:19:11.336Z"
   },
   {
    "duration": 1543,
    "start_time": "2022-05-15T11:19:11.361Z"
   },
   {
    "duration": 71,
    "start_time": "2022-05-15T11:19:12.906Z"
   },
   {
    "duration": 18,
    "start_time": "2022-05-15T11:19:12.979Z"
   },
   {
    "duration": 51,
    "start_time": "2022-05-15T11:19:12.999Z"
   },
   {
    "duration": 39,
    "start_time": "2022-05-15T11:19:13.053Z"
   },
   {
    "duration": 46,
    "start_time": "2022-05-15T11:19:13.095Z"
   },
   {
    "duration": 83,
    "start_time": "2022-05-15T11:19:13.143Z"
   },
   {
    "duration": 98,
    "start_time": "2022-05-15T11:19:13.228Z"
   },
   {
    "duration": 515,
    "start_time": "2022-05-15T11:19:13.332Z"
   },
   {
    "duration": 21,
    "start_time": "2022-05-15T11:19:13.849Z"
   },
   {
    "duration": 11,
    "start_time": "2022-05-15T11:19:16.725Z"
   },
   {
    "duration": 4,
    "start_time": "2022-05-15T11:21:45.661Z"
   },
   {
    "duration": 117,
    "start_time": "2022-05-15T11:22:20.874Z"
   },
   {
    "duration": 74,
    "start_time": "2022-05-15T11:23:07.126Z"
   },
   {
    "duration": 48,
    "start_time": "2022-05-15T11:23:27.736Z"
   },
   {
    "duration": 45,
    "start_time": "2022-05-15T11:23:41.261Z"
   },
   {
    "duration": 9,
    "start_time": "2022-05-15T11:24:39.118Z"
   },
   {
    "duration": 9,
    "start_time": "2022-05-15T11:24:57.756Z"
   },
   {
    "duration": 10,
    "start_time": "2022-05-15T11:27:36.996Z"
   },
   {
    "duration": 136,
    "start_time": "2022-05-15T11:28:19.222Z"
   },
   {
    "duration": 66,
    "start_time": "2022-05-15T11:28:22.933Z"
   },
   {
    "duration": 44,
    "start_time": "2022-05-15T11:29:06.166Z"
   },
   {
    "duration": 13,
    "start_time": "2022-05-15T11:31:25.033Z"
   },
   {
    "duration": 11,
    "start_time": "2022-05-15T11:31:35.193Z"
   },
   {
    "duration": 10,
    "start_time": "2022-05-15T11:31:39.863Z"
   },
   {
    "duration": 12,
    "start_time": "2022-05-15T11:31:44.600Z"
   },
   {
    "duration": 5,
    "start_time": "2022-05-15T11:32:10.782Z"
   },
   {
    "duration": 48,
    "start_time": "2022-05-15T11:32:14.685Z"
   },
   {
    "duration": 5,
    "start_time": "2022-05-15T11:32:19.139Z"
   },
   {
    "duration": 45,
    "start_time": "2022-05-15T11:32:22.455Z"
   },
   {
    "duration": 5,
    "start_time": "2022-05-15T11:32:49.410Z"
   },
   {
    "duration": 45,
    "start_time": "2022-05-15T11:32:51.572Z"
   },
   {
    "duration": 87,
    "start_time": "2022-05-15T11:34:30.837Z"
   },
   {
    "duration": 27,
    "start_time": "2022-05-15T11:34:33.446Z"
   },
   {
    "duration": 125,
    "start_time": "2022-05-15T11:34:38.651Z"
   },
   {
    "duration": 58,
    "start_time": "2022-05-15T11:34:41.939Z"
   },
   {
    "duration": 57,
    "start_time": "2022-05-15T11:34:54.165Z"
   },
   {
    "duration": 69,
    "start_time": "2022-05-15T11:48:06.047Z"
   },
   {
    "duration": 5,
    "start_time": "2022-05-15T11:49:07.504Z"
   },
   {
    "duration": 46,
    "start_time": "2022-05-15T11:51:04.559Z"
   },
   {
    "duration": 19,
    "start_time": "2022-05-15T11:51:14.863Z"
   },
   {
    "duration": 13,
    "start_time": "2022-05-15T11:51:26.788Z"
   },
   {
    "duration": 19,
    "start_time": "2022-05-15T11:51:41.916Z"
   },
   {
    "duration": 79,
    "start_time": "2022-05-15T11:55:02.651Z"
   },
   {
    "duration": 3,
    "start_time": "2022-05-15T11:58:36.248Z"
   },
   {
    "duration": 282,
    "start_time": "2022-05-15T11:59:43.657Z"
   },
   {
    "duration": 1755,
    "start_time": "2022-05-15T12:01:56.947Z"
   },
   {
    "duration": 1121,
    "start_time": "2022-05-15T12:01:58.705Z"
   },
   {
    "duration": 21,
    "start_time": "2022-05-15T12:01:59.828Z"
   },
   {
    "duration": 183,
    "start_time": "2022-05-15T12:01:59.852Z"
   },
   {
    "duration": 10,
    "start_time": "2022-05-15T12:02:00.036Z"
   },
   {
    "duration": 27,
    "start_time": "2022-05-15T12:02:00.048Z"
   },
   {
    "duration": 134,
    "start_time": "2022-05-15T12:02:00.077Z"
   },
   {
    "duration": 214,
    "start_time": "2022-05-15T12:02:00.213Z"
   },
   {
    "duration": 248,
    "start_time": "2022-05-15T12:02:00.429Z"
   },
   {
    "duration": 276,
    "start_time": "2022-05-15T12:02:00.680Z"
   },
   {
    "duration": 51,
    "start_time": "2022-05-15T12:02:00.958Z"
   },
   {
    "duration": 42,
    "start_time": "2022-05-15T12:02:01.011Z"
   },
   {
    "duration": 25,
    "start_time": "2022-05-15T12:02:01.054Z"
   },
   {
    "duration": 32,
    "start_time": "2022-05-15T12:02:01.080Z"
   },
   {
    "duration": 33,
    "start_time": "2022-05-15T12:02:01.115Z"
   },
   {
    "duration": 52,
    "start_time": "2022-05-15T12:02:01.151Z"
   },
   {
    "duration": 71,
    "start_time": "2022-05-15T12:02:01.205Z"
   },
   {
    "duration": 50,
    "start_time": "2022-05-15T12:02:01.279Z"
   },
   {
    "duration": 40,
    "start_time": "2022-05-15T12:02:01.331Z"
   },
   {
    "duration": 134,
    "start_time": "2022-05-15T12:02:01.373Z"
   },
   {
    "duration": 50,
    "start_time": "2022-05-15T12:02:01.510Z"
   },
   {
    "duration": 23,
    "start_time": "2022-05-15T12:02:01.562Z"
   },
   {
    "duration": 36,
    "start_time": "2022-05-15T12:02:01.587Z"
   },
   {
    "duration": 1548,
    "start_time": "2022-05-15T12:02:01.626Z"
   },
   {
    "duration": 89,
    "start_time": "2022-05-15T12:02:03.176Z"
   },
   {
    "duration": 18,
    "start_time": "2022-05-15T12:02:03.268Z"
   },
   {
    "duration": 59,
    "start_time": "2022-05-15T12:02:03.288Z"
   },
   {
    "duration": 79,
    "start_time": "2022-05-15T12:02:03.354Z"
   },
   {
    "duration": 37,
    "start_time": "2022-05-15T12:02:03.436Z"
   },
   {
    "duration": 82,
    "start_time": "2022-05-15T12:02:03.475Z"
   },
   {
    "duration": 116,
    "start_time": "2022-05-15T12:02:03.560Z"
   },
   {
    "duration": 549,
    "start_time": "2022-05-15T12:02:03.678Z"
   },
   {
    "duration": 51,
    "start_time": "2022-05-15T12:02:04.229Z"
   },
   {
    "duration": 117,
    "start_time": "2022-05-15T12:02:04.282Z"
   },
   {
    "duration": 22,
    "start_time": "2022-05-15T12:02:04.401Z"
   },
   {
    "duration": 76,
    "start_time": "2022-05-15T12:02:04.424Z"
   },
   {
    "duration": 3,
    "start_time": "2022-05-15T12:02:04.502Z"
   },
   {
    "duration": 248,
    "start_time": "2022-05-15T12:02:04.507Z"
   },
   {
    "duration": 174,
    "start_time": "2022-05-15T12:02:04.759Z"
   },
   {
    "duration": 5,
    "start_time": "2022-05-15T12:03:06.577Z"
   },
   {
    "duration": 9,
    "start_time": "2022-05-15T12:03:15.572Z"
   },
   {
    "duration": 51,
    "start_time": "2022-05-15T13:51:07.455Z"
   },
   {
    "duration": 1666,
    "start_time": "2022-05-15T13:51:12.564Z"
   },
   {
    "duration": 906,
    "start_time": "2022-05-15T13:51:14.232Z"
   },
   {
    "duration": 19,
    "start_time": "2022-05-15T13:51:15.140Z"
   },
   {
    "duration": 151,
    "start_time": "2022-05-15T13:51:15.161Z"
   },
   {
    "duration": 10,
    "start_time": "2022-05-15T13:51:15.314Z"
   },
   {
    "duration": 18,
    "start_time": "2022-05-15T13:51:15.325Z"
   },
   {
    "duration": 137,
    "start_time": "2022-05-15T13:51:15.345Z"
   },
   {
    "duration": 216,
    "start_time": "2022-05-15T13:51:15.484Z"
   },
   {
    "duration": 236,
    "start_time": "2022-05-15T13:51:15.707Z"
   },
   {
    "duration": 252,
    "start_time": "2022-05-15T13:51:15.946Z"
   },
   {
    "duration": 56,
    "start_time": "2022-05-15T13:51:16.200Z"
   },
   {
    "duration": 24,
    "start_time": "2022-05-15T13:51:16.258Z"
   },
   {
    "duration": 21,
    "start_time": "2022-05-15T13:51:16.307Z"
   },
   {
    "duration": 18,
    "start_time": "2022-05-15T13:51:16.330Z"
   },
   {
    "duration": 19,
    "start_time": "2022-05-15T13:51:16.350Z"
   },
   {
    "duration": 49,
    "start_time": "2022-05-15T13:51:16.371Z"
   },
   {
    "duration": 25,
    "start_time": "2022-05-15T13:51:16.422Z"
   },
   {
    "duration": 78,
    "start_time": "2022-05-15T13:51:16.448Z"
   },
   {
    "duration": 23,
    "start_time": "2022-05-15T13:51:16.528Z"
   },
   {
    "duration": 90,
    "start_time": "2022-05-15T13:51:16.553Z"
   },
   {
    "duration": 34,
    "start_time": "2022-05-15T13:51:16.645Z"
   },
   {
    "duration": 37,
    "start_time": "2022-05-15T13:51:16.681Z"
   },
   {
    "duration": 24,
    "start_time": "2022-05-15T13:51:16.720Z"
   },
   {
    "duration": 1677,
    "start_time": "2022-05-15T13:51:16.746Z"
   },
   {
    "duration": 66,
    "start_time": "2022-05-15T13:51:18.425Z"
   },
   {
    "duration": 18,
    "start_time": "2022-05-15T13:51:18.507Z"
   },
   {
    "duration": 36,
    "start_time": "2022-05-15T13:51:18.526Z"
   },
   {
    "duration": 62,
    "start_time": "2022-05-15T13:51:18.565Z"
   },
   {
    "duration": 19,
    "start_time": "2022-05-15T13:51:18.629Z"
   },
   {
    "duration": 93,
    "start_time": "2022-05-15T13:51:18.650Z"
   },
   {
    "duration": 113,
    "start_time": "2022-05-15T13:51:18.744Z"
   },
   {
    "duration": 535,
    "start_time": "2022-05-15T13:51:18.859Z"
   },
   {
    "duration": 43,
    "start_time": "2022-05-15T13:51:19.396Z"
   },
   {
    "duration": 102,
    "start_time": "2022-05-15T13:51:19.441Z"
   },
   {
    "duration": 20,
    "start_time": "2022-05-15T13:51:19.544Z"
   },
   {
    "duration": 77,
    "start_time": "2022-05-15T13:51:19.566Z"
   },
   {
    "duration": 82,
    "start_time": "2022-05-15T13:51:21.889Z"
   },
   {
    "duration": 21,
    "start_time": "2022-05-15T13:54:14.508Z"
   },
   {
    "duration": 10,
    "start_time": "2022-05-15T13:54:36.702Z"
   },
   {
    "duration": 17,
    "start_time": "2022-05-15T13:55:10.208Z"
   },
   {
    "duration": 15,
    "start_time": "2022-05-15T13:56:27.494Z"
   },
   {
    "duration": 15,
    "start_time": "2022-05-15T13:56:54.519Z"
   },
   {
    "duration": 16,
    "start_time": "2022-05-15T13:57:13.992Z"
   },
   {
    "duration": 23,
    "start_time": "2022-05-15T13:57:26.045Z"
   },
   {
    "duration": 9,
    "start_time": "2022-05-15T13:59:50.919Z"
   },
   {
    "duration": 16,
    "start_time": "2022-05-15T14:08:16.905Z"
   },
   {
    "duration": 4,
    "start_time": "2022-05-15T14:08:33.972Z"
   },
   {
    "duration": 10,
    "start_time": "2022-05-15T14:08:38.565Z"
   },
   {
    "duration": 14,
    "start_time": "2022-05-15T14:08:52.923Z"
   },
   {
    "duration": 3,
    "start_time": "2022-05-15T14:09:32.560Z"
   },
   {
    "duration": 289,
    "start_time": "2022-05-15T14:09:32.929Z"
   },
   {
    "duration": 12,
    "start_time": "2022-05-15T14:09:33.389Z"
   },
   {
    "duration": 6,
    "start_time": "2022-05-15T14:09:33.972Z"
   },
   {
    "duration": 6,
    "start_time": "2022-05-15T14:10:03.834Z"
   },
   {
    "duration": 21,
    "start_time": "2022-05-15T14:10:20.576Z"
   },
   {
    "duration": 9,
    "start_time": "2022-05-15T14:10:38.596Z"
   },
   {
    "duration": 13,
    "start_time": "2022-05-15T14:10:46.920Z"
   },
   {
    "duration": 3,
    "start_time": "2022-05-15T14:22:39.258Z"
   },
   {
    "duration": 5343,
    "start_time": "2022-05-15T14:23:52.968Z"
   },
   {
    "duration": 5250,
    "start_time": "2022-05-15T14:24:36.270Z"
   },
   {
    "duration": 492,
    "start_time": "2022-05-15T14:25:17.523Z"
   },
   {
    "duration": 4,
    "start_time": "2022-05-15T14:25:59.222Z"
   },
   {
    "duration": 1467,
    "start_time": "2022-05-18T13:22:49.372Z"
   },
   {
    "duration": 2834,
    "start_time": "2022-05-18T13:22:50.841Z"
   },
   {
    "duration": 19,
    "start_time": "2022-05-18T13:22:53.677Z"
   },
   {
    "duration": 140,
    "start_time": "2022-05-18T13:22:53.698Z"
   },
   {
    "duration": 8,
    "start_time": "2022-05-18T13:22:53.840Z"
   },
   {
    "duration": 38,
    "start_time": "2022-05-18T13:22:53.849Z"
   },
   {
    "duration": 107,
    "start_time": "2022-05-18T13:22:53.888Z"
   },
   {
    "duration": 223,
    "start_time": "2022-05-18T13:22:53.997Z"
   },
   {
    "duration": 234,
    "start_time": "2022-05-18T13:22:54.222Z"
   },
   {
    "duration": 247,
    "start_time": "2022-05-18T13:22:54.458Z"
   },
   {
    "duration": 42,
    "start_time": "2022-05-18T13:22:54.706Z"
   },
   {
    "duration": 35,
    "start_time": "2022-05-18T13:22:54.750Z"
   },
   {
    "duration": 19,
    "start_time": "2022-05-18T13:22:54.786Z"
   },
   {
    "duration": 23,
    "start_time": "2022-05-18T13:22:54.806Z"
   },
   {
    "duration": 30,
    "start_time": "2022-05-18T13:22:54.830Z"
   },
   {
    "duration": 30,
    "start_time": "2022-05-18T13:22:54.861Z"
   },
   {
    "duration": 26,
    "start_time": "2022-05-18T13:22:54.893Z"
   },
   {
    "duration": 47,
    "start_time": "2022-05-18T13:22:54.920Z"
   },
   {
    "duration": 23,
    "start_time": "2022-05-18T13:22:54.975Z"
   },
   {
    "duration": 76,
    "start_time": "2022-05-18T13:22:54.999Z"
   },
   {
    "duration": 35,
    "start_time": "2022-05-18T13:22:55.076Z"
   },
   {
    "duration": 17,
    "start_time": "2022-05-18T13:22:55.113Z"
   },
   {
    "duration": 34,
    "start_time": "2022-05-18T13:22:55.132Z"
   },
   {
    "duration": 1530,
    "start_time": "2022-05-18T13:22:55.168Z"
   },
   {
    "duration": 76,
    "start_time": "2022-05-18T13:22:56.701Z"
   },
   {
    "duration": 15,
    "start_time": "2022-05-18T13:22:56.779Z"
   },
   {
    "duration": 32,
    "start_time": "2022-05-18T13:22:56.796Z"
   },
   {
    "duration": 56,
    "start_time": "2022-05-18T13:22:56.833Z"
   },
   {
    "duration": 18,
    "start_time": "2022-05-18T13:22:56.890Z"
   },
   {
    "duration": 75,
    "start_time": "2022-05-18T13:22:56.910Z"
   },
   {
    "duration": 94,
    "start_time": "2022-05-18T13:22:56.987Z"
   },
   {
    "duration": 540,
    "start_time": "2022-05-18T13:22:57.082Z"
   },
   {
    "duration": 40,
    "start_time": "2022-05-18T13:22:57.624Z"
   },
   {
    "duration": 135,
    "start_time": "2022-05-18T13:22:57.674Z"
   },
   {
    "duration": 19,
    "start_time": "2022-05-18T13:22:57.810Z"
   },
   {
    "duration": 74,
    "start_time": "2022-05-18T13:22:57.831Z"
   },
   {
    "duration": 10,
    "start_time": "2022-05-18T13:22:57.906Z"
   },
   {
    "duration": 2,
    "start_time": "2022-05-18T13:22:57.917Z"
   },
   {
    "duration": 268,
    "start_time": "2022-05-18T13:22:57.921Z"
   },
   {
    "duration": 87,
    "start_time": "2022-05-18T13:22:58.191Z"
   },
   {
    "duration": 6,
    "start_time": "2022-05-18T13:22:58.280Z"
   },
   {
    "duration": 101,
    "start_time": "2022-05-18T13:22:58.375Z"
   },
   {
    "duration": 1230,
    "start_time": "2022-05-18T13:26:20.309Z"
   },
   {
    "duration": 899,
    "start_time": "2022-05-18T13:26:21.541Z"
   },
   {
    "duration": 19,
    "start_time": "2022-05-18T13:26:22.442Z"
   },
   {
    "duration": 130,
    "start_time": "2022-05-18T13:26:22.463Z"
   },
   {
    "duration": 8,
    "start_time": "2022-05-18T13:26:22.595Z"
   },
   {
    "duration": 22,
    "start_time": "2022-05-18T13:26:22.604Z"
   },
   {
    "duration": 125,
    "start_time": "2022-05-18T13:26:22.628Z"
   },
   {
    "duration": 238,
    "start_time": "2022-05-18T13:26:22.754Z"
   },
   {
    "duration": 226,
    "start_time": "2022-05-18T13:26:22.994Z"
   },
   {
    "duration": 238,
    "start_time": "2022-05-18T13:26:23.222Z"
   },
   {
    "duration": 50,
    "start_time": "2022-05-18T13:26:23.461Z"
   },
   {
    "duration": 25,
    "start_time": "2022-05-18T13:26:23.513Z"
   },
   {
    "duration": 46,
    "start_time": "2022-05-18T13:26:23.540Z"
   },
   {
    "duration": 16,
    "start_time": "2022-05-18T13:26:23.588Z"
   },
   {
    "duration": 25,
    "start_time": "2022-05-18T13:26:23.605Z"
   },
   {
    "duration": 27,
    "start_time": "2022-05-18T13:26:23.632Z"
   },
   {
    "duration": 41,
    "start_time": "2022-05-18T13:26:23.660Z"
   },
   {
    "duration": 50,
    "start_time": "2022-05-18T13:26:23.703Z"
   },
   {
    "duration": 41,
    "start_time": "2022-05-18T13:26:23.755Z"
   },
   {
    "duration": 87,
    "start_time": "2022-05-18T13:26:23.797Z"
   },
   {
    "duration": 32,
    "start_time": "2022-05-18T13:26:23.886Z"
   },
   {
    "duration": 28,
    "start_time": "2022-05-18T13:26:23.920Z"
   },
   {
    "duration": 42,
    "start_time": "2022-05-18T13:26:23.950Z"
   },
   {
    "duration": 1646,
    "start_time": "2022-05-18T13:26:23.993Z"
   },
   {
    "duration": 76,
    "start_time": "2022-05-18T13:26:25.641Z"
   },
   {
    "duration": 25,
    "start_time": "2022-05-18T13:26:25.720Z"
   },
   {
    "duration": 69,
    "start_time": "2022-05-18T13:26:25.748Z"
   },
   {
    "duration": 36,
    "start_time": "2022-05-18T13:26:25.820Z"
   },
   {
    "duration": 31,
    "start_time": "2022-05-18T13:26:25.858Z"
   },
   {
    "duration": 69,
    "start_time": "2022-05-18T13:26:25.890Z"
   },
   {
    "duration": 114,
    "start_time": "2022-05-18T13:26:25.961Z"
   },
   {
    "duration": 512,
    "start_time": "2022-05-18T13:26:26.076Z"
   },
   {
    "duration": 52,
    "start_time": "2022-05-18T13:26:26.589Z"
   },
   {
    "duration": 101,
    "start_time": "2022-05-18T13:26:26.643Z"
   },
   {
    "duration": 28,
    "start_time": "2022-05-18T13:26:26.746Z"
   },
   {
    "duration": 93,
    "start_time": "2022-05-18T13:26:26.776Z"
   },
   {
    "duration": 12,
    "start_time": "2022-05-18T13:26:26.874Z"
   },
   {
    "duration": 15,
    "start_time": "2022-05-18T13:26:26.887Z"
   },
   {
    "duration": 272,
    "start_time": "2022-05-18T13:26:26.904Z"
   },
   {
    "duration": 96,
    "start_time": "2022-05-18T13:26:27.179Z"
   },
   {
    "duration": 103,
    "start_time": "2022-05-18T13:26:27.278Z"
   },
   {
    "duration": 4,
    "start_time": "2022-05-18T13:26:27.382Z"
   },
   {
    "duration": 209107,
    "start_time": "2022-05-18T13:26:27.388Z"
   },
   {
    "duration": 43,
    "start_time": "2022-05-18T13:29:56.497Z"
   },
   {
    "duration": 11,
    "start_time": "2022-05-18T13:29:56.542Z"
   },
   {
    "duration": 1260,
    "start_time": "2022-05-18T13:30:03.690Z"
   },
   {
    "duration": 788,
    "start_time": "2022-05-18T13:30:04.952Z"
   },
   {
    "duration": 17,
    "start_time": "2022-05-18T13:30:05.742Z"
   },
   {
    "duration": 136,
    "start_time": "2022-05-18T13:30:05.761Z"
   },
   {
    "duration": 8,
    "start_time": "2022-05-18T13:30:05.898Z"
   },
   {
    "duration": 20,
    "start_time": "2022-05-18T13:30:05.907Z"
   },
   {
    "duration": 113,
    "start_time": "2022-05-18T13:30:05.929Z"
   },
   {
    "duration": 190,
    "start_time": "2022-05-18T13:30:06.043Z"
   },
   {
    "duration": 211,
    "start_time": "2022-05-18T13:30:06.235Z"
   },
   {
    "duration": 230,
    "start_time": "2022-05-18T13:30:06.449Z"
   },
   {
    "duration": 45,
    "start_time": "2022-05-18T13:30:06.681Z"
   },
   {
    "duration": 22,
    "start_time": "2022-05-18T13:30:06.727Z"
   },
   {
    "duration": 44,
    "start_time": "2022-05-18T13:30:06.751Z"
   },
   {
    "duration": 18,
    "start_time": "2022-05-18T13:30:06.797Z"
   },
   {
    "duration": 29,
    "start_time": "2022-05-18T13:30:06.817Z"
   },
   {
    "duration": 40,
    "start_time": "2022-05-18T13:30:06.848Z"
   },
   {
    "duration": 23,
    "start_time": "2022-05-18T13:30:06.889Z"
   },
   {
    "duration": 46,
    "start_time": "2022-05-18T13:30:06.913Z"
   },
   {
    "duration": 24,
    "start_time": "2022-05-18T13:30:06.974Z"
   },
   {
    "duration": 83,
    "start_time": "2022-05-18T13:30:06.999Z"
   },
   {
    "duration": 32,
    "start_time": "2022-05-18T13:30:07.084Z"
   },
   {
    "duration": 18,
    "start_time": "2022-05-18T13:30:07.118Z"
   },
   {
    "duration": 41,
    "start_time": "2022-05-18T13:30:07.138Z"
   },
   {
    "duration": 1469,
    "start_time": "2022-05-18T13:30:07.181Z"
   },
   {
    "duration": 65,
    "start_time": "2022-05-18T13:30:08.651Z"
   },
   {
    "duration": 15,
    "start_time": "2022-05-18T13:30:08.718Z"
   },
   {
    "duration": 48,
    "start_time": "2022-05-18T13:30:08.735Z"
   },
   {
    "duration": 37,
    "start_time": "2022-05-18T13:30:08.787Z"
   },
   {
    "duration": 18,
    "start_time": "2022-05-18T13:30:08.825Z"
   },
   {
    "duration": 71,
    "start_time": "2022-05-18T13:30:08.845Z"
   },
   {
    "duration": 97,
    "start_time": "2022-05-18T13:30:08.917Z"
   },
   {
    "duration": 498,
    "start_time": "2022-05-18T13:30:09.016Z"
   },
   {
    "duration": 48,
    "start_time": "2022-05-18T13:30:09.516Z"
   },
   {
    "duration": 85,
    "start_time": "2022-05-18T13:30:09.575Z"
   },
   {
    "duration": 26,
    "start_time": "2022-05-18T13:30:09.662Z"
   },
   {
    "duration": 65,
    "start_time": "2022-05-18T13:30:09.690Z"
   },
   {
    "duration": 21,
    "start_time": "2022-05-18T13:30:09.757Z"
   },
   {
    "duration": 3,
    "start_time": "2022-05-18T13:30:09.780Z"
   },
   {
    "duration": 197,
    "start_time": "2022-05-18T13:30:09.784Z"
   },
   {
    "duration": 98,
    "start_time": "2022-05-18T13:30:09.983Z"
   },
   {
    "duration": 92,
    "start_time": "2022-05-18T13:30:10.083Z"
   },
   {
    "duration": 9,
    "start_time": "2022-05-18T13:30:10.177Z"
   },
   {
    "duration": 366663,
    "start_time": "2022-05-18T13:30:14.123Z"
   },
   {
    "duration": 452,
    "start_time": "2022-05-18T13:37:26.432Z"
   },
   {
    "duration": 6,
    "start_time": "2022-05-18T13:37:29.963Z"
   },
   {
    "duration": 3,
    "start_time": "2022-05-18T13:40:49.910Z"
   },
   {
    "duration": 5,
    "start_time": "2022-05-18T13:47:23.604Z"
   },
   {
    "duration": 4,
    "start_time": "2022-05-18T13:47:28.891Z"
   },
   {
    "duration": 123,
    "start_time": "2022-05-18T13:47:44.823Z"
   },
   {
    "duration": 5,
    "start_time": "2022-05-18T13:48:08.403Z"
   },
   {
    "duration": 18,
    "start_time": "2022-05-18T13:48:12.212Z"
   },
   {
    "duration": 4,
    "start_time": "2022-05-18T13:49:41.368Z"
   },
   {
    "duration": 619,
    "start_time": "2022-05-18T13:49:43.884Z"
   },
   {
    "duration": 1454,
    "start_time": "2022-05-23T09:56:47.176Z"
   },
   {
    "duration": 4,
    "start_time": "2022-05-23T09:57:33.837Z"
   },
   {
    "duration": 2741,
    "start_time": "2022-05-23T09:57:33.845Z"
   },
   {
    "duration": 17,
    "start_time": "2022-05-23T09:57:36.587Z"
   },
   {
    "duration": 124,
    "start_time": "2022-05-23T09:57:36.605Z"
   },
   {
    "duration": 8,
    "start_time": "2022-05-23T09:57:36.732Z"
   },
   {
    "duration": 23,
    "start_time": "2022-05-23T09:57:36.742Z"
   },
   {
    "duration": 122,
    "start_time": "2022-05-23T09:57:36.767Z"
   },
   {
    "duration": 194,
    "start_time": "2022-05-23T09:57:36.891Z"
   },
   {
    "duration": 206,
    "start_time": "2022-05-23T09:57:37.087Z"
   },
   {
    "duration": 246,
    "start_time": "2022-05-23T09:57:37.295Z"
   },
   {
    "duration": 41,
    "start_time": "2022-05-23T09:57:37.543Z"
   },
   {
    "duration": 162,
    "start_time": "2022-05-23T09:57:37.586Z"
   },
   {
    "duration": 18,
    "start_time": "2022-05-23T09:57:37.750Z"
   },
   {
    "duration": 27,
    "start_time": "2022-05-23T09:57:37.769Z"
   },
   {
    "duration": 25,
    "start_time": "2022-05-23T09:57:37.798Z"
   },
   {
    "duration": 37,
    "start_time": "2022-05-23T09:57:37.825Z"
   },
   {
    "duration": 33,
    "start_time": "2022-05-23T09:57:37.863Z"
   },
   {
    "duration": 49,
    "start_time": "2022-05-23T09:57:37.898Z"
   },
   {
    "duration": 25,
    "start_time": "2022-05-23T09:57:37.949Z"
   },
   {
    "duration": 78,
    "start_time": "2022-05-23T09:57:37.976Z"
   },
   {
    "duration": 31,
    "start_time": "2022-05-23T09:57:38.056Z"
   },
   {
    "duration": 29,
    "start_time": "2022-05-23T09:57:38.089Z"
   },
   {
    "duration": 19,
    "start_time": "2022-05-23T09:57:38.120Z"
   },
   {
    "duration": 1515,
    "start_time": "2022-05-23T09:57:38.141Z"
   },
   {
    "duration": 69,
    "start_time": "2022-05-23T09:57:39.657Z"
   },
   {
    "duration": 20,
    "start_time": "2022-05-23T09:57:39.727Z"
   },
   {
    "duration": 40,
    "start_time": "2022-05-23T09:57:39.749Z"
   },
   {
    "duration": 42,
    "start_time": "2022-05-23T09:57:39.791Z"
   },
   {
    "duration": 16,
    "start_time": "2022-05-23T09:57:39.837Z"
   },
   {
    "duration": 73,
    "start_time": "2022-05-23T09:57:39.855Z"
   },
   {
    "duration": 99,
    "start_time": "2022-05-23T09:57:39.930Z"
   },
   {
    "duration": 490,
    "start_time": "2022-05-23T09:57:40.031Z"
   },
   {
    "duration": 40,
    "start_time": "2022-05-23T09:57:40.523Z"
   },
   {
    "duration": 98,
    "start_time": "2022-05-23T09:57:40.564Z"
   },
   {
    "duration": 21,
    "start_time": "2022-05-23T09:57:40.664Z"
   },
   {
    "duration": 79,
    "start_time": "2022-05-23T09:57:40.687Z"
   },
   {
    "duration": 11,
    "start_time": "2022-05-23T09:57:40.768Z"
   },
   {
    "duration": 2,
    "start_time": "2022-05-23T09:57:40.781Z"
   },
   {
    "duration": 237,
    "start_time": "2022-05-23T09:57:40.786Z"
   },
   {
    "duration": 99,
    "start_time": "2022-05-23T09:57:41.025Z"
   },
   {
    "duration": 7,
    "start_time": "2022-05-23T09:57:41.212Z"
   },
   {
    "duration": 6,
    "start_time": "2022-05-23T09:57:41.220Z"
   },
   {
    "duration": 7092,
    "start_time": "2022-05-23T09:57:41.227Z"
   },
   {
    "duration": 497,
    "start_time": "2022-05-23T09:57:48.320Z"
   },
   {
    "duration": 5,
    "start_time": "2022-05-23T09:57:48.819Z"
   },
   {
    "duration": 601,
    "start_time": "2022-05-23T10:00:39.640Z"
   },
   {
    "duration": 1205,
    "start_time": "2022-05-23T10:00:51.739Z"
   },
   {
    "duration": 743,
    "start_time": "2022-05-23T10:00:52.946Z"
   },
   {
    "duration": 23,
    "start_time": "2022-05-23T10:00:53.690Z"
   },
   {
    "duration": 125,
    "start_time": "2022-05-23T10:00:53.715Z"
   },
   {
    "duration": 6,
    "start_time": "2022-05-23T10:00:53.842Z"
   },
   {
    "duration": 38,
    "start_time": "2022-05-23T10:00:53.849Z"
   },
   {
    "duration": 95,
    "start_time": "2022-05-23T10:00:53.889Z"
   },
   {
    "duration": 173,
    "start_time": "2022-05-23T10:00:53.986Z"
   },
   {
    "duration": 184,
    "start_time": "2022-05-23T10:00:54.161Z"
   },
   {
    "duration": 223,
    "start_time": "2022-05-23T10:00:54.348Z"
   },
   {
    "duration": 48,
    "start_time": "2022-05-23T10:00:54.572Z"
   },
   {
    "duration": 19,
    "start_time": "2022-05-23T10:00:58.498Z"
   },
   {
    "duration": 22,
    "start_time": "2022-05-23T10:02:30.303Z"
   },
   {
    "duration": 22,
    "start_time": "2022-05-23T10:03:15.750Z"
   },
   {
    "duration": 15,
    "start_time": "2022-05-23T10:03:24.015Z"
   },
   {
    "duration": 26,
    "start_time": "2022-05-23T10:03:25.431Z"
   },
   {
    "duration": 17,
    "start_time": "2022-05-23T10:03:29.406Z"
   },
   {
    "duration": 23,
    "start_time": "2022-05-23T10:03:30.611Z"
   },
   {
    "duration": 42,
    "start_time": "2022-05-23T10:03:44.927Z"
   },
   {
    "duration": 23,
    "start_time": "2022-05-23T10:03:45.492Z"
   },
   {
    "duration": 62,
    "start_time": "2022-05-23T10:03:46.054Z"
   },
   {
    "duration": 28,
    "start_time": "2022-05-23T10:04:02.085Z"
   },
   {
    "duration": 16,
    "start_time": "2022-05-23T10:04:08.465Z"
   },
   {
    "duration": 20,
    "start_time": "2022-05-23T10:04:09.992Z"
   },
   {
    "duration": 1639,
    "start_time": "2022-05-23T10:04:16.786Z"
   },
   {
    "duration": 65,
    "start_time": "2022-05-23T10:04:44.299Z"
   },
   {
    "duration": 14,
    "start_time": "2022-05-23T10:04:49.022Z"
   },
   {
    "duration": 29,
    "start_time": "2022-05-23T10:04:52.585Z"
   },
   {
    "duration": 43,
    "start_time": "2022-05-23T10:04:59.417Z"
   },
   {
    "duration": 15,
    "start_time": "2022-05-23T10:05:02.472Z"
   },
   {
    "duration": 59,
    "start_time": "2022-05-23T10:05:03.552Z"
   },
   {
    "duration": 87,
    "start_time": "2022-05-23T10:05:20.252Z"
   },
   {
    "duration": 510,
    "start_time": "2022-05-23T10:05:31.345Z"
   },
   {
    "duration": 39,
    "start_time": "2022-05-23T10:05:32.717Z"
   },
   {
    "duration": 83,
    "start_time": "2022-05-23T10:05:33.424Z"
   },
   {
    "duration": 19,
    "start_time": "2022-05-23T10:05:48.042Z"
   },
   {
    "duration": 59,
    "start_time": "2022-05-23T10:05:48.475Z"
   },
   {
    "duration": 11,
    "start_time": "2022-05-23T10:24:15.138Z"
   },
   {
    "duration": 3,
    "start_time": "2022-05-23T10:24:16.238Z"
   },
   {
    "duration": 195,
    "start_time": "2022-05-23T10:24:16.629Z"
   },
   {
    "duration": 12,
    "start_time": "2022-05-23T10:24:17.064Z"
   },
   {
    "duration": 4,
    "start_time": "2022-05-23T10:24:17.654Z"
   },
   {
    "duration": 2,
    "start_time": "2022-05-23T10:24:27.425Z"
   },
   {
    "duration": 5718,
    "start_time": "2022-05-23T10:24:28.501Z"
   },
   {
    "duration": 508,
    "start_time": "2022-05-23T10:24:34.221Z"
   },
   {
    "duration": 82,
    "start_time": "2022-05-23T10:24:34.731Z"
   },
   {
    "duration": 4,
    "start_time": "2022-05-23T10:24:38.457Z"
   },
   {
    "duration": 1445,
    "start_time": "2022-05-23T10:24:39.274Z"
   },
   {
    "duration": 7804,
    "start_time": "2022-05-23T10:26:02.608Z"
   },
   {
    "duration": 8127,
    "start_time": "2022-05-23T10:26:21.297Z"
   },
   {
    "duration": 3,
    "start_time": "2022-05-23T10:28:47.768Z"
   },
   {
    "duration": 10583,
    "start_time": "2022-05-23T10:28:55.341Z"
   },
   {
    "duration": 5,
    "start_time": "2022-05-23T10:29:51.686Z"
   },
   {
    "duration": 113,
    "start_time": "2022-05-23T10:32:06.673Z"
   },
   {
    "duration": 3,
    "start_time": "2022-05-23T10:37:58.690Z"
   },
   {
    "duration": 9,
    "start_time": "2022-05-23T10:38:19.579Z"
   },
   {
    "duration": 4,
    "start_time": "2022-05-23T10:38:50.319Z"
   },
   {
    "duration": 3,
    "start_time": "2022-05-23T10:38:56.365Z"
   },
   {
    "duration": 3,
    "start_time": "2022-05-23T10:47:54.189Z"
   },
   {
    "duration": 10,
    "start_time": "2022-05-23T10:48:20.030Z"
   },
   {
    "duration": 29823,
    "start_time": "2022-05-23T10:48:26.627Z"
   },
   {
    "duration": 3843379,
    "start_time": "2022-05-23T10:49:05.285Z"
   },
   {
    "duration": 3,
    "start_time": "2022-05-23T11:53:26.224Z"
   },
   {
    "duration": 3,
    "start_time": "2022-05-23T11:53:27.386Z"
   },
   {
    "duration": 3,
    "start_time": "2022-05-23T11:53:27.807Z"
   },
   {
    "duration": 2044478,
    "start_time": "2022-05-23T11:53:28.349Z"
   },
   {
    "duration": 2,
    "start_time": "2022-05-23T12:27:50.795Z"
   },
   {
    "duration": 2,
    "start_time": "2022-05-23T12:27:51.139Z"
   },
   {
    "duration": 82456,
    "start_time": "2022-05-23T12:27:51.531Z"
   },
   {
    "duration": 3,
    "start_time": "2022-05-23T12:29:38.750Z"
   },
   {
    "duration": 3,
    "start_time": "2022-05-23T12:29:39.129Z"
   },
   {
    "duration": 10791,
    "start_time": "2022-05-23T12:29:40.053Z"
   },
   {
    "duration": 3,
    "start_time": "2022-05-23T12:30:01.373Z"
   },
   {
    "duration": 13,
    "start_time": "2022-05-23T12:30:01.834Z"
   },
   {
    "duration": 3,
    "start_time": "2022-05-23T12:30:36.747Z"
   },
   {
    "duration": 13,
    "start_time": "2022-05-23T12:30:37.185Z"
   },
   {
    "duration": 3,
    "start_time": "2022-05-23T12:30:51.714Z"
   },
   {
    "duration": 5,
    "start_time": "2022-05-23T12:30:52.071Z"
   },
   {
    "duration": 63865,
    "start_time": "2022-05-23T12:30:53.559Z"
   },
   {
    "duration": 3,
    "start_time": "2022-05-23T12:38:09.102Z"
   },
   {
    "duration": 3,
    "start_time": "2022-05-23T12:38:09.544Z"
   },
   {
    "duration": 169933,
    "start_time": "2022-05-23T12:38:09.981Z"
   },
   {
    "duration": 4,
    "start_time": "2022-05-23T12:44:49.644Z"
   },
   {
    "duration": 82,
    "start_time": "2022-05-23T12:46:15.019Z"
   },
   {
    "duration": 2996,
    "start_time": "2022-05-23T12:47:49.320Z"
   },
   {
    "duration": 11505,
    "start_time": "2022-05-23T12:48:31.407Z"
   },
   {
    "duration": 11868,
    "start_time": "2022-05-23T12:49:03.152Z"
   },
   {
    "duration": 363,
    "start_time": "2022-05-23T12:50:18.070Z"
   },
   {
    "duration": 3,
    "start_time": "2022-05-23T12:50:51.132Z"
   },
   {
    "duration": 3,
    "start_time": "2022-05-23T12:50:51.496Z"
   },
   {
    "duration": 36072,
    "start_time": "2022-05-23T12:50:52.646Z"
   },
   {
    "duration": 4,
    "start_time": "2022-05-23T12:51:28.719Z"
   },
   {
    "duration": 3,
    "start_time": "2022-05-23T12:52:01.198Z"
   },
   {
    "duration": 4,
    "start_time": "2022-05-23T12:52:01.489Z"
   },
   {
    "duration": 480662,
    "start_time": "2022-05-23T12:52:01.760Z"
   },
   {
    "duration": 3,
    "start_time": "2022-05-23T13:02:48.115Z"
   },
   {
    "duration": 3,
    "start_time": "2022-05-23T13:02:49.122Z"
   },
   {
    "duration": 1338,
    "start_time": "2022-05-23T13:03:21.182Z"
   },
   {
    "duration": 3,
    "start_time": "2022-05-23T13:03:26.012Z"
   },
   {
    "duration": 2,
    "start_time": "2022-05-23T13:03:26.434Z"
   },
   {
    "duration": 469371,
    "start_time": "2022-05-23T13:03:26.862Z"
   },
   {
    "duration": 4,
    "start_time": "2022-05-23T13:11:16.235Z"
   },
   {
    "duration": 6964,
    "start_time": "2022-05-23T13:20:07.257Z"
   },
   {
    "duration": 3543,
    "start_time": "2022-05-23T13:20:30.180Z"
   },
   {
    "duration": 3,
    "start_time": "2022-05-23T13:21:33.021Z"
   },
   {
    "duration": 3,
    "start_time": "2022-05-23T13:21:33.299Z"
   },
   {
    "duration": 1718210,
    "start_time": "2022-05-23T13:21:33.607Z"
   },
   {
    "duration": 4,
    "start_time": "2022-05-23T13:50:11.819Z"
   },
   {
    "duration": 3215,
    "start_time": "2022-05-23T14:20:17.598Z"
   },
   {
    "duration": 4161,
    "start_time": "2022-05-23T14:25:45.151Z"
   },
   {
    "duration": 2,
    "start_time": "2022-05-23T14:26:33.099Z"
   },
   {
    "duration": 3,
    "start_time": "2022-05-23T14:26:33.407Z"
   },
   {
    "duration": 5918918,
    "start_time": "2022-05-23T14:26:33.722Z"
   },
   {
    "duration": 5,
    "start_time": "2022-05-23T16:05:12.721Z"
   },
   {
    "duration": 19994,
    "start_time": "2022-05-23T16:11:57.231Z"
   },
   {
    "duration": 180797,
    "start_time": "2022-05-23T16:13:48.121Z"
   },
   {
    "duration": 4,
    "start_time": "2022-05-23T16:19:08.172Z"
   },
   {
    "duration": 13,
    "start_time": "2022-05-23T19:59:19.459Z"
   },
   {
    "duration": 7,
    "start_time": "2022-05-23T19:59:49.343Z"
   },
   {
    "duration": 48,
    "start_time": "2022-05-23T20:21:21.974Z"
   },
   {
    "duration": 1561,
    "start_time": "2022-05-23T20:21:32.717Z"
   },
   {
    "duration": 1020,
    "start_time": "2022-05-23T20:21:34.280Z"
   },
   {
    "duration": 14,
    "start_time": "2022-05-23T20:21:35.302Z"
   },
   {
    "duration": 116,
    "start_time": "2022-05-23T20:21:39.286Z"
   },
   {
    "duration": 7,
    "start_time": "2022-05-23T20:21:39.574Z"
   },
   {
    "duration": 23,
    "start_time": "2022-05-23T20:21:40.210Z"
   },
   {
    "duration": 90,
    "start_time": "2022-05-23T20:21:40.847Z"
   },
   {
    "duration": 172,
    "start_time": "2022-05-23T20:21:45.428Z"
   },
   {
    "duration": 182,
    "start_time": "2022-05-23T20:21:45.613Z"
   },
   {
    "duration": 292,
    "start_time": "2022-05-23T20:21:46.215Z"
   },
   {
    "duration": 43,
    "start_time": "2022-05-23T20:21:48.128Z"
   },
   {
    "duration": 32,
    "start_time": "2022-05-23T20:21:48.538Z"
   },
   {
    "duration": 23,
    "start_time": "2022-05-23T20:21:48.856Z"
   },
   {
    "duration": 25,
    "start_time": "2022-05-23T20:21:49.283Z"
   },
   {
    "duration": 25,
    "start_time": "2022-05-23T20:21:49.607Z"
   },
   {
    "duration": 17,
    "start_time": "2022-05-23T20:21:49.916Z"
   },
   {
    "duration": 23,
    "start_time": "2022-05-23T20:21:50.247Z"
   },
   {
    "duration": 54,
    "start_time": "2022-05-23T20:21:53.732Z"
   },
   {
    "duration": 23,
    "start_time": "2022-05-23T20:21:54.149Z"
   },
   {
    "duration": 6,
    "start_time": "2022-05-23T20:22:03.745Z"
   },
   {
    "duration": 31,
    "start_time": "2022-05-23T20:23:06.328Z"
   },
   {
    "duration": 4,
    "start_time": "2022-05-23T20:34:07.223Z"
   },
   {
    "duration": 20,
    "start_time": "2022-05-23T21:50:57.623Z"
   },
   {
    "duration": 68,
    "start_time": "2022-05-23T21:52:27.627Z"
   },
   {
    "duration": 14,
    "start_time": "2022-05-23T21:52:44.391Z"
   },
   {
    "duration": 3,
    "start_time": "2022-05-23T22:24:13.935Z"
   },
   {
    "duration": 4,
    "start_time": "2022-05-23T22:24:40.678Z"
   },
   {
    "duration": 5,
    "start_time": "2022-05-23T22:51:36.016Z"
   },
   {
    "duration": 748,
    "start_time": "2022-05-23T22:51:38.891Z"
   },
   {
    "duration": 14,
    "start_time": "2022-05-23T22:51:41.542Z"
   },
   {
    "duration": 124,
    "start_time": "2022-05-23T22:51:44.209Z"
   },
   {
    "duration": 6,
    "start_time": "2022-05-23T22:51:45.775Z"
   },
   {
    "duration": 17,
    "start_time": "2022-05-23T22:51:46.092Z"
   },
   {
    "duration": 123,
    "start_time": "2022-05-23T22:51:46.355Z"
   },
   {
    "duration": 178,
    "start_time": "2022-05-23T22:51:46.679Z"
   },
   {
    "duration": 214,
    "start_time": "2022-05-23T22:51:46.859Z"
   },
   {
    "duration": 232,
    "start_time": "2022-05-23T22:51:47.075Z"
   },
   {
    "duration": 40,
    "start_time": "2022-05-23T22:51:47.540Z"
   },
   {
    "duration": 27,
    "start_time": "2022-05-23T22:51:47.920Z"
   },
   {
    "duration": 26,
    "start_time": "2022-05-23T22:51:49.430Z"
   },
   {
    "duration": 16,
    "start_time": "2022-05-23T22:51:49.943Z"
   },
   {
    "duration": 24,
    "start_time": "2022-05-23T22:51:51.723Z"
   },
   {
    "duration": 15,
    "start_time": "2022-05-23T22:51:52.065Z"
   },
   {
    "duration": 21,
    "start_time": "2022-05-23T22:51:54.048Z"
   },
   {
    "duration": 42,
    "start_time": "2022-05-23T22:51:54.362Z"
   },
   {
    "duration": 27,
    "start_time": "2022-05-23T22:51:54.522Z"
   },
   {
    "duration": 69,
    "start_time": "2022-05-23T22:51:55.896Z"
   },
   {
    "duration": 37,
    "start_time": "2022-05-23T22:51:56.216Z"
   },
   {
    "duration": 16,
    "start_time": "2022-05-23T22:51:56.488Z"
   },
   {
    "duration": 24,
    "start_time": "2022-05-23T22:51:57.922Z"
   },
   {
    "duration": 1617,
    "start_time": "2022-05-23T22:52:03.222Z"
   },
   {
    "duration": 57,
    "start_time": "2022-05-23T22:52:06.543Z"
   },
   {
    "duration": 15,
    "start_time": "2022-05-23T22:52:08.082Z"
   },
   {
    "duration": 29,
    "start_time": "2022-05-23T22:52:08.897Z"
   },
   {
    "duration": 40,
    "start_time": "2022-05-23T22:52:12.972Z"
   },
   {
    "duration": 15,
    "start_time": "2022-05-23T22:52:13.742Z"
   },
   {
    "duration": 66,
    "start_time": "2022-05-23T22:52:15.321Z"
   },
   {
    "duration": 55,
    "start_time": "2022-05-23T22:52:28.223Z"
   },
   {
    "duration": 2061,
    "start_time": "2022-05-25T12:58:50.167Z"
   },
   {
    "duration": 1090,
    "start_time": "2022-05-25T12:58:52.230Z"
   },
   {
    "duration": 18,
    "start_time": "2022-05-25T12:58:53.321Z"
   },
   {
    "duration": 133,
    "start_time": "2022-05-25T12:58:53.341Z"
   },
   {
    "duration": 7,
    "start_time": "2022-05-25T12:58:53.476Z"
   },
   {
    "duration": 27,
    "start_time": "2022-05-25T12:58:53.494Z"
   },
   {
    "duration": 105,
    "start_time": "2022-05-25T12:58:53.523Z"
   },
   {
    "duration": 195,
    "start_time": "2022-05-25T12:58:53.630Z"
   },
   {
    "duration": 202,
    "start_time": "2022-05-25T12:58:53.826Z"
   },
   {
    "duration": 235,
    "start_time": "2022-05-25T12:58:54.030Z"
   },
   {
    "duration": 58,
    "start_time": "2022-05-25T12:58:54.266Z"
   },
   {
    "duration": 26,
    "start_time": "2022-05-25T12:58:54.325Z"
   },
   {
    "duration": 21,
    "start_time": "2022-05-25T12:58:54.352Z"
   },
   {
    "duration": 19,
    "start_time": "2022-05-25T12:58:57.369Z"
   },
   {
    "duration": 163,
    "start_time": "2022-05-25T12:59:01.938Z"
   },
   {
    "duration": 1255,
    "start_time": "2022-05-25T12:59:28.244Z"
   },
   {
    "duration": 825,
    "start_time": "2022-05-25T12:59:29.501Z"
   },
   {
    "duration": 20,
    "start_time": "2022-05-25T12:59:30.328Z"
   },
   {
    "duration": 147,
    "start_time": "2022-05-25T12:59:30.351Z"
   },
   {
    "duration": 8,
    "start_time": "2022-05-25T12:59:30.501Z"
   },
   {
    "duration": 34,
    "start_time": "2022-05-25T12:59:30.511Z"
   },
   {
    "duration": 115,
    "start_time": "2022-05-25T12:59:30.547Z"
   },
   {
    "duration": 214,
    "start_time": "2022-05-25T12:59:30.664Z"
   },
   {
    "duration": 225,
    "start_time": "2022-05-25T12:59:30.880Z"
   },
   {
    "duration": 228,
    "start_time": "2022-05-25T12:59:31.108Z"
   },
   {
    "duration": 44,
    "start_time": "2022-05-25T12:59:31.338Z"
   },
   {
    "duration": 25,
    "start_time": "2022-05-25T12:59:31.395Z"
   },
   {
    "duration": 22,
    "start_time": "2022-05-25T12:59:31.422Z"
   },
   {
    "duration": 58,
    "start_time": "2022-05-25T12:59:31.446Z"
   },
   {
    "duration": 139,
    "start_time": "2022-05-25T12:59:33.550Z"
   },
   {
    "duration": 5,
    "start_time": "2022-05-25T12:59:55.649Z"
   },
   {
    "duration": 1370,
    "start_time": "2022-05-25T13:00:17.562Z"
   },
   {
    "duration": 898,
    "start_time": "2022-05-25T13:00:18.935Z"
   },
   {
    "duration": 19,
    "start_time": "2022-05-25T13:00:19.835Z"
   },
   {
    "duration": 8,
    "start_time": "2022-05-25T13:00:24.925Z"
   },
   {
    "duration": 28,
    "start_time": "2022-05-25T13:00:28.687Z"
   },
   {
    "duration": 91,
    "start_time": "2022-05-25T13:00:30.381Z"
   },
   {
    "duration": 193,
    "start_time": "2022-05-25T13:00:36.391Z"
   },
   {
    "duration": 213,
    "start_time": "2022-05-25T13:00:36.827Z"
   },
   {
    "duration": 212,
    "start_time": "2022-05-25T13:00:37.629Z"
   },
   {
    "duration": 28,
    "start_time": "2022-05-25T13:00:54.528Z"
   },
   {
    "duration": 21,
    "start_time": "2022-05-25T13:00:56.301Z"
   },
   {
    "duration": 22,
    "start_time": "2022-05-25T13:01:03.789Z"
   },
   {
    "duration": 17,
    "start_time": "2022-05-25T13:01:09.653Z"
   },
   {
    "duration": 17,
    "start_time": "2022-05-25T13:01:50.496Z"
   },
   {
    "duration": 23,
    "start_time": "2022-05-25T13:03:15.196Z"
   },
   {
    "duration": 49,
    "start_time": "2022-05-25T13:03:17.015Z"
   },
   {
    "duration": 21,
    "start_time": "2022-05-25T13:03:17.426Z"
   },
   {
    "duration": 22,
    "start_time": "2022-05-25T13:03:47.981Z"
   },
   {
    "duration": 20,
    "start_time": "2022-05-25T13:04:20.294Z"
   },
   {
    "duration": 489,
    "start_time": "2022-05-25T13:09:31.631Z"
   },
   {
    "duration": 42,
    "start_time": "2022-05-25T13:10:01.123Z"
   },
   {
    "duration": 41,
    "start_time": "2022-05-25T13:10:07.190Z"
   },
   {
    "duration": 6,
    "start_time": "2022-05-25T13:10:26.989Z"
   },
   {
    "duration": 305,
    "start_time": "2022-05-25T13:10:38.331Z"
   },
   {
    "duration": 39,
    "start_time": "2022-05-25T13:10:54.085Z"
   },
   {
    "duration": 26,
    "start_time": "2022-05-25T13:10:54.937Z"
   },
   {
    "duration": 305,
    "start_time": "2022-05-25T13:10:56.493Z"
   },
   {
    "duration": 1373,
    "start_time": "2022-05-25T13:12:16.832Z"
   },
   {
    "duration": 28,
    "start_time": "2022-05-25T13:13:13.606Z"
   },
   {
    "duration": 12,
    "start_time": "2022-05-25T13:14:12.847Z"
   },
   {
    "duration": 8,
    "start_time": "2022-05-25T13:14:29.704Z"
   },
   {
    "duration": 97,
    "start_time": "2022-05-25T13:15:16.480Z"
   },
   {
    "duration": 5,
    "start_time": "2022-05-25T13:15:39.733Z"
   },
   {
    "duration": 96,
    "start_time": "2022-05-25T13:15:48.652Z"
   },
   {
    "duration": 4,
    "start_time": "2022-05-25T13:16:18.469Z"
   },
   {
    "duration": 24,
    "start_time": "2022-05-25T13:16:21.051Z"
   },
   {
    "duration": 244,
    "start_time": "2022-05-25T13:16:28.132Z"
   },
   {
    "duration": 1446,
    "start_time": "2022-05-25T13:17:45.280Z"
   },
   {
    "duration": 29,
    "start_time": "2022-05-25T13:18:36.799Z"
   },
   {
    "duration": 1447,
    "start_time": "2022-05-25T13:18:50.256Z"
   },
   {
    "duration": 981,
    "start_time": "2022-05-25T13:18:51.706Z"
   },
   {
    "duration": 34,
    "start_time": "2022-05-25T13:18:52.688Z"
   },
   {
    "duration": 146,
    "start_time": "2022-05-25T13:18:52.724Z"
   },
   {
    "duration": 7,
    "start_time": "2022-05-25T13:18:52.872Z"
   },
   {
    "duration": 41,
    "start_time": "2022-05-25T13:18:52.881Z"
   },
   {
    "duration": 113,
    "start_time": "2022-05-25T13:18:52.925Z"
   },
   {
    "duration": 227,
    "start_time": "2022-05-25T13:18:53.040Z"
   },
   {
    "duration": 246,
    "start_time": "2022-05-25T13:18:53.269Z"
   },
   {
    "duration": 253,
    "start_time": "2022-05-25T13:18:53.518Z"
   },
   {
    "duration": 58,
    "start_time": "2022-05-25T13:18:53.773Z"
   },
   {
    "duration": 25,
    "start_time": "2022-05-25T13:18:53.832Z"
   },
   {
    "duration": 40,
    "start_time": "2022-05-25T13:18:53.859Z"
   },
   {
    "duration": 20,
    "start_time": "2022-05-25T13:18:53.901Z"
   },
   {
    "duration": 17,
    "start_time": "2022-05-25T13:18:53.923Z"
   },
   {
    "duration": 18,
    "start_time": "2022-05-25T13:18:53.942Z"
   },
   {
    "duration": 55,
    "start_time": "2022-05-25T13:18:53.962Z"
   },
   {
    "duration": 140,
    "start_time": "2022-05-25T13:19:01.833Z"
   },
   {
    "duration": 2615,
    "start_time": "2022-05-25T13:19:10.634Z"
   },
   {
    "duration": 1408,
    "start_time": "2022-05-25T13:19:30.936Z"
   },
   {
    "duration": 46,
    "start_time": "2022-05-25T13:19:57.394Z"
   },
   {
    "duration": 305,
    "start_time": "2022-05-25T13:20:21.814Z"
   },
   {
    "duration": 25,
    "start_time": "2022-05-25T13:21:32.289Z"
   },
   {
    "duration": 289,
    "start_time": "2022-05-25T13:23:39.622Z"
   },
   {
    "duration": 1446,
    "start_time": "2022-05-25T13:24:34.162Z"
   },
   {
    "duration": 1034,
    "start_time": "2022-05-25T13:24:35.611Z"
   },
   {
    "duration": 25,
    "start_time": "2022-05-25T13:24:36.647Z"
   },
   {
    "duration": 171,
    "start_time": "2022-05-25T13:24:36.674Z"
   },
   {
    "duration": 7,
    "start_time": "2022-05-25T13:24:36.847Z"
   },
   {
    "duration": 23,
    "start_time": "2022-05-25T13:24:36.855Z"
   },
   {
    "duration": 108,
    "start_time": "2022-05-25T13:24:36.895Z"
   },
   {
    "duration": 224,
    "start_time": "2022-05-25T13:24:37.006Z"
   },
   {
    "duration": 241,
    "start_time": "2022-05-25T13:24:37.232Z"
   },
   {
    "duration": 246,
    "start_time": "2022-05-25T13:24:37.476Z"
   },
   {
    "duration": 44,
    "start_time": "2022-05-25T13:24:37.724Z"
   },
   {
    "duration": 56,
    "start_time": "2022-05-25T13:24:37.770Z"
   },
   {
    "duration": 19,
    "start_time": "2022-05-25T13:24:37.827Z"
   },
   {
    "duration": 17,
    "start_time": "2022-05-25T13:24:37.847Z"
   },
   {
    "duration": 45,
    "start_time": "2022-05-25T13:24:37.866Z"
   },
   {
    "duration": 21,
    "start_time": "2022-05-25T13:24:37.914Z"
   },
   {
    "duration": 26,
    "start_time": "2022-05-25T13:24:37.937Z"
   },
   {
    "duration": 9208,
    "start_time": "2022-05-25T13:26:31.378Z"
   },
   {
    "duration": 1496,
    "start_time": "2022-05-25T13:27:29.476Z"
   },
   {
    "duration": 299,
    "start_time": "2022-05-25T13:27:42.068Z"
   },
   {
    "duration": 54,
    "start_time": "2022-05-25T13:27:59.050Z"
   },
   {
    "duration": 341,
    "start_time": "2022-05-25T13:28:01.789Z"
   },
   {
    "duration": 23,
    "start_time": "2022-05-25T13:28:06.342Z"
   },
   {
    "duration": 1413,
    "start_time": "2022-05-25T13:28:37.102Z"
   },
   {
    "duration": 944,
    "start_time": "2022-05-25T13:28:38.518Z"
   },
   {
    "duration": 17,
    "start_time": "2022-05-25T13:28:39.463Z"
   },
   {
    "duration": 138,
    "start_time": "2022-05-25T13:28:39.482Z"
   },
   {
    "duration": 9,
    "start_time": "2022-05-25T13:28:39.621Z"
   },
   {
    "duration": 24,
    "start_time": "2022-05-25T13:28:39.631Z"
   },
   {
    "duration": 112,
    "start_time": "2022-05-25T13:28:39.657Z"
   },
   {
    "duration": 223,
    "start_time": "2022-05-25T13:28:39.772Z"
   },
   {
    "duration": 252,
    "start_time": "2022-05-25T13:28:39.997Z"
   },
   {
    "duration": 254,
    "start_time": "2022-05-25T13:28:40.252Z"
   },
   {
    "duration": 47,
    "start_time": "2022-05-25T13:28:40.508Z"
   },
   {
    "duration": 49,
    "start_time": "2022-05-25T13:28:40.556Z"
   },
   {
    "duration": 24,
    "start_time": "2022-05-25T13:28:40.607Z"
   },
   {
    "duration": 32,
    "start_time": "2022-05-25T13:28:40.633Z"
   },
   {
    "duration": 38,
    "start_time": "2022-05-25T13:28:40.667Z"
   },
   {
    "duration": 47,
    "start_time": "2022-05-25T13:28:40.707Z"
   },
   {
    "duration": 43,
    "start_time": "2022-05-25T13:28:40.757Z"
   },
   {
    "duration": 297,
    "start_time": "2022-05-25T13:28:40.802Z"
   },
   {
    "duration": 151,
    "start_time": "2022-05-25T13:34:48.989Z"
   },
   {
    "duration": 8,
    "start_time": "2022-05-25T13:35:30.864Z"
   },
   {
    "duration": 306,
    "start_time": "2022-05-25T13:35:39.634Z"
   },
   {
    "duration": 309,
    "start_time": "2022-05-25T13:35:48.926Z"
   },
   {
    "duration": 263,
    "start_time": "2022-05-25T13:35:54.970Z"
   },
   {
    "duration": 402,
    "start_time": "2022-05-25T13:36:04.570Z"
   },
   {
    "duration": 14,
    "start_time": "2022-05-25T13:36:35.137Z"
   },
   {
    "duration": 14,
    "start_time": "2022-05-25T13:37:10.438Z"
   },
   {
    "duration": 14,
    "start_time": "2022-05-25T13:37:20.916Z"
   },
   {
    "duration": 314,
    "start_time": "2022-05-25T13:37:28.129Z"
   },
   {
    "duration": 22,
    "start_time": "2022-05-25T13:40:07.616Z"
   },
   {
    "duration": 299,
    "start_time": "2022-05-25T13:40:34.297Z"
   },
   {
    "duration": 13,
    "start_time": "2022-05-25T13:42:43.697Z"
   },
   {
    "duration": 91,
    "start_time": "2022-05-25T13:42:50.833Z"
   },
   {
    "duration": 21,
    "start_time": "2022-05-25T13:42:59.484Z"
   },
   {
    "duration": 10,
    "start_time": "2022-05-25T13:44:14.302Z"
   },
   {
    "duration": 486,
    "start_time": "2022-05-25T13:45:01.694Z"
   },
   {
    "duration": 1328,
    "start_time": "2022-05-25T13:45:23.386Z"
   },
   {
    "duration": 970,
    "start_time": "2022-05-25T13:45:24.716Z"
   },
   {
    "duration": 19,
    "start_time": "2022-05-25T13:45:25.688Z"
   },
   {
    "duration": 135,
    "start_time": "2022-05-25T13:45:25.709Z"
   },
   {
    "duration": 9,
    "start_time": "2022-05-25T13:45:25.846Z"
   },
   {
    "duration": 42,
    "start_time": "2022-05-25T13:45:25.856Z"
   },
   {
    "duration": 99,
    "start_time": "2022-05-25T13:45:25.900Z"
   },
   {
    "duration": 209,
    "start_time": "2022-05-25T13:45:26.001Z"
   },
   {
    "duration": 218,
    "start_time": "2022-05-25T13:45:26.212Z"
   },
   {
    "duration": 243,
    "start_time": "2022-05-25T13:45:26.434Z"
   },
   {
    "duration": 54,
    "start_time": "2022-05-25T13:45:26.679Z"
   },
   {
    "duration": 28,
    "start_time": "2022-05-25T13:45:26.735Z"
   },
   {
    "duration": 43,
    "start_time": "2022-05-25T13:45:26.765Z"
   },
   {
    "duration": 18,
    "start_time": "2022-05-25T13:45:26.810Z"
   },
   {
    "duration": 18,
    "start_time": "2022-05-25T13:45:26.829Z"
   },
   {
    "duration": 22,
    "start_time": "2022-05-25T13:45:26.848Z"
   },
   {
    "duration": 46,
    "start_time": "2022-05-25T13:45:26.872Z"
   },
   {
    "duration": 26,
    "start_time": "2022-05-25T13:45:26.919Z"
   },
   {
    "duration": 304,
    "start_time": "2022-05-25T13:45:26.947Z"
   },
   {
    "duration": 97,
    "start_time": "2022-05-25T13:45:27.252Z"
   },
   {
    "duration": 23,
    "start_time": "2022-05-25T13:45:27.351Z"
   },
   {
    "duration": 40,
    "start_time": "2022-05-25T13:45:27.375Z"
   },
   {
    "duration": 1077,
    "start_time": "2022-05-25T13:45:27.416Z"
   },
   {
    "duration": 59,
    "start_time": "2022-05-25T13:47:39.240Z"
   },
   {
    "duration": 21,
    "start_time": "2022-05-25T13:47:39.605Z"
   },
   {
    "duration": 24,
    "start_time": "2022-05-25T13:47:40.541Z"
   },
   {
    "duration": 1181,
    "start_time": "2022-05-25T13:47:42.138Z"
   },
   {
    "duration": 1190,
    "start_time": "2022-05-25T13:48:19.779Z"
   },
   {
    "duration": 223,
    "start_time": "2022-05-25T13:52:00.942Z"
   },
   {
    "duration": 149,
    "start_time": "2022-05-25T13:52:10.194Z"
   },
   {
    "duration": 111,
    "start_time": "2022-05-25T13:52:36.468Z"
   },
   {
    "duration": 227,
    "start_time": "2022-05-25T13:52:59.043Z"
   },
   {
    "duration": 61,
    "start_time": "2022-05-25T13:53:48.705Z"
   },
   {
    "duration": 7,
    "start_time": "2022-05-25T14:06:55.282Z"
   },
   {
    "duration": 4,
    "start_time": "2022-05-25T14:07:22.602Z"
   },
   {
    "duration": 187,
    "start_time": "2022-05-25T14:07:31.261Z"
   },
   {
    "duration": 1373,
    "start_time": "2022-05-25T14:07:53.028Z"
   },
   {
    "duration": 1080,
    "start_time": "2022-05-25T14:07:54.403Z"
   },
   {
    "duration": 19,
    "start_time": "2022-05-25T14:07:55.485Z"
   },
   {
    "duration": 122,
    "start_time": "2022-05-25T14:07:55.506Z"
   },
   {
    "duration": 7,
    "start_time": "2022-05-25T14:07:55.631Z"
   },
   {
    "duration": 28,
    "start_time": "2022-05-25T14:07:55.639Z"
   },
   {
    "duration": 109,
    "start_time": "2022-05-25T14:07:55.669Z"
   },
   {
    "duration": 203,
    "start_time": "2022-05-25T14:07:55.779Z"
   },
   {
    "duration": 235,
    "start_time": "2022-05-25T14:07:55.984Z"
   },
   {
    "duration": 241,
    "start_time": "2022-05-25T14:07:56.221Z"
   },
   {
    "duration": 54,
    "start_time": "2022-05-25T14:07:56.464Z"
   },
   {
    "duration": 25,
    "start_time": "2022-05-25T14:07:56.520Z"
   },
   {
    "duration": 20,
    "start_time": "2022-05-25T14:07:56.547Z"
   },
   {
    "duration": 18,
    "start_time": "2022-05-25T14:07:56.595Z"
   },
   {
    "duration": 31,
    "start_time": "2022-05-25T14:07:56.614Z"
   },
   {
    "duration": 18,
    "start_time": "2022-05-25T14:07:56.647Z"
   },
   {
    "duration": 54,
    "start_time": "2022-05-25T14:07:56.667Z"
   },
   {
    "duration": 22,
    "start_time": "2022-05-25T14:07:56.723Z"
   },
   {
    "duration": 304,
    "start_time": "2022-05-25T14:07:56.746Z"
   },
   {
    "duration": 124,
    "start_time": "2022-05-25T14:07:57.052Z"
   },
   {
    "duration": 48,
    "start_time": "2022-05-25T14:07:57.178Z"
   },
   {
    "duration": 41,
    "start_time": "2022-05-25T14:07:57.228Z"
   },
   {
    "duration": 1377,
    "start_time": "2022-05-25T14:07:57.271Z"
   },
   {
    "duration": 74,
    "start_time": "2022-05-25T14:07:58.650Z"
   },
   {
    "duration": 117,
    "start_time": "2022-05-25T14:09:21.112Z"
   },
   {
    "duration": 36,
    "start_time": "2022-05-25T14:12:09.533Z"
   },
   {
    "duration": 63,
    "start_time": "2022-05-25T14:12:15.000Z"
   },
   {
    "duration": 1062,
    "start_time": "2022-05-25T14:12:21.662Z"
   },
   {
    "duration": 62,
    "start_time": "2022-05-25T14:13:21.658Z"
   },
   {
    "duration": 226,
    "start_time": "2022-05-25T14:13:57.627Z"
   },
   {
    "duration": 1292,
    "start_time": "2022-05-25T14:14:08.594Z"
   },
   {
    "duration": 872,
    "start_time": "2022-05-25T14:14:09.888Z"
   },
   {
    "duration": 17,
    "start_time": "2022-05-25T14:14:10.761Z"
   },
   {
    "duration": 118,
    "start_time": "2022-05-25T14:14:10.780Z"
   },
   {
    "duration": 7,
    "start_time": "2022-05-25T14:14:10.900Z"
   },
   {
    "duration": 24,
    "start_time": "2022-05-25T14:14:10.908Z"
   },
   {
    "duration": 107,
    "start_time": "2022-05-25T14:14:10.933Z"
   },
   {
    "duration": 195,
    "start_time": "2022-05-25T14:14:11.042Z"
   },
   {
    "duration": 226,
    "start_time": "2022-05-25T14:14:11.239Z"
   },
   {
    "duration": 218,
    "start_time": "2022-05-25T14:14:11.468Z"
   },
   {
    "duration": 43,
    "start_time": "2022-05-25T14:14:11.688Z"
   },
   {
    "duration": 26,
    "start_time": "2022-05-25T14:14:11.732Z"
   },
   {
    "duration": 51,
    "start_time": "2022-05-25T14:14:11.760Z"
   },
   {
    "duration": 15,
    "start_time": "2022-05-25T14:14:11.812Z"
   },
   {
    "duration": 17,
    "start_time": "2022-05-25T14:14:11.829Z"
   },
   {
    "duration": 18,
    "start_time": "2022-05-25T14:14:11.847Z"
   },
   {
    "duration": 35,
    "start_time": "2022-05-25T14:14:11.867Z"
   },
   {
    "duration": 20,
    "start_time": "2022-05-25T14:14:11.903Z"
   },
   {
    "duration": 278,
    "start_time": "2022-05-25T14:14:11.925Z"
   },
   {
    "duration": 79,
    "start_time": "2022-05-25T14:14:12.205Z"
   },
   {
    "duration": 21,
    "start_time": "2022-05-25T14:14:12.293Z"
   },
   {
    "duration": 25,
    "start_time": "2022-05-25T14:14:12.315Z"
   },
   {
    "duration": 1056,
    "start_time": "2022-05-25T14:14:12.342Z"
   },
   {
    "duration": 68,
    "start_time": "2022-05-25T14:14:13.400Z"
   },
   {
    "duration": 43,
    "start_time": "2022-05-25T14:14:13.469Z"
   },
   {
    "duration": 68,
    "start_time": "2022-05-25T14:14:13.514Z"
   },
   {
    "duration": 70,
    "start_time": "2022-05-25T14:14:13.584Z"
   },
   {
    "duration": 47,
    "start_time": "2022-05-25T14:14:13.658Z"
   },
   {
    "duration": 13,
    "start_time": "2022-05-25T14:14:13.707Z"
   },
   {
    "duration": 19,
    "start_time": "2022-05-25T14:14:13.722Z"
   },
   {
    "duration": 1241,
    "start_time": "2022-05-25T14:14:13.742Z"
   },
   {
    "duration": 50,
    "start_time": "2022-05-25T14:14:14.985Z"
   },
   {
    "duration": 13,
    "start_time": "2022-05-25T14:14:15.037Z"
   },
   {
    "duration": 43,
    "start_time": "2022-05-25T14:14:15.052Z"
   },
   {
    "duration": 28,
    "start_time": "2022-05-25T14:14:15.097Z"
   },
   {
    "duration": 21,
    "start_time": "2022-05-25T14:14:15.126Z"
   },
   {
    "duration": 68,
    "start_time": "2022-05-25T14:14:15.149Z"
   },
   {
    "duration": 46,
    "start_time": "2022-05-25T14:14:15.219Z"
   },
   {
    "duration": 106,
    "start_time": "2022-05-25T14:14:15.266Z"
   },
   {
    "duration": 485,
    "start_time": "2022-05-25T14:14:15.373Z"
   },
   {
    "duration": 52,
    "start_time": "2022-05-25T14:14:15.859Z"
   },
   {
    "duration": 156,
    "start_time": "2022-05-25T14:14:15.912Z"
   },
   {
    "duration": 24,
    "start_time": "2022-05-25T14:14:16.070Z"
   },
   {
    "duration": 71,
    "start_time": "2022-05-25T14:14:16.096Z"
   },
   {
    "duration": 10,
    "start_time": "2022-05-25T14:14:16.169Z"
   },
   {
    "duration": 3,
    "start_time": "2022-05-25T14:14:16.180Z"
   },
   {
    "duration": 1310,
    "start_time": "2022-05-25T14:14:28.115Z"
   },
   {
    "duration": 815,
    "start_time": "2022-05-25T14:14:29.427Z"
   },
   {
    "duration": 22,
    "start_time": "2022-05-25T14:14:30.244Z"
   },
   {
    "duration": 160,
    "start_time": "2022-05-25T14:14:30.269Z"
   },
   {
    "duration": 10,
    "start_time": "2022-05-25T14:14:30.431Z"
   },
   {
    "duration": 24,
    "start_time": "2022-05-25T14:14:30.443Z"
   },
   {
    "duration": 112,
    "start_time": "2022-05-25T14:14:30.469Z"
   },
   {
    "duration": 213,
    "start_time": "2022-05-25T14:14:30.582Z"
   },
   {
    "duration": 224,
    "start_time": "2022-05-25T14:14:30.797Z"
   },
   {
    "duration": 238,
    "start_time": "2022-05-25T14:14:31.024Z"
   },
   {
    "duration": 49,
    "start_time": "2022-05-25T14:14:31.264Z"
   },
   {
    "duration": 23,
    "start_time": "2022-05-25T14:14:31.315Z"
   },
   {
    "duration": 23,
    "start_time": "2022-05-25T14:14:31.339Z"
   },
   {
    "duration": 36,
    "start_time": "2022-05-25T14:14:31.364Z"
   },
   {
    "duration": 19,
    "start_time": "2022-05-25T14:14:31.402Z"
   },
   {
    "duration": 22,
    "start_time": "2022-05-25T14:14:31.423Z"
   },
   {
    "duration": 26,
    "start_time": "2022-05-25T14:14:31.446Z"
   },
   {
    "duration": 21,
    "start_time": "2022-05-25T14:14:31.495Z"
   },
   {
    "duration": 283,
    "start_time": "2022-05-25T14:14:31.517Z"
   },
   {
    "duration": 78,
    "start_time": "2022-05-25T14:14:54.667Z"
   },
   {
    "duration": 23,
    "start_time": "2022-05-25T14:15:05.524Z"
   },
   {
    "duration": 24,
    "start_time": "2022-05-25T14:15:09.221Z"
   },
   {
    "duration": 121,
    "start_time": "2022-05-25T14:15:57.106Z"
   },
   {
    "duration": 1074,
    "start_time": "2022-05-25T14:16:25.665Z"
   },
   {
    "duration": 71,
    "start_time": "2022-05-25T14:16:30.000Z"
   },
   {
    "duration": 31,
    "start_time": "2022-05-25T14:16:55.442Z"
   },
   {
    "duration": 70,
    "start_time": "2022-05-25T14:17:00.503Z"
   },
   {
    "duration": 862,
    "start_time": "2022-05-25T14:18:59.873Z"
   },
   {
    "duration": 35,
    "start_time": "2022-05-25T14:19:29.457Z"
   },
   {
    "duration": 67,
    "start_time": "2022-05-25T14:21:39.276Z"
   },
   {
    "duration": 61,
    "start_time": "2022-05-25T14:21:50.130Z"
   },
   {
    "duration": 50,
    "start_time": "2022-05-25T14:22:25.261Z"
   },
   {
    "duration": 60,
    "start_time": "2022-05-25T14:22:28.444Z"
   },
   {
    "duration": 65,
    "start_time": "2022-05-25T14:22:42.787Z"
   },
   {
    "duration": 18,
    "start_time": "2022-05-25T14:23:56.721Z"
   },
   {
    "duration": 14,
    "start_time": "2022-05-25T14:25:37.238Z"
   },
   {
    "duration": 54,
    "start_time": "2022-05-25T14:25:51.861Z"
   },
   {
    "duration": 18,
    "start_time": "2022-05-25T14:25:55.373Z"
   },
   {
    "duration": 62,
    "start_time": "2022-05-25T14:25:57.497Z"
   },
   {
    "duration": 16,
    "start_time": "2022-05-25T14:26:37.900Z"
   },
   {
    "duration": 18,
    "start_time": "2022-05-25T14:26:38.370Z"
   },
   {
    "duration": 35,
    "start_time": "2022-05-25T14:27:00.541Z"
   },
   {
    "duration": 35,
    "start_time": "2022-05-25T14:27:55.126Z"
   },
   {
    "duration": 11,
    "start_time": "2022-05-25T14:29:31.039Z"
   },
   {
    "duration": 13,
    "start_time": "2022-05-25T15:21:20.479Z"
   },
   {
    "duration": 46,
    "start_time": "2022-05-25T15:21:25.308Z"
   },
   {
    "duration": 1304,
    "start_time": "2022-05-25T15:27:33.017Z"
   },
   {
    "duration": 1057,
    "start_time": "2022-05-25T15:27:34.323Z"
   },
   {
    "duration": 18,
    "start_time": "2022-05-25T15:27:35.382Z"
   },
   {
    "duration": 130,
    "start_time": "2022-05-25T15:27:35.402Z"
   },
   {
    "duration": 9,
    "start_time": "2022-05-25T15:27:35.534Z"
   },
   {
    "duration": 26,
    "start_time": "2022-05-25T15:27:35.545Z"
   },
   {
    "duration": 121,
    "start_time": "2022-05-25T15:27:35.573Z"
   },
   {
    "duration": 216,
    "start_time": "2022-05-25T15:27:35.696Z"
   },
   {
    "duration": 226,
    "start_time": "2022-05-25T15:27:35.914Z"
   },
   {
    "duration": 230,
    "start_time": "2022-05-25T15:27:36.143Z"
   },
   {
    "duration": 51,
    "start_time": "2022-05-25T15:27:36.375Z"
   },
   {
    "duration": 23,
    "start_time": "2022-05-25T15:27:36.427Z"
   },
   {
    "duration": 18,
    "start_time": "2022-05-25T15:27:36.452Z"
   },
   {
    "duration": 16,
    "start_time": "2022-05-25T15:27:36.494Z"
   },
   {
    "duration": 19,
    "start_time": "2022-05-25T15:27:36.512Z"
   },
   {
    "duration": 20,
    "start_time": "2022-05-25T15:27:36.532Z"
   },
   {
    "duration": 46,
    "start_time": "2022-05-25T15:27:36.554Z"
   },
   {
    "duration": 21,
    "start_time": "2022-05-25T15:27:36.602Z"
   },
   {
    "duration": 507,
    "start_time": "2022-05-25T15:27:36.624Z"
   },
   {
    "duration": 81,
    "start_time": "2022-05-25T15:27:37.133Z"
   },
   {
    "duration": 22,
    "start_time": "2022-05-25T15:27:37.215Z"
   },
   {
    "duration": 26,
    "start_time": "2022-05-25T15:27:37.238Z"
   },
   {
    "duration": 1152,
    "start_time": "2022-05-25T15:27:37.265Z"
   },
   {
    "duration": 60,
    "start_time": "2022-05-25T15:27:38.419Z"
   },
   {
    "duration": 75,
    "start_time": "2022-05-25T15:27:38.480Z"
   },
   {
    "duration": 20,
    "start_time": "2022-05-25T15:27:38.556Z"
   },
   {
    "duration": 40,
    "start_time": "2022-05-25T15:27:38.577Z"
   },
   {
    "duration": 59,
    "start_time": "2022-05-25T15:27:38.620Z"
   },
   {
    "duration": 42,
    "start_time": "2022-05-25T15:27:38.694Z"
   },
   {
    "duration": 1186,
    "start_time": "2022-05-25T15:27:38.737Z"
   },
   {
    "duration": 48,
    "start_time": "2022-05-25T15:27:39.924Z"
   },
   {
    "duration": 23,
    "start_time": "2022-05-25T15:27:39.973Z"
   },
   {
    "duration": 26,
    "start_time": "2022-05-25T15:27:39.998Z"
   },
   {
    "duration": 55,
    "start_time": "2022-05-25T15:27:40.026Z"
   },
   {
    "duration": 18,
    "start_time": "2022-05-25T15:27:40.083Z"
   },
   {
    "duration": 59,
    "start_time": "2022-05-25T15:27:40.103Z"
   },
   {
    "duration": 51,
    "start_time": "2022-05-25T15:27:40.164Z"
   },
   {
    "duration": 45,
    "start_time": "2022-05-25T15:30:10.835Z"
   },
   {
    "duration": 1193,
    "start_time": "2022-05-25T15:31:49.153Z"
   },
   {
    "duration": 32,
    "start_time": "2022-05-25T15:32:29.724Z"
   },
   {
    "duration": 511,
    "start_time": "2022-05-25T15:33:32.849Z"
   },
   {
    "duration": 557,
    "start_time": "2022-05-25T15:33:46.362Z"
   },
   {
    "duration": 19,
    "start_time": "2022-05-25T15:41:34.472Z"
   },
   {
    "duration": 40,
    "start_time": "2022-05-25T16:21:22.511Z"
   },
   {
    "duration": 8,
    "start_time": "2022-05-25T16:22:02.599Z"
   },
   {
    "duration": 5,
    "start_time": "2022-05-25T16:22:17.515Z"
   },
   {
    "duration": 158,
    "start_time": "2022-05-25T16:25:14.360Z"
   },
   {
    "duration": 10,
    "start_time": "2022-05-25T16:25:45.934Z"
   },
   {
    "duration": 12,
    "start_time": "2022-05-25T16:26:03.846Z"
   },
   {
    "duration": 57,
    "start_time": "2022-05-25T16:26:19.511Z"
   },
   {
    "duration": 124,
    "start_time": "2022-05-25T16:26:29.802Z"
   },
   {
    "duration": 41,
    "start_time": "2022-05-25T16:27:34.926Z"
   },
   {
    "duration": 5,
    "start_time": "2022-05-25T16:28:06.987Z"
   },
   {
    "duration": 5,
    "start_time": "2022-05-25T16:28:28.489Z"
   },
   {
    "duration": 5,
    "start_time": "2022-05-25T16:28:33.320Z"
   },
   {
    "duration": 21,
    "start_time": "2022-05-25T16:28:42.225Z"
   },
   {
    "duration": 1288,
    "start_time": "2022-05-25T16:28:55.068Z"
   },
   {
    "duration": 877,
    "start_time": "2022-05-25T16:28:56.358Z"
   },
   {
    "duration": 17,
    "start_time": "2022-05-25T16:28:57.236Z"
   },
   {
    "duration": 143,
    "start_time": "2022-05-25T16:28:57.255Z"
   },
   {
    "duration": 6,
    "start_time": "2022-05-25T16:28:57.400Z"
   },
   {
    "duration": 28,
    "start_time": "2022-05-25T16:28:57.407Z"
   },
   {
    "duration": 104,
    "start_time": "2022-05-25T16:28:57.437Z"
   },
   {
    "duration": 188,
    "start_time": "2022-05-25T16:28:57.543Z"
   },
   {
    "duration": 220,
    "start_time": "2022-05-25T16:28:57.733Z"
   },
   {
    "duration": 239,
    "start_time": "2022-05-25T16:28:57.956Z"
   },
   {
    "duration": 43,
    "start_time": "2022-05-25T16:28:58.196Z"
   },
   {
    "duration": 27,
    "start_time": "2022-05-25T16:28:58.241Z"
   },
   {
    "duration": 43,
    "start_time": "2022-05-25T16:28:58.269Z"
   },
   {
    "duration": 16,
    "start_time": "2022-05-25T16:28:58.314Z"
   },
   {
    "duration": 17,
    "start_time": "2022-05-25T16:28:58.332Z"
   },
   {
    "duration": 46,
    "start_time": "2022-05-25T16:28:58.350Z"
   },
   {
    "duration": 25,
    "start_time": "2022-05-25T16:28:58.398Z"
   },
   {
    "duration": 22,
    "start_time": "2022-05-25T16:28:58.424Z"
   },
   {
    "duration": 510,
    "start_time": "2022-05-25T16:28:58.448Z"
   },
   {
    "duration": 119,
    "start_time": "2022-05-25T16:28:58.960Z"
   },
   {
    "duration": 34,
    "start_time": "2022-05-25T16:28:59.081Z"
   },
   {
    "duration": 42,
    "start_time": "2022-05-25T16:28:59.117Z"
   },
   {
    "duration": 1105,
    "start_time": "2022-05-25T16:28:59.161Z"
   },
   {
    "duration": 76,
    "start_time": "2022-05-25T16:29:00.268Z"
   },
   {
    "duration": 88,
    "start_time": "2022-05-25T16:29:00.346Z"
   },
   {
    "duration": 21,
    "start_time": "2022-05-25T16:29:00.436Z"
   },
   {
    "duration": 46,
    "start_time": "2022-05-25T16:29:00.459Z"
   },
   {
    "duration": 67,
    "start_time": "2022-05-25T16:29:00.509Z"
   },
   {
    "duration": 47,
    "start_time": "2022-05-25T16:29:00.578Z"
   },
   {
    "duration": 1283,
    "start_time": "2022-05-25T16:29:00.627Z"
   },
   {
    "duration": 84,
    "start_time": "2022-05-25T16:29:01.912Z"
   },
   {
    "duration": 14,
    "start_time": "2022-05-25T16:29:01.998Z"
   },
   {
    "duration": 65,
    "start_time": "2022-05-25T16:29:02.014Z"
   },
   {
    "duration": 63,
    "start_time": "2022-05-25T16:29:02.081Z"
   },
   {
    "duration": 75,
    "start_time": "2022-05-25T16:29:02.145Z"
   },
   {
    "duration": 104,
    "start_time": "2022-05-25T16:29:02.222Z"
   },
   {
    "duration": 59,
    "start_time": "2022-05-25T16:29:02.327Z"
   },
   {
    "duration": 57,
    "start_time": "2022-05-25T16:29:02.388Z"
   },
   {
    "duration": 1363,
    "start_time": "2022-05-25T16:29:02.447Z"
   },
   {
    "duration": 594,
    "start_time": "2022-05-25T16:29:03.811Z"
   },
   {
    "duration": 20,
    "start_time": "2022-05-25T16:29:04.407Z"
   },
   {
    "duration": 6,
    "start_time": "2022-05-25T16:29:04.429Z"
   },
   {
    "duration": 8,
    "start_time": "2022-05-25T16:29:22.185Z"
   },
   {
    "duration": 18,
    "start_time": "2022-05-25T16:29:25.872Z"
   },
   {
    "duration": 1322,
    "start_time": "2022-05-25T16:29:38.746Z"
   },
   {
    "duration": 835,
    "start_time": "2022-05-25T16:29:40.070Z"
   },
   {
    "duration": 18,
    "start_time": "2022-05-25T16:29:40.906Z"
   },
   {
    "duration": 136,
    "start_time": "2022-05-25T16:29:40.926Z"
   },
   {
    "duration": 7,
    "start_time": "2022-05-25T16:29:41.064Z"
   },
   {
    "duration": 40,
    "start_time": "2022-05-25T16:29:41.073Z"
   },
   {
    "duration": 108,
    "start_time": "2022-05-25T16:29:41.115Z"
   },
   {
    "duration": 211,
    "start_time": "2022-05-25T16:29:41.224Z"
   },
   {
    "duration": 188,
    "start_time": "2022-05-25T16:29:41.437Z"
   },
   {
    "duration": 231,
    "start_time": "2022-05-25T16:29:41.628Z"
   },
   {
    "duration": 49,
    "start_time": "2022-05-25T16:29:41.860Z"
   },
   {
    "duration": 25,
    "start_time": "2022-05-25T16:29:41.911Z"
   },
   {
    "duration": 17,
    "start_time": "2022-05-25T16:29:41.938Z"
   },
   {
    "duration": 17,
    "start_time": "2022-05-25T16:29:41.956Z"
   },
   {
    "duration": 18,
    "start_time": "2022-05-25T16:29:41.994Z"
   },
   {
    "duration": 18,
    "start_time": "2022-05-25T16:29:42.014Z"
   },
   {
    "duration": 26,
    "start_time": "2022-05-25T16:29:42.035Z"
   },
   {
    "duration": 50,
    "start_time": "2022-05-25T16:29:42.063Z"
   },
   {
    "duration": 438,
    "start_time": "2022-05-25T16:29:42.115Z"
   },
   {
    "duration": 82,
    "start_time": "2022-05-25T16:29:42.555Z"
   },
   {
    "duration": 23,
    "start_time": "2022-05-25T16:29:42.639Z"
   },
   {
    "duration": 41,
    "start_time": "2022-05-25T16:29:42.664Z"
   },
   {
    "duration": 1023,
    "start_time": "2022-05-25T16:29:42.707Z"
   },
   {
    "duration": 67,
    "start_time": "2022-05-25T16:29:43.732Z"
   },
   {
    "duration": 69,
    "start_time": "2022-05-25T16:29:43.801Z"
   },
   {
    "duration": 34,
    "start_time": "2022-05-25T16:29:43.872Z"
   },
   {
    "duration": 31,
    "start_time": "2022-05-25T16:29:43.908Z"
   },
   {
    "duration": 80,
    "start_time": "2022-05-25T16:29:43.943Z"
   },
   {
    "duration": 32,
    "start_time": "2022-05-25T16:29:44.025Z"
   },
   {
    "duration": 1247,
    "start_time": "2022-05-25T16:29:44.059Z"
   },
   {
    "duration": 53,
    "start_time": "2022-05-25T16:29:45.309Z"
   },
   {
    "duration": 31,
    "start_time": "2022-05-25T16:29:45.364Z"
   },
   {
    "duration": 34,
    "start_time": "2022-05-25T16:29:45.397Z"
   },
   {
    "duration": 35,
    "start_time": "2022-05-25T16:29:45.433Z"
   },
   {
    "duration": 17,
    "start_time": "2022-05-25T16:29:45.470Z"
   },
   {
    "duration": 71,
    "start_time": "2022-05-25T16:29:45.493Z"
   },
   {
    "duration": 50,
    "start_time": "2022-05-25T16:29:45.566Z"
   },
   {
    "duration": 48,
    "start_time": "2022-05-25T16:29:45.618Z"
   },
   {
    "duration": 1215,
    "start_time": "2022-05-25T16:29:45.668Z"
   },
   {
    "duration": 545,
    "start_time": "2022-05-25T16:29:46.884Z"
   },
   {
    "duration": 21,
    "start_time": "2022-05-25T16:29:47.430Z"
   },
   {
    "duration": 7,
    "start_time": "2022-05-25T16:29:47.453Z"
   },
   {
    "duration": 48,
    "start_time": "2022-05-25T16:29:55.820Z"
   },
   {
    "duration": 19,
    "start_time": "2022-05-25T16:30:13.263Z"
   },
   {
    "duration": 37,
    "start_time": "2022-05-25T16:30:34.747Z"
   },
   {
    "duration": 6,
    "start_time": "2022-05-25T16:30:38.439Z"
   },
   {
    "duration": 13,
    "start_time": "2022-05-25T16:33:46.963Z"
   },
   {
    "duration": 47,
    "start_time": "2022-05-25T16:33:51.517Z"
   },
   {
    "duration": 116,
    "start_time": "2022-05-25T16:34:25.109Z"
   },
   {
    "duration": 6,
    "start_time": "2022-05-25T16:34:35.739Z"
   },
   {
    "duration": 5,
    "start_time": "2022-05-25T16:34:58.331Z"
   },
   {
    "duration": 474,
    "start_time": "2022-05-25T16:36:50.468Z"
   },
   {
    "duration": 11,
    "start_time": "2022-05-25T16:37:09.159Z"
   },
   {
    "duration": 35,
    "start_time": "2022-05-25T16:37:19.674Z"
   },
   {
    "duration": 1343,
    "start_time": "2022-05-25T16:37:44.051Z"
   },
   {
    "duration": 823,
    "start_time": "2022-05-25T16:37:45.396Z"
   },
   {
    "duration": 24,
    "start_time": "2022-05-25T16:37:46.221Z"
   },
   {
    "duration": 187,
    "start_time": "2022-05-25T16:37:46.248Z"
   },
   {
    "duration": 9,
    "start_time": "2022-05-25T16:37:46.437Z"
   },
   {
    "duration": 48,
    "start_time": "2022-05-25T16:37:46.448Z"
   },
   {
    "duration": 134,
    "start_time": "2022-05-25T16:37:46.499Z"
   },
   {
    "duration": 246,
    "start_time": "2022-05-25T16:37:46.635Z"
   },
   {
    "duration": 214,
    "start_time": "2022-05-25T16:37:46.884Z"
   },
   {
    "duration": 273,
    "start_time": "2022-05-25T16:37:47.102Z"
   },
   {
    "duration": 56,
    "start_time": "2022-05-25T16:37:47.377Z"
   },
   {
    "duration": 33,
    "start_time": "2022-05-25T16:37:47.436Z"
   },
   {
    "duration": 47,
    "start_time": "2022-05-25T16:37:47.470Z"
   },
   {
    "duration": 17,
    "start_time": "2022-05-25T16:37:47.520Z"
   },
   {
    "duration": 17,
    "start_time": "2022-05-25T16:37:47.539Z"
   },
   {
    "duration": 42,
    "start_time": "2022-05-25T16:37:47.558Z"
   },
   {
    "duration": 43,
    "start_time": "2022-05-25T16:37:47.602Z"
   },
   {
    "duration": 54,
    "start_time": "2022-05-25T16:37:47.647Z"
   },
   {
    "duration": 577,
    "start_time": "2022-05-25T16:37:47.704Z"
   },
   {
    "duration": 120,
    "start_time": "2022-05-25T16:37:48.283Z"
   },
   {
    "duration": 43,
    "start_time": "2022-05-25T16:37:48.406Z"
   },
   {
    "duration": 42,
    "start_time": "2022-05-25T16:37:48.452Z"
   },
   {
    "duration": 1269,
    "start_time": "2022-05-25T16:37:48.496Z"
   },
   {
    "duration": 75,
    "start_time": "2022-05-25T16:37:49.767Z"
   },
   {
    "duration": 75,
    "start_time": "2022-05-25T16:37:49.844Z"
   },
   {
    "duration": 20,
    "start_time": "2022-05-25T16:37:49.920Z"
   },
   {
    "duration": 35,
    "start_time": "2022-05-25T16:37:49.942Z"
   },
   {
    "duration": 70,
    "start_time": "2022-05-25T16:37:49.993Z"
   },
   {
    "duration": 47,
    "start_time": "2022-05-25T16:37:50.065Z"
   },
   {
    "duration": 1383,
    "start_time": "2022-05-25T16:37:50.114Z"
   },
   {
    "duration": 72,
    "start_time": "2022-05-25T16:37:51.499Z"
   },
   {
    "duration": 31,
    "start_time": "2022-05-25T16:37:51.573Z"
   },
   {
    "duration": 29,
    "start_time": "2022-05-25T16:37:51.606Z"
   },
   {
    "duration": 35,
    "start_time": "2022-05-25T16:37:51.636Z"
   },
   {
    "duration": 21,
    "start_time": "2022-05-25T16:37:51.673Z"
   },
   {
    "duration": 66,
    "start_time": "2022-05-25T16:37:51.696Z"
   },
   {
    "duration": 69,
    "start_time": "2022-05-25T16:37:51.765Z"
   },
   {
    "duration": 65,
    "start_time": "2022-05-25T16:37:51.836Z"
   },
   {
    "duration": 1198,
    "start_time": "2022-05-25T16:37:51.903Z"
   },
   {
    "duration": 536,
    "start_time": "2022-05-25T16:37:53.102Z"
   },
   {
    "duration": 25,
    "start_time": "2022-05-25T16:37:53.640Z"
   },
   {
    "duration": 7,
    "start_time": "2022-05-25T16:37:53.667Z"
   },
   {
    "duration": 42,
    "start_time": "2022-05-25T16:37:53.695Z"
   },
   {
    "duration": 14,
    "start_time": "2022-05-25T16:37:53.740Z"
   },
   {
    "duration": 81,
    "start_time": "2022-05-25T16:37:53.756Z"
   },
   {
    "duration": 5,
    "start_time": "2022-05-25T16:37:53.839Z"
   },
   {
    "duration": 7,
    "start_time": "2022-05-25T16:37:53.847Z"
   },
   {
    "duration": 964,
    "start_time": "2022-05-25T16:40:53.374Z"
   },
   {
    "duration": 1034,
    "start_time": "2022-05-25T16:41:27.971Z"
   },
   {
    "duration": 10,
    "start_time": "2022-05-25T16:45:47.910Z"
   },
   {
    "duration": 3,
    "start_time": "2022-05-25T16:45:56.321Z"
   },
   {
    "duration": 467,
    "start_time": "2022-05-25T16:45:57.029Z"
   },
   {
    "duration": 48,
    "start_time": "2022-05-25T16:45:57.498Z"
   },
   {
    "duration": 5,
    "start_time": "2022-05-25T16:46:23.229Z"
   },
   {
    "duration": 6,
    "start_time": "2022-05-25T17:10:36.281Z"
   },
   {
    "duration": 10,
    "start_time": "2022-05-25T17:10:49.899Z"
   },
   {
    "duration": 60,
    "start_time": "2022-05-25T17:28:22.686Z"
   },
   {
    "duration": 1288,
    "start_time": "2022-05-25T17:28:28.288Z"
   },
   {
    "duration": 804,
    "start_time": "2022-05-25T17:28:29.578Z"
   },
   {
    "duration": 19,
    "start_time": "2022-05-25T17:28:30.384Z"
   },
   {
    "duration": 135,
    "start_time": "2022-05-25T17:28:30.405Z"
   },
   {
    "duration": 6,
    "start_time": "2022-05-25T17:28:30.542Z"
   },
   {
    "duration": 40,
    "start_time": "2022-05-25T17:28:30.549Z"
   },
   {
    "duration": 131,
    "start_time": "2022-05-25T17:28:30.592Z"
   },
   {
    "duration": 188,
    "start_time": "2022-05-25T17:28:30.725Z"
   },
   {
    "duration": 216,
    "start_time": "2022-05-25T17:28:30.915Z"
   },
   {
    "duration": 214,
    "start_time": "2022-05-25T17:28:31.133Z"
   },
   {
    "duration": 49,
    "start_time": "2022-05-25T17:28:31.349Z"
   },
   {
    "duration": 23,
    "start_time": "2022-05-25T17:28:31.400Z"
   },
   {
    "duration": 25,
    "start_time": "2022-05-25T17:28:31.425Z"
   },
   {
    "duration": 16,
    "start_time": "2022-05-25T17:28:31.452Z"
   },
   {
    "duration": 34,
    "start_time": "2022-05-25T17:28:31.470Z"
   },
   {
    "duration": 40,
    "start_time": "2022-05-25T17:28:31.506Z"
   },
   {
    "duration": 47,
    "start_time": "2022-05-25T17:28:31.547Z"
   },
   {
    "duration": 34,
    "start_time": "2022-05-25T17:28:31.596Z"
   },
   {
    "duration": 493,
    "start_time": "2022-05-25T17:28:31.631Z"
   },
   {
    "duration": 83,
    "start_time": "2022-05-25T17:28:32.125Z"
   },
   {
    "duration": 22,
    "start_time": "2022-05-25T17:28:32.210Z"
   },
   {
    "duration": 38,
    "start_time": "2022-05-25T17:28:32.234Z"
   },
   {
    "duration": 1064,
    "start_time": "2022-05-25T17:28:32.274Z"
   },
   {
    "duration": 66,
    "start_time": "2022-05-25T17:28:33.340Z"
   },
   {
    "duration": 66,
    "start_time": "2022-05-25T17:28:33.407Z"
   },
   {
    "duration": 34,
    "start_time": "2022-05-25T17:28:33.475Z"
   },
   {
    "duration": 33,
    "start_time": "2022-05-25T17:28:33.511Z"
   },
   {
    "duration": 66,
    "start_time": "2022-05-25T17:28:33.547Z"
   },
   {
    "duration": 31,
    "start_time": "2022-05-25T17:28:33.615Z"
   },
   {
    "duration": 1272,
    "start_time": "2022-05-25T17:28:33.648Z"
   },
   {
    "duration": 51,
    "start_time": "2022-05-25T17:28:34.922Z"
   },
   {
    "duration": 23,
    "start_time": "2022-05-25T17:28:34.974Z"
   },
   {
    "duration": 28,
    "start_time": "2022-05-25T17:28:34.998Z"
   },
   {
    "duration": 32,
    "start_time": "2022-05-25T17:28:35.028Z"
   },
   {
    "duration": 16,
    "start_time": "2022-05-25T17:28:35.061Z"
   },
   {
    "duration": 69,
    "start_time": "2022-05-25T17:28:35.078Z"
   },
   {
    "duration": 52,
    "start_time": "2022-05-25T17:28:35.148Z"
   },
   {
    "duration": 45,
    "start_time": "2022-05-25T17:28:35.202Z"
   },
   {
    "duration": 1213,
    "start_time": "2022-05-25T17:28:35.249Z"
   },
   {
    "duration": 455,
    "start_time": "2022-05-25T17:28:36.463Z"
   },
   {
    "duration": 19,
    "start_time": "2022-05-25T17:28:36.919Z"
   },
   {
    "duration": 6,
    "start_time": "2022-05-25T17:28:36.940Z"
   },
   {
    "duration": 59,
    "start_time": "2022-05-25T17:28:36.947Z"
   },
   {
    "duration": 13,
    "start_time": "2022-05-25T17:28:37.008Z"
   },
   {
    "duration": 48,
    "start_time": "2022-05-25T17:28:37.023Z"
   },
   {
    "duration": 21,
    "start_time": "2022-05-25T17:28:37.073Z"
   },
   {
    "duration": 8,
    "start_time": "2022-05-25T17:28:37.096Z"
   },
   {
    "duration": 467,
    "start_time": "2022-05-25T17:28:43.005Z"
   },
   {
    "duration": 5,
    "start_time": "2022-05-25T17:28:58.341Z"
   },
   {
    "duration": 7,
    "start_time": "2022-05-25T17:28:58.853Z"
   },
   {
    "duration": 10,
    "start_time": "2022-05-25T17:29:26.650Z"
   },
   {
    "duration": 3,
    "start_time": "2022-05-25T17:29:29.470Z"
   },
   {
    "duration": 26886,
    "start_time": "2022-05-25T17:29:30.516Z"
   },
   {
    "duration": 245,
    "start_time": "2022-05-25T17:29:57.405Z"
   },
   {
    "duration": 9,
    "start_time": "2022-05-25T17:29:57.652Z"
   },
   {
    "duration": 1281,
    "start_time": "2022-05-25T17:31:52.860Z"
   },
   {
    "duration": 768,
    "start_time": "2022-05-25T17:31:54.143Z"
   },
   {
    "duration": 17,
    "start_time": "2022-05-25T17:31:54.913Z"
   },
   {
    "duration": 123,
    "start_time": "2022-05-25T17:31:54.932Z"
   },
   {
    "duration": 7,
    "start_time": "2022-05-25T17:31:55.056Z"
   },
   {
    "duration": 32,
    "start_time": "2022-05-25T17:31:55.065Z"
   },
   {
    "duration": 86,
    "start_time": "2022-05-25T17:31:55.098Z"
   },
   {
    "duration": 175,
    "start_time": "2022-05-25T17:31:55.193Z"
   },
   {
    "duration": 208,
    "start_time": "2022-05-25T17:31:55.369Z"
   },
   {
    "duration": 222,
    "start_time": "2022-05-25T17:31:55.580Z"
   },
   {
    "duration": 42,
    "start_time": "2022-05-25T17:31:55.804Z"
   },
   {
    "duration": 22,
    "start_time": "2022-05-25T17:31:55.848Z"
   },
   {
    "duration": 38,
    "start_time": "2022-05-25T17:31:55.872Z"
   },
   {
    "duration": 15,
    "start_time": "2022-05-25T17:31:55.911Z"
   },
   {
    "duration": 15,
    "start_time": "2022-05-25T17:31:55.928Z"
   },
   {
    "duration": 17,
    "start_time": "2022-05-25T17:31:55.945Z"
   },
   {
    "duration": 57,
    "start_time": "2022-05-25T17:31:55.964Z"
   },
   {
    "duration": 35,
    "start_time": "2022-05-25T17:31:56.022Z"
   },
   {
    "duration": 482,
    "start_time": "2022-05-25T17:31:56.058Z"
   },
   {
    "duration": 80,
    "start_time": "2022-05-25T17:31:56.542Z"
   },
   {
    "duration": 30,
    "start_time": "2022-05-25T17:31:56.623Z"
   },
   {
    "duration": 24,
    "start_time": "2022-05-25T17:31:56.655Z"
   },
   {
    "duration": 1103,
    "start_time": "2022-05-25T17:31:56.681Z"
   },
   {
    "duration": 60,
    "start_time": "2022-05-25T17:31:57.786Z"
   },
   {
    "duration": 76,
    "start_time": "2022-05-25T17:31:57.847Z"
   },
   {
    "duration": 26,
    "start_time": "2022-05-25T17:31:57.925Z"
   },
   {
    "duration": 46,
    "start_time": "2022-05-25T17:31:57.953Z"
   },
   {
    "duration": 70,
    "start_time": "2022-05-25T17:31:58.004Z"
   },
   {
    "duration": 44,
    "start_time": "2022-05-25T17:31:58.076Z"
   },
   {
    "duration": 1206,
    "start_time": "2022-05-25T17:31:58.122Z"
   },
   {
    "duration": 78,
    "start_time": "2022-05-25T17:31:59.329Z"
   },
   {
    "duration": 12,
    "start_time": "2022-05-25T17:31:59.408Z"
   },
   {
    "duration": 53,
    "start_time": "2022-05-25T17:31:59.421Z"
   },
   {
    "duration": 42,
    "start_time": "2022-05-25T17:31:59.476Z"
   },
   {
    "duration": 32,
    "start_time": "2022-05-25T17:31:59.519Z"
   },
   {
    "duration": 95,
    "start_time": "2022-05-25T17:31:59.553Z"
   },
   {
    "duration": 59,
    "start_time": "2022-05-25T17:31:59.650Z"
   },
   {
    "duration": 53,
    "start_time": "2022-05-25T17:31:59.711Z"
   },
   {
    "duration": 1175,
    "start_time": "2022-05-25T17:31:59.766Z"
   },
   {
    "duration": 485,
    "start_time": "2022-05-25T17:32:00.942Z"
   },
   {
    "duration": 19,
    "start_time": "2022-05-25T17:32:01.428Z"
   },
   {
    "duration": 5,
    "start_time": "2022-05-25T17:32:01.449Z"
   },
   {
    "duration": 49,
    "start_time": "2022-05-25T17:32:01.456Z"
   },
   {
    "duration": 13,
    "start_time": "2022-05-25T17:32:01.507Z"
   },
   {
    "duration": 46,
    "start_time": "2022-05-25T17:32:01.521Z"
   },
   {
    "duration": 4,
    "start_time": "2022-05-25T17:32:01.569Z"
   },
   {
    "duration": 4,
    "start_time": "2022-05-25T17:32:01.595Z"
   },
   {
    "duration": 466,
    "start_time": "2022-05-25T17:32:09.406Z"
   },
   {
    "duration": 5,
    "start_time": "2022-05-25T17:32:12.780Z"
   },
   {
    "duration": 5,
    "start_time": "2022-05-25T17:33:29.108Z"
   },
   {
    "duration": 438,
    "start_time": "2022-05-25T17:42:03.562Z"
   },
   {
    "duration": 16,
    "start_time": "2022-05-25T17:44:15.654Z"
   },
   {
    "duration": 1250,
    "start_time": "2022-05-25T17:45:04.395Z"
   },
   {
    "duration": 786,
    "start_time": "2022-05-25T17:45:05.647Z"
   },
   {
    "duration": 17,
    "start_time": "2022-05-25T17:45:06.434Z"
   },
   {
    "duration": 134,
    "start_time": "2022-05-25T17:45:06.453Z"
   },
   {
    "duration": 7,
    "start_time": "2022-05-25T17:45:06.594Z"
   },
   {
    "duration": 26,
    "start_time": "2022-05-25T17:45:06.602Z"
   },
   {
    "duration": 104,
    "start_time": "2022-05-25T17:45:06.630Z"
   },
   {
    "duration": 182,
    "start_time": "2022-05-25T17:45:06.736Z"
   },
   {
    "duration": 198,
    "start_time": "2022-05-25T17:45:06.919Z"
   },
   {
    "duration": 223,
    "start_time": "2022-05-25T17:45:07.118Z"
   },
   {
    "duration": 53,
    "start_time": "2022-05-25T17:45:07.342Z"
   },
   {
    "duration": 26,
    "start_time": "2022-05-25T17:45:07.396Z"
   },
   {
    "duration": 19,
    "start_time": "2022-05-25T17:45:07.423Z"
   },
   {
    "duration": 16,
    "start_time": "2022-05-25T17:45:07.445Z"
   },
   {
    "duration": 47,
    "start_time": "2022-05-25T17:45:07.462Z"
   },
   {
    "duration": 23,
    "start_time": "2022-05-25T17:45:07.510Z"
   },
   {
    "duration": 35,
    "start_time": "2022-05-25T17:45:07.535Z"
   },
   {
    "duration": 27,
    "start_time": "2022-05-25T17:45:07.572Z"
   },
   {
    "duration": 441,
    "start_time": "2022-05-25T17:45:07.601Z"
   },
   {
    "duration": 82,
    "start_time": "2022-05-25T17:45:08.044Z"
   },
   {
    "duration": 21,
    "start_time": "2022-05-25T17:45:08.127Z"
   },
   {
    "duration": 25,
    "start_time": "2022-05-25T17:45:08.150Z"
   },
   {
    "duration": 1222,
    "start_time": "2022-05-25T17:45:08.177Z"
   },
   {
    "duration": 67,
    "start_time": "2022-05-25T17:45:09.400Z"
   },
   {
    "duration": 74,
    "start_time": "2022-05-25T17:45:09.468Z"
   },
   {
    "duration": 18,
    "start_time": "2022-05-25T17:45:09.544Z"
   },
   {
    "duration": 46,
    "start_time": "2022-05-25T17:45:09.563Z"
   },
   {
    "duration": 60,
    "start_time": "2022-05-25T17:45:09.610Z"
   },
   {
    "duration": 40,
    "start_time": "2022-05-25T17:45:09.672Z"
   },
   {
    "duration": 1259,
    "start_time": "2022-05-25T17:45:09.713Z"
   },
   {
    "duration": 52,
    "start_time": "2022-05-25T17:45:10.974Z"
   },
   {
    "duration": 13,
    "start_time": "2022-05-25T17:45:11.027Z"
   },
   {
    "duration": 26,
    "start_time": "2022-05-25T17:45:11.042Z"
   },
   {
    "duration": 44,
    "start_time": "2022-05-25T17:45:11.070Z"
   },
   {
    "duration": 17,
    "start_time": "2022-05-25T17:45:11.116Z"
   },
   {
    "duration": 67,
    "start_time": "2022-05-25T17:45:11.134Z"
   },
   {
    "duration": 49,
    "start_time": "2022-05-25T17:45:11.202Z"
   },
   {
    "duration": 59,
    "start_time": "2022-05-25T17:45:11.252Z"
   },
   {
    "duration": 1113,
    "start_time": "2022-05-25T17:45:11.313Z"
   },
   {
    "duration": 476,
    "start_time": "2022-05-25T17:45:12.428Z"
   },
   {
    "duration": 18,
    "start_time": "2022-05-25T17:45:12.908Z"
   },
   {
    "duration": 5,
    "start_time": "2022-05-25T17:45:12.928Z"
   },
   {
    "duration": 39,
    "start_time": "2022-05-25T17:45:12.935Z"
   },
   {
    "duration": 467,
    "start_time": "2022-05-25T17:45:12.976Z"
   },
   {
    "duration": 18,
    "start_time": "2022-05-25T17:45:13.445Z"
   },
   {
    "duration": 157,
    "start_time": "2022-05-25T17:45:19.428Z"
   },
   {
    "duration": 227,
    "start_time": "2022-05-25T17:45:25.324Z"
   },
   {
    "duration": 5,
    "start_time": "2022-05-25T17:45:28.623Z"
   },
   {
    "duration": 5,
    "start_time": "2022-05-25T17:45:29.928Z"
   },
   {
    "duration": 10,
    "start_time": "2022-05-25T17:46:36.963Z"
   },
   {
    "duration": 2,
    "start_time": "2022-05-25T17:46:39.454Z"
   },
   {
    "duration": 19450,
    "start_time": "2022-05-25T17:46:39.956Z"
   },
   {
    "duration": 286,
    "start_time": "2022-05-25T17:46:59.409Z"
   },
   {
    "duration": 6,
    "start_time": "2022-05-25T17:46:59.697Z"
   },
   {
    "duration": 3,
    "start_time": "2022-05-25T17:47:44.102Z"
   },
   {
    "duration": 6232,
    "start_time": "2022-05-25T17:47:48.169Z"
   },
   {
    "duration": 596,
    "start_time": "2022-05-25T17:47:54.402Z"
   },
   {
    "duration": 4,
    "start_time": "2022-05-25T17:47:55.000Z"
   },
   {
    "duration": 4,
    "start_time": "2022-05-25T17:48:26.821Z"
   },
   {
    "duration": 9633,
    "start_time": "2022-05-25T17:48:27.257Z"
   },
   {
    "duration": 3,
    "start_time": "2022-05-25T17:49:00.784Z"
   },
   {
    "duration": 9349,
    "start_time": "2022-05-25T17:49:01.064Z"
   },
   {
    "duration": 3,
    "start_time": "2022-05-25T17:51:25.847Z"
   },
   {
    "duration": 10,
    "start_time": "2022-05-25T17:51:40.414Z"
   },
   {
    "duration": 3,
    "start_time": "2022-05-25T17:53:19.681Z"
   },
   {
    "duration": 11,
    "start_time": "2022-05-25T17:53:20.113Z"
   },
   {
    "duration": 51,
    "start_time": "2022-05-25T17:55:53.382Z"
   },
   {
    "duration": 2,
    "start_time": "2022-05-25T18:01:57.081Z"
   },
   {
    "duration": 6441,
    "start_time": "2022-05-25T18:01:58.310Z"
   },
   {
    "duration": 2,
    "start_time": "2022-05-25T18:02:30.886Z"
   },
   {
    "duration": 3,
    "start_time": "2022-05-25T18:02:31.200Z"
   },
   {
    "duration": 621769,
    "start_time": "2022-05-25T18:02:32.841Z"
   },
   {
    "duration": 3,
    "start_time": "2022-05-25T18:12:54.611Z"
   },
   {
    "duration": 12017,
    "start_time": "2022-05-25T18:13:31.688Z"
   },
   {
    "duration": 533,
    "start_time": "2022-05-25T18:13:43.707Z"
   },
   {
    "duration": 10,
    "start_time": "2022-05-25T18:14:06.004Z"
   },
   {
    "duration": 516,
    "start_time": "2022-05-25T18:14:29.133Z"
   },
   {
    "duration": 391,
    "start_time": "2022-05-25T18:14:35.821Z"
   },
   {
    "duration": 4,
    "start_time": "2022-05-25T18:14:37.658Z"
   },
   {
    "duration": 38,
    "start_time": "2022-05-25T18:19:11.219Z"
   },
   {
    "duration": 4,
    "start_time": "2022-05-25T18:19:40.193Z"
   },
   {
    "duration": 35,
    "start_time": "2022-05-25T18:19:44.597Z"
   },
   {
    "duration": 5,
    "start_time": "2022-05-25T18:21:53.591Z"
   },
   {
    "duration": 34,
    "start_time": "2022-05-25T18:21:58.854Z"
   },
   {
    "duration": 6,
    "start_time": "2022-05-25T18:22:29.828Z"
   },
   {
    "duration": 17289,
    "start_time": "2022-05-25T18:22:34.513Z"
   },
   {
    "duration": 71,
    "start_time": "2022-05-25T18:23:09.028Z"
   },
   {
    "duration": 7509,
    "start_time": "2022-05-25T18:24:37.901Z"
   },
   {
    "duration": 422,
    "start_time": "2022-05-25T18:24:45.493Z"
   },
   {
    "duration": 10263,
    "start_time": "2022-05-25T18:27:32.542Z"
   },
   {
    "duration": 499,
    "start_time": "2022-05-25T18:27:42.807Z"
   },
   {
    "duration": 17,
    "start_time": "2022-05-25T18:32:05.325Z"
   },
   {
    "duration": 92,
    "start_time": "2022-05-25T18:37:59.587Z"
   },
   {
    "duration": 88,
    "start_time": "2022-05-25T18:38:56.085Z"
   },
   {
    "duration": 97,
    "start_time": "2022-05-25T18:40:24.810Z"
   },
   {
    "duration": 102,
    "start_time": "2022-05-25T18:40:45.896Z"
   },
   {
    "duration": 92,
    "start_time": "2022-05-25T18:40:49.312Z"
   },
   {
    "duration": 98,
    "start_time": "2022-05-25T18:41:37.307Z"
   },
   {
    "duration": 108,
    "start_time": "2022-05-25T18:41:49.645Z"
   }
  ],
  "kernelspec": {
   "display_name": "Python 3 (ipykernel)",
   "language": "python",
   "name": "python3"
  },
  "language_info": {
   "codemirror_mode": {
    "name": "ipython",
    "version": 3
   },
   "file_extension": ".py",
   "mimetype": "text/x-python",
   "name": "python",
   "nbconvert_exporter": "python",
   "pygments_lexer": "ipython3",
   "version": "3.9.12"
  },
  "toc": {
   "base_numbering": 1,
   "nav_menu": {},
   "number_sections": true,
   "sideBar": true,
   "skip_h1_title": true,
   "title_cell": "Table of Contents",
   "title_sidebar": "Contents",
   "toc_cell": false,
   "toc_position": {
    "height": "calc(100% - 180px)",
    "left": "10px",
    "top": "150px",
    "width": "229.788px"
   },
   "toc_section_display": true,
   "toc_window_display": true
  }
 },
 "nbformat": 4,
 "nbformat_minor": 2
}
