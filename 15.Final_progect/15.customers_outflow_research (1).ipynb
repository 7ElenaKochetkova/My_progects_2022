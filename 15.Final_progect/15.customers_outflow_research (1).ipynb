{
 "cells": [
  {
   "cell_type": "markdown",
   "id": "244dc538",
   "metadata": {},
   "source": [
    "# Телеком: исследование оттока клиентов\n"
   ]
  },
  {
   "cell_type": "code",
   "execution_count": 1,
   "id": "487fdf81",
   "metadata": {},
   "outputs": [],
   "source": [
    "# Импорт библиотек\n",
    "\n",
    "import pandas as pd\n",
    "import seaborn as sns\n",
    "import matplotlib.pyplot as plt\n",
    "from datetime import datetime\n",
    "import numpy as np\n",
    "\n",
    "\n",
    "from sklearn.preprocessing import StandardScaler \n",
    "\n",
    "from sklearn.model_selection import train_test_split\n",
    "from sklearn.ensemble import RandomForestClassifier\n",
    "from sklearn.model_selection import GridSearchCV\n",
    "import lightgbm as lgb\n",
    "from lightgbm import LGBMClassifier\n",
    "from sklearn.linear_model import LogisticRegression\n",
    "from sklearn.model_selection import cross_val_score\n",
    "\n",
    "from sklearn.metrics import roc_auc_score as roc_auc\n",
    "from sklearn.metrics import accuracy_score as acc_score"
   ]
  },
  {
   "cell_type": "code",
   "execution_count": 2,
   "id": "80a41cff",
   "metadata": {},
   "outputs": [],
   "source": [
    "import warnings\n",
    "warnings.simplefilter(action='ignore', category=FutureWarning)"
   ]
  },
  {
   "cell_type": "markdown",
   "id": "c21083a4",
   "metadata": {},
   "source": [
    "## Предобработка данных"
   ]
  },
  {
   "cell_type": "code",
   "execution_count": 3,
   "id": "28a189bb",
   "metadata": {},
   "outputs": [],
   "source": [
    "try: \n",
    "    df_contract = pd.read_csv('D:\\\\Start\\\\Data scientist 2.0\\\\FINAL BOSS\\\\df\\\\final_provider\\\\contract.csv')\n",
    "except FileNotFoundError:\n",
    "    df_contract = pd.read_csv('/datasets/final_provider/contract.csv')"
   ]
  },
  {
   "cell_type": "code",
   "execution_count": 4,
   "id": "7fe4b74f",
   "metadata": {},
   "outputs": [
    {
     "name": "stdout",
     "output_type": "stream",
     "text": [
      "<class 'pandas.core.frame.DataFrame'>\n",
      "RangeIndex: 7043 entries, 0 to 7042\n",
      "Data columns (total 8 columns):\n",
      " #   Column            Non-Null Count  Dtype  \n",
      "---  ------            --------------  -----  \n",
      " 0   customerID        7043 non-null   object \n",
      " 1   BeginDate         7043 non-null   object \n",
      " 2   EndDate           7043 non-null   object \n",
      " 3   Type              7043 non-null   object \n",
      " 4   PaperlessBilling  7043 non-null   object \n",
      " 5   PaymentMethod     7043 non-null   object \n",
      " 6   MonthlyCharges    7043 non-null   float64\n",
      " 7   TotalCharges      7043 non-null   object \n",
      "dtypes: float64(1), object(7)\n",
      "memory usage: 440.3+ KB\n",
      "None\n"
     ]
    },
    {
     "data": {
      "text/html": [
       "<div>\n",
       "<style scoped>\n",
       "    .dataframe tbody tr th:only-of-type {\n",
       "        vertical-align: middle;\n",
       "    }\n",
       "\n",
       "    .dataframe tbody tr th {\n",
       "        vertical-align: top;\n",
       "    }\n",
       "\n",
       "    .dataframe thead th {\n",
       "        text-align: right;\n",
       "    }\n",
       "</style>\n",
       "<table border=\"1\" class=\"dataframe\">\n",
       "  <thead>\n",
       "    <tr style=\"text-align: right;\">\n",
       "      <th></th>\n",
       "      <th>customerID</th>\n",
       "      <th>BeginDate</th>\n",
       "      <th>EndDate</th>\n",
       "      <th>Type</th>\n",
       "      <th>PaperlessBilling</th>\n",
       "      <th>PaymentMethod</th>\n",
       "      <th>MonthlyCharges</th>\n",
       "      <th>TotalCharges</th>\n",
       "    </tr>\n",
       "  </thead>\n",
       "  <tbody>\n",
       "    <tr>\n",
       "      <th>0</th>\n",
       "      <td>7590-VHVEG</td>\n",
       "      <td>2020-01-01</td>\n",
       "      <td>No</td>\n",
       "      <td>Month-to-month</td>\n",
       "      <td>Yes</td>\n",
       "      <td>Electronic check</td>\n",
       "      <td>29.85</td>\n",
       "      <td>29.85</td>\n",
       "    </tr>\n",
       "    <tr>\n",
       "      <th>1</th>\n",
       "      <td>5575-GNVDE</td>\n",
       "      <td>2017-04-01</td>\n",
       "      <td>No</td>\n",
       "      <td>One year</td>\n",
       "      <td>No</td>\n",
       "      <td>Mailed check</td>\n",
       "      <td>56.95</td>\n",
       "      <td>1889.5</td>\n",
       "    </tr>\n",
       "    <tr>\n",
       "      <th>2</th>\n",
       "      <td>3668-QPYBK</td>\n",
       "      <td>2019-10-01</td>\n",
       "      <td>2019-12-01 00:00:00</td>\n",
       "      <td>Month-to-month</td>\n",
       "      <td>Yes</td>\n",
       "      <td>Mailed check</td>\n",
       "      <td>53.85</td>\n",
       "      <td>108.15</td>\n",
       "    </tr>\n",
       "    <tr>\n",
       "      <th>3</th>\n",
       "      <td>7795-CFOCW</td>\n",
       "      <td>2016-05-01</td>\n",
       "      <td>No</td>\n",
       "      <td>One year</td>\n",
       "      <td>No</td>\n",
       "      <td>Bank transfer (automatic)</td>\n",
       "      <td>42.30</td>\n",
       "      <td>1840.75</td>\n",
       "    </tr>\n",
       "    <tr>\n",
       "      <th>4</th>\n",
       "      <td>9237-HQITU</td>\n",
       "      <td>2019-09-01</td>\n",
       "      <td>2019-11-01 00:00:00</td>\n",
       "      <td>Month-to-month</td>\n",
       "      <td>Yes</td>\n",
       "      <td>Electronic check</td>\n",
       "      <td>70.70</td>\n",
       "      <td>151.65</td>\n",
       "    </tr>\n",
       "    <tr>\n",
       "      <th>5</th>\n",
       "      <td>9305-CDSKC</td>\n",
       "      <td>2019-03-01</td>\n",
       "      <td>2019-11-01 00:00:00</td>\n",
       "      <td>Month-to-month</td>\n",
       "      <td>Yes</td>\n",
       "      <td>Electronic check</td>\n",
       "      <td>99.65</td>\n",
       "      <td>820.5</td>\n",
       "    </tr>\n",
       "    <tr>\n",
       "      <th>6</th>\n",
       "      <td>1452-KIOVK</td>\n",
       "      <td>2018-04-01</td>\n",
       "      <td>No</td>\n",
       "      <td>Month-to-month</td>\n",
       "      <td>Yes</td>\n",
       "      <td>Credit card (automatic)</td>\n",
       "      <td>89.10</td>\n",
       "      <td>1949.4</td>\n",
       "    </tr>\n",
       "    <tr>\n",
       "      <th>7</th>\n",
       "      <td>6713-OKOMC</td>\n",
       "      <td>2019-04-01</td>\n",
       "      <td>No</td>\n",
       "      <td>Month-to-month</td>\n",
       "      <td>No</td>\n",
       "      <td>Mailed check</td>\n",
       "      <td>29.75</td>\n",
       "      <td>301.9</td>\n",
       "    </tr>\n",
       "    <tr>\n",
       "      <th>8</th>\n",
       "      <td>7892-POOKP</td>\n",
       "      <td>2017-07-01</td>\n",
       "      <td>2019-11-01 00:00:00</td>\n",
       "      <td>Month-to-month</td>\n",
       "      <td>Yes</td>\n",
       "      <td>Electronic check</td>\n",
       "      <td>104.80</td>\n",
       "      <td>3046.05</td>\n",
       "    </tr>\n",
       "    <tr>\n",
       "      <th>9</th>\n",
       "      <td>6388-TABGU</td>\n",
       "      <td>2014-12-01</td>\n",
       "      <td>No</td>\n",
       "      <td>One year</td>\n",
       "      <td>No</td>\n",
       "      <td>Bank transfer (automatic)</td>\n",
       "      <td>56.15</td>\n",
       "      <td>3487.95</td>\n",
       "    </tr>\n",
       "    <tr>\n",
       "      <th>10</th>\n",
       "      <td>9763-GRSKD</td>\n",
       "      <td>2019-01-01</td>\n",
       "      <td>No</td>\n",
       "      <td>Month-to-month</td>\n",
       "      <td>Yes</td>\n",
       "      <td>Mailed check</td>\n",
       "      <td>49.95</td>\n",
       "      <td>587.45</td>\n",
       "    </tr>\n",
       "  </tbody>\n",
       "</table>\n",
       "</div>"
      ],
      "text/plain": [
       "    customerID   BeginDate              EndDate            Type  \\\n",
       "0   7590-VHVEG  2020-01-01                   No  Month-to-month   \n",
       "1   5575-GNVDE  2017-04-01                   No        One year   \n",
       "2   3668-QPYBK  2019-10-01  2019-12-01 00:00:00  Month-to-month   \n",
       "3   7795-CFOCW  2016-05-01                   No        One year   \n",
       "4   9237-HQITU  2019-09-01  2019-11-01 00:00:00  Month-to-month   \n",
       "5   9305-CDSKC  2019-03-01  2019-11-01 00:00:00  Month-to-month   \n",
       "6   1452-KIOVK  2018-04-01                   No  Month-to-month   \n",
       "7   6713-OKOMC  2019-04-01                   No  Month-to-month   \n",
       "8   7892-POOKP  2017-07-01  2019-11-01 00:00:00  Month-to-month   \n",
       "9   6388-TABGU  2014-12-01                   No        One year   \n",
       "10  9763-GRSKD  2019-01-01                   No  Month-to-month   \n",
       "\n",
       "   PaperlessBilling              PaymentMethod  MonthlyCharges TotalCharges  \n",
       "0               Yes           Electronic check           29.85        29.85  \n",
       "1                No               Mailed check           56.95       1889.5  \n",
       "2               Yes               Mailed check           53.85       108.15  \n",
       "3                No  Bank transfer (automatic)           42.30      1840.75  \n",
       "4               Yes           Electronic check           70.70       151.65  \n",
       "5               Yes           Electronic check           99.65        820.5  \n",
       "6               Yes    Credit card (automatic)           89.10       1949.4  \n",
       "7                No               Mailed check           29.75        301.9  \n",
       "8               Yes           Electronic check          104.80      3046.05  \n",
       "9                No  Bank transfer (automatic)           56.15      3487.95  \n",
       "10              Yes               Mailed check           49.95       587.45  "
      ]
     },
     "execution_count": 4,
     "metadata": {},
     "output_type": "execute_result"
    }
   ],
   "source": [
    "print(df_contract.info())\n",
    "df_contract.head(11)"
   ]
  },
  {
   "cell_type": "code",
   "execution_count": 5,
   "id": "e6e7c165",
   "metadata": {},
   "outputs": [],
   "source": [
    "try: \n",
    "    df_personal = pd.read_csv('D:\\\\Start\\\\Data scientist 2.0\\\\FINAL BOSS\\\\df\\\\final_provider\\\\personal.csv')\n",
    "except FileNotFoundError:\n",
    "    df_contract = pd.read_csv('/datasets/final_provider/personal.csv')"
   ]
  },
  {
   "cell_type": "code",
   "execution_count": 6,
   "id": "d6bb29e6",
   "metadata": {},
   "outputs": [
    {
     "name": "stdout",
     "output_type": "stream",
     "text": [
      "<class 'pandas.core.frame.DataFrame'>\n",
      "RangeIndex: 7043 entries, 0 to 7042\n",
      "Data columns (total 5 columns):\n",
      " #   Column         Non-Null Count  Dtype \n",
      "---  ------         --------------  ----- \n",
      " 0   customerID     7043 non-null   object\n",
      " 1   gender         7043 non-null   object\n",
      " 2   SeniorCitizen  7043 non-null   int64 \n",
      " 3   Partner        7043 non-null   object\n",
      " 4   Dependents     7043 non-null   object\n",
      "dtypes: int64(1), object(4)\n",
      "memory usage: 275.2+ KB\n",
      "None\n"
     ]
    },
    {
     "data": {
      "text/html": [
       "<div>\n",
       "<style scoped>\n",
       "    .dataframe tbody tr th:only-of-type {\n",
       "        vertical-align: middle;\n",
       "    }\n",
       "\n",
       "    .dataframe tbody tr th {\n",
       "        vertical-align: top;\n",
       "    }\n",
       "\n",
       "    .dataframe thead th {\n",
       "        text-align: right;\n",
       "    }\n",
       "</style>\n",
       "<table border=\"1\" class=\"dataframe\">\n",
       "  <thead>\n",
       "    <tr style=\"text-align: right;\">\n",
       "      <th></th>\n",
       "      <th>customerID</th>\n",
       "      <th>gender</th>\n",
       "      <th>SeniorCitizen</th>\n",
       "      <th>Partner</th>\n",
       "      <th>Dependents</th>\n",
       "    </tr>\n",
       "  </thead>\n",
       "  <tbody>\n",
       "    <tr>\n",
       "      <th>0</th>\n",
       "      <td>7590-VHVEG</td>\n",
       "      <td>Female</td>\n",
       "      <td>0</td>\n",
       "      <td>Yes</td>\n",
       "      <td>No</td>\n",
       "    </tr>\n",
       "    <tr>\n",
       "      <th>1</th>\n",
       "      <td>5575-GNVDE</td>\n",
       "      <td>Male</td>\n",
       "      <td>0</td>\n",
       "      <td>No</td>\n",
       "      <td>No</td>\n",
       "    </tr>\n",
       "    <tr>\n",
       "      <th>2</th>\n",
       "      <td>3668-QPYBK</td>\n",
       "      <td>Male</td>\n",
       "      <td>0</td>\n",
       "      <td>No</td>\n",
       "      <td>No</td>\n",
       "    </tr>\n",
       "    <tr>\n",
       "      <th>3</th>\n",
       "      <td>7795-CFOCW</td>\n",
       "      <td>Male</td>\n",
       "      <td>0</td>\n",
       "      <td>No</td>\n",
       "      <td>No</td>\n",
       "    </tr>\n",
       "    <tr>\n",
       "      <th>4</th>\n",
       "      <td>9237-HQITU</td>\n",
       "      <td>Female</td>\n",
       "      <td>0</td>\n",
       "      <td>No</td>\n",
       "      <td>No</td>\n",
       "    </tr>\n",
       "  </tbody>\n",
       "</table>\n",
       "</div>"
      ],
      "text/plain": [
       "   customerID  gender  SeniorCitizen Partner Dependents\n",
       "0  7590-VHVEG  Female              0     Yes         No\n",
       "1  5575-GNVDE    Male              0      No         No\n",
       "2  3668-QPYBK    Male              0      No         No\n",
       "3  7795-CFOCW    Male              0      No         No\n",
       "4  9237-HQITU  Female              0      No         No"
      ]
     },
     "execution_count": 6,
     "metadata": {},
     "output_type": "execute_result"
    }
   ],
   "source": [
    "print(df_personal.info())\n",
    "df_personal.head(5)"
   ]
  },
  {
   "cell_type": "code",
   "execution_count": 7,
   "id": "db17d0a1",
   "metadata": {},
   "outputs": [],
   "source": [
    "try:\n",
    "    df_internet = pd.read_csv('D:\\\\Start\\\\Data scientist 2.0\\\\FINAL BOSS\\\\df\\\\final_provider\\\\internet.csv')\n",
    "except FileNotFoundError:\n",
    "    df_contract = pd.read_csv('/datasets/final_provider/internet.csv')"
   ]
  },
  {
   "cell_type": "code",
   "execution_count": 8,
   "id": "452375d8",
   "metadata": {},
   "outputs": [
    {
     "name": "stdout",
     "output_type": "stream",
     "text": [
      "<class 'pandas.core.frame.DataFrame'>\n",
      "RangeIndex: 5517 entries, 0 to 5516\n",
      "Data columns (total 8 columns):\n",
      " #   Column            Non-Null Count  Dtype \n",
      "---  ------            --------------  ----- \n",
      " 0   customerID        5517 non-null   object\n",
      " 1   InternetService   5517 non-null   object\n",
      " 2   OnlineSecurity    5517 non-null   object\n",
      " 3   OnlineBackup      5517 non-null   object\n",
      " 4   DeviceProtection  5517 non-null   object\n",
      " 5   TechSupport       5517 non-null   object\n",
      " 6   StreamingTV       5517 non-null   object\n",
      " 7   StreamingMovies   5517 non-null   object\n",
      "dtypes: object(8)\n",
      "memory usage: 344.9+ KB\n",
      "None\n"
     ]
    },
    {
     "data": {
      "text/html": [
       "<div>\n",
       "<style scoped>\n",
       "    .dataframe tbody tr th:only-of-type {\n",
       "        vertical-align: middle;\n",
       "    }\n",
       "\n",
       "    .dataframe tbody tr th {\n",
       "        vertical-align: top;\n",
       "    }\n",
       "\n",
       "    .dataframe thead th {\n",
       "        text-align: right;\n",
       "    }\n",
       "</style>\n",
       "<table border=\"1\" class=\"dataframe\">\n",
       "  <thead>\n",
       "    <tr style=\"text-align: right;\">\n",
       "      <th></th>\n",
       "      <th>customerID</th>\n",
       "      <th>InternetService</th>\n",
       "      <th>OnlineSecurity</th>\n",
       "      <th>OnlineBackup</th>\n",
       "      <th>DeviceProtection</th>\n",
       "      <th>TechSupport</th>\n",
       "      <th>StreamingTV</th>\n",
       "      <th>StreamingMovies</th>\n",
       "    </tr>\n",
       "  </thead>\n",
       "  <tbody>\n",
       "    <tr>\n",
       "      <th>0</th>\n",
       "      <td>7590-VHVEG</td>\n",
       "      <td>DSL</td>\n",
       "      <td>No</td>\n",
       "      <td>Yes</td>\n",
       "      <td>No</td>\n",
       "      <td>No</td>\n",
       "      <td>No</td>\n",
       "      <td>No</td>\n",
       "    </tr>\n",
       "    <tr>\n",
       "      <th>1</th>\n",
       "      <td>5575-GNVDE</td>\n",
       "      <td>DSL</td>\n",
       "      <td>Yes</td>\n",
       "      <td>No</td>\n",
       "      <td>Yes</td>\n",
       "      <td>No</td>\n",
       "      <td>No</td>\n",
       "      <td>No</td>\n",
       "    </tr>\n",
       "    <tr>\n",
       "      <th>2</th>\n",
       "      <td>3668-QPYBK</td>\n",
       "      <td>DSL</td>\n",
       "      <td>Yes</td>\n",
       "      <td>Yes</td>\n",
       "      <td>No</td>\n",
       "      <td>No</td>\n",
       "      <td>No</td>\n",
       "      <td>No</td>\n",
       "    </tr>\n",
       "    <tr>\n",
       "      <th>3</th>\n",
       "      <td>7795-CFOCW</td>\n",
       "      <td>DSL</td>\n",
       "      <td>Yes</td>\n",
       "      <td>No</td>\n",
       "      <td>Yes</td>\n",
       "      <td>Yes</td>\n",
       "      <td>No</td>\n",
       "      <td>No</td>\n",
       "    </tr>\n",
       "    <tr>\n",
       "      <th>4</th>\n",
       "      <td>9237-HQITU</td>\n",
       "      <td>Fiber optic</td>\n",
       "      <td>No</td>\n",
       "      <td>No</td>\n",
       "      <td>No</td>\n",
       "      <td>No</td>\n",
       "      <td>No</td>\n",
       "      <td>No</td>\n",
       "    </tr>\n",
       "  </tbody>\n",
       "</table>\n",
       "</div>"
      ],
      "text/plain": [
       "   customerID InternetService OnlineSecurity OnlineBackup DeviceProtection  \\\n",
       "0  7590-VHVEG             DSL             No          Yes               No   \n",
       "1  5575-GNVDE             DSL            Yes           No              Yes   \n",
       "2  3668-QPYBK             DSL            Yes          Yes               No   \n",
       "3  7795-CFOCW             DSL            Yes           No              Yes   \n",
       "4  9237-HQITU     Fiber optic             No           No               No   \n",
       "\n",
       "  TechSupport StreamingTV StreamingMovies  \n",
       "0          No          No              No  \n",
       "1          No          No              No  \n",
       "2          No          No              No  \n",
       "3         Yes          No              No  \n",
       "4          No          No              No  "
      ]
     },
     "execution_count": 8,
     "metadata": {},
     "output_type": "execute_result"
    }
   ],
   "source": [
    "print(df_internet.info())\n",
    "df_internet.head(5)"
   ]
  },
  {
   "cell_type": "code",
   "execution_count": 9,
   "id": "2fb4e424",
   "metadata": {},
   "outputs": [],
   "source": [
    "try: \n",
    "    df_phone = pd.read_csv('D:\\\\Start\\\\Data scientist 2.0\\\\FINAL BOSS\\\\df\\\\final_provider\\\\phone.csv')\n",
    "except FileNotFoundError:\n",
    "    df_contract = pd.read_csv('/datasets/final_provider/phone.csv')"
   ]
  },
  {
   "cell_type": "code",
   "execution_count": 10,
   "id": "d3b7af20",
   "metadata": {},
   "outputs": [
    {
     "name": "stdout",
     "output_type": "stream",
     "text": [
      "<class 'pandas.core.frame.DataFrame'>\n",
      "RangeIndex: 6361 entries, 0 to 6360\n",
      "Data columns (total 2 columns):\n",
      " #   Column         Non-Null Count  Dtype \n",
      "---  ------         --------------  ----- \n",
      " 0   customerID     6361 non-null   object\n",
      " 1   MultipleLines  6361 non-null   object\n",
      "dtypes: object(2)\n",
      "memory usage: 99.5+ KB\n",
      "None\n"
     ]
    },
    {
     "data": {
      "text/html": [
       "<div>\n",
       "<style scoped>\n",
       "    .dataframe tbody tr th:only-of-type {\n",
       "        vertical-align: middle;\n",
       "    }\n",
       "\n",
       "    .dataframe tbody tr th {\n",
       "        vertical-align: top;\n",
       "    }\n",
       "\n",
       "    .dataframe thead th {\n",
       "        text-align: right;\n",
       "    }\n",
       "</style>\n",
       "<table border=\"1\" class=\"dataframe\">\n",
       "  <thead>\n",
       "    <tr style=\"text-align: right;\">\n",
       "      <th></th>\n",
       "      <th>customerID</th>\n",
       "      <th>MultipleLines</th>\n",
       "    </tr>\n",
       "  </thead>\n",
       "  <tbody>\n",
       "    <tr>\n",
       "      <th>0</th>\n",
       "      <td>5575-GNVDE</td>\n",
       "      <td>No</td>\n",
       "    </tr>\n",
       "    <tr>\n",
       "      <th>1</th>\n",
       "      <td>3668-QPYBK</td>\n",
       "      <td>No</td>\n",
       "    </tr>\n",
       "    <tr>\n",
       "      <th>2</th>\n",
       "      <td>9237-HQITU</td>\n",
       "      <td>No</td>\n",
       "    </tr>\n",
       "    <tr>\n",
       "      <th>3</th>\n",
       "      <td>9305-CDSKC</td>\n",
       "      <td>Yes</td>\n",
       "    </tr>\n",
       "    <tr>\n",
       "      <th>4</th>\n",
       "      <td>1452-KIOVK</td>\n",
       "      <td>Yes</td>\n",
       "    </tr>\n",
       "  </tbody>\n",
       "</table>\n",
       "</div>"
      ],
      "text/plain": [
       "   customerID MultipleLines\n",
       "0  5575-GNVDE            No\n",
       "1  3668-QPYBK            No\n",
       "2  9237-HQITU            No\n",
       "3  9305-CDSKC           Yes\n",
       "4  1452-KIOVK           Yes"
      ]
     },
     "execution_count": 10,
     "metadata": {},
     "output_type": "execute_result"
    }
   ],
   "source": [
    "print(df_phone.info())\n",
    "df_phone.head(5)"
   ]
  },
  {
   "cell_type": "markdown",
   "id": "062f8923",
   "metadata": {},
   "source": [
    "Очень не хватает описания данных, что иименно хранится в столбцах, какие бывают варианты значений категориальных данных."
   ]
  },
  {
   "cell_type": "markdown",
   "id": "877c13ba",
   "metadata": {},
   "source": [
    "Пропусков в данных нет. В таблице контрактов столбец TotalCharges не того типа данных. Исправим это сразу, проверив предварительно какие там значения имеются."
   ]
  },
  {
   "cell_type": "code",
   "execution_count": 11,
   "id": "557a7d06",
   "metadata": {},
   "outputs": [
    {
     "data": {
      "text/plain": [
       "          11\n",
       "20.2      11\n",
       "19.75      9\n",
       "20.05      8\n",
       "19.9       8\n",
       "          ..\n",
       "6849.4     1\n",
       "692.35     1\n",
       "130.15     1\n",
       "3211.9     1\n",
       "6844.5     1\n",
       "Name: TotalCharges, Length: 6531, dtype: int64"
      ]
     },
     "execution_count": 11,
     "metadata": {},
     "output_type": "execute_result"
    }
   ],
   "source": [
    "df_contract['TotalCharges'].value_counts()"
   ]
  },
  {
   "cell_type": "markdown",
   "id": "9015577d",
   "metadata": {},
   "source": [
    "Кажется, кто-то забыл ввести данные. Посмотрим на эти строки."
   ]
  },
  {
   "cell_type": "code",
   "execution_count": 12,
   "id": "b783849d",
   "metadata": {},
   "outputs": [
    {
     "data": {
      "text/html": [
       "<div>\n",
       "<style scoped>\n",
       "    .dataframe tbody tr th:only-of-type {\n",
       "        vertical-align: middle;\n",
       "    }\n",
       "\n",
       "    .dataframe tbody tr th {\n",
       "        vertical-align: top;\n",
       "    }\n",
       "\n",
       "    .dataframe thead th {\n",
       "        text-align: right;\n",
       "    }\n",
       "</style>\n",
       "<table border=\"1\" class=\"dataframe\">\n",
       "  <thead>\n",
       "    <tr style=\"text-align: right;\">\n",
       "      <th></th>\n",
       "      <th>customerID</th>\n",
       "      <th>BeginDate</th>\n",
       "      <th>EndDate</th>\n",
       "      <th>Type</th>\n",
       "      <th>PaperlessBilling</th>\n",
       "      <th>PaymentMethod</th>\n",
       "      <th>MonthlyCharges</th>\n",
       "      <th>TotalCharges</th>\n",
       "    </tr>\n",
       "  </thead>\n",
       "  <tbody>\n",
       "    <tr>\n",
       "      <th>488</th>\n",
       "      <td>4472-LVYGI</td>\n",
       "      <td>2020-02-01</td>\n",
       "      <td>No</td>\n",
       "      <td>Two year</td>\n",
       "      <td>Yes</td>\n",
       "      <td>Bank transfer (automatic)</td>\n",
       "      <td>52.55</td>\n",
       "      <td></td>\n",
       "    </tr>\n",
       "    <tr>\n",
       "      <th>753</th>\n",
       "      <td>3115-CZMZD</td>\n",
       "      <td>2020-02-01</td>\n",
       "      <td>No</td>\n",
       "      <td>Two year</td>\n",
       "      <td>No</td>\n",
       "      <td>Mailed check</td>\n",
       "      <td>20.25</td>\n",
       "      <td></td>\n",
       "    </tr>\n",
       "    <tr>\n",
       "      <th>936</th>\n",
       "      <td>5709-LVOEQ</td>\n",
       "      <td>2020-02-01</td>\n",
       "      <td>No</td>\n",
       "      <td>Two year</td>\n",
       "      <td>No</td>\n",
       "      <td>Mailed check</td>\n",
       "      <td>80.85</td>\n",
       "      <td></td>\n",
       "    </tr>\n",
       "    <tr>\n",
       "      <th>1082</th>\n",
       "      <td>4367-NUYAO</td>\n",
       "      <td>2020-02-01</td>\n",
       "      <td>No</td>\n",
       "      <td>Two year</td>\n",
       "      <td>No</td>\n",
       "      <td>Mailed check</td>\n",
       "      <td>25.75</td>\n",
       "      <td></td>\n",
       "    </tr>\n",
       "    <tr>\n",
       "      <th>1340</th>\n",
       "      <td>1371-DWPAZ</td>\n",
       "      <td>2020-02-01</td>\n",
       "      <td>No</td>\n",
       "      <td>Two year</td>\n",
       "      <td>No</td>\n",
       "      <td>Credit card (automatic)</td>\n",
       "      <td>56.05</td>\n",
       "      <td></td>\n",
       "    </tr>\n",
       "    <tr>\n",
       "      <th>3331</th>\n",
       "      <td>7644-OMVMY</td>\n",
       "      <td>2020-02-01</td>\n",
       "      <td>No</td>\n",
       "      <td>Two year</td>\n",
       "      <td>No</td>\n",
       "      <td>Mailed check</td>\n",
       "      <td>19.85</td>\n",
       "      <td></td>\n",
       "    </tr>\n",
       "    <tr>\n",
       "      <th>3826</th>\n",
       "      <td>3213-VVOLG</td>\n",
       "      <td>2020-02-01</td>\n",
       "      <td>No</td>\n",
       "      <td>Two year</td>\n",
       "      <td>No</td>\n",
       "      <td>Mailed check</td>\n",
       "      <td>25.35</td>\n",
       "      <td></td>\n",
       "    </tr>\n",
       "    <tr>\n",
       "      <th>4380</th>\n",
       "      <td>2520-SGTTA</td>\n",
       "      <td>2020-02-01</td>\n",
       "      <td>No</td>\n",
       "      <td>Two year</td>\n",
       "      <td>No</td>\n",
       "      <td>Mailed check</td>\n",
       "      <td>20.00</td>\n",
       "      <td></td>\n",
       "    </tr>\n",
       "    <tr>\n",
       "      <th>5218</th>\n",
       "      <td>2923-ARZLG</td>\n",
       "      <td>2020-02-01</td>\n",
       "      <td>No</td>\n",
       "      <td>One year</td>\n",
       "      <td>Yes</td>\n",
       "      <td>Mailed check</td>\n",
       "      <td>19.70</td>\n",
       "      <td></td>\n",
       "    </tr>\n",
       "    <tr>\n",
       "      <th>6670</th>\n",
       "      <td>4075-WKNIU</td>\n",
       "      <td>2020-02-01</td>\n",
       "      <td>No</td>\n",
       "      <td>Two year</td>\n",
       "      <td>No</td>\n",
       "      <td>Mailed check</td>\n",
       "      <td>73.35</td>\n",
       "      <td></td>\n",
       "    </tr>\n",
       "    <tr>\n",
       "      <th>6754</th>\n",
       "      <td>2775-SEFEE</td>\n",
       "      <td>2020-02-01</td>\n",
       "      <td>No</td>\n",
       "      <td>Two year</td>\n",
       "      <td>Yes</td>\n",
       "      <td>Bank transfer (automatic)</td>\n",
       "      <td>61.90</td>\n",
       "      <td></td>\n",
       "    </tr>\n",
       "  </tbody>\n",
       "</table>\n",
       "</div>"
      ],
      "text/plain": [
       "      customerID   BeginDate EndDate      Type PaperlessBilling  \\\n",
       "488   4472-LVYGI  2020-02-01      No  Two year              Yes   \n",
       "753   3115-CZMZD  2020-02-01      No  Two year               No   \n",
       "936   5709-LVOEQ  2020-02-01      No  Two year               No   \n",
       "1082  4367-NUYAO  2020-02-01      No  Two year               No   \n",
       "1340  1371-DWPAZ  2020-02-01      No  Two year               No   \n",
       "3331  7644-OMVMY  2020-02-01      No  Two year               No   \n",
       "3826  3213-VVOLG  2020-02-01      No  Two year               No   \n",
       "4380  2520-SGTTA  2020-02-01      No  Two year               No   \n",
       "5218  2923-ARZLG  2020-02-01      No  One year              Yes   \n",
       "6670  4075-WKNIU  2020-02-01      No  Two year               No   \n",
       "6754  2775-SEFEE  2020-02-01      No  Two year              Yes   \n",
       "\n",
       "                  PaymentMethod  MonthlyCharges TotalCharges  \n",
       "488   Bank transfer (automatic)           52.55               \n",
       "753                Mailed check           20.25               \n",
       "936                Mailed check           80.85               \n",
       "1082               Mailed check           25.75               \n",
       "1340    Credit card (automatic)           56.05               \n",
       "3331               Mailed check           19.85               \n",
       "3826               Mailed check           25.35               \n",
       "4380               Mailed check           20.00               \n",
       "5218               Mailed check           19.70               \n",
       "6670               Mailed check           73.35               \n",
       "6754  Bank transfer (automatic)           61.90               "
      ]
     },
     "execution_count": 12,
     "metadata": {},
     "output_type": "execute_result"
    }
   ],
   "source": [
    "df_contract.loc[df_contract['TotalCharges'] == ' ']"
   ]
  },
  {
   "cell_type": "markdown",
   "id": "7b508ecc",
   "metadata": {},
   "source": [
    "Все пользователи с пропусками новые. Приравняем total charges к monthly charges."
   ]
  },
  {
   "cell_type": "code",
   "execution_count": 13,
   "id": "47f8e135",
   "metadata": {},
   "outputs": [
    {
     "data": {
      "text/html": [
       "<div>\n",
       "<style scoped>\n",
       "    .dataframe tbody tr th:only-of-type {\n",
       "        vertical-align: middle;\n",
       "    }\n",
       "\n",
       "    .dataframe tbody tr th {\n",
       "        vertical-align: top;\n",
       "    }\n",
       "\n",
       "    .dataframe thead th {\n",
       "        text-align: right;\n",
       "    }\n",
       "</style>\n",
       "<table border=\"1\" class=\"dataframe\">\n",
       "  <thead>\n",
       "    <tr style=\"text-align: right;\">\n",
       "      <th></th>\n",
       "      <th>customerID</th>\n",
       "      <th>BeginDate</th>\n",
       "      <th>EndDate</th>\n",
       "      <th>Type</th>\n",
       "      <th>PaperlessBilling</th>\n",
       "      <th>PaymentMethod</th>\n",
       "      <th>MonthlyCharges</th>\n",
       "      <th>TotalCharges</th>\n",
       "    </tr>\n",
       "  </thead>\n",
       "  <tbody>\n",
       "    <tr>\n",
       "      <th>6499</th>\n",
       "      <td>2676-ISHSF</td>\n",
       "      <td>2020-01-01</td>\n",
       "      <td>No</td>\n",
       "      <td>Month-to-month</td>\n",
       "      <td>No</td>\n",
       "      <td>Mailed check</td>\n",
       "      <td>20.30</td>\n",
       "      <td>20.3</td>\n",
       "    </tr>\n",
       "    <tr>\n",
       "      <th>3202</th>\n",
       "      <td>5501-TVMGM</td>\n",
       "      <td>2020-01-01</td>\n",
       "      <td>No</td>\n",
       "      <td>Month-to-month</td>\n",
       "      <td>Yes</td>\n",
       "      <td>Electronic check</td>\n",
       "      <td>55.25</td>\n",
       "      <td>55.25</td>\n",
       "    </tr>\n",
       "    <tr>\n",
       "      <th>3258</th>\n",
       "      <td>7365-BVCJH</td>\n",
       "      <td>2020-01-01</td>\n",
       "      <td>No</td>\n",
       "      <td>Month-to-month</td>\n",
       "      <td>Yes</td>\n",
       "      <td>Electronic check</td>\n",
       "      <td>24.40</td>\n",
       "      <td>24.4</td>\n",
       "    </tr>\n",
       "    <tr>\n",
       "      <th>6449</th>\n",
       "      <td>7601-WFVZV</td>\n",
       "      <td>2020-01-01</td>\n",
       "      <td>No</td>\n",
       "      <td>Month-to-month</td>\n",
       "      <td>No</td>\n",
       "      <td>Mailed check</td>\n",
       "      <td>19.55</td>\n",
       "      <td>19.55</td>\n",
       "    </tr>\n",
       "    <tr>\n",
       "      <th>181</th>\n",
       "      <td>6582-OIVSP</td>\n",
       "      <td>2020-01-01</td>\n",
       "      <td>No</td>\n",
       "      <td>Month-to-month</td>\n",
       "      <td>No</td>\n",
       "      <td>Mailed check</td>\n",
       "      <td>45.30</td>\n",
       "      <td>45.3</td>\n",
       "    </tr>\n",
       "    <tr>\n",
       "      <th>3312</th>\n",
       "      <td>9122-UMROB</td>\n",
       "      <td>2020-01-01</td>\n",
       "      <td>No</td>\n",
       "      <td>Month-to-month</td>\n",
       "      <td>No</td>\n",
       "      <td>Mailed check</td>\n",
       "      <td>20.30</td>\n",
       "      <td>20.3</td>\n",
       "    </tr>\n",
       "    <tr>\n",
       "      <th>3313</th>\n",
       "      <td>4232-JGKIY</td>\n",
       "      <td>2020-01-01</td>\n",
       "      <td>No</td>\n",
       "      <td>Month-to-month</td>\n",
       "      <td>No</td>\n",
       "      <td>Electronic check</td>\n",
       "      <td>19.20</td>\n",
       "      <td>19.2</td>\n",
       "    </tr>\n",
       "    <tr>\n",
       "      <th>3324</th>\n",
       "      <td>5043-TRZWM</td>\n",
       "      <td>2020-01-01</td>\n",
       "      <td>No</td>\n",
       "      <td>Month-to-month</td>\n",
       "      <td>No</td>\n",
       "      <td>Electronic check</td>\n",
       "      <td>75.55</td>\n",
       "      <td>75.55</td>\n",
       "    </tr>\n",
       "    <tr>\n",
       "      <th>3328</th>\n",
       "      <td>1640-PLFMP</td>\n",
       "      <td>2020-01-01</td>\n",
       "      <td>No</td>\n",
       "      <td>Month-to-month</td>\n",
       "      <td>Yes</td>\n",
       "      <td>Electronic check</td>\n",
       "      <td>70.25</td>\n",
       "      <td>70.25</td>\n",
       "    </tr>\n",
       "    <tr>\n",
       "      <th>1168</th>\n",
       "      <td>5562-BETPV</td>\n",
       "      <td>2020-01-01</td>\n",
       "      <td>No</td>\n",
       "      <td>One year</td>\n",
       "      <td>No</td>\n",
       "      <td>Mailed check</td>\n",
       "      <td>19.65</td>\n",
       "      <td>19.65</td>\n",
       "    </tr>\n",
       "    <tr>\n",
       "      <th>3376</th>\n",
       "      <td>9629-NHXFW</td>\n",
       "      <td>2020-01-01</td>\n",
       "      <td>No</td>\n",
       "      <td>Month-to-month</td>\n",
       "      <td>Yes</td>\n",
       "      <td>Mailed check</td>\n",
       "      <td>19.40</td>\n",
       "      <td>19.4</td>\n",
       "    </tr>\n",
       "    <tr>\n",
       "      <th>0</th>\n",
       "      <td>7590-VHVEG</td>\n",
       "      <td>2020-01-01</td>\n",
       "      <td>No</td>\n",
       "      <td>Month-to-month</td>\n",
       "      <td>Yes</td>\n",
       "      <td>Electronic check</td>\n",
       "      <td>29.85</td>\n",
       "      <td>29.85</td>\n",
       "    </tr>\n",
       "    <tr>\n",
       "      <th>3468</th>\n",
       "      <td>0247-SLUJI</td>\n",
       "      <td>2020-01-01</td>\n",
       "      <td>No</td>\n",
       "      <td>Month-to-month</td>\n",
       "      <td>No</td>\n",
       "      <td>Mailed check</td>\n",
       "      <td>19.70</td>\n",
       "      <td>19.7</td>\n",
       "    </tr>\n",
       "    <tr>\n",
       "      <th>1151</th>\n",
       "      <td>8992-CEUEN</td>\n",
       "      <td>2020-01-01</td>\n",
       "      <td>No</td>\n",
       "      <td>Month-to-month</td>\n",
       "      <td>No</td>\n",
       "      <td>Electronic check</td>\n",
       "      <td>18.85</td>\n",
       "      <td>18.85</td>\n",
       "    </tr>\n",
       "    <tr>\n",
       "      <th>199</th>\n",
       "      <td>3645-DEYGF</td>\n",
       "      <td>2020-01-01</td>\n",
       "      <td>No</td>\n",
       "      <td>Month-to-month</td>\n",
       "      <td>No</td>\n",
       "      <td>Mailed check</td>\n",
       "      <td>20.75</td>\n",
       "      <td>20.75</td>\n",
       "    </tr>\n",
       "    <tr>\n",
       "      <th>3452</th>\n",
       "      <td>8950-MTZNV</td>\n",
       "      <td>2020-01-01</td>\n",
       "      <td>No</td>\n",
       "      <td>Month-to-month</td>\n",
       "      <td>Yes</td>\n",
       "      <td>Mailed check</td>\n",
       "      <td>44.95</td>\n",
       "      <td>44.95</td>\n",
       "    </tr>\n",
       "    <tr>\n",
       "      <th>3457</th>\n",
       "      <td>8566-YPRGL</td>\n",
       "      <td>2020-01-01</td>\n",
       "      <td>No</td>\n",
       "      <td>Month-to-month</td>\n",
       "      <td>Yes</td>\n",
       "      <td>Mailed check</td>\n",
       "      <td>19.50</td>\n",
       "      <td>19.5</td>\n",
       "    </tr>\n",
       "    <tr>\n",
       "      <th>3389</th>\n",
       "      <td>9617-INGJY</td>\n",
       "      <td>2020-01-01</td>\n",
       "      <td>No</td>\n",
       "      <td>Month-to-month</td>\n",
       "      <td>Yes</td>\n",
       "      <td>Mailed check</td>\n",
       "      <td>70.60</td>\n",
       "      <td>70.6</td>\n",
       "    </tr>\n",
       "    <tr>\n",
       "      <th>211</th>\n",
       "      <td>4195-NZGTA</td>\n",
       "      <td>2020-01-01</td>\n",
       "      <td>No</td>\n",
       "      <td>Month-to-month</td>\n",
       "      <td>No</td>\n",
       "      <td>Electronic check</td>\n",
       "      <td>25.25</td>\n",
       "      <td>25.25</td>\n",
       "    </tr>\n",
       "    <tr>\n",
       "      <th>753</th>\n",
       "      <td>3115-CZMZD</td>\n",
       "      <td>2020-02-01</td>\n",
       "      <td>No</td>\n",
       "      <td>Two year</td>\n",
       "      <td>No</td>\n",
       "      <td>Mailed check</td>\n",
       "      <td>20.25</td>\n",
       "      <td></td>\n",
       "    </tr>\n",
       "    <tr>\n",
       "      <th>5218</th>\n",
       "      <td>2923-ARZLG</td>\n",
       "      <td>2020-02-01</td>\n",
       "      <td>No</td>\n",
       "      <td>One year</td>\n",
       "      <td>Yes</td>\n",
       "      <td>Mailed check</td>\n",
       "      <td>19.70</td>\n",
       "      <td></td>\n",
       "    </tr>\n",
       "    <tr>\n",
       "      <th>4380</th>\n",
       "      <td>2520-SGTTA</td>\n",
       "      <td>2020-02-01</td>\n",
       "      <td>No</td>\n",
       "      <td>Two year</td>\n",
       "      <td>No</td>\n",
       "      <td>Mailed check</td>\n",
       "      <td>20.00</td>\n",
       "      <td></td>\n",
       "    </tr>\n",
       "    <tr>\n",
       "      <th>488</th>\n",
       "      <td>4472-LVYGI</td>\n",
       "      <td>2020-02-01</td>\n",
       "      <td>No</td>\n",
       "      <td>Two year</td>\n",
       "      <td>Yes</td>\n",
       "      <td>Bank transfer (automatic)</td>\n",
       "      <td>52.55</td>\n",
       "      <td></td>\n",
       "    </tr>\n",
       "    <tr>\n",
       "      <th>1082</th>\n",
       "      <td>4367-NUYAO</td>\n",
       "      <td>2020-02-01</td>\n",
       "      <td>No</td>\n",
       "      <td>Two year</td>\n",
       "      <td>No</td>\n",
       "      <td>Mailed check</td>\n",
       "      <td>25.75</td>\n",
       "      <td></td>\n",
       "    </tr>\n",
       "    <tr>\n",
       "      <th>1340</th>\n",
       "      <td>1371-DWPAZ</td>\n",
       "      <td>2020-02-01</td>\n",
       "      <td>No</td>\n",
       "      <td>Two year</td>\n",
       "      <td>No</td>\n",
       "      <td>Credit card (automatic)</td>\n",
       "      <td>56.05</td>\n",
       "      <td></td>\n",
       "    </tr>\n",
       "    <tr>\n",
       "      <th>3331</th>\n",
       "      <td>7644-OMVMY</td>\n",
       "      <td>2020-02-01</td>\n",
       "      <td>No</td>\n",
       "      <td>Two year</td>\n",
       "      <td>No</td>\n",
       "      <td>Mailed check</td>\n",
       "      <td>19.85</td>\n",
       "      <td></td>\n",
       "    </tr>\n",
       "    <tr>\n",
       "      <th>6670</th>\n",
       "      <td>4075-WKNIU</td>\n",
       "      <td>2020-02-01</td>\n",
       "      <td>No</td>\n",
       "      <td>Two year</td>\n",
       "      <td>No</td>\n",
       "      <td>Mailed check</td>\n",
       "      <td>73.35</td>\n",
       "      <td></td>\n",
       "    </tr>\n",
       "    <tr>\n",
       "      <th>936</th>\n",
       "      <td>5709-LVOEQ</td>\n",
       "      <td>2020-02-01</td>\n",
       "      <td>No</td>\n",
       "      <td>Two year</td>\n",
       "      <td>No</td>\n",
       "      <td>Mailed check</td>\n",
       "      <td>80.85</td>\n",
       "      <td></td>\n",
       "    </tr>\n",
       "    <tr>\n",
       "      <th>3826</th>\n",
       "      <td>3213-VVOLG</td>\n",
       "      <td>2020-02-01</td>\n",
       "      <td>No</td>\n",
       "      <td>Two year</td>\n",
       "      <td>No</td>\n",
       "      <td>Mailed check</td>\n",
       "      <td>25.35</td>\n",
       "      <td></td>\n",
       "    </tr>\n",
       "    <tr>\n",
       "      <th>6754</th>\n",
       "      <td>2775-SEFEE</td>\n",
       "      <td>2020-02-01</td>\n",
       "      <td>No</td>\n",
       "      <td>Two year</td>\n",
       "      <td>Yes</td>\n",
       "      <td>Bank transfer (automatic)</td>\n",
       "      <td>61.90</td>\n",
       "      <td></td>\n",
       "    </tr>\n",
       "  </tbody>\n",
       "</table>\n",
       "</div>"
      ],
      "text/plain": [
       "      customerID   BeginDate EndDate            Type PaperlessBilling  \\\n",
       "6499  2676-ISHSF  2020-01-01      No  Month-to-month               No   \n",
       "3202  5501-TVMGM  2020-01-01      No  Month-to-month              Yes   \n",
       "3258  7365-BVCJH  2020-01-01      No  Month-to-month              Yes   \n",
       "6449  7601-WFVZV  2020-01-01      No  Month-to-month               No   \n",
       "181   6582-OIVSP  2020-01-01      No  Month-to-month               No   \n",
       "3312  9122-UMROB  2020-01-01      No  Month-to-month               No   \n",
       "3313  4232-JGKIY  2020-01-01      No  Month-to-month               No   \n",
       "3324  5043-TRZWM  2020-01-01      No  Month-to-month               No   \n",
       "3328  1640-PLFMP  2020-01-01      No  Month-to-month              Yes   \n",
       "1168  5562-BETPV  2020-01-01      No        One year               No   \n",
       "3376  9629-NHXFW  2020-01-01      No  Month-to-month              Yes   \n",
       "0     7590-VHVEG  2020-01-01      No  Month-to-month              Yes   \n",
       "3468  0247-SLUJI  2020-01-01      No  Month-to-month               No   \n",
       "1151  8992-CEUEN  2020-01-01      No  Month-to-month               No   \n",
       "199   3645-DEYGF  2020-01-01      No  Month-to-month               No   \n",
       "3452  8950-MTZNV  2020-01-01      No  Month-to-month              Yes   \n",
       "3457  8566-YPRGL  2020-01-01      No  Month-to-month              Yes   \n",
       "3389  9617-INGJY  2020-01-01      No  Month-to-month              Yes   \n",
       "211   4195-NZGTA  2020-01-01      No  Month-to-month               No   \n",
       "753   3115-CZMZD  2020-02-01      No        Two year               No   \n",
       "5218  2923-ARZLG  2020-02-01      No        One year              Yes   \n",
       "4380  2520-SGTTA  2020-02-01      No        Two year               No   \n",
       "488   4472-LVYGI  2020-02-01      No        Two year              Yes   \n",
       "1082  4367-NUYAO  2020-02-01      No        Two year               No   \n",
       "1340  1371-DWPAZ  2020-02-01      No        Two year               No   \n",
       "3331  7644-OMVMY  2020-02-01      No        Two year               No   \n",
       "6670  4075-WKNIU  2020-02-01      No        Two year               No   \n",
       "936   5709-LVOEQ  2020-02-01      No        Two year               No   \n",
       "3826  3213-VVOLG  2020-02-01      No        Two year               No   \n",
       "6754  2775-SEFEE  2020-02-01      No        Two year              Yes   \n",
       "\n",
       "                  PaymentMethod  MonthlyCharges TotalCharges  \n",
       "6499               Mailed check           20.30         20.3  \n",
       "3202           Electronic check           55.25        55.25  \n",
       "3258           Electronic check           24.40         24.4  \n",
       "6449               Mailed check           19.55        19.55  \n",
       "181                Mailed check           45.30         45.3  \n",
       "3312               Mailed check           20.30         20.3  \n",
       "3313           Electronic check           19.20         19.2  \n",
       "3324           Electronic check           75.55        75.55  \n",
       "3328           Electronic check           70.25        70.25  \n",
       "1168               Mailed check           19.65        19.65  \n",
       "3376               Mailed check           19.40         19.4  \n",
       "0              Electronic check           29.85        29.85  \n",
       "3468               Mailed check           19.70         19.7  \n",
       "1151           Electronic check           18.85        18.85  \n",
       "199                Mailed check           20.75        20.75  \n",
       "3452               Mailed check           44.95        44.95  \n",
       "3457               Mailed check           19.50         19.5  \n",
       "3389               Mailed check           70.60         70.6  \n",
       "211            Electronic check           25.25        25.25  \n",
       "753                Mailed check           20.25               \n",
       "5218               Mailed check           19.70               \n",
       "4380               Mailed check           20.00               \n",
       "488   Bank transfer (automatic)           52.55               \n",
       "1082               Mailed check           25.75               \n",
       "1340    Credit card (automatic)           56.05               \n",
       "3331               Mailed check           19.85               \n",
       "6670               Mailed check           73.35               \n",
       "936                Mailed check           80.85               \n",
       "3826               Mailed check           25.35               \n",
       "6754  Bank transfer (automatic)           61.90               "
      ]
     },
     "execution_count": 13,
     "metadata": {},
     "output_type": "execute_result"
    }
   ],
   "source": [
    "df_contract.sort_values(by = 'BeginDate').tail(30)"
   ]
  },
  {
   "cell_type": "code",
   "execution_count": 14,
   "id": "4b141b4f",
   "metadata": {},
   "outputs": [],
   "source": [
    "for i in range(len(df_contract)):\n",
    "    if df_contract.loc[i, 'TotalCharges'] == ' ':\n",
    "        df_contract.loc[i, 'TotalCharges'] = df_contract.loc[i, 'MonthlyCharges']"
   ]
  },
  {
   "cell_type": "code",
   "execution_count": 15,
   "id": "3bff8a60",
   "metadata": {},
   "outputs": [],
   "source": [
    "# Теперь можно менять тип столбца\n",
    "\n",
    "df_contract['TotalCharges'] = df_contract['TotalCharges'].astype(float)"
   ]
  },
  {
   "cell_type": "markdown",
   "id": "9f7b9605",
   "metadata": {},
   "source": [
    "### Contract\n",
    "\n",
    "Разберем детально таблицы по очереди, для понимания того, какая информация в них есть."
   ]
  },
  {
   "cell_type": "code",
   "execution_count": 16,
   "id": "edf75a93",
   "metadata": {},
   "outputs": [],
   "source": [
    "# Попробуем привести столбец с датой к типу datetime.\n",
    "df_contract['BeginDate'] = pd.to_datetime(df_contract['BeginDate'])"
   ]
  },
  {
   "cell_type": "code",
   "execution_count": 17,
   "id": "32c79154",
   "metadata": {},
   "outputs": [
    {
     "data": {
      "text/plain": [
       "array(['No', '2019-12-01 00:00:00', '2019-11-01 00:00:00',\n",
       "       '2019-10-01 00:00:00', '2020-01-01 00:00:00'], dtype=object)"
      ]
     },
     "execution_count": 17,
     "metadata": {},
     "output_type": "execute_result"
    }
   ],
   "source": [
    "# Поищем неявные пропуски в EndDate\n",
    "df_contract['EndDate'].unique()"
   ]
  },
  {
   "cell_type": "code",
   "execution_count": 18,
   "id": "9760b693",
   "metadata": {},
   "outputs": [
    {
     "data": {
      "text/plain": [
       "Month-to-month    3875\n",
       "Two year          1695\n",
       "One year          1473\n",
       "Name: Type, dtype: int64"
      ]
     },
     "execution_count": 18,
     "metadata": {},
     "output_type": "execute_result"
    }
   ],
   "source": [
    "# Посмотрим на возможные значения Type\n",
    "df_contract['Type'].value_counts()"
   ]
  },
  {
   "cell_type": "code",
   "execution_count": 19,
   "id": "83a20d80",
   "metadata": {},
   "outputs": [
    {
     "data": {
      "text/plain": [
       "Yes    4171\n",
       "No     2872\n",
       "Name: PaperlessBilling, dtype: int64"
      ]
     },
     "execution_count": 19,
     "metadata": {},
     "output_type": "execute_result"
    }
   ],
   "source": [
    "df_contract['PaperlessBilling'].value_counts()"
   ]
  },
  {
   "cell_type": "code",
   "execution_count": 20,
   "id": "12f80477",
   "metadata": {},
   "outputs": [
    {
     "data": {
      "text/plain": [
       "Electronic check             2365\n",
       "Mailed check                 1612\n",
       "Bank transfer (automatic)    1544\n",
       "Credit card (automatic)      1522\n",
       "Name: PaymentMethod, dtype: int64"
      ]
     },
     "execution_count": 20,
     "metadata": {},
     "output_type": "execute_result"
    }
   ],
   "source": [
    "df_contract['PaymentMethod'].value_counts()"
   ]
  },
  {
   "cell_type": "code",
   "execution_count": 21,
   "id": "65ede438",
   "metadata": {},
   "outputs": [
    {
     "data": {
      "text/plain": [
       "count    7043.000000\n",
       "mean       64.761692\n",
       "std        30.090047\n",
       "min        18.250000\n",
       "25%        35.500000\n",
       "50%        70.350000\n",
       "75%        89.850000\n",
       "max       118.750000\n",
       "Name: MonthlyCharges, dtype: float64"
      ]
     },
     "execution_count": 21,
     "metadata": {},
     "output_type": "execute_result"
    }
   ],
   "source": [
    "df_contract['MonthlyCharges'].describe()"
   ]
  },
  {
   "cell_type": "code",
   "execution_count": 22,
   "id": "36d2d987",
   "metadata": {},
   "outputs": [
    {
     "data": {
      "text/plain": [
       "count    7043.000000\n",
       "mean     2279.798992\n",
       "std      2266.730170\n",
       "min        18.800000\n",
       "25%       398.550000\n",
       "50%      1394.550000\n",
       "75%      3786.600000\n",
       "max      8684.800000\n",
       "Name: TotalCharges, dtype: float64"
      ]
     },
     "execution_count": 22,
     "metadata": {},
     "output_type": "execute_result"
    }
   ],
   "source": [
    "df_contract['TotalCharges'].describe()"
   ]
  },
  {
   "cell_type": "markdown",
   "id": "0e9aa8cd",
   "metadata": {},
   "source": [
    "Неужели кто-то платит по 8,6 тысяч долларов за связь? В любом случае данные почти готовы. Осталось проверить на дубликаты."
   ]
  },
  {
   "cell_type": "code",
   "execution_count": 23,
   "id": "5346300c",
   "metadata": {},
   "outputs": [
    {
     "data": {
      "text/plain": [
       "0"
      ]
     },
     "execution_count": 23,
     "metadata": {},
     "output_type": "execute_result"
    }
   ],
   "source": [
    "df_contract.duplicated().sum()"
   ]
  },
  {
   "cell_type": "code",
   "execution_count": 24,
   "id": "4fab102b",
   "metadata": {},
   "outputs": [
    {
     "data": {
      "text/plain": [
       "7590-VHVEG    1\n",
       "3791-LGQCY    1\n",
       "6008-NAIXK    1\n",
       "5956-YHHRX    1\n",
       "5365-LLFYV    1\n",
       "             ..\n",
       "9796-MVYXX    1\n",
       "2637-FKFSY    1\n",
       "1552-AAGRX    1\n",
       "4304-TSPVK    1\n",
       "3186-AJIEK    1\n",
       "Name: customerID, Length: 7043, dtype: int64"
      ]
     },
     "execution_count": 24,
     "metadata": {},
     "output_type": "execute_result"
    }
   ],
   "source": [
    "# И ещё одним неявным способом\n",
    "\n",
    "df_contract['customerID'].value_counts()"
   ]
  },
  {
   "cell_type": "markdown",
   "id": "e34bbc61",
   "metadata": {},
   "source": [
    "ID пользователя действительно уникальны, дубликатов нет. Таблица готова к анализу."
   ]
  },
  {
   "cell_type": "markdown",
   "id": "dcb2a909",
   "metadata": {},
   "source": [
    "### Personal"
   ]
  },
  {
   "cell_type": "code",
   "execution_count": 25,
   "id": "4d7d922e",
   "metadata": {},
   "outputs": [
    {
     "data": {
      "text/plain": [
       "7590-VHVEG    1\n",
       "3791-LGQCY    1\n",
       "6008-NAIXK    1\n",
       "5956-YHHRX    1\n",
       "5365-LLFYV    1\n",
       "             ..\n",
       "9796-MVYXX    1\n",
       "2637-FKFSY    1\n",
       "1552-AAGRX    1\n",
       "4304-TSPVK    1\n",
       "3186-AJIEK    1\n",
       "Name: customerID, Length: 7043, dtype: int64"
      ]
     },
     "execution_count": 25,
     "metadata": {},
     "output_type": "execute_result"
    }
   ],
   "source": [
    "df_personal['customerID'].value_counts()"
   ]
  },
  {
   "cell_type": "markdown",
   "id": "69bf304d",
   "metadata": {},
   "source": [
    "Все Id уникальны."
   ]
  },
  {
   "cell_type": "code",
   "execution_count": 26,
   "id": "a80364b7",
   "metadata": {},
   "outputs": [
    {
     "data": {
      "text/plain": [
       "Male      3555\n",
       "Female    3488\n",
       "Name: gender, dtype: int64"
      ]
     },
     "execution_count": 26,
     "metadata": {},
     "output_type": "execute_result"
    }
   ],
   "source": [
    "df_personal['gender'].value_counts()"
   ]
  },
  {
   "cell_type": "code",
   "execution_count": 27,
   "id": "9345db9c",
   "metadata": {},
   "outputs": [
    {
     "data": {
      "text/plain": [
       "0    5901\n",
       "1    1142\n",
       "Name: SeniorCitizen, dtype: int64"
      ]
     },
     "execution_count": 27,
     "metadata": {},
     "output_type": "execute_result"
    }
   ],
   "source": [
    "df_personal['SeniorCitizen'].value_counts()"
   ]
  },
  {
   "cell_type": "code",
   "execution_count": 28,
   "id": "8ec232e8",
   "metadata": {},
   "outputs": [
    {
     "data": {
      "text/plain": [
       "No     3641\n",
       "Yes    3402\n",
       "Name: Partner, dtype: int64"
      ]
     },
     "execution_count": 28,
     "metadata": {},
     "output_type": "execute_result"
    }
   ],
   "source": [
    "df_personal['Partner'].value_counts()"
   ]
  },
  {
   "cell_type": "code",
   "execution_count": 29,
   "id": "8c6565b1",
   "metadata": {},
   "outputs": [
    {
     "data": {
      "text/plain": [
       "No     4933\n",
       "Yes    2110\n",
       "Name: Dependents, dtype: int64"
      ]
     },
     "execution_count": 29,
     "metadata": {},
     "output_type": "execute_result"
    }
   ],
   "source": [
    "df_personal['Dependents'].value_counts()"
   ]
  },
  {
   "cell_type": "markdown",
   "id": "375497e5",
   "metadata": {},
   "source": [
    "Аномальных небинарных значений не выявлено.\n",
    "\n",
    "У нас примерно поровну мужчин и женщин, почти поровну клиентов в браке и холостых. Пожилых людей и клиентов, имеющих иждевенцев, значительно меньше."
   ]
  },
  {
   "cell_type": "markdown",
   "id": "bd79f68a",
   "metadata": {},
   "source": [
    "### Internet"
   ]
  },
  {
   "cell_type": "code",
   "execution_count": 30,
   "id": "ac16df16",
   "metadata": {},
   "outputs": [
    {
     "data": {
      "text/plain": [
       "7590-VHVEG    1\n",
       "5181-OABFK    1\n",
       "9356-AXGMP    1\n",
       "5176-OLSKT    1\n",
       "7508-DQAKK    1\n",
       "             ..\n",
       "1104-FEJAM    1\n",
       "2972-YDYUW    1\n",
       "4238-JSSWH    1\n",
       "0869-PAPRP    1\n",
       "3186-AJIEK    1\n",
       "Name: customerID, Length: 5517, dtype: int64"
      ]
     },
     "execution_count": 30,
     "metadata": {},
     "output_type": "execute_result"
    }
   ],
   "source": [
    "df_internet['customerID'].value_counts()"
   ]
  },
  {
   "cell_type": "code",
   "execution_count": 31,
   "id": "16903b4a",
   "metadata": {},
   "outputs": [
    {
     "data": {
      "text/plain": [
       "Fiber optic    3096\n",
       "DSL            2421\n",
       "Name: InternetService, dtype: int64"
      ]
     },
     "execution_count": 31,
     "metadata": {},
     "output_type": "execute_result"
    }
   ],
   "source": [
    "df_internet['InternetService'].value_counts()"
   ]
  },
  {
   "cell_type": "code",
   "execution_count": 32,
   "id": "e154e5d1",
   "metadata": {},
   "outputs": [
    {
     "data": {
      "text/plain": [
       "No     3498\n",
       "Yes    2019\n",
       "Name: OnlineSecurity, dtype: int64"
      ]
     },
     "execution_count": 32,
     "metadata": {},
     "output_type": "execute_result"
    }
   ],
   "source": [
    "df_internet['OnlineSecurity'].value_counts()"
   ]
  },
  {
   "cell_type": "code",
   "execution_count": 33,
   "id": "b7ab2a12",
   "metadata": {},
   "outputs": [
    {
     "data": {
      "text/plain": [
       "No     3088\n",
       "Yes    2429\n",
       "Name: OnlineBackup, dtype: int64"
      ]
     },
     "execution_count": 33,
     "metadata": {},
     "output_type": "execute_result"
    }
   ],
   "source": [
    "df_internet['OnlineBackup'].value_counts()"
   ]
  },
  {
   "cell_type": "code",
   "execution_count": 34,
   "id": "a63d7f15",
   "metadata": {},
   "outputs": [
    {
     "data": {
      "text/plain": [
       "No     3095\n",
       "Yes    2422\n",
       "Name: DeviceProtection, dtype: int64"
      ]
     },
     "execution_count": 34,
     "metadata": {},
     "output_type": "execute_result"
    }
   ],
   "source": [
    "df_internet['DeviceProtection'].value_counts()"
   ]
  },
  {
   "cell_type": "code",
   "execution_count": 35,
   "id": "4b3c76b8",
   "metadata": {},
   "outputs": [
    {
     "data": {
      "text/plain": [
       "No     3473\n",
       "Yes    2044\n",
       "Name: TechSupport, dtype: int64"
      ]
     },
     "execution_count": 35,
     "metadata": {},
     "output_type": "execute_result"
    }
   ],
   "source": [
    "df_internet['TechSupport'].value_counts()"
   ]
  },
  {
   "cell_type": "code",
   "execution_count": 36,
   "id": "0fcdbf57",
   "metadata": {},
   "outputs": [
    {
     "data": {
      "text/plain": [
       "No     2810\n",
       "Yes    2707\n",
       "Name: StreamingTV, dtype: int64"
      ]
     },
     "execution_count": 36,
     "metadata": {},
     "output_type": "execute_result"
    }
   ],
   "source": [
    "df_internet['StreamingTV'].value_counts()"
   ]
  },
  {
   "cell_type": "code",
   "execution_count": 37,
   "id": "d904ad88",
   "metadata": {},
   "outputs": [
    {
     "data": {
      "text/plain": [
       "No     2785\n",
       "Yes    2732\n",
       "Name: StreamingMovies, dtype: int64"
      ]
     },
     "execution_count": 37,
     "metadata": {},
     "output_type": "execute_result"
    }
   ],
   "source": [
    "df_internet['StreamingMovies'].value_counts()"
   ]
  },
  {
   "cell_type": "markdown",
   "id": "e604b213",
   "metadata": {},
   "source": [
    "Интересно, что во всех случаях примерно половина клиентов пользуется одной из дополнительных услуг. Данные чистые-шелковистые."
   ]
  },
  {
   "cell_type": "markdown",
   "id": "e0c94cea",
   "metadata": {},
   "source": [
    "### Phone"
   ]
  },
  {
   "cell_type": "code",
   "execution_count": 38,
   "id": "8bb0c1aa",
   "metadata": {},
   "outputs": [
    {
     "data": {
      "text/plain": [
       "0"
      ]
     },
     "execution_count": 38,
     "metadata": {},
     "output_type": "execute_result"
    }
   ],
   "source": [
    "df_phone.duplicated().sum()"
   ]
  },
  {
   "cell_type": "code",
   "execution_count": 39,
   "id": "6e4e82c1",
   "metadata": {},
   "outputs": [
    {
     "data": {
      "text/plain": [
       "No     3390\n",
       "Yes    2971\n",
       "Name: MultipleLines, dtype: int64"
      ]
     },
     "execution_count": 39,
     "metadata": {},
     "output_type": "execute_result"
    }
   ],
   "source": [
    "df_phone['MultipleLines'].value_counts()"
   ]
  },
  {
   "cell_type": "markdown",
   "id": "80cee34d",
   "metadata": {},
   "source": [
    "Здесь с данными тоже все в порядке. Можно переходить к следующему этапу."
   ]
  },
  {
   "cell_type": "markdown",
   "id": "f6323790",
   "metadata": {},
   "source": [
    "## Подготовка данных к обучению моделей"
   ]
  },
  {
   "cell_type": "markdown",
   "id": "f6fb1c02",
   "metadata": {},
   "source": [
    "### Target"
   ]
  },
  {
   "cell_type": "code",
   "execution_count": 40,
   "id": "5afc857c",
   "metadata": {},
   "outputs": [
    {
     "data": {
      "text/plain": [
       "0                     No\n",
       "1                     No\n",
       "2    2019-12-01 00:00:00\n",
       "3                     No\n",
       "4    2019-11-01 00:00:00\n",
       "Name: EndDate, dtype: object"
      ]
     },
     "execution_count": 40,
     "metadata": {},
     "output_type": "execute_result"
    }
   ],
   "source": [
    "target = df_contract['EndDate']\n",
    "target.head(5)"
   ]
  },
  {
   "cell_type": "code",
   "execution_count": 41,
   "id": "de50bd82",
   "metadata": {},
   "outputs": [],
   "source": [
    "target = target.apply(lambda x: 0 if x == 'No' else 1)"
   ]
  },
  {
   "cell_type": "code",
   "execution_count": 42,
   "id": "2eef609a",
   "metadata": {},
   "outputs": [
    {
     "data": {
      "text/plain": [
       "0    0\n",
       "1    0\n",
       "2    1\n",
       "3    0\n",
       "4    1\n",
       "Name: EndDate, dtype: int32"
      ]
     },
     "execution_count": 42,
     "metadata": {},
     "output_type": "execute_result"
    }
   ],
   "source": [
    "target = target.astype('int')\n",
    "target.head(5)"
   ]
  },
  {
   "cell_type": "markdown",
   "id": "b0fc4ed5",
   "metadata": {},
   "source": [
    "Целевой признак готов для обучения модели."
   ]
  },
  {
   "cell_type": "markdown",
   "id": "adecc2ec",
   "metadata": {},
   "source": [
    "### Features"
   ]
  },
  {
   "cell_type": "code",
   "execution_count": 43,
   "id": "021e8a3c",
   "metadata": {},
   "outputs": [],
   "source": [
    "features_row = df_contract.drop(['EndDate'], axis=1)"
   ]
  },
  {
   "cell_type": "code",
   "execution_count": 44,
   "id": "81614312",
   "metadata": {},
   "outputs": [],
   "source": [
    "# Теперь будем присоединять другие 3 таблицы\n",
    "\n",
    "features_row = features_row.merge(df_personal, on='customerID', how='left').merge(\n",
    "    df_internet, on='customerID', how='left').merge(df_phone, on='customerID', how='left')"
   ]
  },
  {
   "cell_type": "code",
   "execution_count": 45,
   "id": "59169c16",
   "metadata": {},
   "outputs": [
    {
     "name": "stdout",
     "output_type": "stream",
     "text": [
      "<class 'pandas.core.frame.DataFrame'>\n",
      "Int64Index: 7043 entries, 0 to 7042\n",
      "Data columns (total 19 columns):\n",
      " #   Column            Non-Null Count  Dtype         \n",
      "---  ------            --------------  -----         \n",
      " 0   customerID        7043 non-null   object        \n",
      " 1   BeginDate         7043 non-null   datetime64[ns]\n",
      " 2   Type              7043 non-null   object        \n",
      " 3   PaperlessBilling  7043 non-null   object        \n",
      " 4   PaymentMethod     7043 non-null   object        \n",
      " 5   MonthlyCharges    7043 non-null   float64       \n",
      " 6   TotalCharges      7043 non-null   float64       \n",
      " 7   gender            7043 non-null   object        \n",
      " 8   SeniorCitizen     7043 non-null   int64         \n",
      " 9   Partner           7043 non-null   object        \n",
      " 10  Dependents        7043 non-null   object        \n",
      " 11  InternetService   5517 non-null   object        \n",
      " 12  OnlineSecurity    5517 non-null   object        \n",
      " 13  OnlineBackup      5517 non-null   object        \n",
      " 14  DeviceProtection  5517 non-null   object        \n",
      " 15  TechSupport       5517 non-null   object        \n",
      " 16  StreamingTV       5517 non-null   object        \n",
      " 17  StreamingMovies   5517 non-null   object        \n",
      " 18  MultipleLines     6361 non-null   object        \n",
      "dtypes: datetime64[ns](1), float64(2), int64(1), object(15)\n",
      "memory usage: 1.1+ MB\n",
      "None\n"
     ]
    },
    {
     "data": {
      "text/html": [
       "<div>\n",
       "<style scoped>\n",
       "    .dataframe tbody tr th:only-of-type {\n",
       "        vertical-align: middle;\n",
       "    }\n",
       "\n",
       "    .dataframe tbody tr th {\n",
       "        vertical-align: top;\n",
       "    }\n",
       "\n",
       "    .dataframe thead th {\n",
       "        text-align: right;\n",
       "    }\n",
       "</style>\n",
       "<table border=\"1\" class=\"dataframe\">\n",
       "  <thead>\n",
       "    <tr style=\"text-align: right;\">\n",
       "      <th></th>\n",
       "      <th>customerID</th>\n",
       "      <th>BeginDate</th>\n",
       "      <th>Type</th>\n",
       "      <th>PaperlessBilling</th>\n",
       "      <th>PaymentMethod</th>\n",
       "      <th>MonthlyCharges</th>\n",
       "      <th>TotalCharges</th>\n",
       "      <th>gender</th>\n",
       "      <th>SeniorCitizen</th>\n",
       "      <th>Partner</th>\n",
       "      <th>Dependents</th>\n",
       "      <th>InternetService</th>\n",
       "      <th>OnlineSecurity</th>\n",
       "      <th>OnlineBackup</th>\n",
       "      <th>DeviceProtection</th>\n",
       "      <th>TechSupport</th>\n",
       "      <th>StreamingTV</th>\n",
       "      <th>StreamingMovies</th>\n",
       "      <th>MultipleLines</th>\n",
       "    </tr>\n",
       "  </thead>\n",
       "  <tbody>\n",
       "    <tr>\n",
       "      <th>0</th>\n",
       "      <td>7590-VHVEG</td>\n",
       "      <td>2020-01-01</td>\n",
       "      <td>Month-to-month</td>\n",
       "      <td>Yes</td>\n",
       "      <td>Electronic check</td>\n",
       "      <td>29.85</td>\n",
       "      <td>29.85</td>\n",
       "      <td>Female</td>\n",
       "      <td>0</td>\n",
       "      <td>Yes</td>\n",
       "      <td>No</td>\n",
       "      <td>DSL</td>\n",
       "      <td>No</td>\n",
       "      <td>Yes</td>\n",
       "      <td>No</td>\n",
       "      <td>No</td>\n",
       "      <td>No</td>\n",
       "      <td>No</td>\n",
       "      <td>NaN</td>\n",
       "    </tr>\n",
       "    <tr>\n",
       "      <th>1</th>\n",
       "      <td>5575-GNVDE</td>\n",
       "      <td>2017-04-01</td>\n",
       "      <td>One year</td>\n",
       "      <td>No</td>\n",
       "      <td>Mailed check</td>\n",
       "      <td>56.95</td>\n",
       "      <td>1889.50</td>\n",
       "      <td>Male</td>\n",
       "      <td>0</td>\n",
       "      <td>No</td>\n",
       "      <td>No</td>\n",
       "      <td>DSL</td>\n",
       "      <td>Yes</td>\n",
       "      <td>No</td>\n",
       "      <td>Yes</td>\n",
       "      <td>No</td>\n",
       "      <td>No</td>\n",
       "      <td>No</td>\n",
       "      <td>No</td>\n",
       "    </tr>\n",
       "    <tr>\n",
       "      <th>2</th>\n",
       "      <td>3668-QPYBK</td>\n",
       "      <td>2019-10-01</td>\n",
       "      <td>Month-to-month</td>\n",
       "      <td>Yes</td>\n",
       "      <td>Mailed check</td>\n",
       "      <td>53.85</td>\n",
       "      <td>108.15</td>\n",
       "      <td>Male</td>\n",
       "      <td>0</td>\n",
       "      <td>No</td>\n",
       "      <td>No</td>\n",
       "      <td>DSL</td>\n",
       "      <td>Yes</td>\n",
       "      <td>Yes</td>\n",
       "      <td>No</td>\n",
       "      <td>No</td>\n",
       "      <td>No</td>\n",
       "      <td>No</td>\n",
       "      <td>No</td>\n",
       "    </tr>\n",
       "    <tr>\n",
       "      <th>3</th>\n",
       "      <td>7795-CFOCW</td>\n",
       "      <td>2016-05-01</td>\n",
       "      <td>One year</td>\n",
       "      <td>No</td>\n",
       "      <td>Bank transfer (automatic)</td>\n",
       "      <td>42.30</td>\n",
       "      <td>1840.75</td>\n",
       "      <td>Male</td>\n",
       "      <td>0</td>\n",
       "      <td>No</td>\n",
       "      <td>No</td>\n",
       "      <td>DSL</td>\n",
       "      <td>Yes</td>\n",
       "      <td>No</td>\n",
       "      <td>Yes</td>\n",
       "      <td>Yes</td>\n",
       "      <td>No</td>\n",
       "      <td>No</td>\n",
       "      <td>NaN</td>\n",
       "    </tr>\n",
       "    <tr>\n",
       "      <th>4</th>\n",
       "      <td>9237-HQITU</td>\n",
       "      <td>2019-09-01</td>\n",
       "      <td>Month-to-month</td>\n",
       "      <td>Yes</td>\n",
       "      <td>Electronic check</td>\n",
       "      <td>70.70</td>\n",
       "      <td>151.65</td>\n",
       "      <td>Female</td>\n",
       "      <td>0</td>\n",
       "      <td>No</td>\n",
       "      <td>No</td>\n",
       "      <td>Fiber optic</td>\n",
       "      <td>No</td>\n",
       "      <td>No</td>\n",
       "      <td>No</td>\n",
       "      <td>No</td>\n",
       "      <td>No</td>\n",
       "      <td>No</td>\n",
       "      <td>No</td>\n",
       "    </tr>\n",
       "  </tbody>\n",
       "</table>\n",
       "</div>"
      ],
      "text/plain": [
       "   customerID  BeginDate            Type PaperlessBilling  \\\n",
       "0  7590-VHVEG 2020-01-01  Month-to-month              Yes   \n",
       "1  5575-GNVDE 2017-04-01        One year               No   \n",
       "2  3668-QPYBK 2019-10-01  Month-to-month              Yes   \n",
       "3  7795-CFOCW 2016-05-01        One year               No   \n",
       "4  9237-HQITU 2019-09-01  Month-to-month              Yes   \n",
       "\n",
       "               PaymentMethod  MonthlyCharges  TotalCharges  gender  \\\n",
       "0           Electronic check           29.85         29.85  Female   \n",
       "1               Mailed check           56.95       1889.50    Male   \n",
       "2               Mailed check           53.85        108.15    Male   \n",
       "3  Bank transfer (automatic)           42.30       1840.75    Male   \n",
       "4           Electronic check           70.70        151.65  Female   \n",
       "\n",
       "   SeniorCitizen Partner Dependents InternetService OnlineSecurity  \\\n",
       "0              0     Yes         No             DSL             No   \n",
       "1              0      No         No             DSL            Yes   \n",
       "2              0      No         No             DSL            Yes   \n",
       "3              0      No         No             DSL            Yes   \n",
       "4              0      No         No     Fiber optic             No   \n",
       "\n",
       "  OnlineBackup DeviceProtection TechSupport StreamingTV StreamingMovies  \\\n",
       "0          Yes               No          No          No              No   \n",
       "1           No              Yes          No          No              No   \n",
       "2          Yes               No          No          No              No   \n",
       "3           No              Yes         Yes          No              No   \n",
       "4           No               No          No          No              No   \n",
       "\n",
       "  MultipleLines  \n",
       "0           NaN  \n",
       "1            No  \n",
       "2            No  \n",
       "3           NaN  \n",
       "4            No  "
      ]
     },
     "execution_count": 45,
     "metadata": {},
     "output_type": "execute_result"
    }
   ],
   "source": [
    "print(features_row.info())\n",
    "features_row.head(5)"
   ]
  },
  {
   "cell_type": "markdown",
   "id": "83934b02",
   "metadata": {},
   "source": [
    "Избавимся от ненужных столбцов. По некоторым столбцам можно однозначно сказать, что они не имеют значения. Например customerID, PaymentMethod. Вряд ли клиенты уходят от компании из-за некрасивого айди или способа оплаты."
   ]
  },
  {
   "cell_type": "code",
   "execution_count": 46,
   "id": "8841aecd",
   "metadata": {},
   "outputs": [],
   "source": [
    "features_row.drop(['customerID', 'PaymentMethod'], axis=1, inplace=True)"
   ]
  },
  {
   "cell_type": "markdown",
   "id": "f6d73574",
   "metadata": {},
   "source": [
    "BeginDate может быть важной информацией. Точнее, не дата регистрации, а сколько дней прошло с начала оказания услуг. Информация о договорах актуальна на 1 февраля 2020."
   ]
  },
  {
   "cell_type": "code",
   "execution_count": 47,
   "id": "456c76e8",
   "metadata": {},
   "outputs": [
    {
     "name": "stderr",
     "output_type": "stream",
     "text": [
      "C:\\Users\\6145~1\\AppData\\Local\\Temp/ipykernel_12444/3201916522.py:2: DeprecationWarning: The default dtype for empty Series will be 'object' instead of 'float64' in a future version. Specify a dtype explicitly to silence this warning.\n",
      "  Days = pd.Series([])\n"
     ]
    },
    {
     "data": {
      "text/plain": [
       "0        31 days\n",
       "1      1036 days\n",
       "2       123 days\n",
       "3      1371 days\n",
       "4       153 days\n",
       "          ...   \n",
       "7038    730 days\n",
       "7039   2191 days\n",
       "7040    337 days\n",
       "7041    215 days\n",
       "7042   2010 days\n",
       "Name: BeginDate, Length: 7043, dtype: timedelta64[ns]"
      ]
     },
     "execution_count": 47,
     "metadata": {},
     "output_type": "execute_result"
    }
   ],
   "source": [
    "actual_date = datetime(2020, 2, 1)\n",
    "Days = pd.Series([])\n",
    "Days = actual_date - features_row['BeginDate'] \n",
    "Days"
   ]
  },
  {
   "cell_type": "code",
   "execution_count": 48,
   "id": "764c7c3d",
   "metadata": {},
   "outputs": [
    {
     "data": {
      "text/html": [
       "<div>\n",
       "<style scoped>\n",
       "    .dataframe tbody tr th:only-of-type {\n",
       "        vertical-align: middle;\n",
       "    }\n",
       "\n",
       "    .dataframe tbody tr th {\n",
       "        vertical-align: top;\n",
       "    }\n",
       "\n",
       "    .dataframe thead th {\n",
       "        text-align: right;\n",
       "    }\n",
       "</style>\n",
       "<table border=\"1\" class=\"dataframe\">\n",
       "  <thead>\n",
       "    <tr style=\"text-align: right;\">\n",
       "      <th></th>\n",
       "      <th>Type</th>\n",
       "      <th>PaperlessBilling</th>\n",
       "      <th>MonthlyCharges</th>\n",
       "      <th>TotalCharges</th>\n",
       "      <th>gender</th>\n",
       "      <th>SeniorCitizen</th>\n",
       "      <th>Partner</th>\n",
       "      <th>Dependents</th>\n",
       "      <th>InternetService</th>\n",
       "      <th>OnlineSecurity</th>\n",
       "      <th>OnlineBackup</th>\n",
       "      <th>DeviceProtection</th>\n",
       "      <th>TechSupport</th>\n",
       "      <th>StreamingTV</th>\n",
       "      <th>StreamingMovies</th>\n",
       "      <th>MultipleLines</th>\n",
       "      <th>Days</th>\n",
       "    </tr>\n",
       "  </thead>\n",
       "  <tbody>\n",
       "    <tr>\n",
       "      <th>0</th>\n",
       "      <td>Month-to-month</td>\n",
       "      <td>Yes</td>\n",
       "      <td>29.85</td>\n",
       "      <td>29.85</td>\n",
       "      <td>Female</td>\n",
       "      <td>0</td>\n",
       "      <td>Yes</td>\n",
       "      <td>No</td>\n",
       "      <td>DSL</td>\n",
       "      <td>No</td>\n",
       "      <td>Yes</td>\n",
       "      <td>No</td>\n",
       "      <td>No</td>\n",
       "      <td>No</td>\n",
       "      <td>No</td>\n",
       "      <td>NaN</td>\n",
       "      <td>31</td>\n",
       "    </tr>\n",
       "    <tr>\n",
       "      <th>1</th>\n",
       "      <td>One year</td>\n",
       "      <td>No</td>\n",
       "      <td>56.95</td>\n",
       "      <td>1889.50</td>\n",
       "      <td>Male</td>\n",
       "      <td>0</td>\n",
       "      <td>No</td>\n",
       "      <td>No</td>\n",
       "      <td>DSL</td>\n",
       "      <td>Yes</td>\n",
       "      <td>No</td>\n",
       "      <td>Yes</td>\n",
       "      <td>No</td>\n",
       "      <td>No</td>\n",
       "      <td>No</td>\n",
       "      <td>No</td>\n",
       "      <td>1036</td>\n",
       "    </tr>\n",
       "    <tr>\n",
       "      <th>2</th>\n",
       "      <td>Month-to-month</td>\n",
       "      <td>Yes</td>\n",
       "      <td>53.85</td>\n",
       "      <td>108.15</td>\n",
       "      <td>Male</td>\n",
       "      <td>0</td>\n",
       "      <td>No</td>\n",
       "      <td>No</td>\n",
       "      <td>DSL</td>\n",
       "      <td>Yes</td>\n",
       "      <td>Yes</td>\n",
       "      <td>No</td>\n",
       "      <td>No</td>\n",
       "      <td>No</td>\n",
       "      <td>No</td>\n",
       "      <td>No</td>\n",
       "      <td>123</td>\n",
       "    </tr>\n",
       "    <tr>\n",
       "      <th>3</th>\n",
       "      <td>One year</td>\n",
       "      <td>No</td>\n",
       "      <td>42.30</td>\n",
       "      <td>1840.75</td>\n",
       "      <td>Male</td>\n",
       "      <td>0</td>\n",
       "      <td>No</td>\n",
       "      <td>No</td>\n",
       "      <td>DSL</td>\n",
       "      <td>Yes</td>\n",
       "      <td>No</td>\n",
       "      <td>Yes</td>\n",
       "      <td>Yes</td>\n",
       "      <td>No</td>\n",
       "      <td>No</td>\n",
       "      <td>NaN</td>\n",
       "      <td>1371</td>\n",
       "    </tr>\n",
       "    <tr>\n",
       "      <th>4</th>\n",
       "      <td>Month-to-month</td>\n",
       "      <td>Yes</td>\n",
       "      <td>70.70</td>\n",
       "      <td>151.65</td>\n",
       "      <td>Female</td>\n",
       "      <td>0</td>\n",
       "      <td>No</td>\n",
       "      <td>No</td>\n",
       "      <td>Fiber optic</td>\n",
       "      <td>No</td>\n",
       "      <td>No</td>\n",
       "      <td>No</td>\n",
       "      <td>No</td>\n",
       "      <td>No</td>\n",
       "      <td>No</td>\n",
       "      <td>No</td>\n",
       "      <td>153</td>\n",
       "    </tr>\n",
       "  </tbody>\n",
       "</table>\n",
       "</div>"
      ],
      "text/plain": [
       "             Type PaperlessBilling  MonthlyCharges  TotalCharges  gender  \\\n",
       "0  Month-to-month              Yes           29.85         29.85  Female   \n",
       "1        One year               No           56.95       1889.50    Male   \n",
       "2  Month-to-month              Yes           53.85        108.15    Male   \n",
       "3        One year               No           42.30       1840.75    Male   \n",
       "4  Month-to-month              Yes           70.70        151.65  Female   \n",
       "\n",
       "   SeniorCitizen Partner Dependents InternetService OnlineSecurity  \\\n",
       "0              0     Yes         No             DSL             No   \n",
       "1              0      No         No             DSL            Yes   \n",
       "2              0      No         No             DSL            Yes   \n",
       "3              0      No         No             DSL            Yes   \n",
       "4              0      No         No     Fiber optic             No   \n",
       "\n",
       "  OnlineBackup DeviceProtection TechSupport StreamingTV StreamingMovies  \\\n",
       "0          Yes               No          No          No              No   \n",
       "1           No              Yes          No          No              No   \n",
       "2          Yes               No          No          No              No   \n",
       "3           No              Yes         Yes          No              No   \n",
       "4           No               No          No          No              No   \n",
       "\n",
       "  MultipleLines  Days  \n",
       "0           NaN    31  \n",
       "1            No  1036  \n",
       "2            No   123  \n",
       "3           NaN  1371  \n",
       "4            No   153  "
      ]
     },
     "execution_count": 48,
     "metadata": {},
     "output_type": "execute_result"
    }
   ],
   "source": [
    "features_row['Days'] = Days.dt.days\n",
    "features_row.drop('BeginDate', axis=1, inplace=True)\n",
    "features_row.head(5)"
   ]
  },
  {
   "cell_type": "markdown",
   "id": "69c80df2",
   "metadata": {},
   "source": [
    "Теперь у нас образовались пропуски. Посмотрим, в каких столбцах они есть и заполним."
   ]
  },
  {
   "cell_type": "code",
   "execution_count": 49,
   "id": "19f65d23",
   "metadata": {},
   "outputs": [
    {
     "name": "stdout",
     "output_type": "stream",
     "text": [
      "<class 'pandas.core.frame.DataFrame'>\n",
      "Int64Index: 7043 entries, 0 to 7042\n",
      "Data columns (total 17 columns):\n",
      " #   Column            Non-Null Count  Dtype  \n",
      "---  ------            --------------  -----  \n",
      " 0   Type              7043 non-null   object \n",
      " 1   PaperlessBilling  7043 non-null   object \n",
      " 2   MonthlyCharges    7043 non-null   float64\n",
      " 3   TotalCharges      7043 non-null   float64\n",
      " 4   gender            7043 non-null   object \n",
      " 5   SeniorCitizen     7043 non-null   int64  \n",
      " 6   Partner           7043 non-null   object \n",
      " 7   Dependents        7043 non-null   object \n",
      " 8   InternetService   5517 non-null   object \n",
      " 9   OnlineSecurity    5517 non-null   object \n",
      " 10  OnlineBackup      5517 non-null   object \n",
      " 11  DeviceProtection  5517 non-null   object \n",
      " 12  TechSupport       5517 non-null   object \n",
      " 13  StreamingTV       5517 non-null   object \n",
      " 14  StreamingMovies   5517 non-null   object \n",
      " 15  MultipleLines     6361 non-null   object \n",
      " 16  Days              7043 non-null   int64  \n",
      "dtypes: float64(2), int64(2), object(13)\n",
      "memory usage: 990.4+ KB\n"
     ]
    }
   ],
   "source": [
    "features_row.info()"
   ]
  },
  {
   "cell_type": "code",
   "execution_count": 50,
   "id": "febc1bef",
   "metadata": {},
   "outputs": [],
   "source": [
    "# Во всех случаях пропуски можно заменить на No\n",
    "features_row = features_row.fillna('No')"
   ]
  },
  {
   "cell_type": "markdown",
   "id": "2eb1722e",
   "metadata": {},
   "source": [
    "Важный столбец сохранили, пропуски заполнены. Теперь можно переходить к кодированию категориальных признаков. Прямое кодирование использовано для последующей работы с линейной регрессией."
   ]
  },
  {
   "cell_type": "code",
   "execution_count": 51,
   "id": "93b0fbef",
   "metadata": {},
   "outputs": [],
   "source": [
    "features_to_dummy = ['Type', 'gender', 'SeniorCitizen', 'Partner', 'Dependents', 'InternetService', \n",
    "                                       'OnlineSecurity', 'OnlineBackup', 'DeviceProtection', 'TechSupport',\n",
    "                                      'StreamingTV', 'StreamingMovies', 'MultipleLines']"
   ]
  },
  {
   "cell_type": "code",
   "execution_count": 52,
   "id": "f00fcad7",
   "metadata": {},
   "outputs": [],
   "source": [
    "features = pd.get_dummies(features_row[features_to_dummy],drop_first = True)"
   ]
  },
  {
   "cell_type": "code",
   "execution_count": 53,
   "id": "081aff96",
   "metadata": {
    "scrolled": true
   },
   "outputs": [],
   "source": [
    "features[['MonthlyCharges', 'TotalCharges', 'Days']] = features_row[['MonthlyCharges', 'TotalCharges', 'Days']]"
   ]
  },
  {
   "cell_type": "code",
   "execution_count": 54,
   "id": "ca34da64",
   "metadata": {},
   "outputs": [
    {
     "data": {
      "text/html": [
       "<div>\n",
       "<style scoped>\n",
       "    .dataframe tbody tr th:only-of-type {\n",
       "        vertical-align: middle;\n",
       "    }\n",
       "\n",
       "    .dataframe tbody tr th {\n",
       "        vertical-align: top;\n",
       "    }\n",
       "\n",
       "    .dataframe thead th {\n",
       "        text-align: right;\n",
       "    }\n",
       "</style>\n",
       "<table border=\"1\" class=\"dataframe\">\n",
       "  <thead>\n",
       "    <tr style=\"text-align: right;\">\n",
       "      <th></th>\n",
       "      <th>SeniorCitizen</th>\n",
       "      <th>Type_One year</th>\n",
       "      <th>Type_Two year</th>\n",
       "      <th>gender_Male</th>\n",
       "      <th>Partner_Yes</th>\n",
       "      <th>Dependents_Yes</th>\n",
       "      <th>InternetService_Fiber optic</th>\n",
       "      <th>InternetService_No</th>\n",
       "      <th>OnlineSecurity_Yes</th>\n",
       "      <th>OnlineBackup_Yes</th>\n",
       "      <th>DeviceProtection_Yes</th>\n",
       "      <th>TechSupport_Yes</th>\n",
       "      <th>StreamingTV_Yes</th>\n",
       "      <th>StreamingMovies_Yes</th>\n",
       "      <th>MultipleLines_Yes</th>\n",
       "      <th>MonthlyCharges</th>\n",
       "      <th>TotalCharges</th>\n",
       "      <th>Days</th>\n",
       "    </tr>\n",
       "  </thead>\n",
       "  <tbody>\n",
       "    <tr>\n",
       "      <th>0</th>\n",
       "      <td>0</td>\n",
       "      <td>0</td>\n",
       "      <td>0</td>\n",
       "      <td>0</td>\n",
       "      <td>1</td>\n",
       "      <td>0</td>\n",
       "      <td>0</td>\n",
       "      <td>0</td>\n",
       "      <td>0</td>\n",
       "      <td>1</td>\n",
       "      <td>0</td>\n",
       "      <td>0</td>\n",
       "      <td>0</td>\n",
       "      <td>0</td>\n",
       "      <td>0</td>\n",
       "      <td>29.85</td>\n",
       "      <td>29.85</td>\n",
       "      <td>31</td>\n",
       "    </tr>\n",
       "    <tr>\n",
       "      <th>1</th>\n",
       "      <td>0</td>\n",
       "      <td>1</td>\n",
       "      <td>0</td>\n",
       "      <td>1</td>\n",
       "      <td>0</td>\n",
       "      <td>0</td>\n",
       "      <td>0</td>\n",
       "      <td>0</td>\n",
       "      <td>1</td>\n",
       "      <td>0</td>\n",
       "      <td>1</td>\n",
       "      <td>0</td>\n",
       "      <td>0</td>\n",
       "      <td>0</td>\n",
       "      <td>0</td>\n",
       "      <td>56.95</td>\n",
       "      <td>1889.50</td>\n",
       "      <td>1036</td>\n",
       "    </tr>\n",
       "    <tr>\n",
       "      <th>2</th>\n",
       "      <td>0</td>\n",
       "      <td>0</td>\n",
       "      <td>0</td>\n",
       "      <td>1</td>\n",
       "      <td>0</td>\n",
       "      <td>0</td>\n",
       "      <td>0</td>\n",
       "      <td>0</td>\n",
       "      <td>1</td>\n",
       "      <td>1</td>\n",
       "      <td>0</td>\n",
       "      <td>0</td>\n",
       "      <td>0</td>\n",
       "      <td>0</td>\n",
       "      <td>0</td>\n",
       "      <td>53.85</td>\n",
       "      <td>108.15</td>\n",
       "      <td>123</td>\n",
       "    </tr>\n",
       "    <tr>\n",
       "      <th>3</th>\n",
       "      <td>0</td>\n",
       "      <td>1</td>\n",
       "      <td>0</td>\n",
       "      <td>1</td>\n",
       "      <td>0</td>\n",
       "      <td>0</td>\n",
       "      <td>0</td>\n",
       "      <td>0</td>\n",
       "      <td>1</td>\n",
       "      <td>0</td>\n",
       "      <td>1</td>\n",
       "      <td>1</td>\n",
       "      <td>0</td>\n",
       "      <td>0</td>\n",
       "      <td>0</td>\n",
       "      <td>42.30</td>\n",
       "      <td>1840.75</td>\n",
       "      <td>1371</td>\n",
       "    </tr>\n",
       "    <tr>\n",
       "      <th>4</th>\n",
       "      <td>0</td>\n",
       "      <td>0</td>\n",
       "      <td>0</td>\n",
       "      <td>0</td>\n",
       "      <td>0</td>\n",
       "      <td>0</td>\n",
       "      <td>1</td>\n",
       "      <td>0</td>\n",
       "      <td>0</td>\n",
       "      <td>0</td>\n",
       "      <td>0</td>\n",
       "      <td>0</td>\n",
       "      <td>0</td>\n",
       "      <td>0</td>\n",
       "      <td>0</td>\n",
       "      <td>70.70</td>\n",
       "      <td>151.65</td>\n",
       "      <td>153</td>\n",
       "    </tr>\n",
       "  </tbody>\n",
       "</table>\n",
       "</div>"
      ],
      "text/plain": [
       "   SeniorCitizen  Type_One year  Type_Two year  gender_Male  Partner_Yes  \\\n",
       "0              0              0              0            0            1   \n",
       "1              0              1              0            1            0   \n",
       "2              0              0              0            1            0   \n",
       "3              0              1              0            1            0   \n",
       "4              0              0              0            0            0   \n",
       "\n",
       "   Dependents_Yes  InternetService_Fiber optic  InternetService_No  \\\n",
       "0               0                            0                   0   \n",
       "1               0                            0                   0   \n",
       "2               0                            0                   0   \n",
       "3               0                            0                   0   \n",
       "4               0                            1                   0   \n",
       "\n",
       "   OnlineSecurity_Yes  OnlineBackup_Yes  DeviceProtection_Yes  \\\n",
       "0                   0                 1                     0   \n",
       "1                   1                 0                     1   \n",
       "2                   1                 1                     0   \n",
       "3                   1                 0                     1   \n",
       "4                   0                 0                     0   \n",
       "\n",
       "   TechSupport_Yes  StreamingTV_Yes  StreamingMovies_Yes  MultipleLines_Yes  \\\n",
       "0                0                0                    0                  0   \n",
       "1                0                0                    0                  0   \n",
       "2                0                0                    0                  0   \n",
       "3                1                0                    0                  0   \n",
       "4                0                0                    0                  0   \n",
       "\n",
       "   MonthlyCharges  TotalCharges  Days  \n",
       "0           29.85         29.85    31  \n",
       "1           56.95       1889.50  1036  \n",
       "2           53.85        108.15   123  \n",
       "3           42.30       1840.75  1371  \n",
       "4           70.70        151.65   153  "
      ]
     },
     "execution_count": 54,
     "metadata": {},
     "output_type": "execute_result"
    }
   ],
   "source": [
    "pd.set_option('display.max_columns', None)\n",
    "features.head(5)"
   ]
  },
  {
   "cell_type": "markdown",
   "id": "e269fe70",
   "metadata": {},
   "source": [
    "Масштабируем данные так же для линейной модели."
   ]
  },
  {
   "cell_type": "code",
   "execution_count": 55,
   "id": "ac41185c",
   "metadata": {},
   "outputs": [],
   "source": [
    "scaler = StandardScaler()\n",
    "features = pd.DataFrame(data = scaler.fit_transform(features), columns = features.columns)"
   ]
  },
  {
   "cell_type": "code",
   "execution_count": 56,
   "id": "b2448fe9",
   "metadata": {},
   "outputs": [
    {
     "data": {
      "text/html": [
       "<div>\n",
       "<style scoped>\n",
       "    .dataframe tbody tr th:only-of-type {\n",
       "        vertical-align: middle;\n",
       "    }\n",
       "\n",
       "    .dataframe tbody tr th {\n",
       "        vertical-align: top;\n",
       "    }\n",
       "\n",
       "    .dataframe thead th {\n",
       "        text-align: right;\n",
       "    }\n",
       "</style>\n",
       "<table border=\"1\" class=\"dataframe\">\n",
       "  <thead>\n",
       "    <tr style=\"text-align: right;\">\n",
       "      <th></th>\n",
       "      <th>SeniorCitizen</th>\n",
       "      <th>Type_One year</th>\n",
       "      <th>Type_Two year</th>\n",
       "      <th>gender_Male</th>\n",
       "      <th>Partner_Yes</th>\n",
       "      <th>Dependents_Yes</th>\n",
       "      <th>InternetService_Fiber optic</th>\n",
       "      <th>InternetService_No</th>\n",
       "      <th>OnlineSecurity_Yes</th>\n",
       "      <th>OnlineBackup_Yes</th>\n",
       "      <th>DeviceProtection_Yes</th>\n",
       "      <th>TechSupport_Yes</th>\n",
       "      <th>StreamingTV_Yes</th>\n",
       "      <th>StreamingMovies_Yes</th>\n",
       "      <th>MultipleLines_Yes</th>\n",
       "      <th>MonthlyCharges</th>\n",
       "      <th>TotalCharges</th>\n",
       "      <th>Days</th>\n",
       "    </tr>\n",
       "  </thead>\n",
       "  <tbody>\n",
       "    <tr>\n",
       "      <th>0</th>\n",
       "      <td>-0.439916</td>\n",
       "      <td>-0.514249</td>\n",
       "      <td>-0.562975</td>\n",
       "      <td>-1.009559</td>\n",
       "      <td>1.034530</td>\n",
       "      <td>-0.654012</td>\n",
       "      <td>-0.885660</td>\n",
       "      <td>-0.525927</td>\n",
       "      <td>-0.633933</td>\n",
       "      <td>1.378241</td>\n",
       "      <td>-0.723968</td>\n",
       "      <td>-0.639439</td>\n",
       "      <td>-0.790132</td>\n",
       "      <td>-0.79607</td>\n",
       "      <td>-0.854176</td>\n",
       "      <td>-1.160323</td>\n",
       "      <td>-0.992667</td>\n",
       "      <td>-1.324370</td>\n",
       "    </tr>\n",
       "    <tr>\n",
       "      <th>1</th>\n",
       "      <td>-0.439916</td>\n",
       "      <td>1.944582</td>\n",
       "      <td>-0.562975</td>\n",
       "      <td>0.990532</td>\n",
       "      <td>-0.966622</td>\n",
       "      <td>-0.654012</td>\n",
       "      <td>-0.885660</td>\n",
       "      <td>-0.525927</td>\n",
       "      <td>1.577454</td>\n",
       "      <td>-0.725563</td>\n",
       "      <td>1.381277</td>\n",
       "      <td>-0.639439</td>\n",
       "      <td>-0.790132</td>\n",
       "      <td>-0.79607</td>\n",
       "      <td>-0.854176</td>\n",
       "      <td>-0.259629</td>\n",
       "      <td>-0.172198</td>\n",
       "      <td>0.040110</td>\n",
       "    </tr>\n",
       "    <tr>\n",
       "      <th>2</th>\n",
       "      <td>-0.439916</td>\n",
       "      <td>-0.514249</td>\n",
       "      <td>-0.562975</td>\n",
       "      <td>0.990532</td>\n",
       "      <td>-0.966622</td>\n",
       "      <td>-0.654012</td>\n",
       "      <td>-0.885660</td>\n",
       "      <td>-0.525927</td>\n",
       "      <td>1.577454</td>\n",
       "      <td>1.378241</td>\n",
       "      <td>-0.723968</td>\n",
       "      <td>-0.639439</td>\n",
       "      <td>-0.790132</td>\n",
       "      <td>-0.79607</td>\n",
       "      <td>-0.854176</td>\n",
       "      <td>-0.362660</td>\n",
       "      <td>-0.958122</td>\n",
       "      <td>-1.199462</td>\n",
       "    </tr>\n",
       "    <tr>\n",
       "      <th>3</th>\n",
       "      <td>-0.439916</td>\n",
       "      <td>1.944582</td>\n",
       "      <td>-0.562975</td>\n",
       "      <td>0.990532</td>\n",
       "      <td>-0.966622</td>\n",
       "      <td>-0.654012</td>\n",
       "      <td>-0.885660</td>\n",
       "      <td>-0.525927</td>\n",
       "      <td>1.577454</td>\n",
       "      <td>-0.725563</td>\n",
       "      <td>1.381277</td>\n",
       "      <td>1.563872</td>\n",
       "      <td>-0.790132</td>\n",
       "      <td>-0.79607</td>\n",
       "      <td>-0.854176</td>\n",
       "      <td>-0.746535</td>\n",
       "      <td>-0.193706</td>\n",
       "      <td>0.494937</td>\n",
       "    </tr>\n",
       "    <tr>\n",
       "      <th>4</th>\n",
       "      <td>-0.439916</td>\n",
       "      <td>-0.514249</td>\n",
       "      <td>-0.562975</td>\n",
       "      <td>-1.009559</td>\n",
       "      <td>-0.966622</td>\n",
       "      <td>-0.654012</td>\n",
       "      <td>1.129102</td>\n",
       "      <td>-0.525927</td>\n",
       "      <td>-0.633933</td>\n",
       "      <td>-0.725563</td>\n",
       "      <td>-0.723968</td>\n",
       "      <td>-0.639439</td>\n",
       "      <td>-0.790132</td>\n",
       "      <td>-0.79607</td>\n",
       "      <td>-0.854176</td>\n",
       "      <td>0.197365</td>\n",
       "      <td>-0.938930</td>\n",
       "      <td>-1.158732</td>\n",
       "    </tr>\n",
       "  </tbody>\n",
       "</table>\n",
       "</div>"
      ],
      "text/plain": [
       "   SeniorCitizen  Type_One year  Type_Two year  gender_Male  Partner_Yes  \\\n",
       "0      -0.439916      -0.514249      -0.562975    -1.009559     1.034530   \n",
       "1      -0.439916       1.944582      -0.562975     0.990532    -0.966622   \n",
       "2      -0.439916      -0.514249      -0.562975     0.990532    -0.966622   \n",
       "3      -0.439916       1.944582      -0.562975     0.990532    -0.966622   \n",
       "4      -0.439916      -0.514249      -0.562975    -1.009559    -0.966622   \n",
       "\n",
       "   Dependents_Yes  InternetService_Fiber optic  InternetService_No  \\\n",
       "0       -0.654012                    -0.885660           -0.525927   \n",
       "1       -0.654012                    -0.885660           -0.525927   \n",
       "2       -0.654012                    -0.885660           -0.525927   \n",
       "3       -0.654012                    -0.885660           -0.525927   \n",
       "4       -0.654012                     1.129102           -0.525927   \n",
       "\n",
       "   OnlineSecurity_Yes  OnlineBackup_Yes  DeviceProtection_Yes  \\\n",
       "0           -0.633933          1.378241             -0.723968   \n",
       "1            1.577454         -0.725563              1.381277   \n",
       "2            1.577454          1.378241             -0.723968   \n",
       "3            1.577454         -0.725563              1.381277   \n",
       "4           -0.633933         -0.725563             -0.723968   \n",
       "\n",
       "   TechSupport_Yes  StreamingTV_Yes  StreamingMovies_Yes  MultipleLines_Yes  \\\n",
       "0        -0.639439        -0.790132             -0.79607          -0.854176   \n",
       "1        -0.639439        -0.790132             -0.79607          -0.854176   \n",
       "2        -0.639439        -0.790132             -0.79607          -0.854176   \n",
       "3         1.563872        -0.790132             -0.79607          -0.854176   \n",
       "4        -0.639439        -0.790132             -0.79607          -0.854176   \n",
       "\n",
       "   MonthlyCharges  TotalCharges      Days  \n",
       "0       -1.160323     -0.992667 -1.324370  \n",
       "1       -0.259629     -0.172198  0.040110  \n",
       "2       -0.362660     -0.958122 -1.199462  \n",
       "3       -0.746535     -0.193706  0.494937  \n",
       "4        0.197365     -0.938930 -1.158732  "
      ]
     },
     "execution_count": 56,
     "metadata": {},
     "output_type": "execute_result"
    }
   ],
   "source": [
    "features.head(5)"
   ]
  },
  {
   "cell_type": "markdown",
   "id": "5e533af9",
   "metadata": {},
   "source": [
    "### Деление на выборки"
   ]
  },
  {
   "cell_type": "code",
   "execution_count": 57,
   "id": "1fe27b7d",
   "metadata": {},
   "outputs": [],
   "source": [
    "features_train, features_test, target_train, target_test = train_test_split(features, target, test_size=0.2, stratify=target, \n",
    "                                                                          random_state=12345)"
   ]
  },
  {
   "cell_type": "markdown",
   "id": "180bee74",
   "metadata": {},
   "source": [
    "## Обучение моделей"
   ]
  },
  {
   "cell_type": "markdown",
   "id": "cefee02e",
   "metadata": {},
   "source": [
    "### RandomForest\n",
    "\n",
    "Для подбора гиперпараметров используем GridSearch"
   ]
  },
  {
   "cell_type": "code",
   "execution_count": 58,
   "id": "7c3d0844",
   "metadata": {},
   "outputs": [],
   "source": [
    "m_forest = RandomForestClassifier()"
   ]
  },
  {
   "cell_type": "code",
   "execution_count": 72,
   "id": "099c5d50",
   "metadata": {},
   "outputs": [],
   "source": [
    "params = {'n_estimators': range(95, 250, 5), 'max_depth': range(2,16)}"
   ]
  },
  {
   "cell_type": "code",
   "execution_count": 73,
   "id": "32e90287",
   "metadata": {},
   "outputs": [],
   "source": [
    "grid = GridSearchCV(estimator=m_forest, param_grid=params, scoring='roc_auc')"
   ]
  },
  {
   "cell_type": "code",
   "execution_count": 75,
   "id": "df111611",
   "metadata": {},
   "outputs": [
    {
     "name": "stdout",
     "output_type": "stream",
     "text": [
      "CPU times: total: 13min 56s\n",
      "Wall time: 13min 59s\n"
     ]
    },
    {
     "data": {
      "text/html": [
       "<style>#sk-container-id-1 {color: black;background-color: white;}#sk-container-id-1 pre{padding: 0;}#sk-container-id-1 div.sk-toggleable {background-color: white;}#sk-container-id-1 label.sk-toggleable__label {cursor: pointer;display: block;width: 100%;margin-bottom: 0;padding: 0.3em;box-sizing: border-box;text-align: center;}#sk-container-id-1 label.sk-toggleable__label-arrow:before {content: \"▸\";float: left;margin-right: 0.25em;color: #696969;}#sk-container-id-1 label.sk-toggleable__label-arrow:hover:before {color: black;}#sk-container-id-1 div.sk-estimator:hover label.sk-toggleable__label-arrow:before {color: black;}#sk-container-id-1 div.sk-toggleable__content {max-height: 0;max-width: 0;overflow: hidden;text-align: left;background-color: #f0f8ff;}#sk-container-id-1 div.sk-toggleable__content pre {margin: 0.2em;color: black;border-radius: 0.25em;background-color: #f0f8ff;}#sk-container-id-1 input.sk-toggleable__control:checked~div.sk-toggleable__content {max-height: 200px;max-width: 100%;overflow: auto;}#sk-container-id-1 input.sk-toggleable__control:checked~label.sk-toggleable__label-arrow:before {content: \"▾\";}#sk-container-id-1 div.sk-estimator input.sk-toggleable__control:checked~label.sk-toggleable__label {background-color: #d4ebff;}#sk-container-id-1 div.sk-label input.sk-toggleable__control:checked~label.sk-toggleable__label {background-color: #d4ebff;}#sk-container-id-1 input.sk-hidden--visually {border: 0;clip: rect(1px 1px 1px 1px);clip: rect(1px, 1px, 1px, 1px);height: 1px;margin: -1px;overflow: hidden;padding: 0;position: absolute;width: 1px;}#sk-container-id-1 div.sk-estimator {font-family: monospace;background-color: #f0f8ff;border: 1px dotted black;border-radius: 0.25em;box-sizing: border-box;margin-bottom: 0.5em;}#sk-container-id-1 div.sk-estimator:hover {background-color: #d4ebff;}#sk-container-id-1 div.sk-parallel-item::after {content: \"\";width: 100%;border-bottom: 1px solid gray;flex-grow: 1;}#sk-container-id-1 div.sk-label:hover label.sk-toggleable__label {background-color: #d4ebff;}#sk-container-id-1 div.sk-serial::before {content: \"\";position: absolute;border-left: 1px solid gray;box-sizing: border-box;top: 0;bottom: 0;left: 50%;z-index: 0;}#sk-container-id-1 div.sk-serial {display: flex;flex-direction: column;align-items: center;background-color: white;padding-right: 0.2em;padding-left: 0.2em;position: relative;}#sk-container-id-1 div.sk-item {position: relative;z-index: 1;}#sk-container-id-1 div.sk-parallel {display: flex;align-items: stretch;justify-content: center;background-color: white;position: relative;}#sk-container-id-1 div.sk-item::before, #sk-container-id-1 div.sk-parallel-item::before {content: \"\";position: absolute;border-left: 1px solid gray;box-sizing: border-box;top: 0;bottom: 0;left: 50%;z-index: -1;}#sk-container-id-1 div.sk-parallel-item {display: flex;flex-direction: column;z-index: 1;position: relative;background-color: white;}#sk-container-id-1 div.sk-parallel-item:first-child::after {align-self: flex-end;width: 50%;}#sk-container-id-1 div.sk-parallel-item:last-child::after {align-self: flex-start;width: 50%;}#sk-container-id-1 div.sk-parallel-item:only-child::after {width: 0;}#sk-container-id-1 div.sk-dashed-wrapped {border: 1px dashed gray;margin: 0 0.4em 0.5em 0.4em;box-sizing: border-box;padding-bottom: 0.4em;background-color: white;}#sk-container-id-1 div.sk-label label {font-family: monospace;font-weight: bold;display: inline-block;line-height: 1.2em;}#sk-container-id-1 div.sk-label-container {text-align: center;}#sk-container-id-1 div.sk-container {/* jupyter's `normalize.less` sets `[hidden] { display: none; }` but bootstrap.min.css set `[hidden] { display: none !important; }` so we also need the `!important` here to be able to override the default hidden behavior on the sphinx rendered scikit-learn.org. See: https://github.com/scikit-learn/scikit-learn/issues/21755 */display: inline-block !important;position: relative;}#sk-container-id-1 div.sk-text-repr-fallback {display: none;}</style><div id=\"sk-container-id-1\" class=\"sk-top-container\"><div class=\"sk-text-repr-fallback\"><pre>GridSearchCV(estimator=RandomForestClassifier(),\n",
       "             param_grid={&#x27;max_depth&#x27;: range(2, 16),\n",
       "                         &#x27;n_estimators&#x27;: range(95, 250, 5)},\n",
       "             scoring=&#x27;roc_auc&#x27;)</pre><b>In a Jupyter environment, please rerun this cell to show the HTML representation or trust the notebook. <br />On GitHub, the HTML representation is unable to render, please try loading this page with nbviewer.org.</b></div><div class=\"sk-container\" hidden><div class=\"sk-item sk-dashed-wrapped\"><div class=\"sk-label-container\"><div class=\"sk-label sk-toggleable\"><input class=\"sk-toggleable__control sk-hidden--visually\" id=\"sk-estimator-id-1\" type=\"checkbox\" ><label for=\"sk-estimator-id-1\" class=\"sk-toggleable__label sk-toggleable__label-arrow\">GridSearchCV</label><div class=\"sk-toggleable__content\"><pre>GridSearchCV(estimator=RandomForestClassifier(),\n",
       "             param_grid={&#x27;max_depth&#x27;: range(2, 16),\n",
       "                         &#x27;n_estimators&#x27;: range(95, 250, 5)},\n",
       "             scoring=&#x27;roc_auc&#x27;)</pre></div></div></div><div class=\"sk-parallel\"><div class=\"sk-parallel-item\"><div class=\"sk-item\"><div class=\"sk-label-container\"><div class=\"sk-label sk-toggleable\"><input class=\"sk-toggleable__control sk-hidden--visually\" id=\"sk-estimator-id-2\" type=\"checkbox\" ><label for=\"sk-estimator-id-2\" class=\"sk-toggleable__label sk-toggleable__label-arrow\">estimator: RandomForestClassifier</label><div class=\"sk-toggleable__content\"><pre>RandomForestClassifier()</pre></div></div></div><div class=\"sk-serial\"><div class=\"sk-item\"><div class=\"sk-estimator sk-toggleable\"><input class=\"sk-toggleable__control sk-hidden--visually\" id=\"sk-estimator-id-3\" type=\"checkbox\" ><label for=\"sk-estimator-id-3\" class=\"sk-toggleable__label sk-toggleable__label-arrow\">RandomForestClassifier</label><div class=\"sk-toggleable__content\"><pre>RandomForestClassifier()</pre></div></div></div></div></div></div></div></div></div></div>"
      ],
      "text/plain": [
       "GridSearchCV(estimator=RandomForestClassifier(),\n",
       "             param_grid={'max_depth': range(2, 16),\n",
       "                         'n_estimators': range(95, 250, 5)},\n",
       "             scoring='roc_auc')"
      ]
     },
     "execution_count": 75,
     "metadata": {},
     "output_type": "execute_result"
    }
   ],
   "source": [
    "%%time\n",
    "grid.fit(features_train, target_train)"
   ]
  },
  {
   "cell_type": "code",
   "execution_count": 76,
   "id": "f321dc77",
   "metadata": {},
   "outputs": [
    {
     "data": {
      "text/plain": [
       "{'max_depth': 12, 'n_estimators': 175}"
      ]
     },
     "execution_count": 76,
     "metadata": {},
     "output_type": "execute_result"
    }
   ],
   "source": [
    "grid.best_params_"
   ]
  },
  {
   "cell_type": "code",
   "execution_count": 59,
   "id": "f1937a28",
   "metadata": {},
   "outputs": [],
   "source": [
    "m_forest = RandomForestClassifier(n_estimators=175, max_depth=12, criterion='gini')"
   ]
  },
  {
   "cell_type": "code",
   "execution_count": 60,
   "id": "d6230d25",
   "metadata": {},
   "outputs": [
    {
     "data": {
      "text/plain": [
       "RandomForestClassifier(max_depth=12, n_estimators=175)"
      ]
     },
     "execution_count": 60,
     "metadata": {},
     "output_type": "execute_result"
    }
   ],
   "source": [
    "m_forest.fit(features_train, target_train)"
   ]
  },
  {
   "cell_type": "code",
   "execution_count": 61,
   "id": "7c0dbc50",
   "metadata": {},
   "outputs": [],
   "source": [
    "roc_auc_forest = cross_val_score(m_forest, features_train, target_train, scoring='roc_auc')\n",
    "roc_auc_forest = sum(roc_auc_forest) / len(roc_auc_forest)"
   ]
  },
  {
   "cell_type": "code",
   "execution_count": 62,
   "id": "14132292",
   "metadata": {},
   "outputs": [
    {
     "data": {
      "text/plain": [
       "0.8856213626547561"
      ]
     },
     "execution_count": 62,
     "metadata": {},
     "output_type": "execute_result"
    }
   ],
   "source": [
    "roc_auc_forest"
   ]
  },
  {
   "cell_type": "code",
   "execution_count": 63,
   "id": "82d31eac",
   "metadata": {},
   "outputs": [],
   "source": [
    "acc_forest = cross_val_score(m_forest, features_train, target_train, scoring='accuracy')\n",
    "acc_forest = sum(acc_forest) / len(acc_forest)"
   ]
  },
  {
   "cell_type": "code",
   "execution_count": 64,
   "id": "9e1cb094",
   "metadata": {},
   "outputs": [
    {
     "data": {
      "text/plain": [
       "0.8411449312136625"
      ]
     },
     "execution_count": 64,
     "metadata": {},
     "output_type": "execute_result"
    }
   ],
   "source": [
    "acc_forest"
   ]
  },
  {
   "cell_type": "markdown",
   "id": "69da98ec",
   "metadata": {},
   "source": [
    "Дерево решений показало себя неплохо, но но мне кажется, можно лучше."
   ]
  },
  {
   "cell_type": "markdown",
   "id": "3190a916",
   "metadata": {},
   "source": [
    "### Logistic Regression"
   ]
  },
  {
   "cell_type": "code",
   "execution_count": 65,
   "id": "e700ac10",
   "metadata": {},
   "outputs": [],
   "source": [
    "m_reg = LogisticRegression()"
   ]
  },
  {
   "cell_type": "code",
   "execution_count": 66,
   "id": "76c490d5",
   "metadata": {},
   "outputs": [
    {
     "data": {
      "text/plain": [
       "LogisticRegression()"
      ]
     },
     "execution_count": 66,
     "metadata": {},
     "output_type": "execute_result"
    }
   ],
   "source": [
    "m_reg.fit(features_train, target_train)"
   ]
  },
  {
   "cell_type": "code",
   "execution_count": 67,
   "id": "05a49297",
   "metadata": {},
   "outputs": [
    {
     "data": {
      "text/plain": [
       "0.8376082803979431"
      ]
     },
     "execution_count": 67,
     "metadata": {},
     "output_type": "execute_result"
    }
   ],
   "source": [
    "roc_auc_reg = cross_val_score(m_reg, features_train, target_train, scoring='roc_auc')\n",
    "roc_auc_reg = sum(roc_auc_reg) / len(roc_auc_reg)\n",
    "roc_auc_reg"
   ]
  },
  {
   "cell_type": "code",
   "execution_count": 68,
   "id": "80be2df4",
   "metadata": {},
   "outputs": [
    {
     "data": {
      "text/plain": [
       "0.7955301882896955"
      ]
     },
     "execution_count": 68,
     "metadata": {},
     "output_type": "execute_result"
    }
   ],
   "source": [
    "acc_reg = cross_val_score(m_reg, features_train, target_train, scoring='accuracy')\n",
    "acc_reg = sum(acc_reg) / len(acc_reg)\n",
    "acc_reg"
   ]
  },
  {
   "cell_type": "markdown",
   "id": "20247968",
   "metadata": {},
   "source": [
    "Линейная регрессия справилась совсем плохо. Посмотрим на градиентный бустинг."
   ]
  },
  {
   "cell_type": "markdown",
   "id": "cbbba4c4",
   "metadata": {},
   "source": [
    "### Градиентный бустинг"
   ]
  },
  {
   "cell_type": "code",
   "execution_count": 69,
   "id": "f46af8aa",
   "metadata": {},
   "outputs": [],
   "source": [
    "m_lgb = LGBMClassifier()"
   ]
  },
  {
   "cell_type": "code",
   "execution_count": 70,
   "id": "ac85b8ed",
   "metadata": {},
   "outputs": [
    {
     "data": {
      "text/plain": [
       "LGBMClassifier()"
      ]
     },
     "execution_count": 70,
     "metadata": {},
     "output_type": "execute_result"
    }
   ],
   "source": [
    "m_lgb.fit(features_train, target_train)"
   ]
  },
  {
   "cell_type": "code",
   "execution_count": 71,
   "id": "5d43a3ca",
   "metadata": {},
   "outputs": [
    {
     "data": {
      "text/plain": [
       "0.9281177211457358"
      ]
     },
     "execution_count": 71,
     "metadata": {},
     "output_type": "execute_result"
    }
   ],
   "source": [
    "roc_auc_lgb = cross_val_score(m_lgb, features_train, target_train, scoring='roc_auc')\n",
    "roc_auc_lgb = sum(roc_auc_lgb) / len(roc_auc_lgb)\n",
    "roc_auc_lgb"
   ]
  },
  {
   "cell_type": "code",
   "execution_count": 72,
   "id": "37ea8fba",
   "metadata": {},
   "outputs": [
    {
     "data": {
      "text/plain": [
       "0.882854085336351"
      ]
     },
     "execution_count": 72,
     "metadata": {},
     "output_type": "execute_result"
    }
   ],
   "source": [
    "acc_lgb = cross_val_score(m_lgb, features_train, target_train, scoring='accuracy')\n",
    "acc_lgb = sum(acc_lgb) / len(acc_lgb)\n",
    "acc_lgb"
   ]
  },
  {
   "cell_type": "code",
   "execution_count": 73,
   "id": "e4e60f87",
   "metadata": {},
   "outputs": [],
   "source": [
    "params = {'n_estimators': range(160, 350, 5), 'max_depth': range(2,16), 'num_leaves': [40, 200, 5]}"
   ]
  },
  {
   "cell_type": "code",
   "execution_count": 74,
   "id": "a36abd25",
   "metadata": {},
   "outputs": [
    {
     "name": "stdout",
     "output_type": "stream",
     "text": [
      "Wall time: 28min 8s\n"
     ]
    },
    {
     "data": {
      "text/plain": [
       "GridSearchCV(estimator=LGBMClassifier(),\n",
       "             param_grid={'max_depth': range(2, 16),\n",
       "                         'n_estimators': range(160, 350, 5),\n",
       "                         'num_leaves': [40, 200, 5]},\n",
       "             scoring='roc_auc')"
      ]
     },
     "execution_count": 74,
     "metadata": {},
     "output_type": "execute_result"
    }
   ],
   "source": [
    "%%time\n",
    "grid = GridSearchCV(estimator=m_lgb, param_grid=params, scoring='roc_auc')\n",
    "grid.fit(features_train, target_train)"
   ]
  },
  {
   "cell_type": "code",
   "execution_count": 75,
   "id": "420012d7",
   "metadata": {},
   "outputs": [
    {
     "data": {
      "text/plain": [
       "{'max_depth': 5, 'n_estimators': 340, 'num_leaves': 40}"
      ]
     },
     "execution_count": 75,
     "metadata": {},
     "output_type": "execute_result"
    }
   ],
   "source": [
    "grid.best_params_"
   ]
  },
  {
   "cell_type": "code",
   "execution_count": 76,
   "id": "28a279eb",
   "metadata": {},
   "outputs": [],
   "source": [
    "m_lgb = LGBMClassifier(max_depth = 5, n_estimators = 340, num_leaves = 40)"
   ]
  },
  {
   "cell_type": "code",
   "execution_count": 77,
   "id": "458446db",
   "metadata": {},
   "outputs": [
    {
     "data": {
      "text/plain": [
       "LGBMClassifier(max_depth=5, n_estimators=340, num_leaves=40)"
      ]
     },
     "execution_count": 77,
     "metadata": {},
     "output_type": "execute_result"
    }
   ],
   "source": [
    "m_lgb.fit(features_train, target_train)"
   ]
  },
  {
   "cell_type": "code",
   "execution_count": 78,
   "id": "c7bd5680",
   "metadata": {},
   "outputs": [
    {
     "data": {
      "text/plain": [
       "0.9351889961594795"
      ]
     },
     "execution_count": 78,
     "metadata": {},
     "output_type": "execute_result"
    }
   ],
   "source": [
    "roc_auc_lgb = cross_val_score(m_lgb, features_train, target_train, scoring='roc_auc')\n",
    "roc_auc_lgb = sum(roc_auc_lgb) / len(roc_auc_lgb)\n",
    "roc_auc_lgb"
   ]
  },
  {
   "cell_type": "code",
   "execution_count": 79,
   "id": "8c6b183f",
   "metadata": {},
   "outputs": [
    {
     "data": {
      "text/plain": [
       "0.8897759026384513"
      ]
     },
     "execution_count": 79,
     "metadata": {},
     "output_type": "execute_result"
    }
   ],
   "source": [
    "acc_lgb = cross_val_score(m_lgb, features_train, target_train)\n",
    "acc_lgb = sum(acc_lgb) / len(acc_lgb)\n",
    "acc_lgb"
   ]
  },
  {
   "cell_type": "markdown",
   "id": "b555efe1",
   "metadata": {},
   "source": [
    "Гридсёрч помог улучшить модель градиентного бустинга, но в принципе модель и из коробки работает прекрасно.\n",
    "\n",
    "На финальный тест отправляется модель LGB, её показатели выше остальных."
   ]
  },
  {
   "cell_type": "markdown",
   "id": "5817d5a8",
   "metadata": {},
   "source": [
    "## Тест лучших моделей"
   ]
  },
  {
   "cell_type": "code",
   "execution_count": 80,
   "id": "c5a31f33",
   "metadata": {},
   "outputs": [
    {
     "data": {
      "text/plain": [
       "0.8989540845193019"
      ]
     },
     "execution_count": 80,
     "metadata": {},
     "output_type": "execute_result"
    }
   ],
   "source": [
    "roc_auc_lgb_test = cross_val_score(m_lgb, features_test, target_test, scoring='roc_auc')\n",
    "roc_auc_lgb_test = sum(roc_auc_lgb_test) / len(roc_auc_lgb_test)\n",
    "roc_auc_lgb_test"
   ]
  },
  {
   "cell_type": "code",
   "execution_count": 81,
   "id": "d9eccc58",
   "metadata": {},
   "outputs": [
    {
     "data": {
      "text/plain": [
       "0.8672749299613841"
      ]
     },
     "execution_count": 81,
     "metadata": {},
     "output_type": "execute_result"
    }
   ],
   "source": [
    "acc_lgb_test = cross_val_score(m_lgb, features_test, target_test)\n",
    "acc_lgb_test = sum(acc_lgb_test) / len(acc_lgb_test)\n",
    "acc_lgb_test"
   ]
  },
  {
   "cell_type": "markdown",
   "id": "5ab7cecb",
   "metadata": {},
   "source": [
    "Великолепный результат!\n",
    "\n",
    "**Модель LGB отправляется в продакшн!**"
   ]
  }
 ],
 "metadata": {
  "ExecuteTimeLog": [
   {
    "duration": 2432,
    "start_time": "2022-07-16T04:48:31.479Z"
   },
   {
    "duration": 5,
    "start_time": "2022-07-16T04:48:33.914Z"
   },
   {
    "duration": 177,
    "start_time": "2022-07-16T04:48:33.921Z"
   },
   {
    "duration": 0,
    "start_time": "2022-07-16T04:48:34.101Z"
   },
   {
    "duration": 0,
    "start_time": "2022-07-16T04:48:34.109Z"
   },
   {
    "duration": 0,
    "start_time": "2022-07-16T04:48:34.110Z"
   },
   {
    "duration": 0,
    "start_time": "2022-07-16T04:48:34.111Z"
   },
   {
    "duration": 0,
    "start_time": "2022-07-16T04:48:34.112Z"
   },
   {
    "duration": 0,
    "start_time": "2022-07-16T04:48:34.112Z"
   },
   {
    "duration": 0,
    "start_time": "2022-07-16T04:48:34.113Z"
   },
   {
    "duration": 47,
    "start_time": "2022-07-16T04:49:25.326Z"
   },
   {
    "duration": 59,
    "start_time": "2022-07-16T04:49:32.798Z"
   },
   {
    "duration": 56,
    "start_time": "2022-07-16T04:49:51.392Z"
   },
   {
    "duration": 53,
    "start_time": "2022-07-16T04:50:05.759Z"
   },
   {
    "duration": 35,
    "start_time": "2022-07-16T04:50:06.206Z"
   },
   {
    "duration": 21,
    "start_time": "2022-07-16T04:50:06.654Z"
   },
   {
    "duration": 29,
    "start_time": "2022-07-16T04:50:07.102Z"
   },
   {
    "duration": 55,
    "start_time": "2022-07-16T04:50:07.398Z"
   },
   {
    "duration": 21,
    "start_time": "2022-07-16T04:50:07.825Z"
   },
   {
    "duration": 19,
    "start_time": "2022-07-16T04:50:08.038Z"
   },
   {
    "duration": 14,
    "start_time": "2022-07-16T04:50:08.238Z"
   },
   {
    "duration": 3,
    "start_time": "2022-07-16T04:50:19.038Z"
   },
   {
    "duration": 98,
    "start_time": "2022-07-16T04:50:19.502Z"
   },
   {
    "duration": 11,
    "start_time": "2022-07-16T04:50:30.534Z"
   },
   {
    "duration": 14,
    "start_time": "2022-07-16T04:50:53.121Z"
   },
   {
    "duration": 5,
    "start_time": "2022-07-16T04:56:52.098Z"
   },
   {
    "duration": 7,
    "start_time": "2022-07-16T04:56:52.335Z"
   },
   {
    "duration": 122,
    "start_time": "2022-07-16T04:56:53.036Z"
   },
   {
    "duration": 6,
    "start_time": "2022-07-16T04:56:53.585Z"
   },
   {
    "duration": 4,
    "start_time": "2022-07-16T04:56:54.458Z"
   },
   {
    "duration": 5,
    "start_time": "2022-07-16T04:57:27.642Z"
   },
   {
    "duration": 4,
    "start_time": "2022-07-16T04:57:27.938Z"
   },
   {
    "duration": 6,
    "start_time": "2022-07-16T04:57:28.228Z"
   },
   {
    "duration": 6,
    "start_time": "2022-07-16T04:57:28.377Z"
   },
   {
    "duration": 8,
    "start_time": "2022-07-16T04:57:28.621Z"
   },
   {
    "duration": 12,
    "start_time": "2022-07-16T04:57:28.809Z"
   },
   {
    "duration": 8,
    "start_time": "2022-07-16T04:57:28.969Z"
   },
   {
    "duration": 10,
    "start_time": "2022-07-16T04:57:29.969Z"
   },
   {
    "duration": 11,
    "start_time": "2022-07-16T04:57:30.376Z"
   },
   {
    "duration": 6,
    "start_time": "2022-07-16T04:59:19.800Z"
   },
   {
    "duration": 10,
    "start_time": "2022-07-16T05:01:14.835Z"
   },
   {
    "duration": 6,
    "start_time": "2022-07-16T05:01:15.151Z"
   },
   {
    "duration": 7,
    "start_time": "2022-07-16T05:01:15.303Z"
   },
   {
    "duration": 7,
    "start_time": "2022-07-16T05:01:16.040Z"
   },
   {
    "duration": 6,
    "start_time": "2022-07-16T05:01:16.367Z"
   },
   {
    "duration": 14,
    "start_time": "2022-07-16T05:01:34.736Z"
   },
   {
    "duration": 6,
    "start_time": "2022-07-16T05:01:35.047Z"
   },
   {
    "duration": 18,
    "start_time": "2022-07-16T05:01:35.711Z"
   },
   {
    "duration": 8,
    "start_time": "2022-07-16T05:01:35.910Z"
   },
   {
    "duration": 14,
    "start_time": "2022-07-16T05:01:36.110Z"
   },
   {
    "duration": 9,
    "start_time": "2022-07-16T05:01:36.624Z"
   },
   {
    "duration": 20,
    "start_time": "2022-07-16T05:01:37.409Z"
   },
   {
    "duration": 14,
    "start_time": "2022-07-16T05:01:37.924Z"
   },
   {
    "duration": 8,
    "start_time": "2022-07-16T05:02:20.439Z"
   },
   {
    "duration": 7,
    "start_time": "2022-07-16T05:02:21.036Z"
   },
   {
    "duration": 12,
    "start_time": "2022-07-16T05:02:27.711Z"
   },
   {
    "duration": 9536,
    "start_time": "2022-07-16T05:02:27.992Z"
   },
   {
    "duration": 7,
    "start_time": "2022-07-16T05:02:37.531Z"
   },
   {
    "duration": 429,
    "start_time": "2022-07-16T05:05:18.535Z"
   },
   {
    "duration": 350,
    "start_time": "2022-07-16T05:05:22.343Z"
   },
   {
    "duration": 351,
    "start_time": "2022-07-16T05:05:29.463Z"
   },
   {
    "duration": 590,
    "start_time": "2022-07-16T05:05:38.784Z"
   },
   {
    "duration": 6,
    "start_time": "2022-07-16T05:05:54.782Z"
   },
   {
    "duration": 6,
    "start_time": "2022-07-16T05:06:01.728Z"
   },
   {
    "duration": 5,
    "start_time": "2022-07-16T05:06:11.926Z"
   },
   {
    "duration": 3,
    "start_time": "2022-07-16T05:06:12.174Z"
   },
   {
    "duration": 48,
    "start_time": "2022-07-16T05:06:12.625Z"
   },
   {
    "duration": 45,
    "start_time": "2022-07-16T05:06:12.775Z"
   },
   {
    "duration": 25,
    "start_time": "2022-07-16T05:06:12.926Z"
   },
   {
    "duration": 17,
    "start_time": "2022-07-16T05:06:13.067Z"
   },
   {
    "duration": 36,
    "start_time": "2022-07-16T05:06:13.210Z"
   },
   {
    "duration": 48,
    "start_time": "2022-07-16T05:06:13.368Z"
   },
   {
    "duration": 24,
    "start_time": "2022-07-16T05:06:13.494Z"
   },
   {
    "duration": 15,
    "start_time": "2022-07-16T05:06:13.651Z"
   },
   {
    "duration": 3,
    "start_time": "2022-07-16T05:06:14.092Z"
   },
   {
    "duration": 76,
    "start_time": "2022-07-16T05:06:14.273Z"
   },
   {
    "duration": 4,
    "start_time": "2022-07-16T05:06:14.429Z"
   },
   {
    "duration": 36,
    "start_time": "2022-07-16T05:06:14.877Z"
   },
   {
    "duration": 5,
    "start_time": "2022-07-16T05:06:15.762Z"
   },
   {
    "duration": 7,
    "start_time": "2022-07-16T05:06:15.929Z"
   },
   {
    "duration": 132,
    "start_time": "2022-07-16T05:06:16.085Z"
   },
   {
    "duration": 8,
    "start_time": "2022-07-16T05:06:16.326Z"
   },
   {
    "duration": 7,
    "start_time": "2022-07-16T05:06:16.624Z"
   },
   {
    "duration": 6,
    "start_time": "2022-07-16T05:06:17.085Z"
   },
   {
    "duration": 5,
    "start_time": "2022-07-16T05:06:17.261Z"
   },
   {
    "duration": 20,
    "start_time": "2022-07-16T05:06:17.391Z"
   },
   {
    "duration": 8,
    "start_time": "2022-07-16T05:06:17.550Z"
   },
   {
    "duration": 27,
    "start_time": "2022-07-16T05:06:17.685Z"
   },
   {
    "duration": 9,
    "start_time": "2022-07-16T05:06:17.858Z"
   },
   {
    "duration": 18,
    "start_time": "2022-07-16T05:06:18.012Z"
   },
   {
    "duration": 26,
    "start_time": "2022-07-16T05:06:18.485Z"
   },
   {
    "duration": 12,
    "start_time": "2022-07-16T05:06:18.649Z"
   },
   {
    "duration": 30,
    "start_time": "2022-07-16T05:06:19.284Z"
   },
   {
    "duration": 6,
    "start_time": "2022-07-16T05:06:19.589Z"
   },
   {
    "duration": 6,
    "start_time": "2022-07-16T05:06:19.758Z"
   },
   {
    "duration": 6,
    "start_time": "2022-07-16T05:06:19.927Z"
   },
   {
    "duration": 8,
    "start_time": "2022-07-16T05:06:20.077Z"
   },
   {
    "duration": 12,
    "start_time": "2022-07-16T05:06:20.774Z"
   },
   {
    "duration": 12,
    "start_time": "2022-07-16T05:06:20.924Z"
   },
   {
    "duration": 14,
    "start_time": "2022-07-16T05:06:21.101Z"
   },
   {
    "duration": 6,
    "start_time": "2022-07-16T05:06:21.269Z"
   },
   {
    "duration": 7,
    "start_time": "2022-07-16T05:06:21.466Z"
   },
   {
    "duration": 8,
    "start_time": "2022-07-16T05:06:21.633Z"
   },
   {
    "duration": 6,
    "start_time": "2022-07-16T05:06:21.893Z"
   },
   {
    "duration": 7,
    "start_time": "2022-07-16T05:06:22.084Z"
   },
   {
    "duration": 9,
    "start_time": "2022-07-16T05:06:23.029Z"
   },
   {
    "duration": 7,
    "start_time": "2022-07-16T05:06:23.180Z"
   },
   {
    "duration": 6,
    "start_time": "2022-07-16T05:06:24.158Z"
   },
   {
    "duration": 14,
    "start_time": "2022-07-16T05:06:28.399Z"
   },
   {
    "duration": 7,
    "start_time": "2022-07-16T05:06:32.470Z"
   },
   {
    "duration": 5,
    "start_time": "2022-07-16T05:07:30.333Z"
   },
   {
    "duration": 10,
    "start_time": "2022-07-16T05:07:34.399Z"
   },
   {
    "duration": 5,
    "start_time": "2022-07-16T05:07:42.566Z"
   },
   {
    "duration": 48,
    "start_time": "2022-07-16T05:07:45.462Z"
   },
   {
    "duration": 47,
    "start_time": "2022-07-16T05:07:45.892Z"
   },
   {
    "duration": 7,
    "start_time": "2022-07-16T05:20:01.354Z"
   },
   {
    "duration": 9,
    "start_time": "2022-07-16T05:20:03.145Z"
   },
   {
    "duration": 6,
    "start_time": "2022-07-16T05:21:26.232Z"
   },
   {
    "duration": 18,
    "start_time": "2022-07-16T05:21:26.747Z"
   },
   {
    "duration": 46,
    "start_time": "2022-07-16T05:23:01.883Z"
   },
   {
    "duration": 48,
    "start_time": "2022-07-16T05:23:02.262Z"
   },
   {
    "duration": 3,
    "start_time": "2022-07-16T05:23:09.669Z"
   },
   {
    "duration": 3,
    "start_time": "2022-07-16T05:23:09.927Z"
   },
   {
    "duration": 49,
    "start_time": "2022-07-16T05:23:10.326Z"
   },
   {
    "duration": 23,
    "start_time": "2022-07-16T05:23:10.469Z"
   },
   {
    "duration": 22,
    "start_time": "2022-07-16T05:23:10.626Z"
   },
   {
    "duration": 18,
    "start_time": "2022-07-16T05:23:10.746Z"
   },
   {
    "duration": 27,
    "start_time": "2022-07-16T05:23:10.885Z"
   },
   {
    "duration": 27,
    "start_time": "2022-07-16T05:23:11.033Z"
   },
   {
    "duration": 19,
    "start_time": "2022-07-16T05:23:11.180Z"
   },
   {
    "duration": 16,
    "start_time": "2022-07-16T05:23:11.329Z"
   },
   {
    "duration": 3,
    "start_time": "2022-07-16T05:23:11.765Z"
   },
   {
    "duration": 129,
    "start_time": "2022-07-16T05:23:11.909Z"
   },
   {
    "duration": 4,
    "start_time": "2022-07-16T05:23:12.060Z"
   },
   {
    "duration": 15,
    "start_time": "2022-07-16T05:23:12.529Z"
   },
   {
    "duration": 5,
    "start_time": "2022-07-16T05:23:12.964Z"
   },
   {
    "duration": 8,
    "start_time": "2022-07-16T05:23:13.129Z"
   },
   {
    "duration": 89,
    "start_time": "2022-07-16T05:23:13.268Z"
   },
   {
    "duration": 9,
    "start_time": "2022-07-16T05:23:13.432Z"
   },
   {
    "duration": 6,
    "start_time": "2022-07-16T05:23:13.581Z"
   },
   {
    "duration": 8,
    "start_time": "2022-07-16T05:23:14.046Z"
   },
   {
    "duration": 5,
    "start_time": "2022-07-16T05:23:14.189Z"
   },
   {
    "duration": 7,
    "start_time": "2022-07-16T05:23:14.351Z"
   },
   {
    "duration": 7,
    "start_time": "2022-07-16T05:23:14.509Z"
   },
   {
    "duration": 6,
    "start_time": "2022-07-16T05:23:14.656Z"
   },
   {
    "duration": 12,
    "start_time": "2022-07-16T05:23:14.812Z"
   },
   {
    "duration": 10,
    "start_time": "2022-07-16T05:23:14.966Z"
   },
   {
    "duration": 12,
    "start_time": "2022-07-16T05:23:15.424Z"
   },
   {
    "duration": 31,
    "start_time": "2022-07-16T05:23:15.581Z"
   },
   {
    "duration": 16,
    "start_time": "2022-07-16T05:23:16.204Z"
   },
   {
    "duration": 8,
    "start_time": "2022-07-16T05:23:16.509Z"
   },
   {
    "duration": 6,
    "start_time": "2022-07-16T05:23:16.645Z"
   },
   {
    "duration": 9,
    "start_time": "2022-07-16T05:23:16.825Z"
   },
   {
    "duration": 6,
    "start_time": "2022-07-16T05:23:16.972Z"
   },
   {
    "duration": 11,
    "start_time": "2022-07-16T05:23:17.628Z"
   },
   {
    "duration": 6,
    "start_time": "2022-07-16T05:23:17.788Z"
   },
   {
    "duration": 5,
    "start_time": "2022-07-16T05:23:17.949Z"
   },
   {
    "duration": 8,
    "start_time": "2022-07-16T05:23:18.093Z"
   },
   {
    "duration": 6,
    "start_time": "2022-07-16T05:23:18.253Z"
   },
   {
    "duration": 8,
    "start_time": "2022-07-16T05:23:18.433Z"
   },
   {
    "duration": 8,
    "start_time": "2022-07-16T05:23:18.574Z"
   },
   {
    "duration": 8,
    "start_time": "2022-07-16T05:23:18.740Z"
   },
   {
    "duration": 15,
    "start_time": "2022-07-16T05:23:19.501Z"
   },
   {
    "duration": 8,
    "start_time": "2022-07-16T05:23:19.929Z"
   },
   {
    "duration": 6,
    "start_time": "2022-07-16T05:23:20.613Z"
   },
   {
    "duration": 6215,
    "start_time": "2022-07-16T05:23:20.840Z"
   },
   {
    "duration": 57,
    "start_time": "2022-07-16T05:23:27.057Z"
   },
   {
    "duration": 40,
    "start_time": "2022-07-16T05:23:27.116Z"
   },
   {
    "duration": 77,
    "start_time": "2022-07-16T05:23:27.159Z"
   },
   {
    "duration": 36,
    "start_time": "2022-07-16T05:23:32.827Z"
   },
   {
    "duration": 6,
    "start_time": "2022-07-16T05:23:36.453Z"
   },
   {
    "duration": 9,
    "start_time": "2022-07-16T05:23:37.293Z"
   },
   {
    "duration": 7,
    "start_time": "2022-07-16T05:23:38.348Z"
   },
   {
    "duration": 29,
    "start_time": "2022-07-16T05:23:39.100Z"
   },
   {
    "duration": 31,
    "start_time": "2022-07-16T05:23:46.484Z"
   },
   {
    "duration": 9,
    "start_time": "2022-07-16T05:23:53.476Z"
   },
   {
    "duration": 19,
    "start_time": "2022-07-16T05:23:54.500Z"
   },
   {
    "duration": 76,
    "start_time": "2022-07-16T05:23:54.869Z"
   },
   {
    "duration": 48,
    "start_time": "2022-07-16T05:23:55.268Z"
   },
   {
    "duration": 11,
    "start_time": "2022-07-16T05:23:57.404Z"
   },
   {
    "duration": 81,
    "start_time": "2022-07-16T05:26:47.532Z"
   },
   {
    "duration": 44,
    "start_time": "2022-07-16T05:26:48.898Z"
   },
   {
    "duration": 156,
    "start_time": "2022-07-16T05:27:11.457Z"
   },
   {
    "duration": 7,
    "start_time": "2022-07-16T05:28:11.800Z"
   },
   {
    "duration": 1750,
    "start_time": "2022-07-16T19:54:33.780Z"
   },
   {
    "duration": 2,
    "start_time": "2022-07-16T19:54:35.533Z"
   },
   {
    "duration": 140,
    "start_time": "2022-07-16T19:54:36.662Z"
   },
   {
    "duration": 28,
    "start_time": "2022-07-16T19:54:37.230Z"
   },
   {
    "duration": 73,
    "start_time": "2022-07-16T19:54:40.677Z"
   },
   {
    "duration": 18,
    "start_time": "2022-07-16T19:54:41.010Z"
   },
   {
    "duration": 105,
    "start_time": "2022-07-16T19:54:41.548Z"
   },
   {
    "duration": 20,
    "start_time": "2022-07-16T19:54:42.050Z"
   },
   {
    "duration": 67,
    "start_time": "2022-07-16T19:54:45.093Z"
   },
   {
    "duration": 16,
    "start_time": "2022-07-16T19:54:45.466Z"
   },
   {
    "duration": 2,
    "start_time": "2022-07-16T19:54:47.107Z"
   },
   {
    "duration": 80,
    "start_time": "2022-07-16T19:54:47.581Z"
   },
   {
    "duration": 10,
    "start_time": "2022-07-16T19:54:50.633Z"
   },
   {
    "duration": 14,
    "start_time": "2022-07-16T19:55:15.742Z"
   },
   {
    "duration": 108,
    "start_time": "2022-07-16T19:57:54.567Z"
   },
   {
    "duration": 41,
    "start_time": "2022-07-16T19:59:35.815Z"
   },
   {
    "duration": 22,
    "start_time": "2022-07-16T19:59:45.319Z"
   },
   {
    "duration": 11,
    "start_time": "2022-07-16T20:00:16.957Z"
   },
   {
    "duration": 18,
    "start_time": "2022-07-16T20:01:49.052Z"
   },
   {
    "duration": 17,
    "start_time": "2022-07-16T20:02:02.917Z"
   },
   {
    "duration": 19,
    "start_time": "2022-07-16T20:02:07.020Z"
   },
   {
    "duration": 20,
    "start_time": "2022-07-16T20:02:18.685Z"
   },
   {
    "duration": 13,
    "start_time": "2022-07-16T20:10:13.514Z"
   },
   {
    "duration": 73,
    "start_time": "2022-07-16T20:15:33.976Z"
   },
   {
    "duration": 1533,
    "start_time": "2022-07-16T20:16:33.611Z"
   },
   {
    "duration": 10,
    "start_time": "2022-07-16T20:18:26.029Z"
   },
   {
    "duration": 67,
    "start_time": "2022-07-16T20:19:43.318Z"
   },
   {
    "duration": 21,
    "start_time": "2022-07-16T20:19:50.503Z"
   },
   {
    "duration": 8,
    "start_time": "2022-07-16T20:19:56.596Z"
   },
   {
    "duration": 8,
    "start_time": "2022-07-16T20:20:02.315Z"
   },
   {
    "duration": 5,
    "start_time": "2022-07-16T20:20:02.558Z"
   },
   {
    "duration": 6,
    "start_time": "2022-07-16T20:20:02.809Z"
   },
   {
    "duration": 7,
    "start_time": "2022-07-16T20:20:03.183Z"
   },
   {
    "duration": 8,
    "start_time": "2022-07-16T20:20:03.542Z"
   },
   {
    "duration": 11,
    "start_time": "2022-07-16T20:20:03.914Z"
   },
   {
    "duration": 11,
    "start_time": "2022-07-16T20:20:04.333Z"
   },
   {
    "duration": 11,
    "start_time": "2022-07-16T20:20:19.221Z"
   },
   {
    "duration": 10,
    "start_time": "2022-07-16T20:20:22.021Z"
   },
   {
    "duration": 10,
    "start_time": "2022-07-16T20:20:28.004Z"
   },
   {
    "duration": 6,
    "start_time": "2022-07-16T20:20:28.630Z"
   },
   {
    "duration": 6,
    "start_time": "2022-07-16T20:20:28.940Z"
   },
   {
    "duration": 7,
    "start_time": "2022-07-16T20:20:29.293Z"
   },
   {
    "duration": 7,
    "start_time": "2022-07-16T20:20:29.630Z"
   },
   {
    "duration": 11,
    "start_time": "2022-07-16T20:20:32.187Z"
   },
   {
    "duration": 6,
    "start_time": "2022-07-16T20:20:32.502Z"
   },
   {
    "duration": 7,
    "start_time": "2022-07-16T20:20:32.771Z"
   },
   {
    "duration": 6,
    "start_time": "2022-07-16T20:20:33.085Z"
   },
   {
    "duration": 6,
    "start_time": "2022-07-16T20:20:33.479Z"
   },
   {
    "duration": 6,
    "start_time": "2022-07-16T20:20:33.916Z"
   },
   {
    "duration": 6,
    "start_time": "2022-07-16T20:20:34.313Z"
   },
   {
    "duration": 7,
    "start_time": "2022-07-16T20:20:34.752Z"
   },
   {
    "duration": 7,
    "start_time": "2022-07-16T20:20:43.183Z"
   },
   {
    "duration": 7,
    "start_time": "2022-07-16T20:20:44.038Z"
   },
   {
    "duration": 4,
    "start_time": "2022-07-16T20:20:47.081Z"
   },
   {
    "duration": 6,
    "start_time": "2022-07-16T20:22:04.886Z"
   },
   {
    "duration": 5,
    "start_time": "2022-07-16T20:22:08.917Z"
   },
   {
    "duration": 5,
    "start_time": "2022-07-16T20:22:11.523Z"
   },
   {
    "duration": 28,
    "start_time": "2022-07-16T20:22:17.097Z"
   },
   {
    "duration": 32,
    "start_time": "2022-07-16T20:22:17.693Z"
   },
   {
    "duration": 8,
    "start_time": "2022-07-16T20:23:51.765Z"
   },
   {
    "duration": 9,
    "start_time": "2022-07-16T20:24:37.745Z"
   },
   {
    "duration": 21,
    "start_time": "2022-07-16T20:24:48.709Z"
   },
   {
    "duration": 24,
    "start_time": "2022-07-16T20:25:14.698Z"
   },
   {
    "duration": 1570,
    "start_time": "2022-07-16T20:25:26.778Z"
   },
   {
    "duration": 3,
    "start_time": "2022-07-16T20:25:28.350Z"
   },
   {
    "duration": 56,
    "start_time": "2022-07-16T20:25:28.355Z"
   },
   {
    "duration": 28,
    "start_time": "2022-07-16T20:25:28.413Z"
   },
   {
    "duration": 22,
    "start_time": "2022-07-16T20:25:28.443Z"
   },
   {
    "duration": 20,
    "start_time": "2022-07-16T20:25:28.467Z"
   },
   {
    "duration": 23,
    "start_time": "2022-07-16T20:25:28.504Z"
   },
   {
    "duration": 21,
    "start_time": "2022-07-16T20:25:28.529Z"
   },
   {
    "duration": 28,
    "start_time": "2022-07-16T20:25:28.552Z"
   },
   {
    "duration": 24,
    "start_time": "2022-07-16T20:25:28.583Z"
   },
   {
    "duration": 3,
    "start_time": "2022-07-16T20:25:28.609Z"
   },
   {
    "duration": 87,
    "start_time": "2022-07-16T20:25:28.614Z"
   },
   {
    "duration": 10,
    "start_time": "2022-07-16T20:25:28.703Z"
   },
   {
    "duration": 14,
    "start_time": "2022-07-16T20:25:28.715Z"
   },
   {
    "duration": 25,
    "start_time": "2022-07-16T20:25:28.731Z"
   },
   {
    "duration": 83,
    "start_time": "2022-07-16T20:25:28.758Z"
   },
   {
    "duration": 10,
    "start_time": "2022-07-16T20:25:28.843Z"
   },
   {
    "duration": 10,
    "start_time": "2022-07-16T20:25:28.855Z"
   },
   {
    "duration": 6,
    "start_time": "2022-07-16T20:25:28.867Z"
   },
   {
    "duration": 8,
    "start_time": "2022-07-16T20:25:28.875Z"
   },
   {
    "duration": 21,
    "start_time": "2022-07-16T20:25:28.885Z"
   },
   {
    "duration": 11,
    "start_time": "2022-07-16T20:25:28.908Z"
   },
   {
    "duration": 16,
    "start_time": "2022-07-16T20:25:28.921Z"
   },
   {
    "duration": 9,
    "start_time": "2022-07-16T20:25:28.939Z"
   },
   {
    "duration": 9,
    "start_time": "2022-07-16T20:25:28.950Z"
   },
   {
    "duration": 46,
    "start_time": "2022-07-16T20:25:28.961Z"
   },
   {
    "duration": 9,
    "start_time": "2022-07-16T20:25:29.008Z"
   },
   {
    "duration": 8,
    "start_time": "2022-07-16T20:25:29.022Z"
   },
   {
    "duration": 9,
    "start_time": "2022-07-16T20:25:29.032Z"
   },
   {
    "duration": 9,
    "start_time": "2022-07-16T20:25:29.043Z"
   },
   {
    "duration": 9,
    "start_time": "2022-07-16T20:25:29.053Z"
   },
   {
    "duration": 44,
    "start_time": "2022-07-16T20:25:29.064Z"
   },
   {
    "duration": 7,
    "start_time": "2022-07-16T20:25:29.110Z"
   },
   {
    "duration": 8,
    "start_time": "2022-07-16T20:25:29.118Z"
   },
   {
    "duration": 7,
    "start_time": "2022-07-16T20:25:29.128Z"
   },
   {
    "duration": 14,
    "start_time": "2022-07-16T20:25:29.137Z"
   },
   {
    "duration": 12,
    "start_time": "2022-07-16T20:25:29.152Z"
   },
   {
    "duration": 40,
    "start_time": "2022-07-16T20:25:29.166Z"
   },
   {
    "duration": 14,
    "start_time": "2022-07-16T20:25:29.208Z"
   },
   {
    "duration": 14,
    "start_time": "2022-07-16T20:25:29.223Z"
   },
   {
    "duration": 7,
    "start_time": "2022-07-16T20:25:29.239Z"
   },
   {
    "duration": 9,
    "start_time": "2022-07-16T20:25:29.248Z"
   },
   {
    "duration": 8,
    "start_time": "2022-07-16T20:25:29.258Z"
   },
   {
    "duration": 37,
    "start_time": "2022-07-16T20:25:29.268Z"
   },
   {
    "duration": 12,
    "start_time": "2022-07-16T20:25:29.307Z"
   },
   {
    "duration": 29,
    "start_time": "2022-07-16T20:25:29.321Z"
   },
   {
    "duration": 30,
    "start_time": "2022-07-16T20:25:29.352Z"
   },
   {
    "duration": 20,
    "start_time": "2022-07-16T20:25:29.384Z"
   },
   {
    "duration": 9,
    "start_time": "2022-07-16T20:25:29.407Z"
   },
   {
    "duration": 26,
    "start_time": "2022-07-16T20:25:49.022Z"
   },
   {
    "duration": 5,
    "start_time": "2022-07-16T20:26:51.908Z"
   },
   {
    "duration": 1403,
    "start_time": "2022-07-16T20:34:30.395Z"
   },
   {
    "duration": 31,
    "start_time": "2022-07-16T20:38:36.785Z"
   },
   {
    "duration": 19,
    "start_time": "2022-07-16T20:38:40.353Z"
   },
   {
    "duration": 24,
    "start_time": "2022-07-16T20:40:19.340Z"
   },
   {
    "duration": 11,
    "start_time": "2022-07-16T20:41:30.350Z"
   },
   {
    "duration": 3,
    "start_time": "2022-07-16T20:41:33.138Z"
   },
   {
    "duration": 23,
    "start_time": "2022-07-16T20:41:33.721Z"
   },
   {
    "duration": 33,
    "start_time": "2022-07-16T20:42:02.794Z"
   },
   {
    "duration": 28,
    "start_time": "2022-07-16T20:43:44.995Z"
   },
   {
    "duration": 17,
    "start_time": "2022-07-16T20:44:49.243Z"
   },
   {
    "duration": 6,
    "start_time": "2022-07-16T20:44:53.337Z"
   },
   {
    "duration": 19,
    "start_time": "2022-07-16T20:44:54.230Z"
   },
   {
    "duration": 4,
    "start_time": "2022-07-16T20:48:24.059Z"
   },
   {
    "duration": 9,
    "start_time": "2022-07-16T20:50:10.701Z"
   },
   {
    "duration": 3,
    "start_time": "2022-07-16T20:50:28.068Z"
   },
   {
    "duration": 10,
    "start_time": "2022-07-16T20:50:33.237Z"
   },
   {
    "duration": 17,
    "start_time": "2022-07-16T20:50:46.847Z"
   },
   {
    "duration": 9,
    "start_time": "2022-07-16T20:50:50.747Z"
   },
   {
    "duration": 1505,
    "start_time": "2022-07-16T20:51:05.150Z"
   },
   {
    "duration": 3,
    "start_time": "2022-07-16T20:51:06.660Z"
   },
   {
    "duration": 88,
    "start_time": "2022-07-16T20:51:06.665Z"
   },
   {
    "duration": 30,
    "start_time": "2022-07-16T20:51:06.756Z"
   },
   {
    "duration": 23,
    "start_time": "2022-07-16T20:51:06.788Z"
   },
   {
    "duration": 19,
    "start_time": "2022-07-16T20:51:06.813Z"
   },
   {
    "duration": 28,
    "start_time": "2022-07-16T20:51:06.834Z"
   },
   {
    "duration": 20,
    "start_time": "2022-07-16T20:51:06.864Z"
   },
   {
    "duration": 23,
    "start_time": "2022-07-16T20:51:06.885Z"
   },
   {
    "duration": 15,
    "start_time": "2022-07-16T20:51:06.910Z"
   },
   {
    "duration": 3,
    "start_time": "2022-07-16T20:51:06.927Z"
   },
   {
    "duration": 56,
    "start_time": "2022-07-16T20:51:06.932Z"
   },
   {
    "duration": 12,
    "start_time": "2022-07-16T20:51:07.003Z"
   },
   {
    "duration": 15,
    "start_time": "2022-07-16T20:51:07.017Z"
   },
   {
    "duration": 22,
    "start_time": "2022-07-16T20:51:07.034Z"
   },
   {
    "duration": 84,
    "start_time": "2022-07-16T20:51:07.057Z"
   },
   {
    "duration": 10,
    "start_time": "2022-07-16T20:51:07.143Z"
   },
   {
    "duration": 10,
    "start_time": "2022-07-16T20:51:07.154Z"
   },
   {
    "duration": 6,
    "start_time": "2022-07-16T20:51:07.165Z"
   },
   {
    "duration": 8,
    "start_time": "2022-07-16T20:51:07.173Z"
   },
   {
    "duration": 25,
    "start_time": "2022-07-16T20:51:07.183Z"
   },
   {
    "duration": 10,
    "start_time": "2022-07-16T20:51:07.210Z"
   },
   {
    "duration": 14,
    "start_time": "2022-07-16T20:51:07.222Z"
   },
   {
    "duration": 9,
    "start_time": "2022-07-16T20:51:07.238Z"
   },
   {
    "duration": 9,
    "start_time": "2022-07-16T20:51:07.249Z"
   },
   {
    "duration": 9,
    "start_time": "2022-07-16T20:51:07.260Z"
   },
   {
    "duration": 34,
    "start_time": "2022-07-16T20:51:07.271Z"
   },
   {
    "duration": 6,
    "start_time": "2022-07-16T20:51:07.309Z"
   },
   {
    "duration": 7,
    "start_time": "2022-07-16T20:51:07.316Z"
   },
   {
    "duration": 7,
    "start_time": "2022-07-16T20:51:07.325Z"
   },
   {
    "duration": 8,
    "start_time": "2022-07-16T20:51:07.333Z"
   },
   {
    "duration": 9,
    "start_time": "2022-07-16T20:51:07.343Z"
   },
   {
    "duration": 5,
    "start_time": "2022-07-16T20:51:07.354Z"
   },
   {
    "duration": 9,
    "start_time": "2022-07-16T20:51:07.361Z"
   },
   {
    "duration": 10,
    "start_time": "2022-07-16T20:51:07.403Z"
   },
   {
    "duration": 9,
    "start_time": "2022-07-16T20:51:07.416Z"
   },
   {
    "duration": 11,
    "start_time": "2022-07-16T20:51:07.426Z"
   },
   {
    "duration": 8,
    "start_time": "2022-07-16T20:51:07.439Z"
   },
   {
    "duration": 10,
    "start_time": "2022-07-16T20:51:07.449Z"
   },
   {
    "duration": 12,
    "start_time": "2022-07-16T20:51:07.460Z"
   },
   {
    "duration": 7,
    "start_time": "2022-07-16T20:51:07.473Z"
   },
   {
    "duration": 15,
    "start_time": "2022-07-16T20:51:07.505Z"
   },
   {
    "duration": 37,
    "start_time": "2022-07-16T20:51:07.522Z"
   },
   {
    "duration": 19,
    "start_time": "2022-07-16T20:51:07.561Z"
   },
   {
    "duration": 28,
    "start_time": "2022-07-16T20:51:07.582Z"
   },
   {
    "duration": 48,
    "start_time": "2022-07-16T20:51:07.611Z"
   },
   {
    "duration": 41,
    "start_time": "2022-07-16T20:51:07.661Z"
   },
   {
    "duration": 11,
    "start_time": "2022-07-16T20:51:07.704Z"
   },
   {
    "duration": 23,
    "start_time": "2022-07-16T20:51:07.716Z"
   },
   {
    "duration": 29,
    "start_time": "2022-07-16T20:51:07.741Z"
   },
   {
    "duration": 30,
    "start_time": "2022-07-16T20:51:07.771Z"
   },
   {
    "duration": 19,
    "start_time": "2022-07-16T20:51:07.803Z"
   },
   {
    "duration": 21,
    "start_time": "2022-07-16T20:51:07.824Z"
   },
   {
    "duration": 62,
    "start_time": "2022-07-16T20:51:07.847Z"
   },
   {
    "duration": 6,
    "start_time": "2022-07-16T20:51:07.911Z"
   },
   {
    "duration": 41,
    "start_time": "2022-07-16T20:51:07.919Z"
   },
   {
    "duration": 15,
    "start_time": "2022-07-16T20:52:25.961Z"
   },
   {
    "duration": 22,
    "start_time": "2022-07-16T20:52:29.111Z"
   },
   {
    "duration": 22,
    "start_time": "2022-07-16T20:52:42.592Z"
   },
   {
    "duration": 8,
    "start_time": "2022-07-16T20:52:52.224Z"
   },
   {
    "duration": 3,
    "start_time": "2022-07-16T20:53:32.116Z"
   },
   {
    "duration": 3,
    "start_time": "2022-07-16T20:54:51.275Z"
   },
   {
    "duration": 3,
    "start_time": "2022-07-16T20:55:04.739Z"
   },
   {
    "duration": 1261157,
    "start_time": "2022-07-16T20:55:08.248Z"
   },
   {
    "duration": 10,
    "start_time": "2022-07-16T21:16:09.411Z"
   },
   {
    "duration": 7,
    "start_time": "2022-07-16T21:16:09.433Z"
   },
   {
    "duration": 3,
    "start_time": "2022-07-16T21:21:10.263Z"
   },
   {
    "duration": 1189,
    "start_time": "2022-07-16T21:21:11.452Z"
   },
   {
    "duration": 1079,
    "start_time": "2022-07-16T21:21:22.586Z"
   },
   {
    "duration": 1072,
    "start_time": "2022-07-16T21:21:55.601Z"
   },
   {
    "duration": 4,
    "start_time": "2022-07-16T21:21:58.224Z"
   },
   {
    "duration": 82,
    "start_time": "2022-07-16T21:22:37.186Z"
   },
   {
    "duration": 1069,
    "start_time": "2022-07-16T21:22:43.425Z"
   },
   {
    "duration": 3,
    "start_time": "2022-07-16T21:22:44.496Z"
   },
   {
    "duration": 83,
    "start_time": "2022-07-16T21:22:56.251Z"
   },
   {
    "duration": 1073,
    "start_time": "2022-07-16T21:22:59.536Z"
   },
   {
    "duration": 4,
    "start_time": "2022-07-16T21:23:00.611Z"
   },
   {
    "duration": 81,
    "start_time": "2022-07-16T21:23:01.548Z"
   },
   {
    "duration": 1108,
    "start_time": "2022-07-16T21:23:04.876Z"
   },
   {
    "duration": 4,
    "start_time": "2022-07-16T21:23:05.986Z"
   },
   {
    "duration": 91,
    "start_time": "2022-07-16T21:23:05.992Z"
   },
   {
    "duration": 1519,
    "start_time": "2022-07-17T12:18:23.141Z"
   },
   {
    "duration": 2,
    "start_time": "2022-07-17T12:18:24.662Z"
   },
   {
    "duration": 145,
    "start_time": "2022-07-17T12:18:24.666Z"
   },
   {
    "duration": 25,
    "start_time": "2022-07-17T12:18:24.813Z"
   },
   {
    "duration": 103,
    "start_time": "2022-07-17T12:18:24.840Z"
   },
   {
    "duration": 15,
    "start_time": "2022-07-17T12:18:24.945Z"
   },
   {
    "duration": 57,
    "start_time": "2022-07-17T12:18:24.962Z"
   },
   {
    "duration": 18,
    "start_time": "2022-07-17T12:18:25.020Z"
   },
   {
    "duration": 58,
    "start_time": "2022-07-17T12:18:25.039Z"
   },
   {
    "duration": 14,
    "start_time": "2022-07-17T12:18:25.100Z"
   },
   {
    "duration": 6,
    "start_time": "2022-07-17T12:18:25.116Z"
   },
   {
    "duration": 111,
    "start_time": "2022-07-17T12:18:25.124Z"
   },
   {
    "duration": 12,
    "start_time": "2022-07-17T12:18:25.237Z"
   },
   {
    "duration": 16,
    "start_time": "2022-07-17T12:18:25.250Z"
   },
   {
    "duration": 41,
    "start_time": "2022-07-17T12:18:25.268Z"
   },
   {
    "duration": 52,
    "start_time": "2022-07-17T12:18:25.311Z"
   },
   {
    "duration": 9,
    "start_time": "2022-07-17T12:18:25.364Z"
   },
   {
    "duration": 8,
    "start_time": "2022-07-17T12:18:25.375Z"
   },
   {
    "duration": 9,
    "start_time": "2022-07-17T12:18:25.384Z"
   },
   {
    "duration": 9,
    "start_time": "2022-07-17T12:18:25.395Z"
   },
   {
    "duration": 7,
    "start_time": "2022-07-17T12:18:25.406Z"
   },
   {
    "duration": 11,
    "start_time": "2022-07-17T12:18:25.415Z"
   },
   {
    "duration": 13,
    "start_time": "2022-07-17T12:18:25.428Z"
   },
   {
    "duration": 20,
    "start_time": "2022-07-17T12:18:25.442Z"
   },
   {
    "duration": 8,
    "start_time": "2022-07-17T12:18:25.464Z"
   },
   {
    "duration": 14,
    "start_time": "2022-07-17T12:18:25.473Z"
   },
   {
    "duration": 13,
    "start_time": "2022-07-17T12:18:25.488Z"
   },
   {
    "duration": 5,
    "start_time": "2022-07-17T12:18:25.504Z"
   },
   {
    "duration": 7,
    "start_time": "2022-07-17T12:18:25.510Z"
   },
   {
    "duration": 14,
    "start_time": "2022-07-17T12:18:25.519Z"
   },
   {
    "duration": 9,
    "start_time": "2022-07-17T12:18:25.535Z"
   },
   {
    "duration": 23,
    "start_time": "2022-07-17T12:18:25.546Z"
   },
   {
    "duration": 6,
    "start_time": "2022-07-17T12:18:25.571Z"
   },
   {
    "duration": 13,
    "start_time": "2022-07-17T12:18:25.578Z"
   },
   {
    "duration": 28,
    "start_time": "2022-07-17T12:18:25.593Z"
   },
   {
    "duration": 14,
    "start_time": "2022-07-17T12:18:25.623Z"
   },
   {
    "duration": 7,
    "start_time": "2022-07-17T12:18:25.639Z"
   },
   {
    "duration": 6,
    "start_time": "2022-07-17T12:18:25.648Z"
   },
   {
    "duration": 7,
    "start_time": "2022-07-17T12:18:25.656Z"
   },
   {
    "duration": 8,
    "start_time": "2022-07-17T12:18:25.664Z"
   },
   {
    "duration": 8,
    "start_time": "2022-07-17T12:18:25.674Z"
   },
   {
    "duration": 8,
    "start_time": "2022-07-17T12:18:25.684Z"
   },
   {
    "duration": 9,
    "start_time": "2022-07-17T12:18:25.694Z"
   },
   {
    "duration": 9,
    "start_time": "2022-07-17T12:18:25.704Z"
   },
   {
    "duration": 6,
    "start_time": "2022-07-17T12:18:25.714Z"
   },
   {
    "duration": 38,
    "start_time": "2022-07-17T12:18:25.722Z"
   },
   {
    "duration": 29,
    "start_time": "2022-07-17T12:18:25.762Z"
   },
   {
    "duration": 7,
    "start_time": "2022-07-17T12:18:25.793Z"
   },
   {
    "duration": 9,
    "start_time": "2022-07-17T12:18:25.801Z"
   },
   {
    "duration": 48,
    "start_time": "2022-07-17T12:18:25.812Z"
   },
   {
    "duration": 13,
    "start_time": "2022-07-17T12:18:25.862Z"
   },
   {
    "duration": 8,
    "start_time": "2022-07-17T12:18:25.877Z"
   },
   {
    "duration": 4,
    "start_time": "2022-07-17T12:18:25.887Z"
   },
   {
    "duration": 26,
    "start_time": "2022-07-17T12:18:25.893Z"
   },
   {
    "duration": 7,
    "start_time": "2022-07-17T12:18:25.921Z"
   },
   {
    "duration": 39,
    "start_time": "2022-07-17T12:18:25.930Z"
   },
   {
    "duration": 15,
    "start_time": "2022-07-17T12:18:25.971Z"
   },
   {
    "duration": 19,
    "start_time": "2022-07-17T12:18:25.988Z"
   },
   {
    "duration": 9,
    "start_time": "2022-07-17T12:18:26.008Z"
   },
   {
    "duration": 4,
    "start_time": "2022-07-17T12:18:26.018Z"
   },
   {
    "duration": 12,
    "start_time": "2022-07-17T12:18:26.024Z"
   },
   {
    "duration": 3,
    "start_time": "2022-07-17T12:18:36.465Z"
   },
   {
    "duration": 1015,
    "start_time": "2022-07-17T12:18:37.082Z"
   },
   {
    "duration": 4,
    "start_time": "2022-07-17T12:18:39.079Z"
   },
   {
    "duration": 75,
    "start_time": "2022-07-17T12:18:49.199Z"
   },
   {
    "duration": 4,
    "start_time": "2022-07-17T12:22:08.494Z"
   },
   {
    "duration": 3,
    "start_time": "2022-07-17T12:22:12.952Z"
   },
   {
    "duration": 4,
    "start_time": "2022-07-17T12:24:50.751Z"
   },
   {
    "duration": 178,
    "start_time": "2022-07-17T12:26:48.520Z"
   },
   {
    "duration": 1480,
    "start_time": "2022-07-17T12:32:25.290Z"
   },
   {
    "duration": 157,
    "start_time": "2022-07-17T12:32:37.042Z"
   },
   {
    "duration": 502,
    "start_time": "2022-07-17T12:35:16.459Z"
   },
   {
    "duration": 233,
    "start_time": "2022-07-17T12:35:27.038Z"
   },
   {
    "duration": 3,
    "start_time": "2022-07-17T12:35:36.372Z"
   },
   {
    "duration": 3,
    "start_time": "2022-07-17T12:35:37.754Z"
   },
   {
    "duration": 422,
    "start_time": "2022-07-17T12:35:38.645Z"
   },
   {
    "duration": 5,
    "start_time": "2022-07-17T12:36:13.901Z"
   },
   {
    "duration": 237,
    "start_time": "2022-07-17T12:36:52.125Z"
   },
   {
    "duration": 8,
    "start_time": "2022-07-17T12:37:21.748Z"
   },
   {
    "duration": 1745,
    "start_time": "2022-07-17T12:38:19.820Z"
   },
   {
    "duration": 4,
    "start_time": "2022-07-17T12:38:53.086Z"
   },
   {
    "duration": 8,
    "start_time": "2022-07-17T12:39:27.646Z"
   },
   {
    "duration": 4,
    "start_time": "2022-07-17T12:39:39.140Z"
   },
   {
    "duration": 196,
    "start_time": "2022-07-17T12:41:31.366Z"
   },
   {
    "duration": 9,
    "start_time": "2022-07-17T12:41:43.957Z"
   },
   {
    "duration": 8,
    "start_time": "2022-07-17T12:41:49.869Z"
   },
   {
    "duration": 7,
    "start_time": "2022-07-17T12:41:56.728Z"
   },
   {
    "duration": 4,
    "start_time": "2022-07-17T12:41:57.226Z"
   },
   {
    "duration": 3,
    "start_time": "2022-07-17T12:43:19.598Z"
   },
   {
    "duration": 41,
    "start_time": "2022-07-17T12:43:22.758Z"
   },
   {
    "duration": 27,
    "start_time": "2022-07-17T12:43:56.045Z"
   },
   {
    "duration": 1455,
    "start_time": "2022-07-17T12:46:32.227Z"
   },
   {
    "duration": 3,
    "start_time": "2022-07-17T12:46:39.596Z"
   },
   {
    "duration": 5,
    "start_time": "2022-07-17T12:46:49.750Z"
   },
   {
    "duration": 26,
    "start_time": "2022-07-17T12:46:49.756Z"
   },
   {
    "duration": 68,
    "start_time": "2022-07-17T12:46:49.783Z"
   },
   {
    "duration": 27,
    "start_time": "2022-07-17T12:46:49.853Z"
   },
   {
    "duration": 26,
    "start_time": "2022-07-17T12:46:49.882Z"
   },
   {
    "duration": 17,
    "start_time": "2022-07-17T12:46:49.909Z"
   },
   {
    "duration": 38,
    "start_time": "2022-07-17T12:46:49.927Z"
   },
   {
    "duration": 18,
    "start_time": "2022-07-17T12:46:49.967Z"
   },
   {
    "duration": 30,
    "start_time": "2022-07-17T12:46:49.987Z"
   },
   {
    "duration": 24,
    "start_time": "2022-07-17T12:46:50.019Z"
   },
   {
    "duration": 32,
    "start_time": "2022-07-17T12:46:50.046Z"
   },
   {
    "duration": 92,
    "start_time": "2022-07-17T12:46:50.080Z"
   },
   {
    "duration": 11,
    "start_time": "2022-07-17T12:46:50.173Z"
   },
   {
    "duration": 24,
    "start_time": "2022-07-17T12:46:50.185Z"
   },
   {
    "duration": 38,
    "start_time": "2022-07-17T12:46:50.210Z"
   },
   {
    "duration": 48,
    "start_time": "2022-07-17T12:46:50.250Z"
   },
   {
    "duration": 25,
    "start_time": "2022-07-17T12:46:50.300Z"
   },
   {
    "duration": 11,
    "start_time": "2022-07-17T12:46:50.327Z"
   },
   {
    "duration": 26,
    "start_time": "2022-07-17T12:46:50.340Z"
   },
   {
    "duration": 14,
    "start_time": "2022-07-17T12:46:50.367Z"
   },
   {
    "duration": 38,
    "start_time": "2022-07-17T12:46:50.383Z"
   },
   {
    "duration": 23,
    "start_time": "2022-07-17T12:46:50.424Z"
   },
   {
    "duration": 42,
    "start_time": "2022-07-17T12:46:50.448Z"
   },
   {
    "duration": 15,
    "start_time": "2022-07-17T12:46:50.492Z"
   },
   {
    "duration": 21,
    "start_time": "2022-07-17T12:46:50.509Z"
   },
   {
    "duration": 13,
    "start_time": "2022-07-17T12:46:50.531Z"
   },
   {
    "duration": 28,
    "start_time": "2022-07-17T12:46:50.545Z"
   },
   {
    "duration": 31,
    "start_time": "2022-07-17T12:46:50.575Z"
   },
   {
    "duration": 7,
    "start_time": "2022-07-17T12:46:50.609Z"
   },
   {
    "duration": 27,
    "start_time": "2022-07-17T12:46:50.617Z"
   },
   {
    "duration": 21,
    "start_time": "2022-07-17T12:46:50.645Z"
   },
   {
    "duration": 32,
    "start_time": "2022-07-17T12:46:50.668Z"
   },
   {
    "duration": 20,
    "start_time": "2022-07-17T12:46:50.702Z"
   },
   {
    "duration": 22,
    "start_time": "2022-07-17T12:46:50.724Z"
   },
   {
    "duration": 25,
    "start_time": "2022-07-17T12:46:50.748Z"
   },
   {
    "duration": 22,
    "start_time": "2022-07-17T12:46:50.774Z"
   },
   {
    "duration": 23,
    "start_time": "2022-07-17T12:46:50.798Z"
   },
   {
    "duration": 15,
    "start_time": "2022-07-17T12:46:50.823Z"
   },
   {
    "duration": 27,
    "start_time": "2022-07-17T12:46:50.839Z"
   },
   {
    "duration": 13,
    "start_time": "2022-07-17T12:46:50.868Z"
   },
   {
    "duration": 29,
    "start_time": "2022-07-17T12:46:50.883Z"
   },
   {
    "duration": 22,
    "start_time": "2022-07-17T12:46:50.913Z"
   },
   {
    "duration": 33,
    "start_time": "2022-07-17T12:46:50.937Z"
   },
   {
    "duration": 23,
    "start_time": "2022-07-17T12:46:50.972Z"
   },
   {
    "duration": 14,
    "start_time": "2022-07-17T12:46:50.997Z"
   },
   {
    "duration": 43,
    "start_time": "2022-07-17T12:46:51.013Z"
   },
   {
    "duration": 28,
    "start_time": "2022-07-17T12:46:51.058Z"
   },
   {
    "duration": 12,
    "start_time": "2022-07-17T12:46:51.088Z"
   },
   {
    "duration": 22,
    "start_time": "2022-07-17T12:46:51.101Z"
   },
   {
    "duration": 33,
    "start_time": "2022-07-17T12:46:51.125Z"
   },
   {
    "duration": 35,
    "start_time": "2022-07-17T12:46:51.160Z"
   },
   {
    "duration": 23,
    "start_time": "2022-07-17T12:46:51.196Z"
   },
   {
    "duration": 33,
    "start_time": "2022-07-17T12:46:51.220Z"
   },
   {
    "duration": 28,
    "start_time": "2022-07-17T12:46:51.254Z"
   },
   {
    "duration": 7,
    "start_time": "2022-07-17T12:46:51.284Z"
   },
   {
    "duration": 25,
    "start_time": "2022-07-17T12:46:51.292Z"
   },
   {
    "duration": 21,
    "start_time": "2022-07-17T12:46:51.319Z"
   },
   {
    "duration": 35,
    "start_time": "2022-07-17T12:46:51.342Z"
   },
   {
    "duration": 36,
    "start_time": "2022-07-17T12:46:51.380Z"
   },
   {
    "duration": 21,
    "start_time": "2022-07-17T12:46:51.417Z"
   },
   {
    "duration": 22,
    "start_time": "2022-07-17T12:46:51.440Z"
   },
   {
    "duration": 24,
    "start_time": "2022-07-17T12:46:51.464Z"
   },
   {
    "duration": 11308,
    "start_time": "2022-07-17T12:46:51.490Z"
   },
   {
    "duration": 0,
    "start_time": "2022-07-17T12:47:02.800Z"
   },
   {
    "duration": 0,
    "start_time": "2022-07-17T12:47:02.802Z"
   },
   {
    "duration": 0,
    "start_time": "2022-07-17T12:47:02.803Z"
   },
   {
    "duration": 0,
    "start_time": "2022-07-17T12:47:02.804Z"
   },
   {
    "duration": 0,
    "start_time": "2022-07-17T12:47:02.805Z"
   },
   {
    "duration": 0,
    "start_time": "2022-07-17T12:47:02.806Z"
   },
   {
    "duration": 0,
    "start_time": "2022-07-17T12:47:02.807Z"
   },
   {
    "duration": 0,
    "start_time": "2022-07-17T12:47:02.808Z"
   },
   {
    "duration": 0,
    "start_time": "2022-07-17T12:47:02.808Z"
   },
   {
    "duration": 0,
    "start_time": "2022-07-17T12:47:02.810Z"
   },
   {
    "duration": 3,
    "start_time": "2022-07-17T12:47:10.202Z"
   },
   {
    "duration": 1030,
    "start_time": "2022-07-17T12:47:10.548Z"
   },
   {
    "duration": 4,
    "start_time": "2022-07-17T12:47:11.580Z"
   },
   {
    "duration": 190,
    "start_time": "2022-07-17T12:47:11.586Z"
   },
   {
    "duration": 3,
    "start_time": "2022-07-17T12:47:16.356Z"
   },
   {
    "duration": 385,
    "start_time": "2022-07-17T12:47:16.579Z"
   },
   {
    "duration": 96,
    "start_time": "2022-07-17T12:47:16.967Z"
   },
   {
    "duration": 2004,
    "start_time": "2022-07-17T12:47:17.161Z"
   },
   {
    "duration": 97,
    "start_time": "2022-07-17T12:47:19.167Z"
   },
   {
    "duration": 2,
    "start_time": "2022-07-17T12:47:21.907Z"
   },
   {
    "duration": 32,
    "start_time": "2022-07-17T12:47:22.548Z"
   },
   {
    "duration": 20,
    "start_time": "2022-07-17T14:00:20.127Z"
   },
   {
    "duration": 27,
    "start_time": "2022-07-17T14:00:37.586Z"
   },
   {
    "duration": 1334,
    "start_time": "2022-07-17T14:01:48.976Z"
   },
   {
    "duration": 3,
    "start_time": "2022-07-17T14:01:50.312Z"
   },
   {
    "duration": 69,
    "start_time": "2022-07-17T14:01:50.316Z"
   },
   {
    "duration": 25,
    "start_time": "2022-07-17T14:01:50.387Z"
   },
   {
    "duration": 22,
    "start_time": "2022-07-17T14:01:50.413Z"
   },
   {
    "duration": 17,
    "start_time": "2022-07-17T14:01:50.437Z"
   },
   {
    "duration": 43,
    "start_time": "2022-07-17T14:01:50.456Z"
   },
   {
    "duration": 19,
    "start_time": "2022-07-17T14:01:50.500Z"
   },
   {
    "duration": 33,
    "start_time": "2022-07-17T14:01:50.520Z"
   },
   {
    "duration": 16,
    "start_time": "2022-07-17T14:01:50.555Z"
   },
   {
    "duration": 14,
    "start_time": "2022-07-17T14:01:50.572Z"
   },
   {
    "duration": 112,
    "start_time": "2022-07-17T14:01:50.588Z"
   },
   {
    "duration": 10,
    "start_time": "2022-07-17T14:01:50.702Z"
   },
   {
    "duration": 25,
    "start_time": "2022-07-17T14:01:50.714Z"
   },
   {
    "duration": 39,
    "start_time": "2022-07-17T14:01:50.740Z"
   },
   {
    "duration": 58,
    "start_time": "2022-07-17T14:01:50.781Z"
   },
   {
    "duration": 5,
    "start_time": "2022-07-17T14:01:50.840Z"
   },
   {
    "duration": 29,
    "start_time": "2022-07-17T14:01:50.846Z"
   },
   {
    "duration": 18,
    "start_time": "2022-07-17T14:01:50.876Z"
   },
   {
    "duration": 41,
    "start_time": "2022-07-17T14:01:50.896Z"
   },
   {
    "duration": 18,
    "start_time": "2022-07-17T14:01:50.939Z"
   },
   {
    "duration": 34,
    "start_time": "2022-07-17T14:01:50.959Z"
   },
   {
    "duration": 26,
    "start_time": "2022-07-17T14:01:50.994Z"
   },
   {
    "duration": 29,
    "start_time": "2022-07-17T14:01:51.021Z"
   },
   {
    "duration": 17,
    "start_time": "2022-07-17T14:01:51.051Z"
   },
   {
    "duration": 19,
    "start_time": "2022-07-17T14:01:51.070Z"
   },
   {
    "duration": 19,
    "start_time": "2022-07-17T14:01:51.090Z"
   },
   {
    "duration": 17,
    "start_time": "2022-07-17T14:01:51.112Z"
   },
   {
    "duration": 12,
    "start_time": "2022-07-17T14:01:51.130Z"
   },
   {
    "duration": 15,
    "start_time": "2022-07-17T14:01:51.144Z"
   },
   {
    "duration": 32,
    "start_time": "2022-07-17T14:01:51.161Z"
   },
   {
    "duration": 18,
    "start_time": "2022-07-17T14:01:51.195Z"
   },
   {
    "duration": 15,
    "start_time": "2022-07-17T14:01:51.215Z"
   },
   {
    "duration": 29,
    "start_time": "2022-07-17T14:01:51.232Z"
   },
   {
    "duration": 27,
    "start_time": "2022-07-17T14:01:51.263Z"
   },
   {
    "duration": 23,
    "start_time": "2022-07-17T14:01:51.292Z"
   },
   {
    "duration": 29,
    "start_time": "2022-07-17T14:01:51.317Z"
   },
   {
    "duration": 14,
    "start_time": "2022-07-17T14:01:51.348Z"
   },
   {
    "duration": 14,
    "start_time": "2022-07-17T14:01:51.363Z"
   },
   {
    "duration": 25,
    "start_time": "2022-07-17T14:01:51.378Z"
   },
   {
    "duration": 18,
    "start_time": "2022-07-17T14:01:51.405Z"
   },
   {
    "duration": 23,
    "start_time": "2022-07-17T14:01:51.425Z"
   },
   {
    "duration": 16,
    "start_time": "2022-07-17T14:01:51.450Z"
   },
   {
    "duration": 14,
    "start_time": "2022-07-17T14:01:51.468Z"
   },
   {
    "duration": 29,
    "start_time": "2022-07-17T14:01:51.483Z"
   },
   {
    "duration": 38,
    "start_time": "2022-07-17T14:01:51.513Z"
   },
   {
    "duration": 31,
    "start_time": "2022-07-17T14:01:51.552Z"
   },
   {
    "duration": 20,
    "start_time": "2022-07-17T14:01:51.584Z"
   },
   {
    "duration": 17,
    "start_time": "2022-07-17T14:01:51.606Z"
   },
   {
    "duration": 33,
    "start_time": "2022-07-17T14:01:51.624Z"
   },
   {
    "duration": 17,
    "start_time": "2022-07-17T14:01:51.658Z"
   },
   {
    "duration": 12,
    "start_time": "2022-07-17T14:01:51.677Z"
   },
   {
    "duration": 16,
    "start_time": "2022-07-17T14:01:51.691Z"
   },
   {
    "duration": 34,
    "start_time": "2022-07-17T14:01:51.708Z"
   },
   {
    "duration": 27,
    "start_time": "2022-07-17T14:01:51.744Z"
   },
   {
    "duration": 25,
    "start_time": "2022-07-17T14:01:51.773Z"
   },
   {
    "duration": 20,
    "start_time": "2022-07-17T14:02:55.312Z"
   },
   {
    "duration": 1372,
    "start_time": "2022-07-17T14:04:21.570Z"
   },
   {
    "duration": 3,
    "start_time": "2022-07-17T14:04:22.944Z"
   },
   {
    "duration": 69,
    "start_time": "2022-07-17T14:04:22.948Z"
   },
   {
    "duration": 26,
    "start_time": "2022-07-17T14:04:23.019Z"
   },
   {
    "duration": 21,
    "start_time": "2022-07-17T14:04:23.047Z"
   },
   {
    "duration": 16,
    "start_time": "2022-07-17T14:04:23.070Z"
   },
   {
    "duration": 25,
    "start_time": "2022-07-17T14:04:23.087Z"
   },
   {
    "duration": 19,
    "start_time": "2022-07-17T14:04:23.113Z"
   },
   {
    "duration": 21,
    "start_time": "2022-07-17T14:04:23.133Z"
   },
   {
    "duration": 13,
    "start_time": "2022-07-17T14:04:23.156Z"
   },
   {
    "duration": 5,
    "start_time": "2022-07-17T14:04:23.170Z"
   },
   {
    "duration": 63,
    "start_time": "2022-07-17T14:04:23.176Z"
   },
   {
    "duration": 9,
    "start_time": "2022-07-17T14:04:23.241Z"
   },
   {
    "duration": 14,
    "start_time": "2022-07-17T14:04:23.252Z"
   },
   {
    "duration": 19,
    "start_time": "2022-07-17T14:04:23.267Z"
   },
   {
    "duration": 47,
    "start_time": "2022-07-17T14:04:23.287Z"
   },
   {
    "duration": 24,
    "start_time": "2022-07-17T14:04:23.336Z"
   },
   {
    "duration": 6,
    "start_time": "2022-07-17T14:04:23.362Z"
   },
   {
    "duration": 8,
    "start_time": "2022-07-17T14:04:23.369Z"
   },
   {
    "duration": 8,
    "start_time": "2022-07-17T14:04:23.379Z"
   },
   {
    "duration": 14,
    "start_time": "2022-07-17T14:04:23.388Z"
   },
   {
    "duration": 8,
    "start_time": "2022-07-17T14:04:23.404Z"
   },
   {
    "duration": 9,
    "start_time": "2022-07-17T14:04:23.413Z"
   },
   {
    "duration": 8,
    "start_time": "2022-07-17T14:04:23.424Z"
   },
   {
    "duration": 34,
    "start_time": "2022-07-17T14:04:23.434Z"
   },
   {
    "duration": 13,
    "start_time": "2022-07-17T14:04:23.470Z"
   },
   {
    "duration": 9,
    "start_time": "2022-07-17T14:04:23.485Z"
   },
   {
    "duration": 7,
    "start_time": "2022-07-17T14:04:23.495Z"
   },
   {
    "duration": 8,
    "start_time": "2022-07-17T14:04:23.503Z"
   },
   {
    "duration": 9,
    "start_time": "2022-07-17T14:04:23.513Z"
   },
   {
    "duration": 9,
    "start_time": "2022-07-17T14:04:23.524Z"
   },
   {
    "duration": 32,
    "start_time": "2022-07-17T14:04:23.534Z"
   },
   {
    "duration": 4,
    "start_time": "2022-07-17T14:04:23.568Z"
   },
   {
    "duration": 8,
    "start_time": "2022-07-17T14:04:23.573Z"
   },
   {
    "duration": 10,
    "start_time": "2022-07-17T14:04:23.582Z"
   },
   {
    "duration": 8,
    "start_time": "2022-07-17T14:04:23.593Z"
   },
   {
    "duration": 9,
    "start_time": "2022-07-17T14:04:23.602Z"
   },
   {
    "duration": 9,
    "start_time": "2022-07-17T14:04:23.613Z"
   },
   {
    "duration": 12,
    "start_time": "2022-07-17T14:04:23.623Z"
   },
   {
    "duration": 8,
    "start_time": "2022-07-17T14:04:23.636Z"
   },
   {
    "duration": 7,
    "start_time": "2022-07-17T14:04:23.664Z"
   },
   {
    "duration": 8,
    "start_time": "2022-07-17T14:04:23.673Z"
   },
   {
    "duration": 17,
    "start_time": "2022-07-17T14:04:23.683Z"
   },
   {
    "duration": 11,
    "start_time": "2022-07-17T14:04:23.701Z"
   },
   {
    "duration": 7,
    "start_time": "2022-07-17T14:04:23.713Z"
   },
   {
    "duration": 32,
    "start_time": "2022-07-17T14:04:23.721Z"
   },
   {
    "duration": 33,
    "start_time": "2022-07-17T14:04:23.754Z"
   },
   {
    "duration": 6,
    "start_time": "2022-07-17T14:05:32.854Z"
   },
   {
    "duration": 8,
    "start_time": "2022-07-17T14:05:38.976Z"
   },
   {
    "duration": 18,
    "start_time": "2022-07-17T14:05:44.082Z"
   },
   {
    "duration": 14,
    "start_time": "2022-07-17T14:05:53.081Z"
   },
   {
    "duration": 8,
    "start_time": "2022-07-17T14:05:59.561Z"
   },
   {
    "duration": 3,
    "start_time": "2022-07-17T14:06:11.863Z"
   },
   {
    "duration": 24,
    "start_time": "2022-07-17T14:06:19.562Z"
   },
   {
    "duration": 13,
    "start_time": "2022-07-17T14:06:25.081Z"
   },
   {
    "duration": 6,
    "start_time": "2022-07-17T14:06:57.494Z"
   },
   {
    "duration": 16,
    "start_time": "2022-07-17T14:07:00.883Z"
   },
   {
    "duration": 55,
    "start_time": "2022-07-17T14:07:32.843Z"
   },
   {
    "duration": 4,
    "start_time": "2022-07-17T14:07:54.647Z"
   },
   {
    "duration": 5,
    "start_time": "2022-07-17T14:08:11.407Z"
   },
   {
    "duration": 3,
    "start_time": "2022-07-17T14:09:03.775Z"
   },
   {
    "duration": 25,
    "start_time": "2022-07-17T14:09:05.969Z"
   },
   {
    "duration": 5,
    "start_time": "2022-07-17T14:09:06.513Z"
   },
   {
    "duration": 14,
    "start_time": "2022-07-17T14:09:07.156Z"
   },
   {
    "duration": 16,
    "start_time": "2022-07-17T14:09:22.793Z"
   },
   {
    "duration": 23,
    "start_time": "2022-07-17T14:09:23.140Z"
   },
   {
    "duration": 7,
    "start_time": "2022-07-17T14:09:27.142Z"
   },
   {
    "duration": 2,
    "start_time": "2022-07-17T14:09:30.289Z"
   },
   {
    "duration": 3,
    "start_time": "2022-07-17T14:09:30.801Z"
   },
   {
    "duration": 2,
    "start_time": "2022-07-17T14:09:35.378Z"
   },
   {
    "duration": 1145,
    "start_time": "2022-07-17T14:09:35.905Z"
   },
   {
    "duration": 7,
    "start_time": "2022-07-17T14:09:37.053Z"
   },
   {
    "duration": 171,
    "start_time": "2022-07-17T14:09:37.604Z"
   },
   {
    "duration": 3,
    "start_time": "2022-07-17T14:11:46.698Z"
   },
   {
    "duration": 263,
    "start_time": "2022-07-17T14:11:47.099Z"
   },
   {
    "duration": 7,
    "start_time": "2022-07-17T14:11:47.555Z"
   },
   {
    "duration": 1855,
    "start_time": "2022-07-17T14:11:48.210Z"
   },
   {
    "duration": 96,
    "start_time": "2022-07-17T14:11:50.067Z"
   },
   {
    "duration": 2,
    "start_time": "2022-07-17T14:11:54.115Z"
   },
   {
    "duration": 6177,
    "start_time": "2022-07-17T14:13:02.500Z"
   },
   {
    "duration": 6,
    "start_time": "2022-07-17T14:13:58.760Z"
   },
   {
    "duration": 3,
    "start_time": "2022-07-17T14:17:44.863Z"
   },
   {
    "duration": 150,
    "start_time": "2022-07-17T14:17:51.853Z"
   },
   {
    "duration": 13971351,
    "start_time": "2022-07-17T14:18:02.293Z"
   },
   {
    "duration": 8,
    "start_time": "2022-07-17T18:10:53.646Z"
   },
   {
    "duration": 1805,
    "start_time": "2022-07-18T10:17:16.129Z"
   },
   {
    "duration": 7,
    "start_time": "2022-07-18T10:17:17.940Z"
   },
   {
    "duration": 188,
    "start_time": "2022-07-18T10:17:17.948Z"
   },
   {
    "duration": 25,
    "start_time": "2022-07-18T10:17:18.138Z"
   },
   {
    "duration": 59,
    "start_time": "2022-07-18T10:17:18.165Z"
   },
   {
    "duration": 23,
    "start_time": "2022-07-18T10:17:18.225Z"
   },
   {
    "duration": 117,
    "start_time": "2022-07-18T10:17:18.250Z"
   },
   {
    "duration": 18,
    "start_time": "2022-07-18T10:17:18.369Z"
   },
   {
    "duration": 66,
    "start_time": "2022-07-18T10:17:18.389Z"
   },
   {
    "duration": 13,
    "start_time": "2022-07-18T10:17:18.457Z"
   },
   {
    "duration": 4,
    "start_time": "2022-07-18T10:17:18.471Z"
   },
   {
    "duration": 83,
    "start_time": "2022-07-18T10:17:18.477Z"
   },
   {
    "duration": 9,
    "start_time": "2022-07-18T10:17:18.562Z"
   },
   {
    "duration": 12,
    "start_time": "2022-07-18T10:17:18.573Z"
   },
   {
    "duration": 28,
    "start_time": "2022-07-18T10:17:18.587Z"
   },
   {
    "duration": 62,
    "start_time": "2022-07-18T10:17:18.617Z"
   },
   {
    "duration": 6,
    "start_time": "2022-07-18T10:17:18.680Z"
   },
   {
    "duration": 9,
    "start_time": "2022-07-18T10:17:18.688Z"
   },
   {
    "duration": 6,
    "start_time": "2022-07-18T10:17:18.699Z"
   },
   {
    "duration": 36,
    "start_time": "2022-07-18T10:17:18.707Z"
   },
   {
    "duration": 12,
    "start_time": "2022-07-18T10:17:18.744Z"
   },
   {
    "duration": 6,
    "start_time": "2022-07-18T10:17:18.758Z"
   },
   {
    "duration": 9,
    "start_time": "2022-07-18T10:17:18.765Z"
   },
   {
    "duration": 11,
    "start_time": "2022-07-18T10:17:18.776Z"
   },
   {
    "duration": 10,
    "start_time": "2022-07-18T10:17:18.789Z"
   },
   {
    "duration": 18,
    "start_time": "2022-07-18T10:17:18.800Z"
   },
   {
    "duration": 25,
    "start_time": "2022-07-18T10:17:18.820Z"
   },
   {
    "duration": 6,
    "start_time": "2022-07-18T10:17:18.847Z"
   },
   {
    "duration": 6,
    "start_time": "2022-07-18T10:17:18.855Z"
   },
   {
    "duration": 7,
    "start_time": "2022-07-18T10:17:18.862Z"
   },
   {
    "duration": 7,
    "start_time": "2022-07-18T10:17:18.870Z"
   },
   {
    "duration": 9,
    "start_time": "2022-07-18T10:17:18.879Z"
   },
   {
    "duration": 8,
    "start_time": "2022-07-18T10:17:18.907Z"
   },
   {
    "duration": 22,
    "start_time": "2022-07-18T10:17:18.916Z"
   },
   {
    "duration": 7,
    "start_time": "2022-07-18T10:17:18.939Z"
   },
   {
    "duration": 8,
    "start_time": "2022-07-18T10:17:18.947Z"
   },
   {
    "duration": 8,
    "start_time": "2022-07-18T10:17:18.957Z"
   },
   {
    "duration": 14,
    "start_time": "2022-07-18T10:17:18.967Z"
   },
   {
    "duration": 11,
    "start_time": "2022-07-18T10:17:18.983Z"
   },
   {
    "duration": 31,
    "start_time": "2022-07-18T10:17:18.995Z"
   },
   {
    "duration": 7,
    "start_time": "2022-07-18T10:17:19.033Z"
   },
   {
    "duration": 7,
    "start_time": "2022-07-18T10:17:19.041Z"
   },
   {
    "duration": 9,
    "start_time": "2022-07-18T10:17:19.049Z"
   },
   {
    "duration": 6,
    "start_time": "2022-07-18T10:17:19.060Z"
   },
   {
    "duration": 6,
    "start_time": "2022-07-18T10:17:19.067Z"
   },
   {
    "duration": 34,
    "start_time": "2022-07-18T10:17:19.074Z"
   },
   {
    "duration": 42,
    "start_time": "2022-07-18T10:17:19.111Z"
   },
   {
    "duration": 11,
    "start_time": "2022-07-18T10:17:19.154Z"
   },
   {
    "duration": 9,
    "start_time": "2022-07-18T10:17:19.167Z"
   },
   {
    "duration": 55,
    "start_time": "2022-07-18T10:17:19.178Z"
   },
   {
    "duration": 16,
    "start_time": "2022-07-18T10:17:19.235Z"
   },
   {
    "duration": 9,
    "start_time": "2022-07-18T10:17:19.252Z"
   },
   {
    "duration": 9,
    "start_time": "2022-07-18T10:17:19.262Z"
   },
   {
    "duration": 42,
    "start_time": "2022-07-18T10:17:19.273Z"
   },
   {
    "duration": 8,
    "start_time": "2022-07-18T10:17:19.332Z"
   },
   {
    "duration": 20,
    "start_time": "2022-07-18T10:17:19.342Z"
   },
   {
    "duration": 18,
    "start_time": "2022-07-18T10:17:19.364Z"
   },
   {
    "duration": 25,
    "start_time": "2022-07-18T10:17:19.384Z"
   },
   {
    "duration": 30,
    "start_time": "2022-07-18T10:17:19.414Z"
   },
   {
    "duration": 3,
    "start_time": "2022-07-18T10:17:19.446Z"
   },
   {
    "duration": 4,
    "start_time": "2022-07-18T10:17:26.472Z"
   },
   {
    "duration": 4,
    "start_time": "2022-07-18T10:17:27.884Z"
   },
   {
    "duration": 1155153,
    "start_time": "2022-07-18T10:17:29.742Z"
   },
   {
    "duration": 7,
    "start_time": "2022-07-18T10:36:44.896Z"
   },
   {
    "duration": 3,
    "start_time": "2022-07-18T10:44:56.130Z"
   },
   {
    "duration": 720,
    "start_time": "2022-07-18T10:44:57.708Z"
   },
   {
    "duration": 4,
    "start_time": "2022-07-18T10:44:58.430Z"
   },
   {
    "duration": 123,
    "start_time": "2022-07-18T10:45:02.779Z"
   },
   {
    "duration": 3,
    "start_time": "2022-07-18T10:45:33.508Z"
   },
   {
    "duration": 18319,
    "start_time": "2022-07-18T10:45:33.884Z"
   },
   {
    "duration": 7,
    "start_time": "2022-07-18T10:45:53.820Z"
   },
   {
    "duration": 4,
    "start_time": "2022-07-18T10:50:34.453Z"
   },
   {
    "duration": 24096571,
    "start_time": "2022-07-18T10:50:35.599Z"
   },
   {
    "duration": 10,
    "start_time": "2022-07-18T17:32:12.172Z"
   },
   {
    "duration": 1596,
    "start_time": "2022-07-19T13:53:13.085Z"
   },
   {
    "duration": 3,
    "start_time": "2022-07-19T13:53:14.684Z"
   },
   {
    "duration": 126,
    "start_time": "2022-07-19T13:53:14.689Z"
   },
   {
    "duration": 27,
    "start_time": "2022-07-19T13:53:14.817Z"
   },
   {
    "duration": 176,
    "start_time": "2022-07-19T13:53:14.846Z"
   },
   {
    "duration": 17,
    "start_time": "2022-07-19T13:53:15.023Z"
   },
   {
    "duration": 65,
    "start_time": "2022-07-19T13:53:15.041Z"
   },
   {
    "duration": 20,
    "start_time": "2022-07-19T13:53:15.107Z"
   },
   {
    "duration": 131,
    "start_time": "2022-07-19T13:53:15.129Z"
   },
   {
    "duration": 15,
    "start_time": "2022-07-19T13:53:15.263Z"
   },
   {
    "duration": 6,
    "start_time": "2022-07-19T13:53:15.280Z"
   },
   {
    "duration": 73,
    "start_time": "2022-07-19T13:53:15.287Z"
   },
   {
    "duration": 10,
    "start_time": "2022-07-19T13:53:15.361Z"
   },
   {
    "duration": 15,
    "start_time": "2022-07-19T13:53:15.373Z"
   },
   {
    "duration": 39,
    "start_time": "2022-07-19T13:53:15.389Z"
   },
   {
    "duration": 53,
    "start_time": "2022-07-19T13:53:15.430Z"
   },
   {
    "duration": 7,
    "start_time": "2022-07-19T13:53:15.485Z"
   },
   {
    "duration": 8,
    "start_time": "2022-07-19T13:53:15.494Z"
   },
   {
    "duration": 5,
    "start_time": "2022-07-19T13:53:15.504Z"
   },
   {
    "duration": 8,
    "start_time": "2022-07-19T13:53:15.510Z"
   },
   {
    "duration": 9,
    "start_time": "2022-07-19T13:53:15.519Z"
   },
   {
    "duration": 7,
    "start_time": "2022-07-19T13:53:15.530Z"
   },
   {
    "duration": 9,
    "start_time": "2022-07-19T13:53:15.564Z"
   },
   {
    "duration": 8,
    "start_time": "2022-07-19T13:53:15.574Z"
   },
   {
    "duration": 9,
    "start_time": "2022-07-19T13:53:15.583Z"
   },
   {
    "duration": 8,
    "start_time": "2022-07-19T13:53:15.594Z"
   },
   {
    "duration": 14,
    "start_time": "2022-07-19T13:53:15.603Z"
   },
   {
    "duration": 45,
    "start_time": "2022-07-19T13:53:15.620Z"
   },
   {
    "duration": 5,
    "start_time": "2022-07-19T13:53:15.667Z"
   },
   {
    "duration": 9,
    "start_time": "2022-07-19T13:53:15.673Z"
   },
   {
    "duration": 9,
    "start_time": "2022-07-19T13:53:15.684Z"
   },
   {
    "duration": 12,
    "start_time": "2022-07-19T13:53:15.695Z"
   },
   {
    "duration": 9,
    "start_time": "2022-07-19T13:53:15.708Z"
   },
   {
    "duration": 13,
    "start_time": "2022-07-19T13:53:15.719Z"
   },
   {
    "duration": 31,
    "start_time": "2022-07-19T13:53:15.734Z"
   },
   {
    "duration": 7,
    "start_time": "2022-07-19T13:53:15.767Z"
   },
   {
    "duration": 8,
    "start_time": "2022-07-19T13:53:15.776Z"
   },
   {
    "duration": 9,
    "start_time": "2022-07-19T13:53:15.786Z"
   },
   {
    "duration": 9,
    "start_time": "2022-07-19T13:53:15.796Z"
   },
   {
    "duration": 9,
    "start_time": "2022-07-19T13:53:15.807Z"
   },
   {
    "duration": 5,
    "start_time": "2022-07-19T13:53:15.817Z"
   },
   {
    "duration": 7,
    "start_time": "2022-07-19T13:53:15.824Z"
   },
   {
    "duration": 39,
    "start_time": "2022-07-19T13:53:15.832Z"
   },
   {
    "duration": 11,
    "start_time": "2022-07-19T13:53:15.874Z"
   },
   {
    "duration": 7,
    "start_time": "2022-07-19T13:53:15.887Z"
   },
   {
    "duration": 29,
    "start_time": "2022-07-19T13:53:15.896Z"
   },
   {
    "duration": 51,
    "start_time": "2022-07-19T13:53:15.927Z"
   },
   {
    "duration": 8,
    "start_time": "2022-07-19T13:53:15.981Z"
   },
   {
    "duration": 9,
    "start_time": "2022-07-19T13:53:15.990Z"
   },
   {
    "duration": 25,
    "start_time": "2022-07-19T13:53:16.001Z"
   },
   {
    "duration": 42,
    "start_time": "2022-07-19T13:53:16.028Z"
   },
   {
    "duration": 10,
    "start_time": "2022-07-19T13:53:16.071Z"
   },
   {
    "duration": 15,
    "start_time": "2022-07-19T13:53:16.082Z"
   },
   {
    "duration": 25,
    "start_time": "2022-07-19T13:53:16.099Z"
   },
   {
    "duration": 6,
    "start_time": "2022-07-19T13:53:16.126Z"
   },
   {
    "duration": 30,
    "start_time": "2022-07-19T13:53:16.133Z"
   },
   {
    "duration": 14,
    "start_time": "2022-07-19T13:53:16.165Z"
   },
   {
    "duration": 23,
    "start_time": "2022-07-19T13:53:16.181Z"
   },
   {
    "duration": 11,
    "start_time": "2022-07-19T13:53:16.206Z"
   },
   {
    "duration": 7,
    "start_time": "2022-07-19T13:53:16.218Z"
   },
   {
    "duration": 3,
    "start_time": "2022-07-19T13:53:32.108Z"
   },
   {
    "duration": 816,
    "start_time": "2022-07-19T13:53:32.812Z"
   },
   {
    "duration": 4,
    "start_time": "2022-07-19T13:53:34.227Z"
   },
   {
    "duration": 132,
    "start_time": "2022-07-19T13:53:35.940Z"
   },
   {
    "duration": 3026,
    "start_time": "2022-07-19T13:58:20.815Z"
   },
   {
    "duration": 3003,
    "start_time": "2022-07-19T13:58:28.582Z"
   },
   {
    "duration": 5,
    "start_time": "2022-07-19T13:58:32.902Z"
   },
   {
    "duration": 3048,
    "start_time": "2022-07-19T13:59:50.784Z"
   },
   {
    "duration": 3,
    "start_time": "2022-07-19T13:59:54.760Z"
   },
   {
    "duration": 2938,
    "start_time": "2022-07-19T14:00:44.455Z"
   },
   {
    "duration": 4,
    "start_time": "2022-07-19T14:00:54.983Z"
   },
   {
    "duration": 3,
    "start_time": "2022-07-19T14:01:28.425Z"
   },
   {
    "duration": 365,
    "start_time": "2022-07-19T14:01:39.800Z"
   },
   {
    "duration": 14846,
    "start_time": "2022-07-19T14:22:59.521Z"
   },
   {
    "duration": 1721,
    "start_time": "2022-07-19T14:23:56.747Z"
   },
   {
    "duration": 3,
    "start_time": "2022-07-19T14:24:16.545Z"
   },
   {
    "duration": 560117,
    "start_time": "2022-07-19T14:25:38.738Z"
   },
   {
    "duration": 4,
    "start_time": "2022-07-19T14:35:03.361Z"
   },
   {
    "duration": 158545,
    "start_time": "2022-07-19T14:35:04.129Z"
   },
   {
    "duration": 386548,
    "start_time": "2022-07-19T14:37:44.335Z"
   },
   {
    "duration": 588968,
    "start_time": "2022-07-19T14:45:07.405Z"
   },
   {
    "duration": 1287129,
    "start_time": "2022-07-19T14:54:57.573Z"
   },
   {
    "duration": 2163,
    "start_time": "2022-07-20T05:10:07.337Z"
   },
   {
    "duration": 3,
    "start_time": "2022-07-20T05:10:09.502Z"
   },
   {
    "duration": 60,
    "start_time": "2022-07-20T05:10:09.506Z"
   },
   {
    "duration": 94,
    "start_time": "2022-07-20T05:10:09.569Z"
   },
   {
    "duration": 0,
    "start_time": "2022-07-20T05:10:09.664Z"
   },
   {
    "duration": 0,
    "start_time": "2022-07-20T05:10:09.665Z"
   },
   {
    "duration": 0,
    "start_time": "2022-07-20T05:10:09.667Z"
   },
   {
    "duration": 0,
    "start_time": "2022-07-20T05:10:09.668Z"
   },
   {
    "duration": 0,
    "start_time": "2022-07-20T05:10:09.669Z"
   },
   {
    "duration": 0,
    "start_time": "2022-07-20T05:10:09.670Z"
   },
   {
    "duration": 9,
    "start_time": "2022-07-20T05:10:09.824Z"
   },
   {
    "duration": 9,
    "start_time": "2022-07-20T05:10:10.296Z"
   },
   {
    "duration": 93,
    "start_time": "2022-07-20T05:11:28.811Z"
   },
   {
    "duration": 48,
    "start_time": "2022-07-20T05:12:09.100Z"
   },
   {
    "duration": 47,
    "start_time": "2022-07-20T05:12:21.724Z"
   },
   {
    "duration": 24,
    "start_time": "2022-07-20T05:12:26.507Z"
   },
   {
    "duration": 41,
    "start_time": "2022-07-20T05:12:32.189Z"
   },
   {
    "duration": 15,
    "start_time": "2022-07-20T05:12:33.644Z"
   },
   {
    "duration": 42,
    "start_time": "2022-07-20T05:12:40.653Z"
   },
   {
    "duration": 18,
    "start_time": "2022-07-20T05:12:41.949Z"
   },
   {
    "duration": 46,
    "start_time": "2022-07-20T05:13:14.533Z"
   },
   {
    "duration": 16,
    "start_time": "2022-07-20T05:13:14.770Z"
   },
   {
    "duration": 40,
    "start_time": "2022-07-20T05:13:20.270Z"
   },
   {
    "duration": 14,
    "start_time": "2022-07-20T05:13:20.677Z"
   },
   {
    "duration": 8,
    "start_time": "2022-07-20T05:13:24.230Z"
   },
   {
    "duration": 14,
    "start_time": "2022-07-20T05:13:25.157Z"
   },
   {
    "duration": 18,
    "start_time": "2022-07-20T05:13:26.350Z"
   },
   {
    "duration": 45,
    "start_time": "2022-07-20T05:13:26.510Z"
   },
   {
    "duration": 4,
    "start_time": "2022-07-20T05:13:26.615Z"
   },
   {
    "duration": 6,
    "start_time": "2022-07-20T05:13:27.085Z"
   },
   {
    "duration": 5,
    "start_time": "2022-07-20T05:13:27.285Z"
   },
   {
    "duration": 5,
    "start_time": "2022-07-20T05:13:27.454Z"
   },
   {
    "duration": 5,
    "start_time": "2022-07-20T05:13:27.607Z"
   },
   {
    "duration": 6,
    "start_time": "2022-07-20T05:13:27.718Z"
   },
   {
    "duration": 8,
    "start_time": "2022-07-20T05:13:27.894Z"
   },
   {
    "duration": 8,
    "start_time": "2022-07-20T05:13:28.053Z"
   },
   {
    "duration": 9,
    "start_time": "2022-07-20T05:13:28.501Z"
   },
   {
    "duration": 9,
    "start_time": "2022-07-20T05:13:28.653Z"
   },
   {
    "duration": 9,
    "start_time": "2022-07-20T05:13:29.262Z"
   },
   {
    "duration": 5,
    "start_time": "2022-07-20T05:13:29.581Z"
   },
   {
    "duration": 5,
    "start_time": "2022-07-20T05:13:29.741Z"
   },
   {
    "duration": 5,
    "start_time": "2022-07-20T05:13:29.910Z"
   },
   {
    "duration": 5,
    "start_time": "2022-07-20T05:13:30.071Z"
   },
   {
    "duration": 7,
    "start_time": "2022-07-20T05:13:30.701Z"
   },
   {
    "duration": 6,
    "start_time": "2022-07-20T05:13:30.862Z"
   },
   {
    "duration": 5,
    "start_time": "2022-07-20T05:13:31.022Z"
   },
   {
    "duration": 5,
    "start_time": "2022-07-20T05:13:31.158Z"
   },
   {
    "duration": 5,
    "start_time": "2022-07-20T05:13:31.295Z"
   },
   {
    "duration": 5,
    "start_time": "2022-07-20T05:13:31.477Z"
   },
   {
    "duration": 6,
    "start_time": "2022-07-20T05:13:31.677Z"
   },
   {
    "duration": 5,
    "start_time": "2022-07-20T05:13:31.846Z"
   },
   {
    "duration": 6,
    "start_time": "2022-07-20T05:13:32.765Z"
   },
   {
    "duration": 5,
    "start_time": "2022-07-20T05:13:32.974Z"
   },
   {
    "duration": 5,
    "start_time": "2022-07-20T05:13:34.253Z"
   },
   {
    "duration": 5,
    "start_time": "2022-07-20T05:13:52.926Z"
   },
   {
    "duration": 4,
    "start_time": "2022-07-20T05:13:54.095Z"
   },
   {
    "duration": 5,
    "start_time": "2022-07-20T05:13:55.614Z"
   },
   {
    "duration": 23,
    "start_time": "2022-07-20T05:13:55.847Z"
   },
   {
    "duration": 25,
    "start_time": "2022-07-20T05:13:56.878Z"
   },
   {
    "duration": 7,
    "start_time": "2022-07-20T05:13:58.701Z"
   },
   {
    "duration": 6,
    "start_time": "2022-07-20T05:13:59.190Z"
   },
   {
    "duration": 16,
    "start_time": "2022-07-20T05:14:00.463Z"
   },
   {
    "duration": 13,
    "start_time": "2022-07-20T05:14:01.174Z"
   },
   {
    "duration": 6,
    "start_time": "2022-07-20T05:14:01.583Z"
   },
   {
    "duration": 9,
    "start_time": "2022-07-20T05:14:15.671Z"
   },
   {
    "duration": 23,
    "start_time": "2022-07-20T05:14:34.896Z"
   },
   {
    "duration": 19,
    "start_time": "2022-07-20T05:17:38.399Z"
   },
   {
    "duration": 21,
    "start_time": "2022-07-20T05:17:45.158Z"
   },
   {
    "duration": 18,
    "start_time": "2022-07-20T05:18:12.399Z"
   },
   {
    "duration": 15,
    "start_time": "2022-07-20T05:18:13.107Z"
   },
   {
    "duration": 4,
    "start_time": "2022-07-20T05:19:27.561Z"
   },
   {
    "duration": 6,
    "start_time": "2022-07-20T05:20:25.684Z"
   },
   {
    "duration": 4,
    "start_time": "2022-07-20T05:20:35.692Z"
   },
   {
    "duration": 15,
    "start_time": "2022-07-20T05:20:46.149Z"
   },
   {
    "duration": 5,
    "start_time": "2022-07-20T05:20:51.350Z"
   },
   {
    "duration": 3,
    "start_time": "2022-07-20T05:20:58.755Z"
   },
   {
    "duration": 7,
    "start_time": "2022-07-20T05:21:01.955Z"
   },
   {
    "duration": 5,
    "start_time": "2022-07-20T05:21:31.933Z"
   },
   {
    "duration": 4,
    "start_time": "2022-07-20T05:21:34.647Z"
   },
   {
    "duration": 5,
    "start_time": "2022-07-20T05:21:48.734Z"
   },
   {
    "duration": 4,
    "start_time": "2022-07-20T05:21:51.310Z"
   },
   {
    "duration": 5,
    "start_time": "2022-07-20T05:22:49.479Z"
   }
  ],
  "kernelspec": {
   "display_name": "Python 3 (ipykernel)",
   "language": "python",
   "name": "python3"
  },
  "language_info": {
   "codemirror_mode": {
    "name": "ipython",
    "version": 3
   },
   "file_extension": ".py",
   "mimetype": "text/x-python",
   "name": "python",
   "nbconvert_exporter": "python",
   "pygments_lexer": "ipython3",
   "version": "3.9.12"
  },
  "toc": {
   "base_numbering": 1,
   "nav_menu": {},
   "number_sections": true,
   "sideBar": true,
   "skip_h1_title": true,
   "title_cell": "Table of Contents",
   "title_sidebar": "Contents",
   "toc_cell": false,
   "toc_position": {
    "height": "calc(100% - 180px)",
    "left": "10px",
    "top": "150px",
    "width": "326px"
   },
   "toc_section_display": true,
   "toc_window_display": true
  }
 },
 "nbformat": 4,
 "nbformat_minor": 5
}
